{
  "nbformat": 4,
  "nbformat_minor": 0,
  "metadata": {
    "colab": {
      "provenance": [],
      "toc_visible": true,
      "authorship_tag": "ABX9TyNcK7vrLuDK8yooYyZKJRfc",
      "include_colab_link": true
    },
    "kernelspec": {
      "name": "python3",
      "display_name": "Python 3"
    },
    "language_info": {
      "name": "python"
    }
  },
  "cells": [
    {
      "cell_type": "markdown",
      "metadata": {
        "id": "view-in-github",
        "colab_type": "text"
      },
      "source": [
        "<a href=\"https://colab.research.google.com/github/DCEG-workshops/statgen_workshop_tutorial/blob/main/src/09_functionalGenomics.ipynb\" target=\"_parent\"><img src=\"https://colab.research.google.com/assets/colab-badge.svg\" alt=\"Open In Colab\"/></a>"
      ]
    },
    {
      "cell_type": "markdown",
      "source": [
        "# Set up"
      ],
      "metadata": {
        "id": "8aORYuj1qxZ0"
      }
    },
    {
      "cell_type": "markdown",
      "source": [
        "Important: We want to mount the google drive for the data neeed for this workshop. Please open this [link](https://colab.research.google.com/corgiredirector?site=https%3A%2F%2Fdrive.google.com%2Fdrive%2Ffolders%2F1rui3w4tok2Z7EhtMbz6PobeC_fDxTw7G%3Fusp%3Dsharing) with your Google drive and find the \"statgen_workshop\" folder under \"Share with me\". Then add a shortcut to the folder under \"My Drive\", as shown in the screenshot."
      ],
      "metadata": {
        "id": "-3MMS9CBqprq"
      }
    },
    {
      "cell_type": "code",
      "execution_count": null,
      "metadata": {
        "id": "N1M4q7iaMEQo"
      },
      "outputs": [],
      "source": [
        "from google.colab import drive\n",
        "drive.mount('/content/drive/')"
      ]
    },
    {
      "cell_type": "markdown",
      "source": [
        "Let's look at the input data directory"
      ],
      "metadata": {
        "id": "N7-lkZsFq6PB"
      }
    },
    {
      "cell_type": "code",
      "source": [
        "!ls /content/drive/MyDrive/statgen_workshop/data/workshop9"
      ],
      "metadata": {
        "id": "CWs1sO03MfhW"
      },
      "execution_count": null,
      "outputs": []
    },
    {
      "cell_type": "markdown",
      "source": [
        "Set up the path variables"
      ],
      "metadata": {
        "id": "sRVQIQ-mq-vs"
      }
    },
    {
      "cell_type": "code",
      "source": [
        "import os\n",
        "analysis_dir=\"/content/09_analysis/\"\n",
        "input_dir=\"/content/drive/MyDrive/statgen_workshop/data/workshop9\"\n",
        "os.environ['analysis_dir']=analysis_dir\n",
        "os.environ['input_dir']=input_dir"
      ],
      "metadata": {
        "id": "VhYWG7_oMbbG"
      },
      "execution_count": null,
      "outputs": []
    },
    {
      "cell_type": "markdown",
      "source": [
        "Let's clone the tutorial repo"
      ],
      "metadata": {
        "id": "9XL4rjO5rC2y"
      }
    },
    {
      "cell_type": "code",
      "source": [
        "%%bash\n",
        "git clone https://github.com/DCEG-workshops/statgen_workshop_tutorial.git"
      ],
      "metadata": {
        "id": "H74zch9bUEpZ"
      },
      "execution_count": null,
      "outputs": []
    },
    {
      "cell_type": "markdown",
      "source": [
        "Let's install cutadapt"
      ],
      "metadata": {
        "id": "7FC4MzYirJYg"
      }
    },
    {
      "cell_type": "code",
      "source": [
        "!pip install cutadapt"
      ],
      "metadata": {
        "id": "C44akAkIMzch"
      },
      "execution_count": null,
      "outputs": []
    },
    {
      "cell_type": "markdown",
      "source": [
        "See if we can run cutadapt"
      ],
      "metadata": {
        "id": "7ZIFoMkzrtEP"
      }
    },
    {
      "cell_type": "code",
      "source": [
        "!cutadapt"
      ],
      "metadata": {
        "id": "Jefyj66kM7sK"
      },
      "execution_count": null,
      "outputs": []
    },
    {
      "cell_type": "markdown",
      "source": [
        "Let's install minimap2"
      ],
      "metadata": {
        "id": "p7WVxMEUrd6I"
      }
    },
    {
      "cell_type": "code",
      "source": [
        "%%bash\n",
        "git clone https://github.com/lh3/minimap2\n",
        "cd minimap2 && make"
      ],
      "metadata": {
        "id": "BRVrvU9EvWbO"
      },
      "execution_count": null,
      "outputs": []
    },
    {
      "cell_type": "markdown",
      "source": [
        "See if we can run minimap2"
      ],
      "metadata": {
        "id": "bqdgb5wyrl41"
      }
    },
    {
      "cell_type": "code",
      "source": [
        "! ./minimap2/minimap2"
      ],
      "metadata": {
        "id": "CJc0BKiuvgGV"
      },
      "execution_count": null,
      "outputs": []
    },
    {
      "cell_type": "markdown",
      "source": [
        "Let's install samtools"
      ],
      "metadata": {
        "id": "N5S5FY9drx-V"
      }
    },
    {
      "cell_type": "code",
      "source": [
        "%%bash\n",
        "wget https://github.com/samtools/samtools/releases/download/1.17/samtools-1.17.tar.bz2 && \\\n",
        "\ttar jxf samtools-1.17.tar.bz2 && \\\n",
        "\trm samtools-1.17.tar.bz2 && \\\n",
        "\tcd samtools-1.17 && \\\n",
        "\t./configure --prefix $(pwd) && \\\n",
        "\tmake"
      ],
      "metadata": {
        "id": "c7Kr0t3Fvuwt"
      },
      "execution_count": null,
      "outputs": []
    },
    {
      "cell_type": "markdown",
      "source": [
        "See if we can run samtools"
      ],
      "metadata": {
        "id": "mj1IWtFDr6Oj"
      }
    },
    {
      "cell_type": "code",
      "source": [
        "! ./samtools-1.17/samtools"
      ],
      "metadata": {
        "id": "dt0gdQuhxrr0"
      },
      "execution_count": null,
      "outputs": []
    },
    {
      "cell_type": "markdown",
      "source": [
        "Add minimap2 and samtools executables to the PATH"
      ],
      "metadata": {
        "id": "J_HBxe3asA8S"
      }
    },
    {
      "cell_type": "code",
      "source": [
        "os.environ['PATH'] += \":/content/samtools-1.17/:/content/minimap2\""
      ],
      "metadata": {
        "id": "AfZOrvlCyS_-"
      },
      "execution_count": null,
      "outputs": []
    },
    {
      "cell_type": "markdown",
      "source": [
        "# Extract regions from the assemblies"
      ],
      "metadata": {
        "id": "HClTD037sMsm"
      }
    },
    {
      "cell_type": "markdown",
      "source": [
        "Take a look at script 1"
      ],
      "metadata": {
        "id": "pNHqDsrZskmU"
      }
    },
    {
      "cell_type": "code",
      "source": [
        "%%bash\n",
        "cat statgen_workshop_tutorial/src/09_functionalGenomics/script1_toRetrieveGenomeRegion_HPRC_DCEG_GSTM.sh"
      ],
      "metadata": {
        "id": "69_ZeA5NNEX9"
      },
      "execution_count": null,
      "outputs": []
    },
    {
      "cell_type": "markdown",
      "source": [
        "Run script 1"
      ],
      "metadata": {
        "id": "XNvhdnZJsm3e"
      }
    },
    {
      "cell_type": "code",
      "source": [
        "%%bash\n",
        "bash statgen_workshop_tutorial/src/09_functionalGenomics/script1_toRetrieveGenomeRegion_HPRC_DCEG_GSTM.sh"
      ],
      "metadata": {
        "id": "HDmtAkH3UcSA"
      },
      "execution_count": null,
      "outputs": []
    },
    {
      "cell_type": "markdown",
      "source": [
        "Take a look at the file generated"
      ],
      "metadata": {
        "id": "PTwwVePUssG3"
      }
    },
    {
      "cell_type": "code",
      "source": [
        "%%bash\n",
        "ls ${analysis_dir}/retrievedRegions/hg38_chr1_109655000_109742000/fasta_files/"
      ],
      "metadata": {
        "id": "v66AzHVYUrab"
      },
      "execution_count": null,
      "outputs": []
    },
    {
      "cell_type": "markdown",
      "source": [
        "# Aligning with hg38, generating BAM files for visualization in IGV"
      ],
      "metadata": {
        "id": "JPlr5VxXs4aJ"
      }
    },
    {
      "cell_type": "markdown",
      "source": [
        "Take a look at script 2"
      ],
      "metadata": {
        "id": "6aaS-HwFtERz"
      }
    },
    {
      "cell_type": "code",
      "source": [
        "!cat statgen_workshop_tutorial/src/09_functionalGenomics/script2_toAlignFastaToReference_HPRC_DCEG_GSTM.sh"
      ],
      "metadata": {
        "id": "eyg40EQ7tGJw"
      },
      "execution_count": null,
      "outputs": []
    },
    {
      "cell_type": "markdown",
      "source": [
        "Run script 2"
      ],
      "metadata": {
        "id": "foKRI1u4tLZU"
      }
    },
    {
      "cell_type": "code",
      "source": [
        "%%bash\n",
        "bash statgen_workshop_tutorial/src/09_functionalGenomics/script2_toAlignFastaToReference_HPRC_DCEG_GSTM.sh"
      ],
      "metadata": {
        "id": "5GFYbjw0x6EB"
      },
      "execution_count": null,
      "outputs": []
    },
    {
      "cell_type": "markdown",
      "source": [
        "Is the bam generated?"
      ],
      "metadata": {
        "id": "cXiOzxQ7tN-d"
      }
    },
    {
      "cell_type": "code",
      "source": [
        "! ls /content/09_analysis//retrievedRegions/hg38_chr1_109655000_109742000/bam_files/HPRC.cb.bam"
      ],
      "metadata": {
        "id": "UXls4wiD7gzE"
      },
      "execution_count": null,
      "outputs": []
    },
    {
      "cell_type": "markdown",
      "source": [
        "let's use igv to visualize it, first we will install igv-notebook"
      ],
      "metadata": {
        "id": "dl9kLQtttUhB"
      }
    },
    {
      "cell_type": "code",
      "source": [
        "pip install igv-notebook"
      ],
      "metadata": {
        "id": "GURYwD3cGs9z"
      },
      "execution_count": null,
      "outputs": []
    },
    {
      "cell_type": "markdown",
      "source": [
        "Run igv notebook"
      ],
      "metadata": {
        "id": "UXFSWhGXtfjP"
      }
    },
    {
      "cell_type": "code",
      "source": [
        "import igv_notebook\n",
        "igv_notebook.init()\n",
        "igv_browser= igv_notebook.Browser(\n",
        "    {\n",
        "        \"genome\": \"hg38\",\n",
        "        \"locus\": \"chr1:109655000-109742000\",\n",
        "        \"tracks\": [{\n",
        "            \"name\": \"BAM\",\n",
        "            \"path\": \"/content/09_analysis//retrievedRegions/hg38_chr1_109655000_109742000/bam_files/HPRC.cb.bam\",\n",
        "            \"indexPath\": \"/content/09_analysis//retrievedRegions/hg38_chr1_109655000_109742000/bam_files/HPRC.cb.bam.bai\",\n",
        "            \"format\": \"bam\",\n",
        "            \"type\": \"alignment\"\n",
        "        }]\n",
        "    }\n",
        ")"
      ],
      "metadata": {
        "id": "MapeDNQ4GuwJ"
      },
      "execution_count": null,
      "outputs": []
    }
  ]
}