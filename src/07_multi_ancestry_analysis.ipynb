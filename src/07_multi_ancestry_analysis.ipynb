{
  "nbformat": 4,
  "nbformat_minor": 0,
  "metadata": {
    "colab": {
      "provenance": [],
      "toc_visible": true,
      "authorship_tag": "ABX9TyOqpILaiNVSEx+KWiEE8on7",
      "include_colab_link": true
    },
    "kernelspec": {
      "name": "python3",
      "display_name": "Python 3"
    },
    "language_info": {
      "name": "python"
    }
  },
  "cells": [
    {
      "cell_type": "markdown",
      "metadata": {
        "id": "view-in-github",
        "colab_type": "text"
      },
      "source": [
        "<a href=\"https://colab.research.google.com/github/DCEG-workshops/statgen_workshop_tutorial/blob/main/src/07_multi_ancestry_analysis.ipynb\" target=\"_parent\"><img src=\"https://colab.research.google.com/assets/colab-badge.svg\" alt=\"Open In Colab\"/></a>"
      ]
    },
    {
      "cell_type": "markdown",
      "source": [
        "# Set up"
      ],
      "metadata": {
        "id": "0dhdoVAqVjlm"
      }
    },
    {
      "cell_type": "markdown",
      "source": [
        "Important: We want to mount the google drive for the data neeed for this workshop. Please open this [link](https://colab.research.google.com/corgiredirector?site=https%3A%2F%2Fdrive.google.com%2Fdrive%2Ffolders%2F1rui3w4tok2Z7EhtMbz6PobeC_fDxTw7G%3Fusp%3Dsharing) with your Google drive and find the \"statgen_workshop\" folder under \"Share with me\". Then add a shortcut to the folder under \"My Drive\"."
      ],
      "metadata": {
        "id": "67LsVae4LvMR"
      }
    },
    {
      "cell_type": "code",
      "execution_count": null,
      "metadata": {
        "colab": {
          "base_uri": "https://localhost:8080/"
        },
        "id": "OBzuK-RiIWbY",
        "outputId": "a6a9347a-dec2-4fa2-8ad3-3ca1f416257b"
      },
      "outputs": [
        {
          "output_type": "stream",
          "name": "stdout",
          "text": [
            "Mounted at /content/drive\n"
          ]
        }
      ],
      "source": [
        "from google.colab import drive\n",
        "drive.mount('/content/drive')"
      ]
    },
    {
      "cell_type": "code",
      "source": [
        "import os\n",
        "input_dir=\"drive/MyDrive/statgen_workshop/data/workshop7/\"\n",
        "analysis_dir=os.getcwd() + \"/07_analysis/\"\n",
        "os.environ['input_dir']=input_dir\n",
        "os.environ['analysis_dir']=analysis_dir"
      ],
      "metadata": {
        "id": "TzRyGBtHMVX7"
      },
      "execution_count": null,
      "outputs": []
    },
    {
      "cell_type": "markdown",
      "source": [
        "Load R magic"
      ],
      "metadata": {
        "id": "ZmFM5sPCPNrU"
      }
    },
    {
      "cell_type": "code",
      "source": [
        "%load_ext rpy2.ipython"
      ],
      "metadata": {
        "id": "mZc3tM3RMQT_"
      },
      "execution_count": null,
      "outputs": []
    },
    {
      "cell_type": "markdown",
      "source": [
        "# PART 1. Multi-population Fine-mapping\n",
        "## A single-hit region on chr 12"
      ],
      "metadata": {
        "id": "8UTLsuBANcL_"
      }
    },
    {
      "cell_type": "markdown",
      "source": [
        "### mJAM"
      ],
      "metadata": {
        "id": "Q7aLeRPyOPF0"
      }
    },
    {
      "cell_type": "markdown",
      "source": [
        "Step 1. Packages"
      ],
      "metadata": {
        "id": "hy4FpRwkMhLw"
      }
    },
    {
      "cell_type": "markdown",
      "source": [
        "Install dependencies for the hJAM R libary"
      ],
      "metadata": {
        "id": "zMVIzSATLsYg"
      }
    },
    {
      "cell_type": "code",
      "source": [
        "%%bash\n",
        "apt-get install libgsl-dev libmpfr-dev"
      ],
      "metadata": {
        "colab": {
          "base_uri": "https://localhost:8080/"
        },
        "id": "pH8e-zS7Quc_",
        "outputId": "d6a97d97-a520-4b78-819a-2842fbd515bb"
      },
      "execution_count": null,
      "outputs": [
        {
          "output_type": "stream",
          "name": "stdout",
          "text": [
            "Reading package lists...\n",
            "Building dependency tree...\n",
            "Reading state information...\n",
            "The following additional packages will be installed:\n",
            "  libgmp-dev libgmpxx4ldbl libgsl27 libgslcblas0\n",
            "Suggested packages:\n",
            "  gmp-doc libgmp10-doc gsl-ref-psdoc | gsl-doc-pdf | gsl-doc-info | gsl-ref-html libmpfr-doc\n",
            "The following NEW packages will be installed:\n",
            "  libgmp-dev libgmpxx4ldbl libgsl-dev libgsl27 libgslcblas0 libmpfr-dev\n",
            "0 upgraded, 6 newly installed, 0 to remove and 9 not upgraded.\n",
            "Need to get 2,969 kB of archives.\n",
            "After this operation, 13.8 MB of additional disk space will be used.\n",
            "Get:1 http://archive.ubuntu.com/ubuntu jammy/main amd64 libgmpxx4ldbl amd64 2:6.2.1+dfsg-3ubuntu1 [9,580 B]\n",
            "Get:2 http://archive.ubuntu.com/ubuntu jammy/main amd64 libgmp-dev amd64 2:6.2.1+dfsg-3ubuntu1 [337 kB]\n",
            "Get:3 http://archive.ubuntu.com/ubuntu jammy/universe amd64 libgslcblas0 amd64 2.7.1+dfsg-3 [94.4 kB]\n",
            "Get:4 http://archive.ubuntu.com/ubuntu jammy/universe amd64 libgsl27 amd64 2.7.1+dfsg-3 [1,000 kB]\n",
            "Get:5 http://archive.ubuntu.com/ubuntu jammy/universe amd64 libgsl-dev amd64 2.7.1+dfsg-3 [1,257 kB]\n",
            "Get:6 http://archive.ubuntu.com/ubuntu jammy/main amd64 libmpfr-dev amd64 4.1.0-3build3 [271 kB]\n",
            "Fetched 2,969 kB in 1s (3,887 kB/s)\n",
            "Selecting previously unselected package libgmpxx4ldbl:amd64.\r\n",
            "(Reading database ... \r(Reading database ... 5%\r(Reading database ... 10%\r(Reading database ... 15%\r(Reading database ... 20%\r(Reading database ... 25%\r(Reading database ... 30%\r(Reading database ... 35%\r(Reading database ... 40%\r(Reading database ... 45%\r(Reading database ... 50%\r(Reading database ... 55%\r(Reading database ... 60%\r(Reading database ... 65%\r(Reading database ... 70%\r(Reading database ... 75%\r(Reading database ... 80%\r(Reading database ... 85%\r(Reading database ... 90%\r(Reading database ... 95%\r(Reading database ... 100%\r(Reading database ... 120880 files and directories currently installed.)\r\n",
            "Preparing to unpack .../0-libgmpxx4ldbl_2%3a6.2.1+dfsg-3ubuntu1_amd64.deb ...\r\n",
            "Unpacking libgmpxx4ldbl:amd64 (2:6.2.1+dfsg-3ubuntu1) ...\r\n",
            "Selecting previously unselected package libgmp-dev:amd64.\r\n",
            "Preparing to unpack .../1-libgmp-dev_2%3a6.2.1+dfsg-3ubuntu1_amd64.deb ...\r\n",
            "Unpacking libgmp-dev:amd64 (2:6.2.1+dfsg-3ubuntu1) ...\r\n",
            "Selecting previously unselected package libgslcblas0:amd64.\r\n",
            "Preparing to unpack .../2-libgslcblas0_2.7.1+dfsg-3_amd64.deb ...\r\n",
            "Unpacking libgslcblas0:amd64 (2.7.1+dfsg-3) ...\r\n",
            "Selecting previously unselected package libgsl27:amd64.\r\n",
            "Preparing to unpack .../3-libgsl27_2.7.1+dfsg-3_amd64.deb ...\r\n",
            "Unpacking libgsl27:amd64 (2.7.1+dfsg-3) ...\r\n",
            "Selecting previously unselected package libgsl-dev.\r\n",
            "Preparing to unpack .../4-libgsl-dev_2.7.1+dfsg-3_amd64.deb ...\r\n",
            "Unpacking libgsl-dev (2.7.1+dfsg-3) ...\r\n",
            "Selecting previously unselected package libmpfr-dev:amd64.\r\n",
            "Preparing to unpack .../5-libmpfr-dev_4.1.0-3build3_amd64.deb ...\r\n",
            "Unpacking libmpfr-dev:amd64 (4.1.0-3build3) ...\r\n",
            "Setting up libgslcblas0:amd64 (2.7.1+dfsg-3) ...\r\n",
            "Setting up libgsl27:amd64 (2.7.1+dfsg-3) ...\r\n",
            "Setting up libgmpxx4ldbl:amd64 (2:6.2.1+dfsg-3ubuntu1) ...\r\n",
            "Setting up libgsl-dev (2.7.1+dfsg-3) ...\r\n",
            "Setting up libgmp-dev:amd64 (2:6.2.1+dfsg-3ubuntu1) ...\r\n",
            "Setting up libmpfr-dev:amd64 (4.1.0-3build3) ...\r\n",
            "Processing triggers for man-db (2.10.2-1) ...\r\n",
            "Processing triggers for libc-bin (2.35-0ubuntu3.4) ...\r\n",
            "/sbin/ldconfig.real: /usr/local/lib/libtbbbind_2_5.so.3 is not a symbolic link\r\n",
            "\r\n",
            "/sbin/ldconfig.real: /usr/local/lib/libtbbmalloc.so.2 is not a symbolic link\r\n",
            "\r\n",
            "/sbin/ldconfig.real: /usr/local/lib/libtbbmalloc_proxy.so.2 is not a symbolic link\r\n",
            "\r\n",
            "/sbin/ldconfig.real: /usr/local/lib/libtbbbind_2_0.so.3 is not a symbolic link\r\n",
            "\r\n",
            "/sbin/ldconfig.real: /usr/local/lib/libtbb.so.12 is not a symbolic link\r\n",
            "\r\n",
            "/sbin/ldconfig.real: /usr/local/lib/libtbbbind.so.3 is not a symbolic link\r\n",
            "\r\n"
          ]
        }
      ]
    },
    {
      "cell_type": "markdown",
      "source": [
        "We need to install the hJAM and tidyverse R libaries. Here's the code to install them:\n",
        "\n",
        "\n",
        "```\n",
        "devtools::install_github(\"USCbiostats/hJAM\")\n",
        "if(!\"tidyverse\"%in%installed.packages()){install.packages('tidyverse')}\n",
        "```\n",
        "\n",
        "In the interest of time, we will add the pre-installed packages to R path so we don't have to wait for the R package installations."
      ],
      "metadata": {
        "id": "1XppJABUL5ik"
      }
    },
    {
      "cell_type": "code",
      "source": [
        "%%bash\n",
        "cp /content/drive/MyDrive/statgen_workshop/tools/07_multi_ancestry_analysis_R_libs.tgz ./ && \\\n",
        "   tar -zxf 07_multi_ancestry_analysis_R_libs.tgz && ls usr/local/lib/R/site-library/"
      ],
      "metadata": {
        "colab": {
          "base_uri": "https://localhost:8080/"
        },
        "id": "HywfHhKEO0kN",
        "outputId": "8e754dbc-b205-4d6a-9d43-ecd4198fc8bd"
      },
      "execution_count": null,
      "outputs": [
        {
          "output_type": "stream",
          "name": "stdout",
          "text": [
            "foreach\n",
            "glmnet\n",
            "gmp\n",
            "hJAM\n",
            "IRdisplay\n",
            "IRkernel\n",
            "irlba\n",
            "iterators\n",
            "matrixcalc\n",
            "matrixStats\n",
            "mixsqp\n",
            "pbdZMQ\n",
            "plyr\n",
            "Rcpp\n",
            "RcppArmadillo\n",
            "RcppEigen\n",
            "repr\n",
            "reshape\n",
            "reshape2\n",
            "Rmpfr\n",
            "shape\n",
            "susieR\n"
          ]
        }
      ]
    },
    {
      "cell_type": "markdown",
      "source": [
        "Add to R library Path"
      ],
      "metadata": {
        "id": "h8eQvxQtOF1E"
      }
    },
    {
      "cell_type": "code",
      "source": [
        "%%R -i input_dir -i analysis_dir\n",
        ".libPaths(\"usr/local/lib/R/site-library/\")\n",
        ".libPaths()"
      ],
      "metadata": {
        "colab": {
          "base_uri": "https://localhost:8080/"
        },
        "id": "bQsV_O-eMeso",
        "outputId": "af231703-a2c5-47bd-a055-1bde1e3b65ee"
      },
      "execution_count": null,
      "outputs": [
        {
          "output_type": "stream",
          "name": "stdout",
          "text": [
            "[1] \"/usr/local/lib/R/site-library\" \"/usr/lib/R/site-library\"      \n",
            "[3] \"/usr/lib/R/library\"           \n"
          ]
        }
      ]
    },
    {
      "cell_type": "markdown",
      "source": [
        "load R libraries"
      ],
      "metadata": {
        "id": "mFk2xQkuPaFo"
      }
    },
    {
      "cell_type": "code",
      "source": [
        "%%R\n",
        "library(hJAM) ## for mJAM_Forward, mJAM_SuSiE\n",
        "library(tidyverse) ## for data cleaning and visualization\n",
        "library(glue)"
      ],
      "metadata": {
        "id": "yS_NSu4sPhqU",
        "colab": {
          "base_uri": "https://localhost:8080/"
        },
        "outputId": "d889b8b5-6a19-4e70-ee59-1d7c59e7a524"
      },
      "execution_count": null,
      "outputs": [
        {
          "output_type": "stream",
          "name": "stderr",
          "text": [
            "WARNING:rpy2.rinterface_lib.callbacks:R[write to console]: Error in library(hJAM) : there is no package called ‘hJAM’\n",
            "\n"
          ]
        },
        {
          "output_type": "stream",
          "name": "stdout",
          "text": [
            "\n",
            "Error in library(hJAM) : there is no package called ‘hJAM’\n"
          ]
        }
      ]
    },
    {
      "cell_type": "markdown",
      "source": [
        "Visualize marginal results"
      ],
      "metadata": {
        "id": "pZHaq-3pPtT8"
      }
    },
    {
      "cell_type": "code",
      "source": [
        "%%R\n",
        "meta_sumstat <- read.table(glue(input_dir, \"MultiPopulation_FineMapping/12_109194870_110794870_meta_summary_stat.txt\"), header = T)"
      ],
      "metadata": {
        "id": "fHENDFCBP3GT",
        "colab": {
          "base_uri": "https://localhost:8080/"
        },
        "outputId": "91fe7375-7b60-4895-dddc-4028c943c4c1"
      },
      "execution_count": null,
      "outputs": [
        {
          "output_type": "stream",
          "name": "stderr",
          "text": [
            "WARNING:rpy2.rinterface_lib.callbacks:R[write to console]: Error in glue(input_dir, \"MultiPopulation_FineMapping/12_109194870_110794870_meta_summary_stat.txt\") : \n",
            "  could not find function \"glue\"\n",
            "\n"
          ]
        },
        {
          "output_type": "stream",
          "name": "stdout",
          "text": [
            "\n",
            "Error in glue(input_dir, \"MultiPopulation_FineMapping/12_109194870_110794870_meta_summary_stat.txt\") : \n",
            "  could not find function \"glue\"\n"
          ]
        }
      ]
    },
    {
      "cell_type": "markdown",
      "source": [
        "Meta P.value"
      ],
      "metadata": {
        "id": "ISzU1lqwWgqn"
      }
    },
    {
      "cell_type": "code",
      "source": [
        "%%R\n",
        "meta_sumstat %>%\n",
        "  ggplot(aes(x = POS, y = -log10(as.numeric(P.value))))+\n",
        "  geom_point(size = 1)+\n",
        "  geom_hline(yintercept = -log10(5e-8), linetype=\"dashed\", color = \"red\")+\n",
        "  labs(x = \"Position\", y = \"-log10(meta.p.value)\",\n",
        "       title = \"Marginal signficance of meta-analyzed summary statistics\")"
      ],
      "metadata": {
        "colab": {
          "base_uri": "https://localhost:8080/"
        },
        "id": "THbtAhjnWhWn",
        "outputId": "a2ee506c-4220-4137-b686-bf6ca2961e0a"
      },
      "execution_count": null,
      "outputs": [
        {
          "output_type": "stream",
          "name": "stderr",
          "text": [
            "WARNING:rpy2.rinterface_lib.callbacks:R[write to console]: Error in meta_sumstat %>% ggplot(aes(x = POS, y = -log10(as.numeric(P.value)))) : \n",
            "  could not find function \"%>%\"\n",
            "\n"
          ]
        },
        {
          "output_type": "stream",
          "name": "stdout",
          "text": [
            "\n",
            "Error in meta_sumstat %>% ggplot(aes(x = POS, y = -log10(as.numeric(P.value)))) : \n",
            "  could not find function \"%>%\"\n"
          ]
        }
      ]
    },
    {
      "cell_type": "markdown",
      "source": [
        "Population-specific P.value"
      ],
      "metadata": {
        "id": "lpv_Ebu2WmqK"
      }
    },
    {
      "cell_type": "code",
      "source": [
        "%%R\n",
        "meta_sumstat %>%\n",
        "  select(c(POS, EUR.P.value, AFR.P.value, HIS.P.value, EAS.P.value)) %>%\n",
        "  mutate(EUR.P.value = as.numeric(EUR.P.value),\n",
        "         AFR.P.value = as.numeric(AFR.P.value),\n",
        "         HIS.P.value = as.numeric(HIS.P.value),\n",
        "         EAS.P.value = as.numeric(EAS.P.value)) %>%\n",
        "  pivot_longer(cols = EUR.P.value:EAS.P.value,\n",
        "               names_to = \"pop\",\n",
        "               values_to = \"P.value\") %>%\n",
        "  ggplot(aes(x = POS, y = -log10(as.numeric(P.value))))+\n",
        "  geom_point(size = 1)+\n",
        "  geom_hline(yintercept = -log10(5e-8), linetype=\"dashed\", color = \"red\")+\n",
        "  facet_wrap(vars(pop), nrow = 2, scales = \"free_y\")+\n",
        "  labs(x = \"Position\", y = \"-log10(p.value)\",\n",
        "       title = \"Marginal signficance by population\")"
      ],
      "metadata": {
        "colab": {
          "base_uri": "https://localhost:8080/"
        },
        "id": "q4XWfSNwWq2b",
        "outputId": "091bc177-f57d-4976-8232-08fbd594b1af"
      },
      "execution_count": null,
      "outputs": [
        {
          "output_type": "stream",
          "name": "stderr",
          "text": [
            "WARNING:rpy2.rinterface_lib.callbacks:R[write to console]: Error in meta_sumstat %>% select(c(POS, EUR.P.value, AFR.P.value, HIS.P.value,  : \n",
            "  could not find function \"%>%\"\n",
            "\n"
          ]
        },
        {
          "output_type": "stream",
          "name": "stdout",
          "text": [
            "\n",
            "Error in meta_sumstat %>% select(c(POS, EUR.P.value, AFR.P.value, HIS.P.value,  : \n",
            "  could not find function \"%>%\"\n"
          ]
        }
      ]
    },
    {
      "cell_type": "markdown",
      "source": [
        "Run various fine-mapping approaches"
      ],
      "metadata": {
        "id": "0HUoCr5rW7Bu"
      }
    },
    {
      "cell_type": "markdown",
      "source": [
        "#### mJAM-Forward"
      ],
      "metadata": {
        "id": "8W4Phaasa5xC"
      }
    },
    {
      "cell_type": "code",
      "source": [
        "%%R\n",
        "Marg_Result <- read.table(glue(input_dir, \"MultiPopulation_FineMapping/1_mJAM/data/Marg_results.txt\"), header = T)\n",
        "MAF_Result <- read.table(glue(input_dir, \"MultiPopulation_FineMapping/1_mJAM/data/MAF_results.txt\"), header = T)\n",
        "EUR_ONCO_dosage <- read.table(glue(input_dir, \"MultiPopulation_FineMapping/1_mJAM/data/EUR_ONCO_dosages.txt\"), header = T, check.names = F)\n",
        "AFR_ONCO_dosage <- read.table(glue(input_dir, \"MultiPopulation_FineMapping/1_mJAM/data/AFR_ONCO_dosages.txt\"), header = T, check.names = F)\n",
        "HIS_ONCO_dosage <- read.table(glue(input_dir, \"MultiPopulation_FineMapping/1_mJAM/data/HIS_ONCO_dosages.txt\"), header = T, check.names = F)\n",
        "EAS_ONCO_dosage <- read.table(glue(input_dir, \"MultiPopulation_FineMapping/1_mJAM/data/EAS_ONCO_dosages.txt\"), header = T, check.names = F)\n",
        "\n",
        "## sample size of discovery GWAS (as in summary statistics)\n",
        "N_cases_EUR <- 122188; N_ctrl_EUR <- 604640\n",
        "N_cases_AFR <- 19391; N_ctrl_AFR <- 61608\n",
        "N_cases_HIS <- 3931; N_ctrl_HIS <- 26405\n",
        "N_cases_EAS <- 10809; N_ctrl_EAS <- 95790\n",
        "N_GWAS_EUR <- 4/(1/N_cases_EUR + 1/N_ctrl_EUR)\n",
        "N_GWAS_AFR <- 4/(1/N_cases_AFR + 1/N_ctrl_AFR)\n",
        "N_GWAS_HIS <- 4/(1/N_cases_HIS + 1/N_ctrl_HIS)\n",
        "N_GWAS_EAS <- 4/(1/N_cases_EAS + 1/N_ctrl_EAS)"
      ],
      "metadata": {
        "id": "shbRxDbNW-Wi",
        "colab": {
          "base_uri": "https://localhost:8080/"
        },
        "outputId": "fe5ba13a-b65e-450f-8b20-eb2125a73ed1"
      },
      "execution_count": null,
      "outputs": [
        {
          "output_type": "stream",
          "name": "stderr",
          "text": [
            "WARNING:rpy2.rinterface_lib.callbacks:R[write to console]: Error in glue(input_dir, \"MultiPopulation_FineMapping/1_mJAM/data/Marg_results.txt\") : \n",
            "  could not find function \"glue\"\n",
            "\n"
          ]
        },
        {
          "output_type": "stream",
          "name": "stdout",
          "text": [
            "\n",
            "Error in glue(input_dir, \"MultiPopulation_FineMapping/1_mJAM/data/Marg_results.txt\") : \n",
            "  could not find function \"glue\"\n"
          ]
        }
      ]
    },
    {
      "cell_type": "markdown",
      "source": [
        "fit mJAM with forward selection"
      ],
      "metadata": {
        "id": "khkyFMxAY4be"
      }
    },
    {
      "cell_type": "code",
      "source": [
        "%%R\n",
        "mJAM_Forward_fit <- hJAM::mJAM_Forward(N_GWAS = c(N_GWAS_EUR, N_GWAS_AFR, N_GWAS_HIS, N_GWAS_EAS),\n",
        "                                       X_ref = list(EUR_ONCO_dosage, AFR_ONCO_dosage, HIS_ONCO_dosage, EAS_ONCO_dosage),\n",
        "                                       Marg_Result = Marg_Result,\n",
        "                                       EAF_Result = MAF_Result,\n",
        "                                       condp_cut = 5e-08,\n",
        "                                       within_pop_threshold = 0.20,\n",
        "                                       across_pop_threshold = 0.10)"
      ],
      "metadata": {
        "colab": {
          "base_uri": "https://localhost:8080/"
        },
        "id": "w0mXWR1YY4BA",
        "outputId": "2350e4fb-f395-42bd-930f-e133d7b0777b"
      },
      "execution_count": null,
      "outputs": [
        {
          "output_type": "stream",
          "name": "stderr",
          "text": [
            "WARNING:rpy2.rinterface_lib.callbacks:R[write to console]: Error in loadNamespace(x) : there is no package called ‘hJAM’\n",
            "\n"
          ]
        },
        {
          "output_type": "stream",
          "name": "stdout",
          "text": [
            "\n",
            "Error in loadNamespace(x) : there is no package called ‘hJAM’\n"
          ]
        }
      ]
    },
    {
      "cell_type": "markdown",
      "source": [
        "index SNP's selected by mJAM_Forward"
      ],
      "metadata": {
        "id": "uuVD4u6hZnNL"
      }
    },
    {
      "cell_type": "code",
      "source": [
        "%%R\n",
        "mJAM_Forward_fit$index"
      ],
      "metadata": {
        "colab": {
          "base_uri": "https://localhost:8080/"
        },
        "id": "xVz2mi9mZque",
        "outputId": "bda5640c-0ce8-40f8-93a3-77e7951543db"
      },
      "execution_count": null,
      "outputs": [
        {
          "output_type": "stream",
          "name": "stderr",
          "text": [
            "WARNING:rpy2.rinterface_lib.callbacks:R[write to console]: Error in (function (expr, envir = parent.frame(), enclos = if (is.list(envir) ||  : \n",
            "  object 'mJAM_Forward_fit' not found\n",
            "\n"
          ]
        },
        {
          "output_type": "stream",
          "name": "stdout",
          "text": [
            "\n",
            "Error in (function (expr, envir = parent.frame(), enclos = if (is.list(envir) ||  : \n",
            "  object 'mJAM_Forward_fit' not found\n"
          ]
        }
      ]
    },
    {
      "cell_type": "markdown",
      "source": [
        "utility function for plotting"
      ],
      "metadata": {
        "id": "UHgYU7N7ZsjA"
      }
    },
    {
      "cell_type": "code",
      "source": [
        "%%R\n",
        "plot_fine_mapping_res <- function(by.pop = FALSE,\n",
        "                                  selected_index,\n",
        "                                  cs_snp){\n",
        "\n",
        "  if(by.pop){\n",
        "    cs_snp_by_pop = cs_snp %>%\n",
        "      select(c(index_SNP, CS_SNP, is_index, POS, EUR.P.value, AFR.P.value, HIS.P.value, EAS.P.value)) %>%\n",
        "      mutate(EUR.P.value = as.numeric(EUR.P.value),\n",
        "             AFR.P.value = as.numeric(AFR.P.value),\n",
        "             HIS.P.value = as.numeric(HIS.P.value),\n",
        "             EAS.P.value = as.numeric(EAS.P.value)) %>%\n",
        "      pivot_longer(cols = EUR.P.value:EAS.P.value,\n",
        "                   names_to = \"pop\",\n",
        "                   values_to = \"P.value\")\n",
        "    meta_sumstat %>%\n",
        "      select(c(MarkerName, POS, EUR.P.value, AFR.P.value, HIS.P.value, EAS.P.value)) %>%\n",
        "      mutate(EUR.P.value = as.numeric(EUR.P.value),\n",
        "             AFR.P.value = as.numeric(AFR.P.value),\n",
        "             HIS.P.value = as.numeric(HIS.P.value),\n",
        "             EAS.P.value = as.numeric(EAS.P.value)) %>%\n",
        "      pivot_longer(cols = EUR.P.value:EAS.P.value,\n",
        "                   names_to = \"pop\",\n",
        "                   values_to = \"P.value\") %>%\n",
        "      ggplot(aes(x = POS, y = -log10(P.value)))+\n",
        "      geom_point(color=\"grey\", size  = 1.5)+\n",
        "      geom_point(aes(color = index_SNP, group = index_SNP), data = cs_snp_by_pop, size  = 1)+\n",
        "      geom_point(data = filter(cs_snp_by_pop, is_index == T),\n",
        "                 colour=\"red\", shape=1, size=1.5, stroke=1)+\n",
        "      geom_hline(yintercept = -log10(5e-8), linetype=\"dashed\", color = \"red\")+\n",
        "      facet_wrap(vars(pop), nrow = 2, scales = \"free_y\")+\n",
        "      labs(x = \"Position\", y = \"-log10(p.value)\",\n",
        "           title = \"Index SNPs and credible sets (by population)\")\n",
        "  }else{\n",
        "    meta_sumstat %>%\n",
        "      ggplot(aes(x = POS, y = -log10(as.numeric(P.value))))+\n",
        "      geom_point(color=\"grey\", size  = 1.5)+\n",
        "      geom_point(aes(color = index_SNP, group = index_SNP), data = cs_snp, size  = 1)+\n",
        "      geom_point(data = filter(cs_snp, is_index == T),\n",
        "                 colour=\"red\", shape=1, size=1.5, stroke=1)+\n",
        "      geom_hline(yintercept = -log10(5e-8), linetype=\"dashed\", color = \"red\")+\n",
        "      labs(x = \"Position\", y = \"-log10(p.value)\",\n",
        "           title = \"Index SNPs and credible sets\")\n",
        "  }\n",
        "\n",
        "}"
      ],
      "metadata": {
        "id": "W8M0Uh9pZw3e"
      },
      "execution_count": null,
      "outputs": []
    },
    {
      "cell_type": "markdown",
      "source": [
        "pull variants in mJAM-Forward credible sets"
      ],
      "metadata": {
        "id": "yjolQko8Z2QH"
      }
    },
    {
      "cell_type": "code",
      "source": [
        "%%R\n",
        "selected_index_forward <- mJAM_Forward_fit$index$SNP\n",
        "cs_snp_forward <- mJAM_Forward_fit$cs %>%\n",
        "  filter(CS_in == TRUE) %>%\n",
        "  left_join(meta_sumstat, by = c(\"CS_SNP\"=\"MarkerName\")) %>%\n",
        "  mutate(is_index = (index_SNP == CS_SNP)) %>%\n",
        "  left_join(tibble(index_SNP = selected_index_forward,\n",
        "                   oldname = meta_sumstat$MarkerName_old[match(selected_index_forward,meta_sumstat$MarkerName)],\n",
        "                   order = 1:length(selected_index_forward)), by = \"index_SNP\") %>%\n",
        "  mutate(index_SNP_legend = paste0(\"(#\",order,\")\",oldname)) %>%\n",
        "  select(-index_SNP) %>%\n",
        "  rename(index_SNP = index_SNP_legend)"
      ],
      "metadata": {
        "colab": {
          "base_uri": "https://localhost:8080/"
        },
        "id": "BwUg6VGOZ4mp",
        "outputId": "c5a48b35-6674-4ab5-e1b7-5116d7d75c83"
      },
      "execution_count": null,
      "outputs": [
        {
          "output_type": "stream",
          "name": "stderr",
          "text": [
            "WARNING:rpy2.rinterface_lib.callbacks:R[write to console]: Error in (function (expr, envir = parent.frame(), enclos = if (is.list(envir) ||  : \n",
            "  object 'mJAM_Forward_fit' not found\n",
            "\n"
          ]
        },
        {
          "output_type": "stream",
          "name": "stdout",
          "text": [
            "\n",
            "Error in (function (expr, envir = parent.frame(), enclos = if (is.list(envir) ||  : \n",
            "  object 'mJAM_Forward_fit' not found\n"
          ]
        }
      ]
    },
    {
      "cell_type": "markdown",
      "source": [
        " mJAM-Forward index SNPs and credible sets (meta P values)"
      ],
      "metadata": {
        "id": "ffkCyiGAaAlC"
      }
    },
    {
      "cell_type": "code",
      "source": [
        "%%R\n",
        "plot_fine_mapping_res(by.pop = FALSE,\n",
        "                      selected_index = selected_index_forward,\n",
        "                      cs_snp = cs_snp_forward)"
      ],
      "metadata": {
        "colab": {
          "base_uri": "https://localhost:8080/"
        },
        "id": "OwU392x6aCpF",
        "outputId": "affd4767-e625-4d89-c267-af7b90f02fc7"
      },
      "execution_count": null,
      "outputs": [
        {
          "output_type": "stream",
          "name": "stderr",
          "text": [
            "WARNING:rpy2.rinterface_lib.callbacks:R[write to console]: Error in meta_sumstat %>% ggplot(aes(x = POS, y = -log10(as.numeric(P.value)))) : \n",
            "  could not find function \"%>%\"\n",
            "\n"
          ]
        },
        {
          "output_type": "stream",
          "name": "stdout",
          "text": [
            "\n",
            "Error in meta_sumstat %>% ggplot(aes(x = POS, y = -log10(as.numeric(P.value)))) : \n",
            "  could not find function \"%>%\"\n"
          ]
        }
      ]
    },
    {
      "cell_type": "markdown",
      "source": [
        "mJAM-Forward index SNPs and credible sets (population-specific P values)"
      ],
      "metadata": {
        "id": "QoX5Xyc3aG04"
      }
    },
    {
      "cell_type": "code",
      "source": [
        "%%R\n",
        "plot_fine_mapping_res(by.pop = TRUE,\n",
        "                      selected_index = selected_index_forward,\n",
        "                      cs_snp = cs_snp_forward)"
      ],
      "metadata": {
        "colab": {
          "base_uri": "https://localhost:8080/"
        },
        "id": "q3YB4O9CaI4F",
        "outputId": "5dcd8eb9-b784-4a91-a5d5-459c2d20ad32"
      },
      "execution_count": null,
      "outputs": [
        {
          "output_type": "stream",
          "name": "stderr",
          "text": [
            "WARNING:rpy2.rinterface_lib.callbacks:R[write to console]: Error in cs_snp %>% select(c(index_SNP, CS_SNP, is_index, POS, EUR.P.value,  : \n",
            "  could not find function \"%>%\"\n",
            "\n"
          ]
        },
        {
          "output_type": "stream",
          "name": "stdout",
          "text": [
            "\n",
            "Error in cs_snp %>% select(c(index_SNP, CS_SNP, is_index, POS, EUR.P.value,  : \n",
            "  could not find function \"%>%\"\n"
          ]
        }
      ]
    },
    {
      "cell_type": "markdown",
      "source": [
        "#### mJAM-SuSiE  "
      ],
      "metadata": {
        "id": "hne_XxeYaPQh"
      }
    },
    {
      "cell_type": "markdown",
      "source": [
        "fit mJAM with Sum of Single Effect (Bayesian feature selection)"
      ],
      "metadata": {
        "id": "tEKhjjVWaRzj"
      }
    },
    {
      "cell_type": "code",
      "source": [
        "%%R\n",
        "mJAM_SuSiE_fit <- hJAM::mJAM_SuSiE(Marg_Result = Marg_Result,\n",
        "                                   EAF_Result = MAF_Result,\n",
        "                                   N_GWAS = c(N_GWAS_EUR, N_GWAS_AFR, N_GWAS_HIS, N_GWAS_EAS),\n",
        "                                   X_ref = list(EUR_ONCO_dosage, AFR_ONCO_dosage, HIS_ONCO_dosage, EAS_ONCO_dosage))\n",
        "\n",
        "\n",
        "mJAM_SuSiE_CS_0.95_Output <- hJAM::mJAM_SuSiE_get_cs(mJAM_SuSiE_fit,0.95)"
      ],
      "metadata": {
        "colab": {
          "base_uri": "https://localhost:8080/"
        },
        "id": "kTUUGJ6RaVUB",
        "outputId": "7fbe820c-6cfb-4e77-93fb-8b50c4cf403e"
      },
      "execution_count": null,
      "outputs": [
        {
          "output_type": "stream",
          "name": "stderr",
          "text": [
            "WARNING:rpy2.rinterface_lib.callbacks:R[write to console]: Error in loadNamespace(x) : there is no package called ‘hJAM’\n",
            "\n"
          ]
        },
        {
          "output_type": "stream",
          "name": "stdout",
          "text": [
            "\n",
            "Error in loadNamespace(x) : there is no package called ‘hJAM’\n"
          ]
        }
      ]
    },
    {
      "cell_type": "markdown",
      "source": [
        "pull mJAM-SuSiE index SNPs and credible sets"
      ],
      "metadata": {
        "id": "QQ84_xoOaZGO"
      }
    },
    {
      "cell_type": "code",
      "source": [
        "%%R\n",
        "selected_index_susie <- mJAM_SuSiE_CS_0.95_Output$index_SNP\n",
        "cs_snp_susie <- mJAM_SuSiE_CS_0.95_Output %>%\n",
        "  left_join(meta_sumstat, by = c(\"CS_SNP\"=\"MarkerName\")) %>%\n",
        "  mutate(is_index = (index_SNP == CS_SNP))"
      ],
      "metadata": {
        "colab": {
          "base_uri": "https://localhost:8080/"
        },
        "id": "7awDV8VHabPw",
        "outputId": "03d1887f-9bd4-463d-fb1f-0c3f51dd0cb8"
      },
      "execution_count": null,
      "outputs": [
        {
          "output_type": "stream",
          "name": "stderr",
          "text": [
            "WARNING:rpy2.rinterface_lib.callbacks:R[write to console]: Error in (function (expr, envir = parent.frame(), enclos = if (is.list(envir) ||  : \n",
            "  object 'mJAM_SuSiE_CS_0.95_Output' not found\n",
            "\n"
          ]
        },
        {
          "output_type": "stream",
          "name": "stdout",
          "text": [
            "\n",
            "Error in (function (expr, envir = parent.frame(), enclos = if (is.list(envir) ||  : \n",
            "  object 'mJAM_SuSiE_CS_0.95_Output' not found\n"
          ]
        }
      ]
    },
    {
      "cell_type": "markdown",
      "source": [
        "mJAM-SuSiE index SNPs and credible sets (meta P values)"
      ],
      "metadata": {
        "id": "mKOQcUE0ac8I"
      }
    },
    {
      "cell_type": "code",
      "source": [
        "%%R\n",
        "plot_fine_mapping_res(by.pop = FALSE,\n",
        "                      selected_index = selected_index_susie,\n",
        "                      cs_snp = cs_snp_susie)"
      ],
      "metadata": {
        "colab": {
          "base_uri": "https://localhost:8080/"
        },
        "id": "E__ZJtBCagFp",
        "outputId": "00965fee-44a3-42fa-b742-ee7c7716d877"
      },
      "execution_count": null,
      "outputs": [
        {
          "output_type": "stream",
          "name": "stderr",
          "text": [
            "WARNING:rpy2.rinterface_lib.callbacks:R[write to console]: Error in meta_sumstat %>% ggplot(aes(x = POS, y = -log10(as.numeric(P.value)))) : \n",
            "  could not find function \"%>%\"\n",
            "\n"
          ]
        },
        {
          "output_type": "stream",
          "name": "stdout",
          "text": [
            "\n",
            "Error in meta_sumstat %>% ggplot(aes(x = POS, y = -log10(as.numeric(P.value)))) : \n",
            "  could not find function \"%>%\"\n"
          ]
        }
      ]
    },
    {
      "cell_type": "markdown",
      "source": [
        " mJAM-SuSiE index SNPs and credible sets (population-specific P values)"
      ],
      "metadata": {
        "id": "hqTugb5wakpq"
      }
    },
    {
      "cell_type": "code",
      "source": [
        "%%R\n",
        "plot_fine_mapping_res(by.pop = TRUE,\n",
        "                      selected_index = selected_index_susie,\n",
        "                      cs_snp = cs_snp_susie)"
      ],
      "metadata": {
        "colab": {
          "base_uri": "https://localhost:8080/"
        },
        "id": "SLdn9JttamNH",
        "outputId": "3bf9df4d-7e0d-4ccf-ba23-3e8022ede8ec"
      },
      "execution_count": null,
      "outputs": [
        {
          "output_type": "stream",
          "name": "stderr",
          "text": [
            "WARNING:rpy2.rinterface_lib.callbacks:R[write to console]: Error in cs_snp %>% select(c(index_SNP, CS_SNP, is_index, POS, EUR.P.value,  : \n",
            "  could not find function \"%>%\"\n",
            "\n"
          ]
        },
        {
          "output_type": "stream",
          "name": "stdout",
          "text": [
            "\n",
            "Error in cs_snp %>% select(c(index_SNP, CS_SNP, is_index, POS, EUR.P.value,  : \n",
            "  could not find function \"%>%\"\n"
          ]
        }
      ]
    },
    {
      "cell_type": "markdown",
      "source": [
        "## COJO"
      ],
      "metadata": {
        "id": "R9mvIgJzbURF"
      }
    },
    {
      "cell_type": "markdown",
      "source": [
        "Step 1: installation: https://yanglab.westlake.edu.cn/software/gcta/#Download"
      ],
      "metadata": {
        "id": "hAYCO5lTepHY"
      }
    },
    {
      "cell_type": "code",
      "source": [
        "%%bash\n",
        "wget https://yanglab.westlake.edu.cn/software/gcta/bin/gcta-1.94.1-linux-kernel-3-x86_64.zip && unzip gcta-1.94.1-linux-kernel-3-x86_64.zip"
      ],
      "metadata": {
        "colab": {
          "base_uri": "https://localhost:8080/"
        },
        "id": "lefsklzfbiFg",
        "outputId": "90b1953f-f4df-4ff3-adb6-1514f2c4ba7f"
      },
      "execution_count": null,
      "outputs": [
        {
          "output_type": "stream",
          "name": "stdout",
          "text": [
            "Archive:  gcta-1.94.1-linux-kernel-3-x86_64.zip\n",
            "   creating: gcta-1.94.1-linux-kernel-3-x86_64/\n",
            "  inflating: gcta-1.94.1-linux-kernel-3-x86_64/MIT_License.txt  \n",
            "  inflating: gcta-1.94.1-linux-kernel-3-x86_64/README.txt  \n",
            "  inflating: gcta-1.94.1-linux-kernel-3-x86_64/test.bed  \n",
            "  inflating: gcta-1.94.1-linux-kernel-3-x86_64/test.bim  \n",
            "  inflating: gcta-1.94.1-linux-kernel-3-x86_64/test.fam  \n",
            "  inflating: gcta-1.94.1-linux-kernel-3-x86_64/test.phen  \n",
            "  inflating: gcta-1.94.1-linux-kernel-3-x86_64/gcta-1.94.1  \n"
          ]
        },
        {
          "output_type": "stream",
          "name": "stderr",
          "text": [
            "--2023-11-21 18:41:54--  https://yanglab.westlake.edu.cn/software/gcta/bin/gcta-1.94.1-linux-kernel-3-x86_64.zip\n",
            "Resolving yanglab.westlake.edu.cn (yanglab.westlake.edu.cn)... 42.247.30.189, 124.160.108.195, 2001:250:6413:1002:250:56ff:fe90:f4c7\n",
            "Connecting to yanglab.westlake.edu.cn (yanglab.westlake.edu.cn)|42.247.30.189|:443... connected.\n",
            "HTTP request sent, awaiting response... 200 OK\n",
            "Length: 14337891 (14M) [application/zip]\n",
            "Saving to: ‘gcta-1.94.1-linux-kernel-3-x86_64.zip’\n",
            "\n",
            "     0K .......... .......... .......... .......... ..........  0%  250K 56s\n",
            "    50K .......... .......... .......... .......... ..........  0%  252K 55s\n",
            "   100K .......... .......... .......... .......... ..........  1%  253K 55s\n",
            "   150K .......... .......... .......... .......... ..........  1% 55.6M 41s\n",
            "   200K .......... .......... .......... .......... ..........  1% 32.4M 33s\n",
            "   250K .......... .......... .......... .......... ..........  2% 62.8M 27s\n",
            "   300K .......... .......... .......... .......... ..........  2%  254K 31s\n",
            "   350K .......... .......... .......... .......... ..........  2% 30.4M 27s\n",
            "   400K .......... .......... .......... .......... ..........  3% 36.2M 24s\n",
            "   450K .......... .......... .......... .......... ..........  3% 22.4M 22s\n",
            "   500K .......... .......... .......... .......... ..........  3% 42.0M 20s\n",
            "   550K .......... .......... .......... .......... ..........  4%  153M 18s\n",
            "   600K .......... .......... .......... .......... ..........  4%  198M 17s\n",
            "   650K .......... .......... .......... .......... ..........  4%  260K 19s\n",
            "   700K .......... .......... .......... .......... ..........  5% 24.5M 18s\n",
            "   750K .......... .......... .......... .......... ..........  5% 28.8M 17s\n",
            "   800K .......... .......... .......... .......... ..........  6% 43.7M 15s\n",
            "   850K .......... .......... .......... .......... ..........  6% 34.3M 15s\n",
            "   900K .......... .......... .......... .......... ..........  6% 50.6M 14s\n",
            "   950K .......... .......... .......... .......... ..........  7%  109M 13s\n",
            "  1000K .......... .......... .......... .......... ..........  7%  263M 12s\n",
            "  1050K .......... .......... .......... .......... ..........  7%  228M 12s\n",
            "  1100K .......... .......... .......... .......... ..........  8%  271M 11s\n",
            "  1150K .......... .......... .......... .......... ..........  8%  180M 11s\n",
            "  1200K .......... .......... .......... .......... ..........  8% 37.0M 10s\n",
            "  1250K .......... .......... .......... .......... ..........  9% 48.8M 10s\n",
            "  1300K .......... .......... .......... .......... ..........  9%  267K 11s\n",
            "  1350K .......... .......... .......... .......... ..........  9% 9.67M 11s\n",
            "  1400K .......... .......... .......... .......... .......... 10% 40.2M 10s\n",
            "  1450K .......... .......... .......... .......... .......... 10% 42.1M 10s\n",
            "  1500K .......... .......... .......... .......... .......... 11%  119M 10s\n",
            "  1550K .......... .......... .......... .......... .......... 11%  229M 9s\n",
            "  1600K .......... .......... .......... .......... .......... 11%  287M 9s\n",
            "  1650K .......... .......... .......... .......... .......... 12%  206M 9s\n",
            "  1700K .......... .......... .......... .......... .......... 12%  243M 8s\n",
            "  1750K .......... .......... .......... .......... .......... 12%  160M 8s\n",
            "  1800K .......... .......... .......... .......... .......... 13%  217M 8s\n",
            "  1850K .......... .......... .......... .......... .......... 13%  293M 8s\n",
            "  1900K .......... .......... .......... .......... .......... 13% 21.0M 7s\n",
            "  1950K .......... .......... .......... .......... .......... 14% 44.2M 7s\n",
            "  2000K .......... .......... .......... .......... .......... 14% 54.6M 7s\n",
            "  2050K .......... .......... .......... .......... .......... 14% 20.5M 7s\n",
            "  2100K .......... .......... .......... .......... .......... 15% 52.7M 7s\n",
            "  2150K .......... .......... .......... .......... .......... 15% 45.6M 7s\n",
            "  2200K .......... .......... .......... .......... .......... 16% 27.4M 6s\n",
            "  2250K .......... .......... .......... .......... .......... 16% 28.4M 6s\n",
            "  2300K .......... .......... .......... .......... .......... 16% 52.2M 6s\n",
            "  2350K .......... .......... .......... .......... .......... 17% 33.8M 6s\n",
            "  2400K .......... .......... .......... .......... .......... 17% 45.1M 6s\n",
            "  2450K .......... .......... .......... .......... .......... 17% 28.0M 6s\n",
            "  2500K .......... .......... .......... .......... .......... 18% 43.1M 5s\n",
            "  2550K .......... .......... .......... .......... .......... 18% 27.9M 5s\n",
            "  2600K .......... .......... .......... .......... .......... 18% 40.8M 5s\n",
            "  2650K .......... .......... .......... .......... .......... 19%  299K 6s\n",
            "  2700K .......... .......... .......... .......... .......... 19% 17.9M 6s\n",
            "  2750K .......... .......... .......... .......... .......... 19% 44.2M 6s\n",
            "  2800K .......... .......... .......... .......... .......... 20% 93.2M 5s\n",
            "  2850K .......... .......... .......... .......... .......... 20% 51.6M 5s\n",
            "  2900K .......... .......... .......... .......... .......... 21% 70.8M 5s\n",
            "  2950K .......... .......... .......... .......... .......... 21% 39.5M 5s\n",
            "  3000K .......... .......... .......... .......... .......... 21%  117M 5s\n",
            "  3050K .......... .......... .......... .......... .......... 22%  263M 5s\n",
            "  3100K .......... .......... .......... .......... .......... 22%  238M 5s\n",
            "  3150K .......... .......... .......... .......... .......... 22%  150M 5s\n",
            "  3200K .......... .......... .......... .......... .......... 23% 34.2M 5s\n",
            "  3250K .......... .......... .......... .......... .......... 23% 54.0M 5s\n",
            "  3300K .......... .......... .......... .......... .......... 23% 23.7M 4s\n",
            "  3350K .......... .......... .......... .......... .......... 24% 67.9M 4s\n",
            "  3400K .......... .......... .......... .......... .......... 24% 51.5M 4s\n",
            "  3450K .......... .......... .......... .......... .......... 24% 34.7M 4s\n",
            "  3500K .......... .......... .......... .......... .......... 25% 33.4M 4s\n",
            "  3550K .......... .......... .......... .......... .......... 25% 25.4M 4s\n",
            "  3600K .......... .......... .......... .......... .......... 26% 31.1M 4s\n",
            "  3650K .......... .......... .......... .......... .......... 26% 39.9M 4s\n",
            "  3700K .......... .......... .......... .......... .......... 26% 29.8M 4s\n",
            "  3750K .......... .......... .......... .......... .......... 27% 41.5M 4s\n",
            "  3800K .......... .......... .......... .......... .......... 27% 16.9M 4s\n",
            "  3850K .......... .......... .......... .......... .......... 27% 50.7M 4s\n",
            "  3900K .......... .......... .......... .......... .......... 28% 67.8M 4s\n",
            "  3950K .......... .......... .......... .......... .......... 28% 27.1M 4s\n",
            "  4000K .......... .......... .......... .......... .......... 28% 24.8M 4s\n",
            "  4050K .......... .......... .......... .......... .......... 29% 56.8M 3s\n",
            "  4100K .......... .......... .......... .......... .......... 29% 47.8M 3s\n",
            "  4150K .......... .......... .......... .......... .......... 29% 23.9M 3s\n",
            "  4200K .......... .......... .......... .......... .......... 30% 43.9M 3s\n",
            "  4250K .......... .......... .......... .......... .......... 30% 26.5M 3s\n",
            "  4300K .......... .......... .......... .......... .......... 31% 25.0M 3s\n",
            "  4350K .......... .......... .......... .......... .......... 31% 17.0M 3s\n",
            "  4400K .......... .......... .......... .......... .......... 31% 50.3M 3s\n",
            "  4450K .......... .......... .......... .......... .......... 32%  136M 3s\n",
            "  4500K .......... .......... .......... .......... .......... 32% 20.5M 3s\n",
            "  4550K .......... .......... .......... .......... .......... 32% 42.5M 3s\n",
            "  4600K .......... .......... .......... .......... .......... 33% 41.8M 3s\n",
            "  4650K .......... .......... .......... .......... .......... 33% 39.0M 3s\n",
            "  4700K .......... .......... .......... .......... .......... 33% 38.6M 3s\n",
            "  4750K .......... .......... .......... .......... .......... 34% 25.4M 3s\n",
            "  4800K .......... .......... .......... .......... .......... 34% 28.7M 3s\n",
            "  4850K .......... .......... .......... .......... .......... 34% 23.8M 3s\n",
            "  4900K .......... .......... .......... .......... .......... 35% 49.1M 3s\n",
            "  4950K .......... .......... .......... .......... .......... 35% 27.0M 3s\n",
            "  5000K .......... .......... .......... .......... .......... 36% 37.3M 3s\n",
            "  5050K .......... .......... .......... .......... .......... 36% 67.4M 3s\n",
            "  5100K .......... .......... .......... .......... .......... 36% 31.0M 3s\n",
            "  5150K .......... .......... .......... .......... .......... 37% 27.7M 2s\n",
            "  5200K .......... .......... .......... .......... .......... 37%  375K 3s\n",
            "  5250K .......... .......... .......... .......... .......... 37% 67.8M 3s\n",
            "  5300K .......... .......... .......... .......... .......... 38%  185M 3s\n",
            "  5350K .......... .......... .......... .......... .......... 38%  132M 3s\n",
            "  5400K .......... .......... .......... .......... .......... 38% 51.4M 3s\n",
            "  5450K .......... .......... .......... .......... .......... 39% 56.0M 2s\n",
            "  5500K .......... .......... .......... .......... .......... 39% 33.2M 2s\n",
            "  5550K .......... .......... .......... .......... .......... 39% 31.5M 2s\n",
            "  5600K .......... .......... .......... .......... .......... 40% 35.8M 2s\n",
            "  5650K .......... .......... .......... .......... .......... 40% 58.0M 2s\n",
            "  5700K .......... .......... .......... .......... .......... 41% 51.0M 2s\n",
            "  5750K .......... .......... .......... .......... .......... 41% 67.0M 2s\n",
            "  5800K .......... .......... .......... .......... .......... 41% 53.6M 2s\n",
            "  5850K .......... .......... .......... .......... .......... 42%  172M 2s\n",
            "  5900K .......... .......... .......... .......... .......... 42% 46.4M 2s\n",
            "  5950K .......... .......... .......... .......... .......... 42% 40.6M 2s\n",
            "  6000K .......... .......... .......... .......... .......... 43% 21.1M 2s\n",
            "  6050K .......... .......... .......... .......... .......... 43% 58.6M 2s\n",
            "  6100K .......... .......... .......... .......... .......... 43% 33.9M 2s\n",
            "  6150K .......... .......... .......... .......... .......... 44% 27.9M 2s\n",
            "  6200K .......... .......... .......... .......... .......... 44% 34.1M 2s\n",
            "  6250K .......... .......... .......... .......... .......... 44% 28.0M 2s\n",
            "  6300K .......... .......... .......... .......... .......... 45% 25.6M 2s\n",
            "  6350K .......... .......... .......... .......... .......... 45% 49.6M 2s\n",
            "  6400K .......... .......... .......... .......... .......... 46% 28.3M 2s\n",
            "  6450K .......... .......... .......... .......... .......... 46% 46.8M 2s\n",
            "  6500K .......... .......... .......... .......... .......... 46% 27.4M 2s\n",
            "  6550K .......... .......... .......... .......... .......... 47% 48.3M 2s\n",
            "  6600K .......... .......... .......... .......... .......... 47% 28.0M 2s\n",
            "  6650K .......... .......... .......... .......... .......... 47% 51.1M 2s\n",
            "  6700K .......... .......... .......... .......... .......... 48% 24.2M 2s\n",
            "  6750K .......... .......... .......... .......... .......... 48% 26.2M 2s\n",
            "  6800K .......... .......... .......... .......... .......... 48% 36.3M 2s\n",
            "  6850K .......... .......... .......... .......... .......... 49% 25.8M 2s\n",
            "  6900K .......... .......... .......... .......... .......... 49% 80.1M 2s\n",
            "  6950K .......... .......... .......... .......... .......... 49% 30.8M 2s\n",
            "  7000K .......... .......... .......... .......... .......... 50% 32.4M 2s\n",
            "  7050K .......... .......... .......... .......... .......... 50% 28.8M 2s\n",
            "  7100K .......... .......... .......... .......... .......... 51% 36.1M 2s\n",
            "  7150K .......... .......... .......... .......... .......... 51% 28.6M 2s\n",
            "  7200K .......... .......... .......... .......... .......... 51% 27.4M 2s\n",
            "  7250K .......... .......... .......... .......... .......... 52% 38.0M 2s\n",
            "  7300K .......... .......... .......... .......... .......... 52% 33.3M 1s\n",
            "  7350K .......... .......... .......... .......... .......... 52% 31.8M 1s\n",
            "  7400K .......... .......... .......... .......... .......... 53% 21.0M 1s\n",
            "  7450K .......... .......... .......... .......... .......... 53%  109M 1s\n",
            "  7500K .......... .......... .......... .......... .......... 53% 31.1M 1s\n",
            "  7550K .......... .......... .......... .......... .......... 54% 29.8M 1s\n",
            "  7600K .......... .......... .......... .......... .......... 54% 35.9M 1s\n",
            "  7650K .......... .......... .......... .......... .......... 54% 28.4M 1s\n",
            "  7700K .......... .......... .......... .......... .......... 55% 45.5M 1s\n",
            "  7750K .......... .......... .......... .......... .......... 55% 34.1M 1s\n",
            "  7800K .......... .......... .......... .......... .......... 56% 23.3M 1s\n",
            "  7850K .......... .......... .......... .......... .......... 56% 42.2M 1s\n",
            "  7900K .......... .......... .......... .......... .......... 56% 19.7M 1s\n",
            "  7950K .......... .......... .......... .......... .......... 57% 68.9M 1s\n",
            "  8000K .......... .......... .......... .......... .......... 57% 38.8M 1s\n",
            "  8050K .......... .......... .......... .......... .......... 57% 26.2M 1s\n",
            "  8100K .......... .......... .......... .......... .......... 58% 35.4M 1s\n",
            "  8150K .......... .......... .......... .......... .......... 58% 29.8M 1s\n",
            "  8200K .......... .......... .......... .......... .......... 58% 34.7M 1s\n",
            "  8250K .......... .......... .......... .......... .......... 59% 34.7M 1s\n",
            "  8300K .......... .......... .......... .......... .......... 59% 33.4M 1s\n",
            "  8350K .......... .......... .......... .......... .......... 59% 20.1M 1s\n",
            "  8400K .......... .......... .......... .......... .......... 60%  116M 1s\n",
            "  8450K .......... .......... .......... .......... .......... 60% 26.1M 1s\n",
            "  8500K .......... .......... .......... .......... .......... 61% 34.8M 1s\n",
            "  8550K .......... .......... .......... .......... .......... 61% 25.0M 1s\n",
            "  8600K .......... .......... .......... .......... .......... 61%  411K 1s\n",
            "  8650K .......... .......... .......... .......... .......... 62% 24.9M 1s\n",
            "  8700K .......... .......... .......... .......... .......... 62% 46.6M 1s\n",
            "  8750K .......... .......... .......... .......... .......... 62% 89.6M 1s\n",
            "  8800K .......... .......... .......... .......... .......... 63%  205M 1s\n",
            "  8850K .......... .......... .......... .......... .......... 63%  174M 1s\n",
            "  8900K .......... .......... .......... .......... .......... 63%  213M 1s\n",
            "  8950K .......... .......... .......... .......... .......... 64%  187M 1s\n",
            "  9000K .......... .......... .......... .......... .......... 64% 74.3M 1s\n",
            "  9050K .......... .......... .......... .......... .......... 64% 52.1M 1s\n",
            "  9100K .......... .......... .......... .......... .......... 65% 54.7M 1s\n",
            "  9150K .......... .......... .......... .......... .......... 65% 17.2M 1s\n",
            "  9200K .......... .......... .......... .......... .......... 66% 34.3M 1s\n",
            "  9250K .......... .......... .......... .......... .......... 66% 53.4M 1s\n",
            "  9300K .......... .......... .......... .......... .......... 66% 51.6M 1s\n",
            "  9350K .......... .......... .......... .......... .......... 67% 43.1M 1s\n",
            "  9400K .......... .......... .......... .......... .......... 67% 39.4M 1s\n",
            "  9450K .......... .......... .......... .......... .......... 67% 27.6M 1s\n",
            "  9500K .......... .......... .......... .......... .......... 68% 44.7M 1s\n",
            "  9550K .......... .......... .......... .......... .......... 68% 24.8M 1s\n",
            "  9600K .......... .......... .......... .......... .......... 68% 39.9M 1s\n",
            "  9650K .......... .......... .......... .......... .......... 69% 31.8M 1s\n",
            "  9700K .......... .......... .......... .......... .......... 69% 16.5M 1s\n",
            "  9750K .......... .......... .......... .......... .......... 69% 66.2M 1s\n",
            "  9800K .......... .......... .......... .......... .......... 70%  106M 1s\n",
            "  9850K .......... .......... .......... .......... .......... 70% 25.8M 1s\n",
            "  9900K .......... .......... .......... .......... .......... 71% 24.8M 1s\n",
            "  9950K .......... .......... .......... .......... .......... 71% 38.6M 1s\n",
            " 10000K .......... .......... .......... .......... .......... 71% 35.1M 1s\n",
            " 10050K .......... .......... .......... .......... .......... 72% 36.0M 1s\n",
            " 10100K .......... .......... .......... .......... .......... 72% 5.09M 1s\n",
            " 10150K .......... .......... .......... .......... .......... 72% 76.7M 1s\n",
            " 10200K .......... .......... .......... .......... .......... 73% 52.7M 1s\n",
            " 10250K .......... .......... .......... .......... .......... 73% 39.1M 1s\n",
            " 10300K .......... .......... .......... .......... .......... 73%  141M 1s\n",
            " 10350K .......... .......... .......... .......... .......... 74% 53.7M 1s\n",
            " 10400K .......... .......... .......... .......... .......... 74% 54.8M 1s\n",
            " 10450K .......... .......... .......... .......... .......... 74%  108M 1s\n",
            " 10500K .......... .......... .......... .......... .......... 75%  234M 1s\n",
            " 10550K .......... .......... .......... .......... .......... 75%  238M 1s\n",
            " 10600K .......... .......... .......... .......... .......... 76% 30.3M 1s\n",
            " 10650K .......... .......... .......... .......... .......... 76% 11.9M 1s\n",
            " 10700K .......... .......... .......... .......... .......... 76% 62.9M 1s\n",
            " 10750K .......... .......... .......... .......... .......... 77% 48.3M 1s\n",
            " 10800K .......... .......... .......... .......... .......... 77% 97.5M 1s\n",
            " 10850K .......... .......... .......... .......... .......... 77% 48.2M 1s\n",
            " 10900K .......... .......... .......... .......... .......... 78% 31.3M 1s\n",
            " 10950K .......... .......... .......... .......... .......... 78% 38.3M 1s\n",
            " 11000K .......... .......... .......... .......... .......... 78% 41.3M 0s\n",
            " 11050K .......... .......... .......... .......... .......... 79% 27.9M 0s\n",
            " 11100K .......... .......... .......... .......... .......... 79% 43.2M 0s\n",
            " 11150K .......... .......... .......... .......... .......... 79% 24.2M 0s\n",
            " 11200K .......... .......... .......... .......... .......... 80% 31.4M 0s\n",
            " 11250K .......... .......... .......... .......... .......... 80% 39.2M 0s\n",
            " 11300K .......... .......... .......... .......... .......... 81% 27.9M 0s\n",
            " 11350K .......... .......... .......... .......... .......... 81% 39.8M 0s\n",
            " 11400K .......... .......... .......... .......... .......... 81% 44.1M 0s\n",
            " 11450K .......... .......... .......... .......... .......... 82% 21.8M 0s\n",
            " 11500K .......... .......... .......... .......... .......... 82% 33.3M 0s\n",
            " 11550K .......... .......... .......... .......... .......... 82%  401K 0s\n",
            " 11600K .......... .......... .......... .......... .......... 83% 72.8M 0s\n",
            " 11650K .......... .......... .......... .......... .......... 83%  246M 0s\n",
            " 11700K .......... .......... .......... .......... .......... 83% 65.9M 0s\n",
            " 11750K .......... .......... .......... .......... .......... 84% 44.0M 0s\n",
            " 11800K .......... .......... .......... .......... .......... 84% 81.9M 0s\n",
            " 11850K .......... .......... .......... .......... .......... 84%  217M 0s\n",
            " 11900K .......... .......... .......... .......... .......... 85%  174M 0s\n",
            " 11950K .......... .......... .......... .......... .......... 85%  221M 0s\n",
            " 12000K .......... .......... .......... .......... .......... 86% 24.1M 0s\n",
            " 12050K .......... .......... .......... .......... .......... 86% 58.0M 0s\n",
            " 12100K .......... .......... .......... .......... .......... 86% 56.7M 0s\n",
            " 12150K .......... .......... .......... .......... .......... 87% 22.7M 0s\n",
            " 12200K .......... .......... .......... .......... .......... 87% 52.6M 0s\n",
            " 12250K .......... .......... .......... .......... .......... 87% 50.5M 0s\n",
            " 12300K .......... .......... .......... .......... .......... 88% 28.9M 0s\n",
            " 12350K .......... .......... .......... .......... .......... 88% 31.4M 0s\n",
            " 12400K .......... .......... .......... .......... .......... 88% 31.8M 0s\n",
            " 12450K .......... .......... .......... .......... .......... 89% 32.2M 0s\n",
            " 12500K .......... .......... .......... .......... .......... 89% 38.0M 0s\n",
            " 12550K .......... .......... .......... .......... .......... 89% 44.7M 0s\n",
            " 12600K .......... .......... .......... .......... .......... 90% 16.7M 0s\n",
            " 12650K .......... .......... .......... .......... .......... 90% 73.4M 0s\n",
            " 12700K .......... .......... .......... .......... .......... 91% 35.4M 0s\n",
            " 12750K .......... .......... .......... .......... .......... 91% 27.3M 0s\n",
            " 12800K .......... .......... .......... .......... .......... 91% 28.2M 0s\n",
            " 12850K .......... .......... .......... .......... .......... 92% 42.4M 0s\n",
            " 12900K .......... .......... .......... .......... .......... 92% 40.7M 0s\n",
            " 12950K .......... .......... .......... .......... .......... 92% 26.0M 0s\n",
            " 13000K .......... .......... .......... .......... .......... 93% 32.6M 0s\n",
            " 13050K .......... .......... .......... .......... .......... 93% 37.9M 0s\n",
            " 13100K .......... .......... .......... .......... .......... 93% 29.5M 0s\n",
            " 13150K .......... .......... .......... .......... .......... 94% 5.38M 0s\n",
            " 13200K .......... .......... .......... .......... .......... 94% 51.4M 0s\n",
            " 13250K .......... .......... .......... .......... .......... 94% 54.0M 0s\n",
            " 13300K .......... .......... .......... .......... .......... 95%  166M 0s\n",
            " 13350K .......... .......... .......... .......... .......... 95%  168M 0s\n",
            " 13400K .......... .......... .......... .......... .......... 96%  179M 0s\n",
            " 13450K .......... .......... .......... .......... .......... 96%  241M 0s\n",
            " 13500K .......... .......... .......... .......... .......... 96%  253M 0s\n",
            " 13550K .......... .......... .......... .......... .......... 97% 35.9M 0s\n",
            " 13600K .......... .......... .......... .......... .......... 97% 36.2M 0s\n",
            " 13650K .......... .......... .......... .......... .......... 97% 33.1M 0s\n",
            " 13700K .......... .......... .......... .......... .......... 98% 18.4M 0s\n",
            " 13750K .......... .......... .......... .......... .......... 98% 45.0M 0s\n",
            " 13800K .......... .......... .......... .......... .......... 98% 44.5M 0s\n",
            " 13850K .......... .......... .......... .......... .......... 99% 35.9M 0s\n",
            " 13900K .......... .......... .......... .......... .......... 99% 32.6M 0s\n",
            " 13950K .......... .......... .......... .......... .......... 99% 35.9M 0s\n",
            " 14000K .                                                     100% 3.44T=2.1s\n",
            "\n",
            "2023-11-21 18:41:58 (6.59 MB/s) - ‘gcta-1.94.1-linux-kernel-3-x86_64.zip’ saved [14337891/14337891]\n",
            "\n"
          ]
        }
      ]
    },
    {
      "cell_type": "code",
      "source": [
        "ls gcta-1.94.1-linux-kernel-3-x86_64/"
      ],
      "metadata": {
        "colab": {
          "base_uri": "https://localhost:8080/"
        },
        "id": "3f0KPHUKbmTU",
        "outputId": "c8bf3ae4-89a2-489b-90b0-e79e6dd32d56"
      },
      "execution_count": null,
      "outputs": [
        {
          "output_type": "stream",
          "name": "stdout",
          "text": [
            "\u001b[0m\u001b[01;32mgcta-1.94.1\u001b[0m*  MIT_License.txt  README.txt  test.bed  test.bim  test.fam  test.phen\n"
          ]
        }
      ]
    },
    {
      "cell_type": "markdown",
      "source": [
        "Step 2: Running COJO using command line"
      ],
      "metadata": {
        "id": "GnD5v5maeuUO"
      }
    },
    {
      "cell_type": "code",
      "source": [
        "%%bash\n",
        "mkdir -p ${analysis_dir}/2_COJO/results/\n",
        "\n",
        "./gcta-1.94.1-linux-kernel-3-x86_64/gcta-1.94.1 \\\n",
        "--bfile ${input_dir}/MultiPopulation_FineMapping/2_COJO/data/12_109194870_110794870 \\\n",
        "--cojo-file ${input_dir}/MultiPopulation_FineMapping/2_COJO/data/12_109194870_110794870.ma \\\n",
        "--cojo-slct --cojo-p 5e-08 \\\n",
        "--out ${analysis_dir}/2_COJO/results/AllPopRes"
      ],
      "metadata": {
        "colab": {
          "base_uri": "https://localhost:8080/"
        },
        "id": "avv-PHw_ew3w",
        "outputId": "c5e4b989-4b74-4010-cd86-8d837da87403"
      },
      "execution_count": null,
      "outputs": [
        {
          "output_type": "stream",
          "name": "stdout",
          "text": [
            "*******************************************************************\n",
            "* Genome-wide Complex Trait Analysis (GCTA)\n",
            "* version v1.94.1 Linux\n",
            "* Built at Nov 15 2022 21:14:25, by GCC 8.5\n",
            "* (C) 2010-present, Yang Lab, Westlake University\n",
            "* Please report bugs to Jian Yang <jian.yang@westlake.edu.cn>\n",
            "*******************************************************************\n",
            "Analysis started at 18:41:59 UTC on Tue Nov 21 2023.\n",
            "Hostname: e59b2aff7916\n",
            "\n",
            "Accepted options:\n",
            "--bfile drive/MyDrive/statgen_workshop/data/workshop7//MultiPopulation_FineMapping/2_COJO/data/12_109194870_110794870\n",
            "--cojo-file drive/MyDrive/statgen_workshop/data/workshop7//MultiPopulation_FineMapping/2_COJO/data/12_109194870_110794870.ma\n",
            "--cojo-slct\n",
            "--cojo-p 5e-08\n",
            "--out /content/07_analysis//2_COJO/results/AllPopRes\n",
            "\n",
            "\n",
            "Reading PLINK FAM file from [drive/MyDrive/statgen_workshop/data/workshop7//MultiPopulation_FineMapping/2_COJO/data/12_109194870_110794870.fam].\n",
            "10000 individuals to be included from [drive/MyDrive/statgen_workshop/data/workshop7//MultiPopulation_FineMapping/2_COJO/data/12_109194870_110794870.fam].\n",
            "Reading PLINK BIM file from [drive/MyDrive/statgen_workshop/data/workshop7//MultiPopulation_FineMapping/2_COJO/data/12_109194870_110794870.bim].\n",
            "281 SNPs to be included from [drive/MyDrive/statgen_workshop/data/workshop7//MultiPopulation_FineMapping/2_COJO/data/12_109194870_110794870.bim].\n",
            "Reading PLINK BED file from [drive/MyDrive/statgen_workshop/data/workshop7//MultiPopulation_FineMapping/2_COJO/data/12_109194870_110794870.bed] in SNP-major format ...\n",
            "Genotype data for 10000 individuals and 281 SNPs to be included from [drive/MyDrive/statgen_workshop/data/workshop7//MultiPopulation_FineMapping/2_COJO/data/12_109194870_110794870.bed].\n",
            "\n",
            "Reading GWAS summary-level statistics from [drive/MyDrive/statgen_workshop/data/workshop7//MultiPopulation_FineMapping/2_COJO/data/12_109194870_110794870.ma] ...\n",
            "GWAS summary statistics of 281 SNPs read from [drive/MyDrive/statgen_workshop/data/workshop7//MultiPopulation_FineMapping/2_COJO/data/12_109194870_110794870.ma].\n",
            "Phenotypic variance estimated from summary statistics of all 281 SNPs: 6.44897 (variance of logit for case-control studies).\n",
            "Matching the GWAS meta-analysis results to the genotype data ...\n",
            "Calculating allele frequencies ...\n",
            "Warning: can't match the reference alleles of 4 SNPs to those in the genotype data. These SNPs have been saved in [/content/07_analysis//2_COJO/results/AllPopRes.badsnps].\n",
            "1 SNP(s) have large difference of allele frequency between the GWAS summary data and the reference sample. These SNPs have been saved in [/content/07_analysis//2_COJO/results/AllPopRes.freq.badsnps].\n",
            "276 SNPs are matched to the genotype data.\n",
            "Calculating the variance of SNP genotypes ...\n",
            "\n",
            "Performing stepwise model selection on 276 SNPs to select association signals ... (p cutoff = 5e-08; collinearity cutoff = 0.9)\n",
            "(Assuming complete linkage equilibrium between SNPs which are more than 10Mb away from each other)\n",
            "Finally, 1 associated SNPs are selected.\n",
            "Performing joint analysis on all the 1 selected signals ...\n",
            "Saving the 1 independent signals to [/content/07_analysis//2_COJO/results/AllPopRes.jma.cojo] ...\n",
            "Saving the LD structure of 1 independent signals to [/content/07_analysis//2_COJO/results/AllPopRes.ldr.cojo] ...\n",
            "Saving the conditional analysis results of 275 remaining SNPs to [/content/07_analysis//2_COJO/results/AllPopRes.cma.cojo] ...\n",
            "(0 SNPs eliminated by backward selection and 0 SNPs filtered by collinearity test are not included in the output)\n",
            "\n",
            "Analysis finished at 18:42:02 UTC on Tue Nov 21 2023\n",
            "Overall computational time: 3.29 sec.\n"
          ]
        }
      ]
    },
    {
      "cell_type": "markdown",
      "source": [
        "Read the results in R"
      ],
      "metadata": {
        "id": "88q4v9eyge2B"
      }
    },
    {
      "cell_type": "code",
      "source": [
        "%%R\n",
        "COJO_res <- read.table(glue(analysis_dir, \"2_COJO/results/AllPopRes\", \".jma.cojo\"),\n",
        "                       header = T, sep = '\\t')"
      ],
      "metadata": {
        "colab": {
          "base_uri": "https://localhost:8080/"
        },
        "id": "xZ81iGwTgg1F",
        "outputId": "1f3cc86c-4db6-450d-8982-0f695cf0bd24"
      },
      "execution_count": null,
      "outputs": [
        {
          "output_type": "stream",
          "name": "stderr",
          "text": [
            "WARNING:rpy2.rinterface_lib.callbacks:R[write to console]: Error in glue(analysis_dir, \"2_COJO/results/AllPopRes\", \".jma.cojo\") : \n",
            "  could not find function \"glue\"\n",
            "\n"
          ]
        },
        {
          "output_type": "stream",
          "name": "stdout",
          "text": [
            "\n",
            "Error in glue(analysis_dir, \"2_COJO/results/AllPopRes\", \".jma.cojo\") : \n",
            "  could not find function \"glue\"\n"
          ]
        }
      ]
    },
    {
      "cell_type": "markdown",
      "source": [
        "note that COJO only provides index SNP selection"
      ],
      "metadata": {
        "id": "qDFcAemggrEa"
      }
    },
    {
      "cell_type": "code",
      "source": [
        "%%R\n",
        "COJO_res"
      ],
      "metadata": {
        "colab": {
          "base_uri": "https://localhost:8080/"
        },
        "id": "E1Ju-yujgsal",
        "outputId": "a8c2b0ad-5f83-46d0-ec94-2f41b9f79e96"
      },
      "execution_count": null,
      "outputs": [
        {
          "output_type": "stream",
          "name": "stderr",
          "text": [
            "WARNING:rpy2.rinterface_lib.callbacks:R[write to console]: Error in (function (expr, envir = parent.frame(), enclos = if (is.list(envir) ||  : \n",
            "  object 'COJO_res' not found\n",
            "\n"
          ]
        },
        {
          "output_type": "stream",
          "name": "stdout",
          "text": [
            "\n",
            "Error in (function (expr, envir = parent.frame(), enclos = if (is.list(envir) ||  : \n",
            "  object 'COJO_res' not found\n"
          ]
        }
      ]
    },
    {
      "cell_type": "markdown",
      "source": [
        " plot COJO index SNPs"
      ],
      "metadata": {
        "id": "M8sUTB4dgvuW"
      }
    },
    {
      "cell_type": "code",
      "source": [
        "%%R\n",
        "meta_sumstat %>%\n",
        "  ggplot(aes(x = POS, y = -log10(as.numeric(P.value))))+\n",
        "  geom_point(color = \"grey\")+\n",
        "  geom_point(data = meta_sumstat[meta_sumstat$MarkerName %in% COJO_res$SNP,],\n",
        "             color = 'black')+\n",
        "  geom_point(data = meta_sumstat[meta_sumstat$MarkerName %in% COJO_res$SNP,],\n",
        "             colour=\"red\", shape=1, size=2.5, stroke=1.5)+\n",
        "  geom_text(\n",
        "    data = meta_sumstat[match(COJO_res$SNP, meta_sumstat$MarkerName),],\n",
        "    label= COJO_res$SNP,\n",
        "    nudge_x = 0.25, nudge_y = 0.3, check_overlap = T, size = 2.5\n",
        "  )+\n",
        "  labs(x = \"Position\", y = \"-log10(P.value)\",\n",
        "       title = \"COJO index SNPs\")"
      ],
      "metadata": {
        "colab": {
          "base_uri": "https://localhost:8080/"
        },
        "id": "uO2KDZn6gyM9",
        "outputId": "bf15ad10-31e3-41a6-e04a-6d472d74c290"
      },
      "execution_count": null,
      "outputs": [
        {
          "output_type": "stream",
          "name": "stderr",
          "text": [
            "WARNING:rpy2.rinterface_lib.callbacks:R[write to console]: Error in meta_sumstat %>% ggplot(aes(x = POS, y = -log10(as.numeric(P.value)))) : \n",
            "  could not find function \"%>%\"\n",
            "\n"
          ]
        },
        {
          "output_type": "stream",
          "name": "stdout",
          "text": [
            "\n",
            "Error in meta_sumstat %>% ggplot(aes(x = POS, y = -log10(as.numeric(P.value)))) : \n",
            "  could not find function \"%>%\"\n"
          ]
        }
      ]
    },
    {
      "cell_type": "markdown",
      "source": [
        "## MsCAVIAR"
      ],
      "metadata": {
        "id": "8sn9IVLkMjyt"
      }
    },
    {
      "cell_type": "markdown",
      "source": [
        "Step1: installation: https://github.com/nlapier2/MsCAVIAR"
      ],
      "metadata": {
        "id": "uvRRX8TZifvm"
      }
    },
    {
      "cell_type": "code",
      "source": [
        "%%bash\n",
        "git clone https://github.com/nlapier2/MsCAVIAR.git && cd MsCAVIAR/ && make"
      ],
      "metadata": {
        "colab": {
          "base_uri": "https://localhost:8080/"
        },
        "id": "LTz_IwnAQHul",
        "outputId": "a8991f02-aa6e-4adc-a6e4-30b7e79a1cef"
      },
      "execution_count": null,
      "outputs": [
        {
          "output_type": "stream",
          "name": "stdout",
          "text": [
            "g++ -std=c++11 -fopenmp MsCaviar.cpp MsPostCal.cpp MsUtil.cpp   -I /content/MsCAVIAR/armadillo/include/ -DARMA_DONT_USE_WRAPPER -llapack -lblas -lgslcblas  -lgsl -o MsCAVIAR\n"
          ]
        },
        {
          "output_type": "stream",
          "name": "stderr",
          "text": [
            "Cloning into 'MsCAVIAR'...\n"
          ]
        }
      ]
    },
    {
      "cell_type": "markdown",
      "source": [
        "Step 2: prepare files for MsCAVIAR"
      ],
      "metadata": {
        "id": "2gKSTJ2dilXw"
      }
    },
    {
      "cell_type": "code",
      "source": [
        "%%R\n",
        "msCAVIAR_Dir = glue(input_dir, \"/MultiPopulation_FineMapping/3_msCAVIAR/data/\")\n",
        "msCAVIAR_output_Dir = glue(analysis_dir, \"3_msCAVIAR/results/\")\n",
        "dir.create(msCAVIAR_output_Dir, recursive=TRUE)"
      ],
      "metadata": {
        "colab": {
          "base_uri": "https://localhost:8080/"
        },
        "id": "gZri5ey0RnOc",
        "outputId": "5fb8ac98-ad45-4e67-eb40-41f19edd6f9c"
      },
      "execution_count": null,
      "outputs": [
        {
          "output_type": "stream",
          "name": "stderr",
          "text": [
            "WARNING:rpy2.rinterface_lib.callbacks:R[write to console]: Error in glue(input_dir, \"/MultiPopulation_FineMapping/3_msCAVIAR/data/\") : \n",
            "  could not find function \"glue\"\n",
            "\n"
          ]
        },
        {
          "output_type": "stream",
          "name": "stdout",
          "text": [
            "\n",
            "Error in glue(input_dir, \"/MultiPopulation_FineMapping/3_msCAVIAR/data/\") : \n",
            "  could not find function \"glue\"\n"
          ]
        }
      ]
    },
    {
      "cell_type": "markdown",
      "source": [
        "LD and zscores for each population"
      ],
      "metadata": {
        "id": "Gq94pfaTjeSc"
      }
    },
    {
      "cell_type": "code",
      "source": [
        "%%R\n",
        "all.files = list.files(path = msCAVIAR_Dir)\n",
        "ld.files = all.files[ endsWith(all.files, paste0(\"_LD.txt\")) ]\n",
        "write.table(paste0(msCAVIAR_Dir, ld.files), paste0(msCAVIAR_Dir, \"ld.files.txt\"), quote = F, col.names = F, row.names = F)\n",
        "zscore.files = all.files[ endsWith(all.files, paste0(\"_zscore.txt\")) ]\n",
        "write.table(paste0(msCAVIAR_Dir, zscore.files), paste0(msCAVIAR_Dir, \"zscore.files.txt\"), quote = F,  col.names = F, row.names = F)\n",
        "\n",
        "N_Sample = c(N_GWAS_EUR, N_GWAS_AFR, N_GWAS_HIS, N_GWAS_EAS)"
      ],
      "metadata": {
        "id": "1X81O9HdTERn",
        "colab": {
          "base_uri": "https://localhost:8080/"
        },
        "outputId": "9bf51cfd-c433-4348-f4aa-899c8edefe3e"
      },
      "execution_count": null,
      "outputs": [
        {
          "output_type": "stream",
          "name": "stderr",
          "text": [
            "WARNING:rpy2.rinterface_lib.callbacks:R[write to console]: Error in (function (expr, envir = parent.frame(), enclos = if (is.list(envir) ||  : \n",
            "  object 'msCAVIAR_Dir' not found\n",
            "\n"
          ]
        },
        {
          "output_type": "stream",
          "name": "stdout",
          "text": [
            "\n",
            "Error in (function (expr, envir = parent.frame(), enclos = if (is.list(envir) ||  : \n",
            "  object 'msCAVIAR_Dir' not found\n"
          ]
        }
      ]
    },
    {
      "cell_type": "markdown",
      "source": [
        "Step 3: run MsCAVIAR using command line tool or in R"
      ],
      "metadata": {
        "id": "U8bk38Cbkkd3"
      }
    },
    {
      "cell_type": "code",
      "source": [
        "%%R\n",
        "system(paste0(\"/content/MsCAVIAR//MsCAVIAR -l \",\n",
        "              paste0( msCAVIAR_Dir, \"ld.files.txt\"),\n",
        "              \" -z \", paste0( msCAVIAR_Dir, \"zscore.files.txt\"),\n",
        "              \" -n \", paste(round(N_Sample), collapse = \",\"),\n",
        "              \" -o \", paste0(msCAVIAR_output_Dir, \"output_12_109194870_110794870\"),\n",
        "              \" -c \", 1), intern = T) ## allow max causal = 1"
      ],
      "metadata": {
        "colab": {
          "base_uri": "https://localhost:8080/"
        },
        "id": "X76HMiSjkk4C",
        "outputId": "94d588f4-406d-4fd8-95f4-0c7926bcc5b6"
      },
      "execution_count": null,
      "outputs": [
        {
          "output_type": "stream",
          "name": "stderr",
          "text": [
            "WARNING:rpy2.rinterface_lib.callbacks:R[write to console]: Error in (function (expr, envir = parent.frame(), enclos = if (is.list(envir) ||  : \n",
            "  object 'msCAVIAR_Dir' not found\n",
            "\n"
          ]
        },
        {
          "output_type": "stream",
          "name": "stdout",
          "text": [
            "\n",
            "Error in (function (expr, envir = parent.frame(), enclos = if (is.list(envir) ||  : \n",
            "  object 'msCAVIAR_Dir' not found\n"
          ]
        }
      ]
    },
    {
      "cell_type": "markdown",
      "source": [
        "Step 4: read MsCAVIAR results"
      ],
      "metadata": {
        "id": "lsqdqolJk2ww"
      }
    },
    {
      "cell_type": "code",
      "source": [
        "%%R\n",
        "mscaviar_cs_snps = read.table(paste0(msCAVIAR_output_Dir, \"output_12_109194870_110794870_set.txt\"), sep = \"\\t\", header=F)\n",
        "mscaviar_pip = read.table(paste0(msCAVIAR_output_Dir, \"output_12_109194870_110794870_post.txt\"), sep = \"\\t\", header=T)\n",
        "mscaviar_index = mscaviar_pip %>%\n",
        "  left_join(meta_sumstat[,c(\"MarkerName\", \"MarkerName_old\")], by = c(\"SNP_ID\" = \"MarkerName\")) %>%\n",
        "  arrange(desc(Prob_in_pCausalSet)) %>% head(1) %>% pull(MarkerName_old)"
      ],
      "metadata": {
        "colab": {
          "base_uri": "https://localhost:8080/"
        },
        "id": "WTGzYKNjk3ix",
        "outputId": "6d129c67-5250-4679-fc98-173e8ebd51de"
      },
      "execution_count": null,
      "outputs": [
        {
          "output_type": "stream",
          "name": "stderr",
          "text": [
            "WARNING:rpy2.rinterface_lib.callbacks:R[write to console]: Error in (function (expr, envir = parent.frame(), enclos = if (is.list(envir) ||  : \n",
            "  object 'msCAVIAR_output_Dir' not found\n",
            "\n"
          ]
        },
        {
          "output_type": "stream",
          "name": "stdout",
          "text": [
            "\n",
            "Error in (function (expr, envir = parent.frame(), enclos = if (is.list(envir) ||  : \n",
            "  object 'msCAVIAR_output_Dir' not found\n"
          ]
        }
      ]
    },
    {
      "cell_type": "markdown",
      "source": [
        " Step 5: plot MsCAVIAR results"
      ],
      "metadata": {
        "id": "l0jEhSYXmC53"
      }
    },
    {
      "cell_type": "code",
      "source": [
        "%%R\n",
        "meta_sumstat %>%\n",
        "  ggplot(aes(x = POS, y = -log10(as.numeric(P.value))))+\n",
        "  geom_point(color = \"grey\")+\n",
        "  geom_point(data = filter(meta_sumstat, MarkerName %in% mscaviar_cs_snps$V1) ,\n",
        "             color = \"blue\")+\n",
        "  geom_point(data = filter(meta_sumstat,  MarkerName_old %in% mscaviar_index),\n",
        "             colour=\"red\", shape=1, size=2.5, stroke=1.5)+\n",
        "  geom_label(\n",
        "    data = filter(meta_sumstat,  MarkerName_old %in% mscaviar_index),\n",
        "    label= mscaviar_index,\n",
        "    nudge_x = 0.25, nudge_y = 0.9, size = 4\n",
        "  )+\n",
        "  geom_hline(yintercept = -log10(5e-8), linetype=\"dashed\", color = \"red\")+\n",
        "  labs(x = \"Position\", y = \"-log10(meta P.value)\", title = \"MsCAVIAR index SNPs and credible sets\")"
      ],
      "metadata": {
        "colab": {
          "base_uri": "https://localhost:8080/"
        },
        "id": "ZW8Bzz04mEuU",
        "outputId": "18924ffc-c34e-418f-a722-53810817e691"
      },
      "execution_count": null,
      "outputs": [
        {
          "output_type": "stream",
          "name": "stderr",
          "text": [
            "WARNING:rpy2.rinterface_lib.callbacks:R[write to console]: Error in meta_sumstat %>% ggplot(aes(x = POS, y = -log10(as.numeric(P.value)))) : \n",
            "  could not find function \"%>%\"\n",
            "\n"
          ]
        },
        {
          "output_type": "stream",
          "name": "stdout",
          "text": [
            "\n",
            "Error in meta_sumstat %>% ggplot(aes(x = POS, y = -log10(as.numeric(P.value)))) : \n",
            "  could not find function \"%>%\"\n"
          ]
        }
      ]
    },
    {
      "cell_type": "markdown",
      "source": [
        "# Genomewide PRS"
      ],
      "metadata": {
        "id": "H4Id6JcYmTmX"
      }
    },
    {
      "cell_type": "markdown",
      "source": [
        "## Multi-population GW PRS with PRS-CSx"
      ],
      "metadata": {
        "id": "05P_svsJoKAI"
      }
    },
    {
      "cell_type": "markdown",
      "source": [
        "Step1: PRS-CSx installation https://github.com/getian107/PRScsx\n",
        "\n",
        "Please note that the h5py and scipy libraries might be needed in your own runtime (they are pre-installed in the colab runtime)."
      ],
      "metadata": {
        "id": "NWwJ9k4soPk_"
      }
    },
    {
      "cell_type": "code",
      "source": [
        "%%bash\n",
        "git clone https://github.com/getian107/PRScsx.git\n"
      ],
      "metadata": {
        "colab": {
          "base_uri": "https://localhost:8080/"
        },
        "id": "-mp5QgjpogDw",
        "outputId": "b6d605cb-5a19-408e-e6ce-950dc920345e"
      },
      "execution_count": null,
      "outputs": [
        {
          "output_type": "stream",
          "name": "stderr",
          "text": [
            "Cloning into 'PRScsx'...\n"
          ]
        }
      ]
    },
    {
      "cell_type": "markdown",
      "source": [
        "Step2: take a look at population-specific PCa summary statistics on chr22"
      ],
      "metadata": {
        "id": "mnAQnGMxpAqB"
      }
    },
    {
      "cell_type": "code",
      "source": [
        "%%R -i input_dir -i analysis_dir\n",
        "library(glue)\n",
        "library(tidyverse)\n",
        "sumstat_EUR <- read.table(glue(input_dir, \"Genomewide_PRS/data/summaryStats_hm3_chr22.EUR.txt\"), header = T)\n",
        "head(sumstat_EUR)"
      ],
      "metadata": {
        "colab": {
          "base_uri": "https://localhost:8080/"
        },
        "id": "E2LX4UynpDPn",
        "outputId": "12c68aaa-7294-46a0-d274-c25024009c03"
      },
      "execution_count": null,
      "outputs": [
        {
          "output_type": "stream",
          "name": "stdout",
          "text": [
            "── Attaching core tidyverse packages ──────────────────────── tidyverse 2.0.0 ──\n",
            "✔ dplyr     1.1.3     ✔ readr     2.1.4\n",
            "✔ forcats   1.0.0     ✔ stringr   1.5.0\n",
            "✔ ggplot2   3.4.4     ✔ tibble    3.2.1\n",
            "✔ lubridate 1.9.3     ✔ tidyr     1.3.0\n",
            "✔ purrr     1.0.2     \n",
            "── Conflicts ────────────────────────────────────────── tidyverse_conflicts() ──\n",
            "✖ dplyr::filter() masks stats::filter()\n",
            "✖ dplyr::lag()    masks stats::lag()\n",
            "ℹ Use the conflicted package (<http://conflicted.r-lib.org/>) to force all conflicts to become errors\n",
            "         SNP A1 A2    BETA      P\n",
            "1  rs2027653  T  C -0.0087 0.3773\n",
            "2  rs9605927  T  C  0.0124 0.5208\n",
            "3 rs16984366  T  C -0.0006 0.9376\n",
            "4  rs4390844  T  C  0.0016 0.8468\n",
            "5  rs2072466  T  C  0.0010 0.8936\n",
            "6   rs175138  A  G -0.0120 0.0325\n"
          ]
        }
      ]
    },
    {
      "cell_type": "markdown",
      "source": [
        "Step3: Run PRS-CSx script using command line - this step takes more than an hour to run on the free version of colab. So we provide the commented out code here but will be using pre-run results for the rest of the tutorial"
      ],
      "metadata": {
        "id": "_7GFqVq2pnS6"
      }
    },
    {
      "cell_type": "code",
      "source": [
        "%%bash\n",
        "# mkdir -p ${analysis_dir}/Genomewide_PRS/results/\n",
        "\n",
        "# python /content/PRScsx/PRScsx.py \\\n",
        "#  --ref_dir=${input_dir}/Genomewide_PRS/ldRefPanel/ \\\n",
        "#  --bim_prefix=${input_dir}/Genomewide_PRS/data/H3.hm3.chr22.rsid \\\n",
        "#  --sst_file=${input_dir}/Genomewide_PRS/data/summaryStats_hm3_chr22.AFR.txt,${input_dir}/Genomewide_PRS/data/summaryStats_hm3_chr22.EUR.txt,${input_dir}/Genomewide_PRS/data/summaryStats_hm3_chr22.EAS.txt,${input_dir}/Genomewide_PRS/data/summaryStats_hm3_chr22.HIS.txt \\\n",
        "#  --n_gwas=58995,406587,38851,13686 \\\n",
        "#  --pop=AFR,EUR,EAS,AMR \\\n",
        "#  --meta=TRUE \\\n",
        "#  --chrom=22 \\\n",
        "#  --out_dir=${analysis_dir}/Genomewide_PRS/results/ \\\n",
        "#  --out_name=test_chr22"
      ],
      "metadata": {
        "id": "PfhohljippZ_"
      },
      "execution_count": null,
      "outputs": []
    },
    {
      "cell_type": "markdown",
      "source": [
        "Step4: read results\n",
        "Note that we are reading in the pre-generated results here, please change the file path if you have run the PRS-CSx script"
      ],
      "metadata": {
        "id": "6sUCuUfq2nHc"
      }
    },
    {
      "cell_type": "code",
      "source": [
        "%%R\n",
        "prscsx_res <- read.table(glue(input_dir, \"Genomewide_PRS/results/test_chr22_META_pst_eff_a1_b0.5_phiauto_chr22.txt\"), header = F)\n",
        "colnames(prscsx_res) <- c(\"chr\", \"rsid\", \"pos\", \"effect.allele\", \"other.allele\", \"prscsx_weight\")\n",
        "head(prscsx_res)"
      ],
      "metadata": {
        "colab": {
          "base_uri": "https://localhost:8080/"
        },
        "id": "dqlhbOXY2trd",
        "outputId": "87149f88-4945-4da5-9d2b-b06d2bba84a7"
      },
      "execution_count": null,
      "outputs": [
        {
          "output_type": "stream",
          "name": "stdout",
          "text": [
            "  chr      rsid      pos effect.allele other.allele prscsx_weight\n",
            "1  22 rs2186521 16498387             T            C  1.518902e-05\n",
            "2  22 rs4911642 16504399             T            C -1.348063e-05\n",
            "3  22 rs7287144 16886873             G            A  2.609310e-05\n",
            "4  22 rs5748662 16892858             A            G  9.982220e-06\n",
            "5  22 rs2027653 16918335             C            T  2.063079e-05\n",
            "6  22 rs2379965 17023514             C            T -3.126292e-06\n"
          ]
        }
      ]
    },
    {
      "cell_type": "markdown",
      "source": [
        "Step5: visualize weights before vs after PRS-CSx"
      ],
      "metadata": {
        "id": "Ydr43n4z3Mxa"
      }
    },
    {
      "cell_type": "code",
      "source": [
        "%%R\n",
        "meta_sumstat_chr22 <- read.table(glue(input_dir,\"Genomewide_PRS/data/meta_summaryStats_hm3_chr22.txt\"), header = T)\n",
        "\n",
        "meta_sumstat_chr22 %>%\n",
        "  left_join(prscsx_res, by = c(\"chr\",\"pos\",\"rsid\")) %>%\n",
        "  mutate(flip_prscsx_weight = (Allele1 == other.allele),\n",
        "         prscsx_weight_flipped = ifelse(flip_prscsx_weight, (-1)*prscsx_weight, prscsx_weight)) %>%\n",
        "  ggplot(aes(x = pos))+\n",
        "  geom_point(aes(y = abs(Effect)), alpha = 0.5, size=1, color = \"grey\")+\n",
        "  geom_point(aes(y = abs(prscsx_weight_flipped)), alpha = 0.5, size=1, color = \"blue\")+\n",
        "  labs(title = \"PRS-CSx weights (blue) vs Marginal effect sizes (grey)\",\n",
        "       y = \"weight\", x = \"position on chr22\")"
      ],
      "metadata": {
        "colab": {
          "base_uri": "https://localhost:8080/",
          "height": 497
        },
        "id": "BNgvcwVR3O6p",
        "outputId": "e923e515-062d-4cc2-8aeb-d70d9621bc22"
      },
      "execution_count": null,
      "outputs": [
        {
          "output_type": "display_data",
          "data": {
            "image/png": "[encoded data removed]"
          },
          "metadata": {}
        }
      ]
    },
    {
      "cell_type": "markdown",
      "source": [
        "# PRS Evaluation"
      ],
      "metadata": {
        "id": "pS4uapAW3bIz"
      }
    },
    {
      "cell_type": "markdown",
      "source": [
        " ### Import Libraries"
      ],
      "metadata": {
        "id": "1i5r5vjS3lHZ"
      }
    },
    {
      "cell_type": "markdown",
      "source": [
        "Install pROC"
      ],
      "metadata": {
        "id": "uRzS1BEIISEL"
      }
    },
    {
      "cell_type": "code",
      "source": [
        "%%R\n",
        "install.packages(\"pROC\")"
      ],
      "metadata": {
        "colab": {
          "base_uri": "https://localhost:8080/"
        },
        "id": "k3GYVaunIDH7",
        "outputId": "8182462d-8533-475f-ed32-63375f8ac6a9"
      },
      "execution_count": null,
      "outputs": [
        {
          "output_type": "stream",
          "name": "stderr",
          "text": [
            "WARNING:rpy2.rinterface_lib.callbacks:R[write to console]: Installing package into ‘/usr/local/lib/R/site-library’\n",
            "(as ‘lib’ is unspecified)\n",
            "\n",
            "WARNING:rpy2.rinterface_lib.callbacks:R[write to console]: also installing the dependencies ‘plyr’, ‘Rcpp’\n",
            "\n",
            "\n",
            "WARNING:rpy2.rinterface_lib.callbacks:R[write to console]: trying URL 'https://cran.rstudio.com/src/contrib/plyr_1.8.9.tar.gz'\n",
            "\n",
            "WARNING:rpy2.rinterface_lib.callbacks:R[write to console]: Content type 'application/x-gzip'\n",
            "WARNING:rpy2.rinterface_lib.callbacks:R[write to console]:  length 401488 bytes (392 KB)\n",
            "\n",
            "WARNING:rpy2.rinterface_lib.callbacks:R[write to console]: =\n",
            "WARNING:rpy2.rinterface_lib.callbacks:R[write to console]: =\n",
            "WARNING:rpy2.rinterface_lib.callbacks:R[write to console]: =\n",
            "WARNING:rpy2.rinterface_lib.callbacks:R[write to console]: =\n",
            "WARNING:rpy2.rinterface_lib.callbacks:R[write to console]: =\n",
            "WARNING:rpy2.rinterface_lib.callbacks:R[write to console]: =\n",
            "WARNING:rpy2.rinterface_lib.callbacks:R[write to console]: =\n",
            "WARNING:rpy2.rinterface_lib.callbacks:R[write to console]: =\n",
            "WARNING:rpy2.rinterface_lib.callbacks:R[write to console]: =\n",
            "WARNING:rpy2.rinterface_lib.callbacks:R[write to console]: =\n",
            "WARNING:rpy2.rinterface_lib.callbacks:R[write to console]: =\n",
            "WARNING:rpy2.rinterface_lib.callbacks:R[write to console]: =\n",
            "WARNING:rpy2.rinterface_lib.callbacks:R[write to console]: =\n",
            "WARNING:rpy2.rinterface_lib.callbacks:R[write to console]: =\n",
            "WARNING:rpy2.rinterface_lib.callbacks:R[write to console]: =\n",
            "WARNING:rpy2.rinterface_lib.callbacks:R[write to console]: =\n",
            "WARNING:rpy2.rinterface_lib.callbacks:R[write to console]: =\n",
            "WARNING:rpy2.rinterface_lib.callbacks:R[write to console]: =\n",
            "WARNING:rpy2.rinterface_lib.callbacks:R[write to console]: =\n",
            "WARNING:rpy2.rinterface_lib.callbacks:R[write to console]: =\n",
            "WARNING:rpy2.rinterface_lib.callbacks:R[write to console]: =\n",
            "WARNING:rpy2.rinterface_lib.callbacks:R[write to console]: =\n",
            "WARNING:rpy2.rinterface_lib.callbacks:R[write to console]: =\n",
            "WARNING:rpy2.rinterface_lib.callbacks:R[write to console]: =\n",
            "WARNING:rpy2.rinterface_lib.callbacks:R[write to console]: =\n",
            "WARNING:rpy2.rinterface_lib.callbacks:R[write to console]: =\n",
            "WARNING:rpy2.rinterface_lib.callbacks:R[write to console]: =\n",
            "WARNING:rpy2.rinterface_lib.callbacks:R[write to console]: =\n",
            "WARNING:rpy2.rinterface_lib.callbacks:R[write to console]: =\n",
            "WARNING:rpy2.rinterface_lib.callbacks:R[write to console]: =\n",
            "WARNING:rpy2.rinterface_lib.callbacks:R[write to console]: =\n",
            "WARNING:rpy2.rinterface_lib.callbacks:R[write to console]: =\n",
            "WARNING:rpy2.rinterface_lib.callbacks:R[write to console]: =\n",
            "WARNING:rpy2.rinterface_lib.callbacks:R[write to console]: =\n",
            "WARNING:rpy2.rinterface_lib.callbacks:R[write to console]: =\n",
            "WARNING:rpy2.rinterface_lib.callbacks:R[write to console]: =\n",
            "WARNING:rpy2.rinterface_lib.callbacks:R[write to console]: =\n",
            "WARNING:rpy2.rinterface_lib.callbacks:R[write to console]: =\n",
            "WARNING:rpy2.rinterface_lib.callbacks:R[write to console]: =\n",
            "WARNING:rpy2.rinterface_lib.callbacks:R[write to console]: =\n",
            "WARNING:rpy2.rinterface_lib.callbacks:R[write to console]: =\n",
            "WARNING:rpy2.rinterface_lib.callbacks:R[write to console]: =\n",
            "WARNING:rpy2.rinterface_lib.callbacks:R[write to console]: =\n",
            "WARNING:rpy2.rinterface_lib.callbacks:R[write to console]: =\n",
            "WARNING:rpy2.rinterface_lib.callbacks:R[write to console]: =\n",
            "WARNING:rpy2.rinterface_lib.callbacks:R[write to console]: =\n",
            "WARNING:rpy2.rinterface_lib.callbacks:R[write to console]: =\n",
            "WARNING:rpy2.rinterface_lib.callbacks:R[write to console]: =\n",
            "WARNING:rpy2.rinterface_lib.callbacks:R[write to console]: =\n",
            "WARNING:rpy2.rinterface_lib.callbacks:R[write to console]: =\n",
            "WARNING:rpy2.rinterface_lib.callbacks:R[write to console]: \n",
            "\n",
            "WARNING:rpy2.rinterface_lib.callbacks:R[write to console]: downloaded 392 KB\n",
            "\n",
            "\n",
            "WARNING:rpy2.rinterface_lib.callbacks:R[write to console]: trying URL 'https://cran.rstudio.com/src/contrib/Rcpp_1.0.11.tar.gz'\n",
            "\n",
            "WARNING:rpy2.rinterface_lib.callbacks:R[write to console]: Content type 'application/x-gzip'\n",
            "WARNING:rpy2.rinterface_lib.callbacks:R[write to console]:  length 2994004 bytes (2.9 MB)\n",
            "\n",
            "WARNING:rpy2.rinterface_lib.callbacks:R[write to console]: =\n",
            "WARNING:rpy2.rinterface_lib.callbacks:R[write to console]: =\n",
            "WARNING:rpy2.rinterface_lib.callbacks:R[write to console]: =\n",
            "WARNING:rpy2.rinterface_lib.callbacks:R[write to console]: =\n",
            "WARNING:rpy2.rinterface_lib.callbacks:R[write to console]: =\n",
            "WARNING:rpy2.rinterface_lib.callbacks:R[write to console]: =\n",
            "WARNING:rpy2.rinterface_lib.callbacks:R[write to console]: =\n",
            "WARNING:rpy2.rinterface_lib.callbacks:R[write to console]: =\n",
            "WARNING:rpy2.rinterface_lib.callbacks:R[write to console]: =\n",
            "WARNING:rpy2.rinterface_lib.callbacks:R[write to console]: =\n",
            "WARNING:rpy2.rinterface_lib.callbacks:R[write to console]: =\n",
            "WARNING:rpy2.rinterface_lib.callbacks:R[write to console]: =\n",
            "WARNING:rpy2.rinterface_lib.callbacks:R[write to console]: =\n",
            "WARNING:rpy2.rinterface_lib.callbacks:R[write to console]: =\n",
            "WARNING:rpy2.rinterface_lib.callbacks:R[write to console]: =\n",
            "WARNING:rpy2.rinterface_lib.callbacks:R[write to console]: =\n",
            "WARNING:rpy2.rinterface_lib.callbacks:R[write to console]: =\n",
            "WARNING:rpy2.rinterface_lib.callbacks:R[write to console]: =\n",
            "WARNING:rpy2.rinterface_lib.callbacks:R[write to console]: =\n",
            "WARNING:rpy2.rinterface_lib.callbacks:R[write to console]: =\n",
            "WARNING:rpy2.rinterface_lib.callbacks:R[write to console]: =\n",
            "WARNING:rpy2.rinterface_lib.callbacks:R[write to console]: =\n",
            "WARNING:rpy2.rinterface_lib.callbacks:R[write to console]: =\n",
            "WARNING:rpy2.rinterface_lib.callbacks:R[write to console]: =\n",
            "WARNING:rpy2.rinterface_lib.callbacks:R[write to console]: =\n",
            "WARNING:rpy2.rinterface_lib.callbacks:R[write to console]: =\n",
            "WARNING:rpy2.rinterface_lib.callbacks:R[write to console]: =\n",
            "WARNING:rpy2.rinterface_lib.callbacks:R[write to console]: =\n",
            "WARNING:rpy2.rinterface_lib.callbacks:R[write to console]: =\n",
            "WARNING:rpy2.rinterface_lib.callbacks:R[write to console]: =\n",
            "WARNING:rpy2.rinterface_lib.callbacks:R[write to console]: =\n",
            "WARNING:rpy2.rinterface_lib.callbacks:R[write to console]: =\n",
            "WARNING:rpy2.rinterface_lib.callbacks:R[write to console]: =\n",
            "WARNING:rpy2.rinterface_lib.callbacks:R[write to console]: =\n",
            "WARNING:rpy2.rinterface_lib.callbacks:R[write to console]: =\n",
            "WARNING:rpy2.rinterface_lib.callbacks:R[write to console]: =\n",
            "WARNING:rpy2.rinterface_lib.callbacks:R[write to console]: =\n",
            "WARNING:rpy2.rinterface_lib.callbacks:R[write to console]: =\n",
            "WARNING:rpy2.rinterface_lib.callbacks:R[write to console]: =\n",
            "WARNING:rpy2.rinterface_lib.callbacks:R[write to console]: =\n",
            "WARNING:rpy2.rinterface_lib.callbacks:R[write to console]: =\n",
            "WARNING:rpy2.rinterface_lib.callbacks:R[write to console]: =\n",
            "WARNING:rpy2.rinterface_lib.callbacks:R[write to console]: =\n",
            "WARNING:rpy2.rinterface_lib.callbacks:R[write to console]: =\n",
            "WARNING:rpy2.rinterface_lib.callbacks:R[write to console]: =\n",
            "WARNING:rpy2.rinterface_lib.callbacks:R[write to console]: =\n",
            "WARNING:rpy2.rinterface_lib.callbacks:R[write to console]: =\n",
            "WARNING:rpy2.rinterface_lib.callbacks:R[write to console]: =\n",
            "WARNING:rpy2.rinterface_lib.callbacks:R[write to console]: =\n",
            "WARNING:rpy2.rinterface_lib.callbacks:R[write to console]: =\n",
            "WARNING:rpy2.rinterface_lib.callbacks:R[write to console]: \n",
            "\n",
            "WARNING:rpy2.rinterface_lib.callbacks:R[write to console]: downloaded 2.9 MB\n",
            "\n",
            "\n",
            "WARNING:rpy2.rinterface_lib.callbacks:R[write to console]: trying URL 'https://cran.rstudio.com/src/contrib/pROC_1.18.5.tar.gz'\n",
            "\n",
            "WARNING:rpy2.rinterface_lib.callbacks:R[write to console]: Content type 'application/x-gzip'\n",
            "WARNING:rpy2.rinterface_lib.callbacks:R[write to console]:  length 696162 bytes (679 KB)\n",
            "\n",
            "WARNING:rpy2.rinterface_lib.callbacks:R[write to console]: =\n",
            "WARNING:rpy2.rinterface_lib.callbacks:R[write to console]: =\n",
            "WARNING:rpy2.rinterface_lib.callbacks:R[write to console]: =\n",
            "WARNING:rpy2.rinterface_lib.callbacks:R[write to console]: =\n",
            "WARNING:rpy2.rinterface_lib.callbacks:R[write to console]: =\n",
            "WARNING:rpy2.rinterface_lib.callbacks:R[write to console]: =\n",
            "WARNING:rpy2.rinterface_lib.callbacks:R[write to console]: =\n",
            "WARNING:rpy2.rinterface_lib.callbacks:R[write to console]: =\n",
            "WARNING:rpy2.rinterface_lib.callbacks:R[write to console]: =\n",
            "WARNING:rpy2.rinterface_lib.callbacks:R[write to console]: =\n",
            "WARNING:rpy2.rinterface_lib.callbacks:R[write to console]: =\n",
            "WARNING:rpy2.rinterface_lib.callbacks:R[write to console]: =\n",
            "WARNING:rpy2.rinterface_lib.callbacks:R[write to console]: =\n",
            "WARNING:rpy2.rinterface_lib.callbacks:R[write to console]: =\n",
            "WARNING:rpy2.rinterface_lib.callbacks:R[write to console]: =\n",
            "WARNING:rpy2.rinterface_lib.callbacks:R[write to console]: =\n",
            "WARNING:rpy2.rinterface_lib.callbacks:R[write to console]: =\n",
            "WARNING:rpy2.rinterface_lib.callbacks:R[write to console]: =\n",
            "WARNING:rpy2.rinterface_lib.callbacks:R[write to console]: =\n",
            "WARNING:rpy2.rinterface_lib.callbacks:R[write to console]: =\n",
            "WARNING:rpy2.rinterface_lib.callbacks:R[write to console]: =\n",
            "WARNING:rpy2.rinterface_lib.callbacks:R[write to console]: =\n",
            "WARNING:rpy2.rinterface_lib.callbacks:R[write to console]: =\n",
            "WARNING:rpy2.rinterface_lib.callbacks:R[write to console]: =\n",
            "WARNING:rpy2.rinterface_lib.callbacks:R[write to console]: =\n",
            "WARNING:rpy2.rinterface_lib.callbacks:R[write to console]: =\n",
            "WARNING:rpy2.rinterface_lib.callbacks:R[write to console]: =\n",
            "WARNING:rpy2.rinterface_lib.callbacks:R[write to console]: =\n",
            "WARNING:rpy2.rinterface_lib.callbacks:R[write to console]: =\n",
            "WARNING:rpy2.rinterface_lib.callbacks:R[write to console]: =\n",
            "WARNING:rpy2.rinterface_lib.callbacks:R[write to console]: =\n",
            "WARNING:rpy2.rinterface_lib.callbacks:R[write to console]: =\n",
            "WARNING:rpy2.rinterface_lib.callbacks:R[write to console]: =\n",
            "WARNING:rpy2.rinterface_lib.callbacks:R[write to console]: =\n",
            "WARNING:rpy2.rinterface_lib.callbacks:R[write to console]: =\n",
            "WARNING:rpy2.rinterface_lib.callbacks:R[write to console]: =\n",
            "WARNING:rpy2.rinterface_lib.callbacks:R[write to console]: =\n",
            "WARNING:rpy2.rinterface_lib.callbacks:R[write to console]: =\n",
            "WARNING:rpy2.rinterface_lib.callbacks:R[write to console]: =\n",
            "WARNING:rpy2.rinterface_lib.callbacks:R[write to console]: =\n",
            "WARNING:rpy2.rinterface_lib.callbacks:R[write to console]: =\n",
            "WARNING:rpy2.rinterface_lib.callbacks:R[write to console]: =\n",
            "WARNING:rpy2.rinterface_lib.callbacks:R[write to console]: =\n",
            "WARNING:rpy2.rinterface_lib.callbacks:R[write to console]: =\n",
            "WARNING:rpy2.rinterface_lib.callbacks:R[write to console]: =\n",
            "WARNING:rpy2.rinterface_lib.callbacks:R[write to console]: =\n",
            "WARNING:rpy2.rinterface_lib.callbacks:R[write to console]: =\n",
            "WARNING:rpy2.rinterface_lib.callbacks:R[write to console]: =\n",
            "WARNING:rpy2.rinterface_lib.callbacks:R[write to console]: =\n",
            "WARNING:rpy2.rinterface_lib.callbacks:R[write to console]: =\n",
            "WARNING:rpy2.rinterface_lib.callbacks:R[write to console]: \n",
            "\n",
            "WARNING:rpy2.rinterface_lib.callbacks:R[write to console]: downloaded 679 KB\n",
            "\n",
            "\n",
            "WARNING:rpy2.rinterface_lib.callbacks:R[write to console]: \n",
            "\n",
            "WARNING:rpy2.rinterface_lib.callbacks:R[write to console]: \n",
            "WARNING:rpy2.rinterface_lib.callbacks:R[write to console]: The downloaded source packages are in\n",
            "\t‘/tmp/Rtmpuq21h4/downloaded_packages’\n",
            "WARNING:rpy2.rinterface_lib.callbacks:R[write to console]: \n",
            "WARNING:rpy2.rinterface_lib.callbacks:R[write to console]: \n",
            "\n"
          ]
        }
      ]
    },
    {
      "cell_type": "code",
      "source": [
        "%%R -i analysis_dir -i input_dir\n",
        "library(dplyr)\n",
        "library(ggplot2)\n",
        "library(tidyr)\n",
        "library(purrr) # purrr function\n",
        "library(pROC) # roc for glm models\n",
        "library(stringr)"
      ],
      "metadata": {
        "colab": {
          "base_uri": "https://localhost:8080/"
        },
        "id": "RvU5-1Lo3jBS",
        "outputId": "059037c5-7005-4b27-9ab5-c58f2dce51e3"
      },
      "execution_count": null,
      "outputs": [
        {
          "output_type": "stream",
          "name": "stderr",
          "text": [
            "WARNING:rpy2.rinterface_lib.callbacks:R[write to console]: Type 'citation(\"pROC\")' for a citation.\n",
            "\n",
            "WARNING:rpy2.rinterface_lib.callbacks:R[write to console]: \n",
            "Attaching package: ‘pROC’\n",
            "\n",
            "\n",
            "WARNING:rpy2.rinterface_lib.callbacks:R[write to console]: The following objects are masked from ‘package:stats’:\n",
            "\n",
            "    cov, smooth, var\n",
            "\n",
            "\n"
          ]
        }
      ]
    },
    {
      "cell_type": "markdown",
      "source": [
        "### Define Global Vars"
      ],
      "metadata": {
        "id": "TBPKb9BFC2Hc"
      }
    },
    {
      "cell_type": "code",
      "source": [
        "%%R\n",
        "data.loc = glue(input_dir, \"PRS_Evaluation/\")\n",
        "data.loc"
      ],
      "metadata": {
        "colab": {
          "base_uri": "https://localhost:8080/"
        },
        "id": "fGMQBKuTC2rC",
        "outputId": "160c7d52-aede-4bcb-af34-ab4bdbff5ad9"
      },
      "execution_count": null,
      "outputs": [
        {
          "output_type": "stream",
          "name": "stdout",
          "text": [
            "drive/MyDrive/statgen_workshop/data/workshop7/PRS_Evaluation/\n",
            "FALSE\n"
          ]
        }
      ]
    },
    {
      "cell_type": "markdown",
      "source": [
        "### Define Functions"
      ],
      "metadata": {
        "id": "7delVRjxC8Fe"
      }
    },
    {
      "cell_type": "code",
      "source": [
        "%%R\n",
        "\n",
        "# pull the weights needed for the PRS calculation for each variant from meta-data (pull info for dosage)\n",
        "row_pull = function(in.chr, in.pos, in.ref, in.alt, wt.df.name){\n",
        "  wt.df = get(wt.df.name)\n",
        "\n",
        "    wt.df[wt.df$chr == in.chr & wt.df$pos == in.pos &\n",
        "            ((wt.df$effect_allele == in.ref & wt.df$other_allele == in.alt) |\n",
        "               (wt.df$other_allele == in.ref & wt.df$effect_allele == in.alt)), ]\n",
        "}\n",
        "\n",
        "# flip dosages in dosage file to reflect added risk\n",
        "correct_dosage = function(in.dosage){\n",
        "  chrpos.tmp = cur_column()\n",
        "  # compare risk allele against alt and flip if mismatch (check what alt refers to: )\n",
        "  if (meta.data.wts[meta.data.wts$chr_pos_alt_ref == chrpos.tmp, \"wt_flip\"][[1]] == 1){\n",
        "    abs(in.dosage-2)\n",
        "  } else {\n",
        "    in.dosage\n",
        "  }\n",
        "}"
      ],
      "metadata": {
        "id": "-Y8Oi0qyC8q-"
      },
      "execution_count": null,
      "outputs": []
    },
    {
      "cell_type": "markdown",
      "source": [
        "### Import Data"
      ],
      "metadata": {
        "id": "M3hQqQq1C_1Z"
      }
    },
    {
      "cell_type": "code",
      "source": [
        "%%R\n",
        "\n",
        "dta.pc.dosage =\n",
        "  glue(data.loc, \"dta_PC_PRS_dosage.rds\") %>%\n",
        "  readRDS()\n",
        "\n",
        "dta.meta.data =\n",
        "  glue(data.loc, \"dta.PC.MetaData.rds\") %>%\n",
        "  readRDS()\n",
        "\n",
        "# remove effect_weight_new\n",
        "PRS.weights.data =\n",
        "  glue(data.loc, \"PRS.weights.rds\") %>%\n",
        "  readRDS()"
      ],
      "metadata": {
        "id": "CieimswNDDiH"
      },
      "execution_count": null,
      "outputs": []
    },
    {
      "cell_type": "markdown",
      "source": [
        "look at all the data to get an idea of what it is"
      ],
      "metadata": {
        "id": "KpfT9LmEDIPc"
      }
    },
    {
      "cell_type": "code",
      "source": [
        "%%R\n",
        "dta.pc.dosage[1:10,1:30] %>% as.data.frame()"
      ],
      "metadata": {
        "colab": {
          "base_uri": "https://localhost:8080/"
        },
        "id": "gDvffaEQDI0N",
        "outputId": "09771a46-c6d2-4725-cad0-7ad95896c5d4"
      },
      "execution_count": null,
      "outputs": [
        {
          "output_type": "stream",
          "name": "stdout",
          "text": [
            "   id          V1           V2           V3           V4           V5\n",
            "1   1 0.006239795  0.000115783  0.000814226 -0.000050300 -0.000803027\n",
            "2   2 0.002319277 -0.002333773  0.002061308 -0.000357685 -0.001327950\n",
            "3   3 0.008843116  0.001849257 -0.000303652  0.000036600 -0.000589372\n",
            "4   4 0.004513058 -0.000167595 -0.000188342 -0.000810472 -0.001020396\n",
            "5   5 0.008061663  0.001621103 -0.000071100 -0.000290521 -0.000286320\n",
            "6   6 0.006965986  0.000709415 -0.000004210  0.000443168 -0.001213145\n",
            "7   7 0.006276979  0.000295608  0.001270645  0.000065200  0.000071700\n",
            "8   8 0.007979909  0.001358208 -0.000018100  0.000329236  0.000277050\n",
            "9   9 0.008983604  0.002123540 -0.000375604  0.000471425 -0.000864223\n",
            "10 10 0.007819441  0.001783264 -0.000693010  0.000893417 -0.000256052\n",
            "             V6           V7           V8           V9          V10\n",
            "1   0.000726694  0.001693085 -0.001162986 -0.006698213  0.003435046\n",
            "2   0.001823430  0.001023044 -0.002268107  0.002485728  0.000706895\n",
            "3   0.001309735  0.002100055 -0.003373912 -0.001114537  0.001677220\n",
            "4   0.002650388  0.000035200 -0.002164795 -0.008576890  0.010533308\n",
            "5   0.000030100  0.002422020 -0.002697666  0.001160807 -0.008457268\n",
            "6   0.002656762  0.003119264  0.001224335  0.000280730  0.001432409\n",
            "7   0.001518737  0.000133002 -0.003761376  0.002607955  0.003306574\n",
            "8   0.001005461  0.000265544 -0.005386604 -0.004373185  0.002913009\n",
            "9  -0.001499313 -0.003171636 -0.002818947 -0.002174860  0.001570469\n",
            "10  0.003103769  0.001472263 -0.010068765 -0.000751966  0.002288619\n",
            "            V11          V12          V13          V14          V15\n",
            "1   0.003303075 -0.002139832 -0.013603758  0.002188011 -0.007098183\n",
            "2  -0.009468758  0.008671530  0.000101140  0.002435725 -0.000787534\n",
            "3   0.002879649 -0.004614326  0.000794535  0.000832929  0.003501878\n",
            "4   0.000701532  0.007698391  0.012159361  0.005437820 -0.012656288\n",
            "5   0.000987069 -0.001731029  0.001579307  0.000362014  0.001741259\n",
            "6   0.004151852  0.001417161 -0.008629947  0.002326098 -0.001784130\n",
            "7   0.004541002  0.002798119  0.010335384 -0.009668316  0.009965672\n",
            "8   0.007260657 -0.000780701  0.001181201 -0.001060215 -0.011110366\n",
            "9  -0.000763768 -0.000878112  0.000444099  0.002345456  0.001079929\n",
            "10  0.006996995  0.002048581  0.006955075  0.009754432  0.005342103\n",
            "            V16 cancer age_draw  gap_eur  gap_amr gap_poly  gap_eas  gap_afr\n",
            "1   0.006289453      0 74.82272 0.270230 0.008325 0.025465 0.000792 0.695188\n",
            "2   0.004270639      0 81.69747 0.571012 0.012467 0.031325 0.000010 0.385186\n",
            "3   0.000652568      0 66.29158 0.055581 0.000010 0.012585 0.011278 0.920546\n",
            "4   0.017217394      0 65.78508 0.321512 0.062317 0.002160 0.043031 0.570980\n",
            "5   0.003866940      0 65.06229 0.085137 0.010468 0.015677 0.023109 0.865609\n",
            "6  -0.004395303      0 65.77139 0.194943 0.019570 0.011186 0.006392 0.767909\n",
            "7   0.012309624      0 67.35113 0.267161 0.000010 0.019990 0.001826 0.711013\n",
            "8   0.001457498      0 80.21629 0.114084 0.005371 0.017156 0.003508 0.859882\n",
            "9   0.000934490      0 71.51266 0.041742 0.001770 0.018472 0.000010 0.938005\n",
            "10 -0.000955043      0 76.36140 0.083832 0.032822 0.034666 0.000010 0.848670\n",
            "       eth 1:7917076:G:A 1:10566215:A:G 1:10566272:C:T 1:16185635:G:GTT\n",
            "1  Afr-Amr         1.000              0          0.000            1.986\n",
            "2  Afr-Amr         1.996              0          0.000            1.869\n",
            "3  Afr-Amr         1.000              0          0.000            1.974\n",
            "4  Afr-Amr         1.997              0          0.000            2.000\n",
            "5  Afr-Amr         0.997              0          1.000            1.998\n",
            "6  Afr-Amr         0.992              0          0.000            1.985\n",
            "7  Afr-Amr         0.000              1          0.991            1.024\n",
            "8  Afr-Amr         0.000              0          1.000            2.000\n",
            "9  Afr-Amr         0.000              0          1.000            1.971\n",
            "10 Afr-Amr         1.957              1          1.000            1.985\n",
            "   1:18807339:T:C\n",
            "1           2.000\n",
            "2           0.999\n",
            "3           0.991\n",
            "4           1.000\n",
            "5           0.000\n",
            "6           0.000\n",
            "7           1.000\n",
            "8           2.000\n",
            "9           0.000\n",
            "10          0.997\n"
          ]
        }
      ]
    },
    {
      "cell_type": "code",
      "source": [
        "%%R\n",
        "dta.pc.dosage %>% group_by(eth, cancer) %>% tally()"
      ],
      "metadata": {
        "colab": {
          "base_uri": "https://localhost:8080/"
        },
        "id": "gBLuNYldDMQf",
        "outputId": "423a6790-c639-459a-c5ec-91b5454f70d0"
      },
      "execution_count": null,
      "outputs": [
        {
          "output_type": "stream",
          "name": "stdout",
          "text": [
            "# A tibble: 10 × 3\n",
            "# Groups:   eth [5]\n",
            "   eth          cancer     n\n",
            "   <chr>         <dbl> <int>\n",
            " 1 Afr-Amr           0   200\n",
            " 2 Afr-Amr           1   200\n",
            " 3 Hawaiian          0   200\n",
            " 4 Hawaiian          1   200\n",
            " 5 Japanese-Amr      0   200\n",
            " 6 Japanese-Amr      1   200\n",
            " 7 Latino            0   200\n",
            " 8 Latino            1   200\n",
            " 9 White             0   200\n",
            "10 White             1   200\n"
          ]
        }
      ]
    },
    {
      "cell_type": "code",
      "source": [
        "%%R\n",
        "dta.meta.data %>% head() %>% as.data.frame()"
      ],
      "metadata": {
        "colab": {
          "base_uri": "https://localhost:8080/"
        },
        "id": "n8bbc4r4DO3R",
        "outputId": "cc1b9407-bdde-42c4-e051-b9e4ab1c91b4"
      },
      "execution_count": null,
      "outputs": [
        {
          "output_type": "stream",
          "name": "stdout",
          "text": [
            "  CHR      POS REF ALT  chr_pos_alt_ref\n",
            "1   1  7917076   G   A    1:7917076:G:A\n",
            "2   1 10566215   A   G   1:10566215:A:G\n",
            "3   1 10566272   C   T   1:10566272:C:T\n",
            "4   1 16185635   G GTT 1:16185635:G:GTT\n",
            "5   1 18807339   T   C   1:18807339:T:C\n",
            "6   1 22503282   G   C   1:22503282:G:C\n"
          ]
        }
      ]
    },
    {
      "cell_type": "code",
      "source": [
        "%%R\n",
        "PRS.weights.data %>% head %>% as.data.frame()"
      ],
      "metadata": {
        "colab": {
          "base_uri": "https://localhost:8080/"
        },
        "id": "QkZUy5UEDQ_U",
        "outputId": "5fd270f4-c1fc-405b-dc9d-4e5e27d18450"
      },
      "execution_count": null,
      "outputs": [
        {
          "output_type": "stream",
          "name": "stdout",
          "text": [
            "  chr      pos effect_allele other_allele effect_weight effect_weight_new\n",
            "1   1 10566272             C            T        0.0390            0.4818\n",
            "2   1 16185635           GTT            G        0.0353            0.4360\n",
            "3   1 24716207             A            G        0.0309            0.3817\n",
            "4   1 27679797             A            G        0.0286            0.3533\n",
            "5   1 31381106             G            C        0.0340            0.4200\n",
            "6   1 46425500             G            A        0.0458            0.5658\n",
            "     chr_pos\n",
            "1 1:10566272\n",
            "2 1:16185635\n",
            "3 1:24716207\n",
            "4 1:27679797\n",
            "5 1:31381106\n",
            "6 1:46425500\n"
          ]
        }
      ]
    },
    {
      "cell_type": "markdown",
      "source": [
        "### Prep Data"
      ],
      "metadata": {
        "id": "9rI13rtQDVyc"
      }
    },
    {
      "cell_type": "markdown",
      "source": [
        "1) append the weights information (from literature) to our meta-data file"
      ],
      "metadata": {
        "id": "eL2lrRqEDjUN"
      }
    },
    {
      "cell_type": "code",
      "source": [
        "%%R\n",
        "meta.data.wts =\n",
        "  dta.meta.data %>%\n",
        "  # use our function to create a new column with weights from the weights file\n",
        "  # this is basically merging based on chromosome, position, allele 1, and allele 2, it is a\n",
        "  # custom function to handle multialleleic cases\n",
        "  mutate(prs_info = pmap(.f=row_pull, list(CHR, POS, REF, ALT, \"PRS.weights.data\")),\n",
        "         prs_info_n = prs_info %>% map_int(.f=function(x){nrow(x)})) %>%\n",
        "  unnest_wider(prs_info, names_sep=\"_\") %>%\n",
        "  # filter out variants from our meta-data that we are not interested in\n",
        "  filter(prs_info_n == 1) %>%\n",
        "\n",
        "  # identify what variants need to have their dosage transformed to reflect added risk\n",
        "  # for PRS calculation\n",
        "  mutate(wt_flip = ifelse(prs_info_effect_allele != ALT, 1, 0))\n",
        "\n",
        "meta.data.wts %>% head %>% as.data.frame()"
      ],
      "metadata": {
        "colab": {
          "base_uri": "https://localhost:8080/"
        },
        "id": "67yTrYMeDnyL",
        "outputId": "76ac5a52-201a-4bda-95a8-4d433eb4959a"
      },
      "execution_count": null,
      "outputs": [
        {
          "output_type": "stream",
          "name": "stdout",
          "text": [
            "  CHR      POS REF ALT  chr_pos_alt_ref prs_info_chr prs_info_pos\n",
            "1   1 10566272   C   T   1:10566272:C:T            1     10566272\n",
            "2   1 16185635   G GTT 1:16185635:G:GTT            1     16185635\n",
            "3   1 24716207   G   A   1:24716207:G:A            1     24716207\n",
            "4   1 27679797   A   G   1:27679797:A:G            1     27679797\n",
            "5   1 31381106   G   C   1:31381106:G:C            1     31381106\n",
            "6   1 46425500   G   A   1:46425500:G:A            1     46425500\n",
            "  prs_info_effect_allele prs_info_other_allele prs_info_effect_weight\n",
            "1                      C                     T                 0.0390\n",
            "2                    GTT                     G                 0.0353\n",
            "3                      A                     G                 0.0309\n",
            "4                      A                     G                 0.0286\n",
            "5                      G                     C                 0.0340\n",
            "6                      G                     A                 0.0458\n",
            "  prs_info_effect_weight_new prs_info_chr_pos prs_info_n wt_flip\n",
            "1                     0.4818       1:10566272          1       1\n",
            "2                     0.4360       1:16185635          1       0\n",
            "3                     0.3817       1:24716207          1       0\n",
            "4                     0.3533       1:27679797          1       1\n",
            "5                     0.4200       1:31381106          1       1\n",
            "6                     0.5658       1:46425500          1       1\n"
          ]
        }
      ]
    },
    {
      "cell_type": "markdown",
      "source": [
        "2) use our wt_flip variable to recode the dosages as \"risk\" based on meta-data file"
      ],
      "metadata": {
        "id": "ioOsZPRyDqaI"
      }
    },
    {
      "cell_type": "code",
      "source": [
        "%%R\n",
        "dta.pc.dosage.risk =\n",
        "  dta.pc.dosage %>%\n",
        "  # select all covariates from individual-level dosage file, then select all\n",
        "  # variants in our meta data file (variants to be used in the PRS calculation)\n",
        "  select(-contains(\":\"), meta.data.wts$chr_pos_alt_ref) %>%\n",
        "  # mutate across all dosages (chrpos), pass to flip function that returns transformed dosage vector\n",
        "  mutate(across(contains(\":\"), correct_dosage))"
      ],
      "metadata": {
        "id": "JpPGHQY5DsQ5"
      },
      "execution_count": null,
      "outputs": []
    },
    {
      "cell_type": "markdown",
      "source": [
        "### PRS Calculation"
      ],
      "metadata": {
        "id": "i5hUM3vaDx3Q"
      }
    },
    {
      "cell_type": "markdown",
      "source": [
        "calculate unweighted PRS\n",
        "\n",
        "create a new variable prs_uwt which is just a sum of all PRS risk alleles, across all variants"
      ],
      "metadata": {
        "id": "gdThKFqtD1qo"
      }
    },
    {
      "cell_type": "code",
      "source": [
        "%%R\n",
        "dta.pc.dosage.risk$prs_uwt =\n",
        "  dta.pc.dosage.risk %>%\n",
        "  select(meta.data.wts$chr_pos_alt_ref) %>%\n",
        "  as.matrix() %>%\n",
        "  apply(., 1, sum)"
      ],
      "metadata": {
        "id": "dQ7yy9lnD5sK"
      },
      "execution_count": null,
      "outputs": []
    },
    {
      "cell_type": "markdown",
      "source": [
        "calculate weighted PRS\n",
        "\n",
        "Sum all risk alleles, after applying weights to each variant, done using matrix multiplication"
      ],
      "metadata": {
        "id": "6G77sltxD8rE"
      }
    },
    {
      "cell_type": "code",
      "source": [
        "%%R\n",
        "dta.pc.dosage.risk$prs_wtd =\n",
        "  c(as.matrix(select(dta.pc.dosage.risk, meta.data.wts$chr_pos_alt_ref)) %*% meta.data.wts$prs_info_effect_weight)"
      ],
      "metadata": {
        "id": "zNLemtSuD_qt"
      },
      "execution_count": null,
      "outputs": []
    },
    {
      "cell_type": "markdown",
      "source": [
        "### Descriptives of PRS"
      ],
      "metadata": {
        "id": "lI766UEYEFNZ"
      }
    },
    {
      "cell_type": "code",
      "source": [
        "%%R\n",
        "dta.pc.dosage.risk %>%\n",
        "  ggplot(aes(x=prs_wtd, color=as.factor(cancer)))+\n",
        "  geom_density() +\n",
        "  facet_wrap(~eth)"
      ],
      "metadata": {
        "colab": {
          "base_uri": "https://localhost:8080/",
          "height": 497
        },
        "id": "zqNK0z4mELJc",
        "outputId": "dc72a02d-cd7f-4a28-d265-da46e9743736"
      },
      "execution_count": null,
      "outputs": [
        {
          "output_type": "display_data",
          "data": {
            "image/png": "[encoded data removed]"
          },
          "metadata": {}
        }
      ]
    },
    {
      "cell_type": "code",
      "source": [
        "%%R\n",
        "dta.pc.dosage.risk %>%\n",
        "  ggplot(aes(x=prs_wtd, fill=eth, color=eth))+\n",
        "  geom_density(alpha=.5)"
      ],
      "metadata": {
        "colab": {
          "base_uri": "https://localhost:8080/",
          "height": 497
        },
        "id": "KWjjU2fdGrxk",
        "outputId": "c9693df8-3830-4bae-c08f-9131297c8961"
      },
      "execution_count": null,
      "outputs": [
        {
          "output_type": "display_data",
          "data": {
            "image/png": "[encoded data removed]"
          },
          "metadata": {}
        }
      ]
    },
    {
      "cell_type": "markdown",
      "source": [
        "## Apply Standardization Techniques"
      ],
      "metadata": {
        "id": "RQAKtI7VGxM8"
      }
    },
    {
      "cell_type": "markdown",
      "source": [
        "## Ancestry-Residual Model for removal of \"relatedness/ancestry\" variation in PRS"
      ],
      "metadata": {
        "id": "KN5wxktKG4Q6"
      }
    },
    {
      "cell_type": "code",
      "source": [
        "%%R\n",
        "dta.pc.dosage.risk$mdl.resid =\n",
        "  lm(data=dta.pc.dosage.risk,\n",
        "     formula = as.formula(\"prs_wtd ~ V1 + V2 + V3 + V4 + V5 + V6 + V7 + V8 + V9 + V10\"))$residuals"
      ],
      "metadata": {
        "id": "AsXYo6a8G74r"
      },
      "execution_count": null,
      "outputs": []
    },
    {
      "cell_type": "markdown",
      "source": [
        "standardize new 'residualized PRS\""
      ],
      "metadata": {
        "id": "49xVDeEWG-o_"
      }
    },
    {
      "cell_type": "code",
      "source": [
        "%%R\n",
        "prs_resid_stats =\n",
        "  dta.pc.dosage.risk %>%\n",
        "  # select controls\n",
        "  filter(cancer == 0) %>%\n",
        "  summarise(mean_prs_resid = mean(mdl.resid), sd_prs_resid = sd(mdl.resid))"
      ],
      "metadata": {
        "id": "UM_oe8wxHBlj"
      },
      "execution_count": null,
      "outputs": []
    },
    {
      "cell_type": "code",
      "source": [
        "%%R\n",
        "dta.pc.dosage.risk$prs_mdl_resid_std =\n",
        "  (dta.pc.dosage.risk$mdl.resid - prs_resid_stats$mean_prs_resid)/prs_resid_stats$sd_prs_resid"
      ],
      "metadata": {
        "id": "cuB_UkIBHEwr"
      },
      "execution_count": null,
      "outputs": []
    },
    {
      "cell_type": "markdown",
      "source": [
        "Standardized within Race/Eth"
      ],
      "metadata": {
        "id": "_HJtmua-HHem"
      }
    },
    {
      "cell_type": "code",
      "source": [
        "%%R\n",
        "prs_eth_stats_eth =\n",
        "  dta.pc.dosage.risk %>%\n",
        "  # select controls\n",
        "  filter(cancer == 0) %>%\n",
        "  group_by(eth) %>%\n",
        "  summarise(mean_prs_wts_eth = mean(prs_wtd), sd_prs_wtd_eth = sd(prs_wtd))"
      ],
      "metadata": {
        "id": "rLnj28zGHKK0"
      },
      "execution_count": null,
      "outputs": []
    },
    {
      "cell_type": "code",
      "source": [
        "%%R\n",
        "prs_eth_stats_combined =\n",
        "  dta.pc.dosage.risk %>%\n",
        "  # select controls\n",
        "  filter(cancer == 0) %>%\n",
        "  summarise(mean_prs_wts_combined = mean(prs_wtd), sd_prs_wtd_combined = sd(prs_wtd))"
      ],
      "metadata": {
        "id": "tBP0rGF7HMvM"
      },
      "execution_count": null,
      "outputs": []
    },
    {
      "cell_type": "code",
      "source": [
        "%%R\n",
        "dta.pc.dosage.risk =\n",
        "  dta.pc.dosage.risk %>%\n",
        "  left_join(prs_eth_stats_eth) %>%\n",
        "  mutate(prs_wtd_eth_std = (prs_wtd - mean_prs_wts_eth)/sd_prs_wtd_eth,\n",
        "         prs_wtd_std = (prs_wtd - prs_eth_stats_combined$mean_prs_wts_combined)/\n",
        "           prs_eth_stats_combined$sd_prs_wtd_combined)"
      ],
      "metadata": {
        "colab": {
          "base_uri": "https://localhost:8080/"
        },
        "id": "phxI45cfHPbG",
        "outputId": "779dbd0c-db82-40d7-f878-f768b5d8fec0"
      },
      "execution_count": null,
      "outputs": [
        {
          "output_type": "stream",
          "name": "stdout",
          "text": [
            "Joining with `by = join_by(eth)`\n"
          ]
        }
      ]
    },
    {
      "cell_type": "markdown",
      "source": [
        "## Compare All Types of PRS we estimated"
      ],
      "metadata": {
        "id": "oDEJ6Ta0HSPc"
      }
    },
    {
      "cell_type": "markdown",
      "source": [
        "compare prs distributions across race/eth, combined, among controls"
      ],
      "metadata": {
        "id": "C2pRrRQHHWax"
      }
    },
    {
      "cell_type": "code",
      "source": [
        "%%R\n",
        "prs.compare.plt.data =\n",
        "  rbind(dta.pc.dosage.risk %>% select(prs_wtd_std, prs_wtd_eth_std, prs_mdl_resid_std) %>%\n",
        "          mutate(eth = \"Combined\"),\n",
        "        dta.pc.dosage.risk %>% select(prs_wtd_std, prs_wtd_eth_std, prs_mdl_resid_std, eth)) %>%\n",
        "  pivot_longer(starts_with(\"prs\"), values_to = \"PRS_Value\", names_to = \"PRS_type\")"
      ],
      "metadata": {
        "id": "n5f-OCF2HVYp"
      },
      "execution_count": null,
      "outputs": []
    },
    {
      "cell_type": "code",
      "source": [
        "%%R\n",
        "prs.compare.plt.data %>%\n",
        "  ggplot(aes(x=PRS_Value, color=PRS_type, fill=PRS_type))+\n",
        "  geom_density(alpha=.4) +\n",
        "  facet_wrap(~eth, nrow = 1)"
      ],
      "metadata": {
        "colab": {
          "base_uri": "https://localhost:8080/",
          "height": 497
        },
        "id": "W7lKM5DrHaon",
        "outputId": "a5a5027b-bd98-4780-a40c-9d704024e1ae"
      },
      "execution_count": null,
      "outputs": [
        {
          "output_type": "display_data",
          "data": {
            "image/png": "[encoded data removed]"
          },
          "metadata": {}
        }
      ]
    },
    {
      "cell_type": "code",
      "source": [
        "%%R\n",
        "prs.compare.plt.data %>%\n",
        "  ggplot(aes(x=PRS_Value, color=eth, fill=eth))+\n",
        "  geom_density(alpha=.4) +\n",
        "  facet_wrap(~PRS_type, nrow = 1)"
      ],
      "metadata": {
        "colab": {
          "base_uri": "https://localhost:8080/",
          "height": 497
        },
        "id": "Tah0AVmXHdXX",
        "outputId": "d7db2bfd-ca06-40e3-dad2-02109e413ca8"
      },
      "execution_count": null,
      "outputs": [
        {
          "output_type": "display_data",
          "data": {
            "image/png": "[encoded data removed]"
          },
          "metadata": {}
        }
      ]
    },
    {
      "cell_type": "markdown",
      "source": [
        "## Regression Analysis"
      ],
      "metadata": {
        "id": "YyVNkbsVHhhO"
      }
    },
    {
      "cell_type": "markdown",
      "source": [
        "Simple PRS model with age and PC adjustment"
      ],
      "metadata": {
        "id": "FECfYm3VHjOp"
      }
    },
    {
      "cell_type": "code",
      "source": [
        "%%R\n",
        "# define formula\n",
        "fm = as.formula(\"cancer ~ prs_wtd_std + age_draw + V1 + V2 + V3 + V4 + V5 + V6\")\n",
        "\n",
        "# fit model\n",
        "res = glm(fm, data = dta.pc.dosage.risk, binomial(link='logit'))\n",
        "res"
      ],
      "metadata": {
        "colab": {
          "base_uri": "https://localhost:8080/"
        },
        "id": "BcN1V6AfHoe8",
        "outputId": "da0753eb-29db-4abf-dd3f-17ab812362d3"
      },
      "execution_count": null,
      "outputs": [
        {
          "output_type": "stream",
          "name": "stdout",
          "text": [
            "\n",
            "Call:  glm(formula = fm, family = binomial(link = \"logit\"), data = dta.pc.dosage.risk)\n",
            "\n",
            "Coefficients:\n",
            "(Intercept)  prs_wtd_std     age_draw           V1           V2           V3  \n",
            "   -2.91138      0.82011      0.03824   -106.47091     -9.83845      9.81196  \n",
            "         V4           V5           V6  \n",
            "  -12.55340     14.27787    -25.23468  \n",
            "\n",
            "Degrees of Freedom: 1999 Total (i.e. Null);  1991 Residual\n",
            "Null Deviance:\t    2773 \n",
            "Residual Deviance: 2498 \tAIC: 2516\n"
          ]
        }
      ]
    },
    {
      "cell_type": "markdown",
      "source": [
        "view coefficient results as data.frame"
      ],
      "metadata": {
        "id": "L4OXMTgvHq5o"
      }
    },
    {
      "cell_type": "code",
      "source": [
        "%%R\n",
        "res %>% summary() %>% pluck(\"coefficients\") %>% as.data.frame()"
      ],
      "metadata": {
        "colab": {
          "base_uri": "https://localhost:8080/"
        },
        "id": "JnxshCRZHs1j",
        "outputId": "b395b22b-f3ef-449a-a5ae-942541b44c96"
      },
      "execution_count": null,
      "outputs": [
        {
          "output_type": "stream",
          "name": "stdout",
          "text": [
            "                 Estimate   Std. Error    z value     Pr(>|z|)\n",
            "(Intercept)   -2.91138143  0.429518352 -6.7782469 1.216429e-11\n",
            "prs_wtd_std    0.82011209  0.058606795 13.9934641 1.708815e-44\n",
            "age_draw       0.03824214  0.006154995  6.2131875 5.192044e-10\n",
            "V1          -106.47091124 14.891030226 -7.1500030 8.677598e-13\n",
            "V2            -9.83845204 11.273713167 -0.8726896 3.828323e-01\n",
            "V3             9.81196500 12.563632438  0.7809815 4.348134e-01\n",
            "V4           -12.55339986  6.929674816 -1.8115424 7.005693e-02\n",
            "V5            14.27786875 11.751996866  1.2149313 2.243923e-01\n",
            "V6           -25.23468450 12.364910638 -2.0408303 4.126770e-02\n"
          ]
        }
      ]
    },
    {
      "cell_type": "markdown",
      "source": [
        "check aic"
      ],
      "metadata": {
        "id": "h9HvkZarHu-T"
      }
    },
    {
      "cell_type": "code",
      "source": [
        "%%R\n",
        "res$aic"
      ],
      "metadata": {
        "colab": {
          "base_uri": "https://localhost:8080/"
        },
        "id": "t-tTC-7VHw7G",
        "outputId": "fe4f2506-260d-45ab-fbd1-9d064967c7c6"
      },
      "execution_count": null,
      "outputs": [
        {
          "output_type": "stream",
          "name": "stdout",
          "text": [
            "[1] 2516.303\n"
          ]
        }
      ]
    },
    {
      "cell_type": "markdown",
      "source": [
        "check AUC"
      ],
      "metadata": {
        "id": "R7QcRc1WHy1f"
      }
    },
    {
      "cell_type": "code",
      "source": [
        "%%R\n",
        "res_pred_prob = predict(res, newdata = dta.pc.dosage.risk, type = \"response\")\n",
        "roc(dta.pc.dosage.risk$cancer ~ res_pred_prob, plot = TRUE, print.auc = TRUE)"
      ],
      "metadata": {
        "colab": {
          "base_uri": "https://localhost:8080/",
          "height": 671
        },
        "id": "Y95YH6sgH0-B",
        "outputId": "c2b1ee93-0e03-4332-a4d8-dfdcdd9e2a3b"
      },
      "execution_count": null,
      "outputs": [
        {
          "output_type": "stream",
          "name": "stderr",
          "text": [
            "WARNING:rpy2.rinterface_lib.callbacks:R[write to console]: Setting levels: control = 0, case = 1\n",
            "\n",
            "WARNING:rpy2.rinterface_lib.callbacks:R[write to console]: Setting direction: controls < cases\n",
            "\n"
          ]
        },
        {
          "output_type": "stream",
          "name": "stdout",
          "text": [
            "\n",
            "Call:\n",
            "roc.formula(formula = dta.pc.dosage.risk$cancer ~ res_pred_prob,     plot = TRUE, print.auc = TRUE)\n",
            "\n",
            "Data: res_pred_prob in 1000 controls (dta.pc.dosage.risk$cancer 0) < 1000 cases (dta.pc.dosage.risk$cancer 1).\n",
            "Area under the curve: 0.7075\n"
          ]
        },
        {
          "output_type": "display_data",
          "data": {
            "image/png": "[encoded data removed]"
          },
          "metadata": {}
        }
      ]
    },
    {
      "cell_type": "markdown",
      "source": [
        "AUC is 0.7075, lets compare against a model with the covariates (which may be the ones actually producing a high auc)"
      ],
      "metadata": {
        "id": "st-czmbaH66b"
      }
    },
    {
      "cell_type": "markdown",
      "source": [
        "fit model"
      ],
      "metadata": {
        "id": "tVTqiSHTH9KA"
      }
    },
    {
      "cell_type": "code",
      "source": [
        "%%R\n",
        "null.mdl.res = glm(as.formula(\"cancer ~ age_draw + V1 + V2 + V3 + V4 + V5 + V6\"),\n",
        "                   data = dta.pc.dosage.risk, binomial(link='logit'))\n",
        "\n",
        "res_pred_prob_null_mdl = predict(null.mdl.res, newdata = dta.pc.dosage.risk, type = \"response\")\n",
        "roc(dta.pc.dosage.risk$cancer ~ res_pred_prob_null_mdl, plot = TRUE, print.auc = TRUE)"
      ],
      "metadata": {
        "colab": {
          "base_uri": "https://localhost:8080/",
          "height": 671
        },
        "id": "paJvAt5SH_6Y",
        "outputId": "32889eb4-3b04-4d62-8910-c0aa44748c8f"
      },
      "execution_count": null,
      "outputs": [
        {
          "output_type": "stream",
          "name": "stderr",
          "text": [
            "WARNING:rpy2.rinterface_lib.callbacks:R[write to console]: Setting levels: control = 0, case = 1\n",
            "\n",
            "WARNING:rpy2.rinterface_lib.callbacks:R[write to console]: Setting direction: controls < cases\n",
            "\n"
          ]
        },
        {
          "output_type": "stream",
          "name": "stdout",
          "text": [
            "\n",
            "Call:\n",
            "roc.formula(formula = dta.pc.dosage.risk$cancer ~ res_pred_prob_null_mdl,     plot = TRUE, print.auc = TRUE)\n",
            "\n",
            "Data: res_pred_prob_null_mdl in 1000 controls (dta.pc.dosage.risk$cancer 0) < 1000 cases (dta.pc.dosage.risk$cancer 1).\n",
            "Area under the curve: 0.5832\n"
          ]
        },
        {
          "output_type": "display_data",
          "data": {
            "image/png": "[encoded data removed]"
          },
          "metadata": {}
        }
      ]
    },
    {
      "cell_type": "markdown",
      "source": [
        "the null model produces an AUC of 0.5832, versus including PRS which is .71, this is a considerable increase due to PRS."
      ],
      "metadata": {
        "id": "C-C7LSTiIDkv"
      }
    },
    {
      "cell_type": "markdown",
      "source": [
        "## Compare a variety of models"
      ],
      "metadata": {
        "id": "5XHhgcLjIGls"
      }
    },
    {
      "cell_type": "markdown",
      "source": [
        "prs terms to evaluate: prs_wtd_std, prs_wtd_eth_std, prs_mdl_resid_std"
      ],
      "metadata": {
        "id": "KRLbnpClILJW"
      }
    },
    {
      "cell_type": "markdown",
      "source": [
        "function to run regression and pull PRS term and other fit stats"
      ],
      "metadata": {
        "id": "8z-wCarFINSb"
      }
    },
    {
      "cell_type": "code",
      "source": [
        "%%R\n",
        "fit_prs_models = function(in.model, in.eth, in.df.name){\n",
        "  dta.tmp = get(in.df.name)\n",
        "\n",
        "  # filter data\n",
        "  if (in.eth != \"Combined\"){\n",
        "    dta.tmp =\n",
        "      dta.tmp %>%\n",
        "      filter(eth == in.eth)\n",
        "  }\n",
        "\n",
        "  # fit model:\n",
        "  res = glm(as.formula(in.model), data = dta.tmp, binomial(link='logit'))\n",
        "\n",
        "  # extract prs terms\n",
        "  res.df =\n",
        "    res %>% summary() %>% pluck(\"coefficients\") %>% as.data.frame() %>%\n",
        "    mutate(var = row.names(.)) %>%\n",
        "    filter(grepl(\"prs_\", var))\n",
        "\n",
        "  # check aic\n",
        "  res.df$aic = res$aic\n",
        "\n",
        "  # check AUC\n",
        "  res_pred_prob = predict(res, newdata = dta.pc.dosage.risk, type = \"response\")\n",
        "  res.df$auc = roc(dta.pc.dosage.risk$cancer ~ res_pred_prob, plot = F, print.auc = F)$auc[[1]]\n",
        "\n",
        "  return(res.df)\n",
        "}"
      ],
      "metadata": {
        "id": "6GYF779lISJ8"
      },
      "execution_count": null,
      "outputs": []
    },
    {
      "cell_type": "markdown",
      "source": [
        "function to help build results/models data frame"
      ],
      "metadata": {
        "id": "g4JqqzctIV1k"
      }
    },
    {
      "cell_type": "code",
      "source": [
        "%%R\n",
        "dup_over = function(in.df, in.varname, in.levels){\n",
        "  in.df = in.df %>%\n",
        "    mutate(tmp_in_varname = 1 %>%\n",
        "             map(.f=function(x){data.frame(tmp_in_varname=in.levels)})) %>%\n",
        "    unnest(tmp_in_varname)\n",
        "\n",
        "  names(in.df)[names(in.df)==\"tmp_in_varname\"] = in.varname\n",
        "  in.df\n",
        "}"
      ],
      "metadata": {
        "id": "eItfI8CeIXj_"
      },
      "execution_count": null,
      "outputs": []
    },
    {
      "cell_type": "markdown",
      "source": [
        "build results/model dataframe and run regressions"
      ],
      "metadata": {
        "id": "2aMiky4lIaGz"
      }
    },
    {
      "cell_type": "code",
      "source": [
        "%%R\n",
        "all.fit.res =\n",
        "  data.frame(eth = c(unique(dta.pc.dosage.risk$eth), \"Combined\")) %>%\n",
        "  dup_over(\"PRS\", c(\"prs_wtd_std\", \"prs_wtd_eth_std\", \"prs_mdl_resid_std\")) %>%\n",
        "  dup_over(\"model_type\", c(\"cancer ~ prs\",\n",
        "                            \"cancer ~ prs + age_draw\",\n",
        "                            \"cancer ~ prs + age_draw + V1 + V2 + V3 + V4 + V5 + V6\")) %>%\n",
        "  mutate(model = str_replace(model_type, \"prs\", PRS),\n",
        "         model_type = ifelse(grepl(\"V1\", model_type), \"cancer ~ prs + age_draw + PCs\", model_type)) %>%\n",
        "\n",
        "  # map analyses over fit parameters (run regressions)\n",
        "  mutate(fit_results = pmap(.f=fit_prs_models, list(model, eth, \"dta.pc.dosage.risk\"))) %>%\n",
        "  # unnest returned results\n",
        "  unnest_wider(fit_results)"
      ],
      "metadata": {
        "colab": {
          "base_uri": "https://localhost:8080/"
        },
        "id": "lEBL39nCIcUf",
        "outputId": "4e9db52f-c81b-46de-fdea-80d31efd3bff"
      },
      "execution_count": null,
      "outputs": [
        {
          "output_type": "stream",
          "name": "stderr",
          "text": [
            "WARNING:rpy2.rinterface_lib.callbacks:R[write to console]: Setting levels: control = 0, case = 1\n",
            "\n",
            "WARNING:rpy2.rinterface_lib.callbacks:R[write to console]: Setting direction: controls < cases\n",
            "\n",
            "WARNING:rpy2.rinterface_lib.callbacks:R[write to console]: Setting levels: control = 0, case = 1\n",
            "\n",
            "WARNING:rpy2.rinterface_lib.callbacks:R[write to console]: Setting direction: controls < cases\n",
            "\n",
            "WARNING:rpy2.rinterface_lib.callbacks:R[write to console]: Setting levels: control = 0, case = 1\n",
            "\n",
            "WARNING:rpy2.rinterface_lib.callbacks:R[write to console]: Setting direction: controls < cases\n",
            "\n",
            "WARNING:rpy2.rinterface_lib.callbacks:R[write to console]: Setting levels: control = 0, case = 1\n",
            "\n",
            "WARNING:rpy2.rinterface_lib.callbacks:R[write to console]: Setting direction: controls < cases\n",
            "\n",
            "WARNING:rpy2.rinterface_lib.callbacks:R[write to console]: Setting levels: control = 0, case = 1\n",
            "\n",
            "WARNING:rpy2.rinterface_lib.callbacks:R[write to console]: Setting direction: controls < cases\n",
            "\n",
            "WARNING:rpy2.rinterface_lib.callbacks:R[write to console]: Setting levels: control = 0, case = 1\n",
            "\n",
            "WARNING:rpy2.rinterface_lib.callbacks:R[write to console]: Setting direction: controls < cases\n",
            "\n",
            "WARNING:rpy2.rinterface_lib.callbacks:R[write to console]: Setting levels: control = 0, case = 1\n",
            "\n",
            "WARNING:rpy2.rinterface_lib.callbacks:R[write to console]: Setting direction: controls < cases\n",
            "\n",
            "WARNING:rpy2.rinterface_lib.callbacks:R[write to console]: Setting levels: control = 0, case = 1\n",
            "\n",
            "WARNING:rpy2.rinterface_lib.callbacks:R[write to console]: Setting direction: controls < cases\n",
            "\n",
            "WARNING:rpy2.rinterface_lib.callbacks:R[write to console]: Setting levels: control = 0, case = 1\n",
            "\n",
            "WARNING:rpy2.rinterface_lib.callbacks:R[write to console]: Setting direction: controls < cases\n",
            "\n",
            "WARNING:rpy2.rinterface_lib.callbacks:R[write to console]: Setting levels: control = 0, case = 1\n",
            "\n",
            "WARNING:rpy2.rinterface_lib.callbacks:R[write to console]: Setting direction: controls < cases\n",
            "\n",
            "WARNING:rpy2.rinterface_lib.callbacks:R[write to console]: Setting levels: control = 0, case = 1\n",
            "\n",
            "WARNING:rpy2.rinterface_lib.callbacks:R[write to console]: Setting direction: controls < cases\n",
            "\n",
            "WARNING:rpy2.rinterface_lib.callbacks:R[write to console]: Setting levels: control = 0, case = 1\n",
            "\n",
            "WARNING:rpy2.rinterface_lib.callbacks:R[write to console]: Setting direction: controls < cases\n",
            "\n",
            "WARNING:rpy2.rinterface_lib.callbacks:R[write to console]: Setting levels: control = 0, case = 1\n",
            "\n",
            "WARNING:rpy2.rinterface_lib.callbacks:R[write to console]: Setting direction: controls < cases\n",
            "\n",
            "WARNING:rpy2.rinterface_lib.callbacks:R[write to console]: Setting levels: control = 0, case = 1\n",
            "\n",
            "WARNING:rpy2.rinterface_lib.callbacks:R[write to console]: Setting direction: controls < cases\n",
            "\n",
            "WARNING:rpy2.rinterface_lib.callbacks:R[write to console]: Setting levels: control = 0, case = 1\n",
            "\n",
            "WARNING:rpy2.rinterface_lib.callbacks:R[write to console]: Setting direction: controls < cases\n",
            "\n",
            "WARNING:rpy2.rinterface_lib.callbacks:R[write to console]: Setting levels: control = 0, case = 1\n",
            "\n",
            "WARNING:rpy2.rinterface_lib.callbacks:R[write to console]: Setting direction: controls < cases\n",
            "\n",
            "WARNING:rpy2.rinterface_lib.callbacks:R[write to console]: Setting levels: control = 0, case = 1\n",
            "\n",
            "WARNING:rpy2.rinterface_lib.callbacks:R[write to console]: Setting direction: controls < cases\n",
            "\n",
            "WARNING:rpy2.rinterface_lib.callbacks:R[write to console]: Setting levels: control = 0, case = 1\n",
            "\n",
            "WARNING:rpy2.rinterface_lib.callbacks:R[write to console]: Setting direction: controls < cases\n",
            "\n",
            "WARNING:rpy2.rinterface_lib.callbacks:R[write to console]: Setting levels: control = 0, case = 1\n",
            "\n",
            "WARNING:rpy2.rinterface_lib.callbacks:R[write to console]: Setting direction: controls < cases\n",
            "\n",
            "WARNING:rpy2.rinterface_lib.callbacks:R[write to console]: Setting levels: control = 0, case = 1\n",
            "\n",
            "WARNING:rpy2.rinterface_lib.callbacks:R[write to console]: Setting direction: controls < cases\n",
            "\n",
            "WARNING:rpy2.rinterface_lib.callbacks:R[write to console]: Setting levels: control = 0, case = 1\n",
            "\n",
            "WARNING:rpy2.rinterface_lib.callbacks:R[write to console]: Setting direction: controls < cases\n",
            "\n",
            "WARNING:rpy2.rinterface_lib.callbacks:R[write to console]: Setting levels: control = 0, case = 1\n",
            "\n",
            "WARNING:rpy2.rinterface_lib.callbacks:R[write to console]: Setting direction: controls < cases\n",
            "\n",
            "WARNING:rpy2.rinterface_lib.callbacks:R[write to console]: Setting levels: control = 0, case = 1\n",
            "\n",
            "WARNING:rpy2.rinterface_lib.callbacks:R[write to console]: Setting direction: controls < cases\n",
            "\n",
            "WARNING:rpy2.rinterface_lib.callbacks:R[write to console]: Setting levels: control = 0, case = 1\n",
            "\n",
            "WARNING:rpy2.rinterface_lib.callbacks:R[write to console]: Setting direction: controls < cases\n",
            "\n",
            "WARNING:rpy2.rinterface_lib.callbacks:R[write to console]: Setting levels: control = 0, case = 1\n",
            "\n",
            "WARNING:rpy2.rinterface_lib.callbacks:R[write to console]: Setting direction: controls < cases\n",
            "\n",
            "WARNING:rpy2.rinterface_lib.callbacks:R[write to console]: Setting levels: control = 0, case = 1\n",
            "\n",
            "WARNING:rpy2.rinterface_lib.callbacks:R[write to console]: Setting direction: controls < cases\n",
            "\n",
            "WARNING:rpy2.rinterface_lib.callbacks:R[write to console]: Setting levels: control = 0, case = 1\n",
            "\n",
            "WARNING:rpy2.rinterface_lib.callbacks:R[write to console]: Setting direction: controls < cases\n",
            "\n",
            "WARNING:rpy2.rinterface_lib.callbacks:R[write to console]: Setting levels: control = 0, case = 1\n",
            "\n",
            "WARNING:rpy2.rinterface_lib.callbacks:R[write to console]: Setting direction: controls < cases\n",
            "\n",
            "WARNING:rpy2.rinterface_lib.callbacks:R[write to console]: Setting levels: control = 0, case = 1\n",
            "\n",
            "WARNING:rpy2.rinterface_lib.callbacks:R[write to console]: Setting direction: controls < cases\n",
            "\n",
            "WARNING:rpy2.rinterface_lib.callbacks:R[write to console]: Setting levels: control = 0, case = 1\n",
            "\n",
            "WARNING:rpy2.rinterface_lib.callbacks:R[write to console]: Setting direction: controls < cases\n",
            "\n",
            "WARNING:rpy2.rinterface_lib.callbacks:R[write to console]: Setting levels: control = 0, case = 1\n",
            "\n",
            "WARNING:rpy2.rinterface_lib.callbacks:R[write to console]: Setting direction: controls < cases\n",
            "\n",
            "WARNING:rpy2.rinterface_lib.callbacks:R[write to console]: Setting levels: control = 0, case = 1\n",
            "\n",
            "WARNING:rpy2.rinterface_lib.callbacks:R[write to console]: Setting direction: controls < cases\n",
            "\n",
            "WARNING:rpy2.rinterface_lib.callbacks:R[write to console]: Setting levels: control = 0, case = 1\n",
            "\n",
            "WARNING:rpy2.rinterface_lib.callbacks:R[write to console]: Setting direction: controls < cases\n",
            "\n",
            "WARNING:rpy2.rinterface_lib.callbacks:R[write to console]: Setting levels: control = 0, case = 1\n",
            "\n",
            "WARNING:rpy2.rinterface_lib.callbacks:R[write to console]: Setting direction: controls < cases\n",
            "\n",
            "WARNING:rpy2.rinterface_lib.callbacks:R[write to console]: Setting levels: control = 0, case = 1\n",
            "\n",
            "WARNING:rpy2.rinterface_lib.callbacks:R[write to console]: Setting direction: controls < cases\n",
            "\n",
            "WARNING:rpy2.rinterface_lib.callbacks:R[write to console]: Setting levels: control = 0, case = 1\n",
            "\n",
            "WARNING:rpy2.rinterface_lib.callbacks:R[write to console]: Setting direction: controls < cases\n",
            "\n",
            "WARNING:rpy2.rinterface_lib.callbacks:R[write to console]: Setting levels: control = 0, case = 1\n",
            "\n",
            "WARNING:rpy2.rinterface_lib.callbacks:R[write to console]: Setting direction: controls < cases\n",
            "\n",
            "WARNING:rpy2.rinterface_lib.callbacks:R[write to console]: Setting levels: control = 0, case = 1\n",
            "\n",
            "WARNING:rpy2.rinterface_lib.callbacks:R[write to console]: Setting direction: controls < cases\n",
            "\n",
            "WARNING:rpy2.rinterface_lib.callbacks:R[write to console]: Setting levels: control = 0, case = 1\n",
            "\n",
            "WARNING:rpy2.rinterface_lib.callbacks:R[write to console]: Setting direction: controls < cases\n",
            "\n",
            "WARNING:rpy2.rinterface_lib.callbacks:R[write to console]: Setting levels: control = 0, case = 1\n",
            "\n",
            "WARNING:rpy2.rinterface_lib.callbacks:R[write to console]: Setting direction: controls < cases\n",
            "\n",
            "WARNING:rpy2.rinterface_lib.callbacks:R[write to console]: Setting levels: control = 0, case = 1\n",
            "\n",
            "WARNING:rpy2.rinterface_lib.callbacks:R[write to console]: Setting direction: controls < cases\n",
            "\n",
            "WARNING:rpy2.rinterface_lib.callbacks:R[write to console]: Setting levels: control = 0, case = 1\n",
            "\n",
            "WARNING:rpy2.rinterface_lib.callbacks:R[write to console]: Setting direction: controls < cases\n",
            "\n",
            "WARNING:rpy2.rinterface_lib.callbacks:R[write to console]: Setting levels: control = 0, case = 1\n",
            "\n",
            "WARNING:rpy2.rinterface_lib.callbacks:R[write to console]: Setting direction: controls < cases\n",
            "\n",
            "WARNING:rpy2.rinterface_lib.callbacks:R[write to console]: Setting levels: control = 0, case = 1\n",
            "\n",
            "WARNING:rpy2.rinterface_lib.callbacks:R[write to console]: Setting direction: controls < cases\n",
            "\n",
            "WARNING:rpy2.rinterface_lib.callbacks:R[write to console]: Setting levels: control = 0, case = 1\n",
            "\n",
            "WARNING:rpy2.rinterface_lib.callbacks:R[write to console]: Setting direction: controls < cases\n",
            "\n",
            "WARNING:rpy2.rinterface_lib.callbacks:R[write to console]: Setting levels: control = 0, case = 1\n",
            "\n",
            "WARNING:rpy2.rinterface_lib.callbacks:R[write to console]: Setting direction: controls < cases\n",
            "\n",
            "WARNING:rpy2.rinterface_lib.callbacks:R[write to console]: Setting levels: control = 0, case = 1\n",
            "\n",
            "WARNING:rpy2.rinterface_lib.callbacks:R[write to console]: Setting direction: controls < cases\n",
            "\n",
            "WARNING:rpy2.rinterface_lib.callbacks:R[write to console]: Setting levels: control = 0, case = 1\n",
            "\n",
            "WARNING:rpy2.rinterface_lib.callbacks:R[write to console]: Setting direction: controls < cases\n",
            "\n",
            "WARNING:rpy2.rinterface_lib.callbacks:R[write to console]: Setting levels: control = 0, case = 1\n",
            "\n",
            "WARNING:rpy2.rinterface_lib.callbacks:R[write to console]: Setting direction: controls < cases\n",
            "\n",
            "WARNING:rpy2.rinterface_lib.callbacks:R[write to console]: Setting levels: control = 0, case = 1\n",
            "\n",
            "WARNING:rpy2.rinterface_lib.callbacks:R[write to console]: Setting direction: controls < cases\n",
            "\n",
            "WARNING:rpy2.rinterface_lib.callbacks:R[write to console]: Setting levels: control = 0, case = 1\n",
            "\n",
            "WARNING:rpy2.rinterface_lib.callbacks:R[write to console]: Setting direction: controls < cases\n",
            "\n",
            "WARNING:rpy2.rinterface_lib.callbacks:R[write to console]: Setting levels: control = 0, case = 1\n",
            "\n",
            "WARNING:rpy2.rinterface_lib.callbacks:R[write to console]: Setting direction: controls < cases\n",
            "\n",
            "WARNING:rpy2.rinterface_lib.callbacks:R[write to console]: Setting levels: control = 0, case = 1\n",
            "\n",
            "WARNING:rpy2.rinterface_lib.callbacks:R[write to console]: Setting direction: controls < cases\n",
            "\n",
            "WARNING:rpy2.rinterface_lib.callbacks:R[write to console]: Setting levels: control = 0, case = 1\n",
            "\n",
            "WARNING:rpy2.rinterface_lib.callbacks:R[write to console]: Setting direction: controls < cases\n",
            "\n"
          ]
        }
      ]
    },
    {
      "cell_type": "markdown",
      "source": [
        "View PRS Beta Coefficents (exp(beta) for HRs)"
      ],
      "metadata": {
        "id": "tu0QyzAUIeub"
      }
    },
    {
      "cell_type": "code",
      "source": [
        "%%R\n",
        "all.fit.res %>%\n",
        "  mutate(beta_lci = Estimate-(1.96*`Std. Error`),\n",
        "         beta_uci = Estimate+(1.96*`Std. Error`)) %>%\n",
        "\n",
        "  ggplot(aes(x=Estimate, y=model_type, color=PRS, xmin=beta_lci, xmax=beta_uci, label=sprintf(\"%.2f\", auc)))+\n",
        "  geom_point(position = position_dodge(width=.5), size=2.5) +\n",
        "  geom_linerange(position = position_dodge(width=.5), linewidth = 1.5) +\n",
        "  geom_text(position = position_dodge(width=.5), x=.4, size=2.5)+\n",
        "  xlim(.3,1.3)+\n",
        "  facet_wrap(~eth) +\n",
        "  theme_light()"
      ],
      "metadata": {
        "colab": {
          "base_uri": "https://localhost:8080/",
          "height": 497
        },
        "id": "hj_3vm5nIgfG",
        "outputId": "141bdd8b-3622-4126-f44d-f6902d5d3e8f"
      },
      "execution_count": null,
      "outputs": [
        {
          "output_type": "display_data",
          "data": {
            "image/png": "[encoded data removed]"
          },
          "metadata": {}
        }
      ]
    }
  ]
}