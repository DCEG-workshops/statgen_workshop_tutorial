{
  "nbformat": 4,
  "nbformat_minor": 0,
  "metadata": {
    "colab": {
      "provenance": [],
      "toc_visible": true,
      "authorship_tag": "ABX9TyM3oVU1OapVpOJ4mT1e4LzO",
      "include_colab_link": true
    },
    "kernelspec": {
      "name": "python3",
      "display_name": "Python 3"
    },
    "language_info": {
      "name": "python"
    }
  },
  "cells": [
    {
      "cell_type": "markdown",
      "metadata": {
        "id": "view-in-github",
        "colab_type": "text"
      },
      "source": [
        "<a href=\"https://colab.research.google.com/github/DCEG-workshops/statgen_workshop_tutorial/blob/main/src/07_multi_ancestry_analysis.ipynb\" target=\"_parent\"><img src=\"https://colab.research.google.com/assets/colab-badge.svg\" alt=\"Open In Colab\"/></a>"
      ]
    },
    {
      "cell_type": "markdown",
      "source": [
        "# Set up"
      ],
      "metadata": {
        "id": "0dhdoVAqVjlm"
      }
    },
    {
      "cell_type": "markdown",
      "source": [
        "Important: We want to mount the google drive for the data neeed for this workshop. Please open this [link](https://colab.research.google.com/corgiredirector?site=https%3A%2F%2Fdrive.google.com%2Fdrive%2Ffolders%2F1rui3w4tok2Z7EhtMbz6PobeC_fDxTw7G%3Fusp%3Dsharing) with your Google drive and find the \"statgen_workshop\" folder under \"Share with me\". Then add a shortcut to the folder under \"My Drive\"."
      ],
      "metadata": {
        "id": "67LsVae4LvMR"
      }
    },
    {
      "cell_type": "code",
      "execution_count": null,
      "metadata": {
        "id": "OBzuK-RiIWbY"
      },
      "outputs": [],
      "source": [
        "from google.colab import drive\n",
        "drive.mount('/content/drive')"
      ]
    },
    {
      "cell_type": "code",
      "source": [
        "import os\n",
        "input_dir=\"drive/MyDrive/statgen_workshop/data/workshop7/\"\n",
        "analysis_dir=os.getcwd() + \"/07_analysis/\"\n",
        "os.environ['input_dir']=input_dir\n",
        "os.environ['analysis_dir']=analysis_dir"
      ],
      "metadata": {
        "id": "TzRyGBtHMVX7"
      },
      "execution_count": null,
      "outputs": []
    },
    {
      "cell_type": "markdown",
      "source": [
        "Load R magic"
      ],
      "metadata": {
        "id": "ZmFM5sPCPNrU"
      }
    },
    {
      "cell_type": "code",
      "source": [
        "%load_ext rpy2.ipython"
      ],
      "metadata": {
        "id": "mZc3tM3RMQT_"
      },
      "execution_count": null,
      "outputs": []
    },
    {
      "cell_type": "markdown",
      "source": [
        "Add to R library Path"
      ],
      "metadata": {
        "id": "h8eQvxQtOF1E"
      }
    },
    {
      "cell_type": "code",
      "source": [
        "%%R -i input_dir -i analysis_dir\n",
        ".libPaths(\"usr/local/lib/R/site-library/\")\n",
        ".libPaths()"
      ],
      "metadata": {
        "id": "bQsV_O-eMeso"
      },
      "execution_count": null,
      "outputs": []
    },
    {
      "cell_type": "markdown",
      "source": [
        "# PART 1. Multi-population Fine-mapping\n",
        "## A single-hit region on chr 12"
      ],
      "metadata": {
        "id": "8UTLsuBANcL_"
      }
    },
    {
      "cell_type": "markdown",
      "source": [
        "### mJAM"
      ],
      "metadata": {
        "id": "Q7aLeRPyOPF0"
      }
    },
    {
      "cell_type": "markdown",
      "source": [
        "Step 1. Packages"
      ],
      "metadata": {
        "id": "hy4FpRwkMhLw"
      }
    },
    {
      "cell_type": "markdown",
      "source": [
        "Install dependencies for the hJAM R libary"
      ],
      "metadata": {
        "id": "zMVIzSATLsYg"
      }
    },
    {
      "cell_type": "code",
      "source": [
        "%%bash\n",
        "apt-get install libgsl-dev libmpfr-dev"
      ],
      "metadata": {
        "id": "pH8e-zS7Quc_"
      },
      "execution_count": null,
      "outputs": []
    },
    {
      "cell_type": "markdown",
      "source": [
        "We need to install the hJAM and tidyverse R libaries. Here's the code to install them:\n",
        "\n",
        "\n",
        "```\n",
        "devtools::install_github(\"USCbiostats/hJAM\")\n",
        "if(!\"tidyverse\"%in%installed.packages()){install.packages('tidyverse')}\n",
        "```\n",
        "\n",
        "In the interest of time, we will add the pre-installed packages to R path so we don't have to wait for the R package installations."
      ],
      "metadata": {
        "id": "1XppJABUL5ik"
      }
    },
    {
      "cell_type": "code",
      "source": [
        "%%bash\n",
        "cp /content/drive/MyDrive/statgen_workshop/tools/07_multi_ancestry_analysis_R_libs.tgz ./ && \\\n",
        "   tar -zxf 07_multi_ancestry_analysis_R_libs.tgz && ls usr/local/lib/R/site-library/"
      ],
      "metadata": {
        "id": "HywfHhKEO0kN"
      },
      "execution_count": null,
      "outputs": []
    },
    {
      "cell_type": "code",
      "source": [
        "%%R\n",
        "#devtools::install_github(\"USCbiostats/hJAM\", force = TRUE)\n",
        "#if(!\"tidyverse\"%in%installed.packages()){install.packages('tidyverse')}"
      ],
      "metadata": {
        "id": "b0vOk6jaP8Eh"
      },
      "execution_count": null,
      "outputs": []
    },
    {
      "cell_type": "markdown",
      "source": [
        "load R libraries"
      ],
      "metadata": {
        "id": "mFk2xQkuPaFo"
      }
    },
    {
      "cell_type": "code",
      "source": [
        "%%R\n",
        "library(hJAM) ## for mJAM_Forward, mJAM_SuSiE\n",
        "library(tidyverse) ## for data cleaning and visualization\n",
        "library(glue)"
      ],
      "metadata": {
        "id": "yS_NSu4sPhqU"
      },
      "execution_count": null,
      "outputs": []
    },
    {
      "cell_type": "markdown",
      "source": [
        "Visualize marginal results"
      ],
      "metadata": {
        "id": "pZHaq-3pPtT8"
      }
    },
    {
      "cell_type": "code",
      "source": [
        "%%R\n",
        "meta_sumstat <- read.table(glue(input_dir, \"MultiPopulation_FineMapping/12_109194870_110794870_meta_summary_stat.txt\"), header = T)"
      ],
      "metadata": {
        "id": "fHENDFCBP3GT"
      },
      "execution_count": null,
      "outputs": []
    },
    {
      "cell_type": "markdown",
      "source": [
        "Meta P.value"
      ],
      "metadata": {
        "id": "ISzU1lqwWgqn"
      }
    },
    {
      "cell_type": "code",
      "source": [
        "%%R\n",
        "meta_sumstat %>%\n",
        "  ggplot(aes(x = POS, y = -log10(as.numeric(P.value))))+\n",
        "  geom_point(size = 1)+\n",
        "  geom_hline(yintercept = -log10(5e-8), linetype=\"dashed\", color = \"red\")+\n",
        "  labs(x = \"Position\", y = \"-log10(meta.p.value)\",\n",
        "       title = \"Marginal signficance of meta-analyzed summary statistics\")"
      ],
      "metadata": {
        "id": "THbtAhjnWhWn"
      },
      "execution_count": null,
      "outputs": []
    },
    {
      "cell_type": "markdown",
      "source": [
        "Population-specific P.value"
      ],
      "metadata": {
        "id": "lpv_Ebu2WmqK"
      }
    },
    {
      "cell_type": "code",
      "source": [
        "%%R\n",
        "meta_sumstat %>%\n",
        "  select(c(POS, EUR.P.value, AFR.P.value, HIS.P.value, EAS.P.value)) %>%\n",
        "  mutate(EUR.P.value = as.numeric(EUR.P.value),\n",
        "         AFR.P.value = as.numeric(AFR.P.value),\n",
        "         HIS.P.value = as.numeric(HIS.P.value),\n",
        "         EAS.P.value = as.numeric(EAS.P.value)) %>%\n",
        "  pivot_longer(cols = EUR.P.value:EAS.P.value,\n",
        "               names_to = \"pop\",\n",
        "               values_to = \"P.value\") %>%\n",
        "  ggplot(aes(x = POS, y = -log10(as.numeric(P.value))))+\n",
        "  geom_point(size = 1)+\n",
        "  geom_hline(yintercept = -log10(5e-8), linetype=\"dashed\", color = \"red\")+\n",
        "  facet_wrap(vars(pop), nrow = 2, scales = \"free_y\")+\n",
        "  labs(x = \"Position\", y = \"-log10(p.value)\",\n",
        "       title = \"Marginal signficance by population\")"
      ],
      "metadata": {
        "id": "q4XWfSNwWq2b"
      },
      "execution_count": null,
      "outputs": []
    },
    {
      "cell_type": "markdown",
      "source": [
        "Run various fine-mapping approaches"
      ],
      "metadata": {
        "id": "0HUoCr5rW7Bu"
      }
    },
    {
      "cell_type": "markdown",
      "source": [
        "#### mJAM-Forward"
      ],
      "metadata": {
        "id": "8W4Phaasa5xC"
      }
    },
    {
      "cell_type": "code",
      "source": [
        "%%R\n",
        "Marg_Result <- read.table(glue(input_dir, \"MultiPopulation_FineMapping/1_mJAM/data/Marg_results.txt\"), header = T)\n",
        "MAF_Result <- read.table(glue(input_dir, \"MultiPopulation_FineMapping/1_mJAM/data/MAF_results.txt\"), header = T)\n",
        "EUR_ONCO_dosage <- read.table(glue(input_dir, \"MultiPopulation_FineMapping/1_mJAM/data/EUR_ONCO_dosages.txt\"), header = T, check.names = F)\n",
        "AFR_ONCO_dosage <- read.table(glue(input_dir, \"MultiPopulation_FineMapping/1_mJAM/data/AFR_ONCO_dosages.txt\"), header = T, check.names = F)\n",
        "HIS_ONCO_dosage <- read.table(glue(input_dir, \"MultiPopulation_FineMapping/1_mJAM/data/HIS_ONCO_dosages.txt\"), header = T, check.names = F)\n",
        "EAS_ONCO_dosage <- read.table(glue(input_dir, \"MultiPopulation_FineMapping/1_mJAM/data/EAS_ONCO_dosages.txt\"), header = T, check.names = F)\n",
        "\n",
        "## sample size of discovery GWAS (as in summary statistics)\n",
        "N_cases_EUR <- 122188; N_ctrl_EUR <- 604640\n",
        "N_cases_AFR <- 19391; N_ctrl_AFR <- 61608\n",
        "N_cases_HIS <- 3931; N_ctrl_HIS <- 26405\n",
        "N_cases_EAS <- 10809; N_ctrl_EAS <- 95790\n",
        "N_GWAS_EUR <- 4/(1/N_cases_EUR + 1/N_ctrl_EUR)\n",
        "N_GWAS_AFR <- 4/(1/N_cases_AFR + 1/N_ctrl_AFR)\n",
        "N_GWAS_HIS <- 4/(1/N_cases_HIS + 1/N_ctrl_HIS)\n",
        "N_GWAS_EAS <- 4/(1/N_cases_EAS + 1/N_ctrl_EAS)"
      ],
      "metadata": {
        "id": "shbRxDbNW-Wi"
      },
      "execution_count": null,
      "outputs": []
    },
    {
      "cell_type": "markdown",
      "source": [
        "fit mJAM with forward selection"
      ],
      "metadata": {
        "id": "khkyFMxAY4be"
      }
    },
    {
      "cell_type": "code",
      "source": [
        "%%R\n",
        "mJAM_Forward_fit <- hJAM::mJAM_Forward(N_GWAS = c(N_GWAS_EUR, N_GWAS_AFR, N_GWAS_HIS, N_GWAS_EAS),\n",
        "                                       X_ref = list(EUR_ONCO_dosage, AFR_ONCO_dosage, HIS_ONCO_dosage, EAS_ONCO_dosage),\n",
        "                                       Marg_Result = Marg_Result,\n",
        "                                       EAF_Result = MAF_Result,\n",
        "                                       condp_cut = 5e-08,\n",
        "                                       within_pop_threshold = 0.20,\n",
        "                                       across_pop_threshold = 0.10)"
      ],
      "metadata": {
        "id": "w0mXWR1YY4BA"
      },
      "execution_count": null,
      "outputs": []
    },
    {
      "cell_type": "markdown",
      "source": [
        "index SNP's selected by mJAM_Forward"
      ],
      "metadata": {
        "id": "uuVD4u6hZnNL"
      }
    },
    {
      "cell_type": "code",
      "source": [
        "%%R\n",
        "mJAM_Forward_fit$index"
      ],
      "metadata": {
        "id": "xVz2mi9mZque"
      },
      "execution_count": null,
      "outputs": []
    },
    {
      "cell_type": "markdown",
      "source": [
        "utility function for plotting"
      ],
      "metadata": {
        "id": "UHgYU7N7ZsjA"
      }
    },
    {
      "cell_type": "code",
      "source": [
        "%%R\n",
        "plot_fine_mapping_res <- function(by.pop = FALSE,\n",
        "                                  selected_index,\n",
        "                                  cs_snp){\n",
        "\n",
        "  if(by.pop){\n",
        "    cs_snp_by_pop = cs_snp %>%\n",
        "      select(c(index_SNP, CS_SNP, is_index, POS, EUR.P.value, AFR.P.value, HIS.P.value, EAS.P.value)) %>%\n",
        "      mutate(EUR.P.value = as.numeric(EUR.P.value),\n",
        "             AFR.P.value = as.numeric(AFR.P.value),\n",
        "             HIS.P.value = as.numeric(HIS.P.value),\n",
        "             EAS.P.value = as.numeric(EAS.P.value)) %>%\n",
        "      pivot_longer(cols = EUR.P.value:EAS.P.value,\n",
        "                   names_to = \"pop\",\n",
        "                   values_to = \"P.value\")\n",
        "    meta_sumstat %>%\n",
        "      select(c(MarkerName, POS, EUR.P.value, AFR.P.value, HIS.P.value, EAS.P.value)) %>%\n",
        "      mutate(EUR.P.value = as.numeric(EUR.P.value),\n",
        "             AFR.P.value = as.numeric(AFR.P.value),\n",
        "             HIS.P.value = as.numeric(HIS.P.value),\n",
        "             EAS.P.value = as.numeric(EAS.P.value)) %>%\n",
        "      pivot_longer(cols = EUR.P.value:EAS.P.value,\n",
        "                   names_to = \"pop\",\n",
        "                   values_to = \"P.value\") %>%\n",
        "      ggplot(aes(x = POS, y = -log10(P.value)))+\n",
        "      geom_point(color=\"grey\", size  = 1.5)+\n",
        "      geom_point(aes(color = index_SNP, group = index_SNP), data = cs_snp_by_pop, size  = 1)+\n",
        "      geom_point(data = filter(cs_snp_by_pop, is_index == T),\n",
        "                 colour=\"red\", shape=1, size=1.5, stroke=1)+\n",
        "      geom_hline(yintercept = -log10(5e-8), linetype=\"dashed\", color = \"red\")+\n",
        "      facet_wrap(vars(pop), nrow = 2, scales = \"free_y\")+\n",
        "      labs(x = \"Position\", y = \"-log10(p.value)\",\n",
        "           title = \"Index SNPs and credible sets (by population)\")\n",
        "  }else{\n",
        "    meta_sumstat %>%\n",
        "      ggplot(aes(x = POS, y = -log10(as.numeric(P.value))))+\n",
        "      geom_point(color=\"grey\", size  = 1.5)+\n",
        "      geom_point(aes(color = index_SNP, group = index_SNP), data = cs_snp, size  = 1)+\n",
        "      geom_point(data = filter(cs_snp, is_index == T),\n",
        "                 colour=\"red\", shape=1, size=1.5, stroke=1)+\n",
        "      geom_hline(yintercept = -log10(5e-8), linetype=\"dashed\", color = \"red\")+\n",
        "      labs(x = \"Position\", y = \"-log10(p.value)\",\n",
        "           title = \"Index SNPs and credible sets\")\n",
        "  }\n",
        "\n",
        "}"
      ],
      "metadata": {
        "id": "W8M0Uh9pZw3e"
      },
      "execution_count": null,
      "outputs": []
    },
    {
      "cell_type": "markdown",
      "source": [
        "pull variants in mJAM-Forward credible sets"
      ],
      "metadata": {
        "id": "yjolQko8Z2QH"
      }
    },
    {
      "cell_type": "code",
      "source": [
        "%%R\n",
        "selected_index_forward <- mJAM_Forward_fit$index$SNP\n",
        "cs_snp_forward <- mJAM_Forward_fit$cs %>%\n",
        "  filter(CS_in == TRUE) %>%\n",
        "  left_join(meta_sumstat, by = c(\"CS_SNP\"=\"MarkerName\")) %>%\n",
        "  mutate(is_index = (index_SNP == CS_SNP)) %>%\n",
        "  left_join(tibble(index_SNP = selected_index_forward,\n",
        "                   oldname = meta_sumstat$MarkerName_old[match(selected_index_forward,meta_sumstat$MarkerName)],\n",
        "                   order = 1:length(selected_index_forward)), by = \"index_SNP\") %>%\n",
        "  mutate(index_SNP_legend = paste0(\"(#\",order,\")\",oldname)) %>%\n",
        "  select(-index_SNP) %>%\n",
        "  rename(index_SNP = index_SNP_legend)"
      ],
      "metadata": {
        "id": "BwUg6VGOZ4mp"
      },
      "execution_count": null,
      "outputs": []
    },
    {
      "cell_type": "markdown",
      "source": [
        " mJAM-Forward index SNPs and credible sets (meta P values)"
      ],
      "metadata": {
        "id": "ffkCyiGAaAlC"
      }
    },
    {
      "cell_type": "code",
      "source": [
        "%%R\n",
        "plot_fine_mapping_res(by.pop = FALSE,\n",
        "                      selected_index = selected_index_forward,\n",
        "                      cs_snp = cs_snp_forward)"
      ],
      "metadata": {
        "id": "OwU392x6aCpF"
      },
      "execution_count": null,
      "outputs": []
    },
    {
      "cell_type": "markdown",
      "source": [
        "mJAM-Forward index SNPs and credible sets (population-specific P values)"
      ],
      "metadata": {
        "id": "QoX5Xyc3aG04"
      }
    },
    {
      "cell_type": "code",
      "source": [
        "%%R\n",
        "plot_fine_mapping_res(by.pop = TRUE,\n",
        "                      selected_index = selected_index_forward,\n",
        "                      cs_snp = cs_snp_forward)"
      ],
      "metadata": {
        "id": "q3YB4O9CaI4F"
      },
      "execution_count": null,
      "outputs": []
    },
    {
      "cell_type": "markdown",
      "source": [
        "#### mJAM-SuSiE  "
      ],
      "metadata": {
        "id": "hne_XxeYaPQh"
      }
    },
    {
      "cell_type": "markdown",
      "source": [
        "fit mJAM with Sum of Single Effect (Bayesian feature selection)"
      ],
      "metadata": {
        "id": "tEKhjjVWaRzj"
      }
    },
    {
      "cell_type": "code",
      "source": [
        "%%R\n",
        "mJAM_SuSiE_fit <- hJAM::mJAM_SuSiE(Marg_Result = Marg_Result,\n",
        "                                   EAF_Result = MAF_Result,\n",
        "                                   N_GWAS = c(N_GWAS_EUR, N_GWAS_AFR, N_GWAS_HIS, N_GWAS_EAS),\n",
        "                                   X_ref = list(EUR_ONCO_dosage, AFR_ONCO_dosage, HIS_ONCO_dosage, EAS_ONCO_dosage))\n",
        "\n",
        "\n",
        "mJAM_SuSiE_CS_0.95_Output <- hJAM::mJAM_SuSiE_get_cs(mJAM_SuSiE_fit,0.95)"
      ],
      "metadata": {
        "id": "kTUUGJ6RaVUB"
      },
      "execution_count": null,
      "outputs": []
    },
    {
      "cell_type": "markdown",
      "source": [
        "pull mJAM-SuSiE index SNPs and credible sets"
      ],
      "metadata": {
        "id": "QQ84_xoOaZGO"
      }
    },
    {
      "cell_type": "code",
      "source": [
        "%%R\n",
        "selected_index_susie <- mJAM_SuSiE_CS_0.95_Output$index_SNP\n",
        "cs_snp_susie <- mJAM_SuSiE_CS_0.95_Output %>%\n",
        "  left_join(meta_sumstat, by = c(\"CS_SNP\"=\"MarkerName\")) %>%\n",
        "  mutate(is_index = (index_SNP == CS_SNP))"
      ],
      "metadata": {
        "id": "7awDV8VHabPw"
      },
      "execution_count": null,
      "outputs": []
    },
    {
      "cell_type": "markdown",
      "source": [
        "mJAM-SuSiE index SNPs and credible sets (meta P values)"
      ],
      "metadata": {
        "id": "mKOQcUE0ac8I"
      }
    },
    {
      "cell_type": "code",
      "source": [
        "%%R\n",
        "plot_fine_mapping_res(by.pop = FALSE,\n",
        "                      selected_index = selected_index_susie,\n",
        "                      cs_snp = cs_snp_susie)"
      ],
      "metadata": {
        "id": "E__ZJtBCagFp"
      },
      "execution_count": null,
      "outputs": []
    },
    {
      "cell_type": "markdown",
      "source": [
        " mJAM-SuSiE index SNPs and credible sets (population-specific P values)"
      ],
      "metadata": {
        "id": "hqTugb5wakpq"
      }
    },
    {
      "cell_type": "code",
      "source": [
        "%%R\n",
        "plot_fine_mapping_res(by.pop = TRUE,\n",
        "                      selected_index = selected_index_susie,\n",
        "                      cs_snp = cs_snp_susie)"
      ],
      "metadata": {
        "id": "SLdn9JttamNH"
      },
      "execution_count": null,
      "outputs": []
    },
    {
      "cell_type": "markdown",
      "source": [
        "## COJO"
      ],
      "metadata": {
        "id": "R9mvIgJzbURF"
      }
    },
    {
      "cell_type": "markdown",
      "source": [
        "Step 1: installation: https://yanglab.westlake.edu.cn/software/gcta/#Download"
      ],
      "metadata": {
        "id": "hAYCO5lTepHY"
      }
    },
    {
      "cell_type": "code",
      "source": [
        "%%bash\n",
        "wget https://yanglab.westlake.edu.cn/software/gcta/bin/gcta-1.94.1-linux-kernel-3-x86_64.zip && unzip gcta-1.94.1-linux-kernel-3-x86_64.zip"
      ],
      "metadata": {
        "id": "lefsklzfbiFg"
      },
      "execution_count": null,
      "outputs": []
    },
    {
      "cell_type": "code",
      "source": [
        "ls gcta-1.94.1-linux-kernel-3-x86_64/"
      ],
      "metadata": {
        "id": "3f0KPHUKbmTU"
      },
      "execution_count": null,
      "outputs": []
    },
    {
      "cell_type": "markdown",
      "source": [
        "Step 2: Running COJO using command line"
      ],
      "metadata": {
        "id": "GnD5v5maeuUO"
      }
    },
    {
      "cell_type": "code",
      "source": [
        "%%bash\n",
        "mkdir -p ${analysis_dir}/2_COJO/results/\n",
        "\n",
        "./gcta-1.94.1-linux-kernel-3-x86_64/gcta-1.94.1 \\\n",
        "--bfile ${input_dir}/MultiPopulation_FineMapping/2_COJO/data/12_109194870_110794870 \\\n",
        "--cojo-file ${input_dir}/MultiPopulation_FineMapping/2_COJO/data/12_109194870_110794870.ma \\\n",
        "--cojo-slct --cojo-p 5e-08 \\\n",
        "--out ${analysis_dir}/2_COJO/results/AllPopRes"
      ],
      "metadata": {
        "id": "avv-PHw_ew3w"
      },
      "execution_count": null,
      "outputs": []
    },
    {
      "cell_type": "markdown",
      "source": [
        "Read the results in R"
      ],
      "metadata": {
        "id": "88q4v9eyge2B"
      }
    },
    {
      "cell_type": "code",
      "source": [
        "%%R\n",
        "COJO_res <- read.table(glue(analysis_dir, \"2_COJO/results/AllPopRes\", \".jma.cojo\"),\n",
        "                       header = T, sep = '\\t')"
      ],
      "metadata": {
        "id": "xZ81iGwTgg1F"
      },
      "execution_count": null,
      "outputs": []
    },
    {
      "cell_type": "markdown",
      "source": [
        "note that COJO only provides index SNP selection"
      ],
      "metadata": {
        "id": "qDFcAemggrEa"
      }
    },
    {
      "cell_type": "code",
      "source": [
        "%%R\n",
        "COJO_res"
      ],
      "metadata": {
        "id": "E1Ju-yujgsal"
      },
      "execution_count": null,
      "outputs": []
    },
    {
      "cell_type": "markdown",
      "source": [
        " plot COJO index SNPs"
      ],
      "metadata": {
        "id": "M8sUTB4dgvuW"
      }
    },
    {
      "cell_type": "code",
      "source": [
        "%%R\n",
        "meta_sumstat %>%\n",
        "  ggplot(aes(x = POS, y = -log10(as.numeric(P.value))))+\n",
        "  geom_point(color = \"grey\")+\n",
        "  geom_point(data = meta_sumstat[meta_sumstat$MarkerName %in% COJO_res$SNP,],\n",
        "             color = 'black')+\n",
        "  geom_point(data = meta_sumstat[meta_sumstat$MarkerName %in% COJO_res$SNP,],\n",
        "             colour=\"red\", shape=1, size=2.5, stroke=1.5)+\n",
        "  geom_text(\n",
        "    data = meta_sumstat[match(COJO_res$SNP, meta_sumstat$MarkerName),],\n",
        "    label= COJO_res$SNP,\n",
        "    nudge_x = 0.25, nudge_y = 0.3, check_overlap = T, size = 2.5\n",
        "  )+\n",
        "  labs(x = \"Position\", y = \"-log10(P.value)\",\n",
        "       title = \"COJO index SNPs\")"
      ],
      "metadata": {
        "id": "uO2KDZn6gyM9"
      },
      "execution_count": null,
      "outputs": []
    },
    {
      "cell_type": "markdown",
      "source": [
        "## MsCAVIAR"
      ],
      "metadata": {
        "id": "8sn9IVLkMjyt"
      }
    },
    {
      "cell_type": "markdown",
      "source": [
        "Step1: installation: https://github.com/nlapier2/MsCAVIAR"
      ],
      "metadata": {
        "id": "uvRRX8TZifvm"
      }
    },
    {
      "cell_type": "code",
      "source": [
        "%%bash\n",
        "git clone https://github.com/nlapier2/MsCAVIAR.git && cd MsCAVIAR/ && make"
      ],
      "metadata": {
        "id": "LTz_IwnAQHul"
      },
      "execution_count": null,
      "outputs": []
    },
    {
      "cell_type": "markdown",
      "source": [
        "Step 2: prepare files for MsCAVIAR"
      ],
      "metadata": {
        "id": "2gKSTJ2dilXw"
      }
    },
    {
      "cell_type": "code",
      "source": [
        "%%R\n",
        "msCAVIAR_Dir = glue(input_dir, \"/MultiPopulation_FineMapping/3_msCAVIAR/data/\")\n",
        "msCAVIAR_output_Dir = glue(analysis_dir, \"3_msCAVIAR/results/\")\n",
        "dir.create(msCAVIAR_output_Dir, recursive=TRUE)"
      ],
      "metadata": {
        "id": "gZri5ey0RnOc"
      },
      "execution_count": null,
      "outputs": []
    },
    {
      "cell_type": "markdown",
      "source": [
        "LD and zscores for each population"
      ],
      "metadata": {
        "id": "Gq94pfaTjeSc"
      }
    },
    {
      "cell_type": "code",
      "source": [
        "%%R\n",
        "all.files = list.files(path = msCAVIAR_Dir)\n",
        "ld.files = all.files[ endsWith(all.files, paste0(\"_LD.txt\")) ]\n",
        "write.table(paste0(msCAVIAR_Dir, ld.files), paste0(msCAVIAR_Dir, \"ld.files.txt\"), quote = F, col.names = F, row.names = F)\n",
        "zscore.files = all.files[ endsWith(all.files, paste0(\"_zscore.txt\")) ]\n",
        "write.table(paste0(msCAVIAR_Dir, zscore.files), paste0(msCAVIAR_Dir, \"zscore.files.txt\"), quote = F,  col.names = F, row.names = F)\n",
        "\n",
        "N_Sample = c(N_GWAS_EUR, N_GWAS_AFR, N_GWAS_HIS, N_GWAS_EAS)"
      ],
      "metadata": {
        "id": "1X81O9HdTERn"
      },
      "execution_count": null,
      "outputs": []
    },
    {
      "cell_type": "markdown",
      "source": [
        "Step 3: run MsCAVIAR using command line tool or in R"
      ],
      "metadata": {
        "id": "U8bk38Cbkkd3"
      }
    },
    {
      "cell_type": "code",
      "source": [
        "%%R\n",
        "system(paste0(\"/content/MsCAVIAR//MsCAVIAR -l \",\n",
        "              paste0( msCAVIAR_Dir, \"ld.files.txt\"),\n",
        "              \" -z \", paste0( msCAVIAR_Dir, \"zscore.files.txt\"),\n",
        "              \" -n \", paste(round(N_Sample), collapse = \",\"),\n",
        "              \" -o \", paste0(msCAVIAR_output_Dir, \"output_12_109194870_110794870\"),\n",
        "              \" -c \", 1), intern = T) ## allow max causal = 1"
      ],
      "metadata": {
        "id": "X76HMiSjkk4C"
      },
      "execution_count": null,
      "outputs": []
    },
    {
      "cell_type": "markdown",
      "source": [
        "Step 4: read MsCAVIAR results"
      ],
      "metadata": {
        "id": "lsqdqolJk2ww"
      }
    },
    {
      "cell_type": "code",
      "source": [
        "%%R\n",
        "mscaviar_cs_snps = read.table(paste0(msCAVIAR_output_Dir, \"output_12_109194870_110794870_set.txt\"), sep = \"\\t\", header=F)\n",
        "mscaviar_pip = read.table(paste0(msCAVIAR_output_Dir, \"output_12_109194870_110794870_post.txt\"), sep = \"\\t\", header=T)\n",
        "mscaviar_index = mscaviar_pip %>%\n",
        "  left_join(meta_sumstat[,c(\"MarkerName\", \"MarkerName_old\")], by = c(\"SNP_ID\" = \"MarkerName\")) %>%\n",
        "  arrange(desc(Prob_in_pCausalSet)) %>% head(1) %>% pull(MarkerName_old)"
      ],
      "metadata": {
        "id": "WTGzYKNjk3ix"
      },
      "execution_count": null,
      "outputs": []
    },
    {
      "cell_type": "markdown",
      "source": [
        " Step 5: plot MsCAVIAR results"
      ],
      "metadata": {
        "id": "l0jEhSYXmC53"
      }
    },
    {
      "cell_type": "code",
      "source": [
        "%%R\n",
        "meta_sumstat %>%\n",
        "  ggplot(aes(x = POS, y = -log10(as.numeric(P.value))))+\n",
        "  geom_point(color = \"grey\")+\n",
        "  geom_point(data = filter(meta_sumstat, MarkerName %in% mscaviar_cs_snps$V1) ,\n",
        "             color = \"blue\")+\n",
        "  geom_point(data = filter(meta_sumstat,  MarkerName_old %in% mscaviar_index),\n",
        "             colour=\"red\", shape=1, size=2.5, stroke=1.5)+\n",
        "  geom_label(\n",
        "    data = filter(meta_sumstat,  MarkerName_old %in% mscaviar_index),\n",
        "    label= mscaviar_index,\n",
        "    nudge_x = 0.25, nudge_y = 0.9, size = 4\n",
        "  )+\n",
        "  geom_hline(yintercept = -log10(5e-8), linetype=\"dashed\", color = \"red\")+\n",
        "  labs(x = \"Position\", y = \"-log10(meta P.value)\", title = \"MsCAVIAR index SNPs and credible sets\")"
      ],
      "metadata": {
        "id": "ZW8Bzz04mEuU"
      },
      "execution_count": null,
      "outputs": []
    },
    {
      "cell_type": "markdown",
      "source": [
        "# Genomewide PRS"
      ],
      "metadata": {
        "id": "H4Id6JcYmTmX"
      }
    },
    {
      "cell_type": "markdown",
      "source": [
        "## Multi-population GW PRS with PRS-CSx"
      ],
      "metadata": {
        "id": "05P_svsJoKAI"
      }
    },
    {
      "cell_type": "markdown",
      "source": [
        "Step1: PRS-CSx installation https://github.com/getian107/PRScsx\n",
        "\n",
        "Please note that the h5py and scipy libraries might be needed in your own runtime (they are pre-installed in the colab runtime)."
      ],
      "metadata": {
        "id": "NWwJ9k4soPk_"
      }
    },
    {
      "cell_type": "code",
      "source": [
        "%%bash\n",
        "git clone https://github.com/getian107/PRScsx.git\n"
      ],
      "metadata": {
        "id": "-mp5QgjpogDw"
      },
      "execution_count": null,
      "outputs": []
    },
    {
      "cell_type": "markdown",
      "source": [
        "Step2: take a look at population-specific PCa summary statistics on chr22"
      ],
      "metadata": {
        "id": "mnAQnGMxpAqB"
      }
    },
    {
      "cell_type": "code",
      "source": [
        "%%R -i input_dir -i analysis_dir\n",
        "library(glue)\n",
        "library(tidyverse)\n",
        "sumstat_EUR <- read.table(glue(input_dir, \"Genomewide_PRS/data/summaryStats_hm3_chr22.EUR.txt\"), header = T)\n",
        "head(sumstat_EUR)"
      ],
      "metadata": {
        "id": "E2LX4UynpDPn"
      },
      "execution_count": null,
      "outputs": []
    },
    {
      "cell_type": "markdown",
      "source": [
        "Step3: Run PRS-CSx script using command line - this step takes more than an hour to run on the free version of colab. So we provide the commented out code here but will be using pre-run results for the rest of the tutorial"
      ],
      "metadata": {
        "id": "_7GFqVq2pnS6"
      }
    },
    {
      "cell_type": "code",
      "source": [
        "%%bash\n",
        "# mkdir -p ${analysis_dir}/Genomewide_PRS/results/\n",
        "\n",
        "# python /content/PRScsx/PRScsx.py \\\n",
        "#  --ref_dir=${input_dir}/Genomewide_PRS/ldRefPanel/ \\\n",
        "#  --bim_prefix=${input_dir}/Genomewide_PRS/data/H3.hm3.chr22.rsid \\\n",
        "#  --sst_file=${input_dir}/Genomewide_PRS/data/summaryStats_hm3_chr22.AFR.txt,${input_dir}/Genomewide_PRS/data/summaryStats_hm3_chr22.EUR.txt,${input_dir}/Genomewide_PRS/data/summaryStats_hm3_chr22.EAS.txt,${input_dir}/Genomewide_PRS/data/summaryStats_hm3_chr22.HIS.txt \\\n",
        "#  --n_gwas=58995,406587,38851,13686 \\\n",
        "#  --pop=AFR,EUR,EAS,AMR \\\n",
        "#  --meta=TRUE \\\n",
        "#  --chrom=22 \\\n",
        "#  --out_dir=${analysis_dir}/Genomewide_PRS/results/ \\\n",
        "#  --out_name=test_chr22"
      ],
      "metadata": {
        "id": "PfhohljippZ_"
      },
      "execution_count": null,
      "outputs": []
    },
    {
      "cell_type": "markdown",
      "source": [
        "Step4: read results\n",
        "Note that we are reading in the pre-generated results here, please change the file path if you have run the PRS-CSx script"
      ],
      "metadata": {
        "id": "6sUCuUfq2nHc"
      }
    },
    {
      "cell_type": "code",
      "source": [
        "%%R\n",
        "prscsx_res <- read.table(glue(input_dir, \"Genomewide_PRS/results/test_chr22_META_pst_eff_a1_b0.5_phiauto_chr22.txt\"), header = F)\n",
        "colnames(prscsx_res) <- c(\"chr\", \"rsid\", \"pos\", \"effect.allele\", \"other.allele\", \"prscsx_weight\")\n",
        "head(prscsx_res)"
      ],
      "metadata": {
        "id": "dqlhbOXY2trd"
      },
      "execution_count": null,
      "outputs": []
    },
    {
      "cell_type": "markdown",
      "source": [
        "Step5: visualize weights before vs after PRS-CSx"
      ],
      "metadata": {
        "id": "Ydr43n4z3Mxa"
      }
    },
    {
      "cell_type": "code",
      "source": [
        "%%R\n",
        "meta_sumstat_chr22 <- read.table(glue(input_dir,\"Genomewide_PRS/data/meta_summaryStats_hm3_chr22.txt\"), header = T)\n",
        "\n",
        "meta_sumstat_chr22 %>%\n",
        "  left_join(prscsx_res, by = c(\"chr\",\"pos\",\"rsid\")) %>%\n",
        "  mutate(flip_prscsx_weight = (Allele1 == other.allele),\n",
        "         prscsx_weight_flipped = ifelse(flip_prscsx_weight, (-1)*prscsx_weight, prscsx_weight)) %>%\n",
        "  ggplot(aes(x = pos))+\n",
        "  geom_point(aes(y = abs(Effect)), alpha = 0.5, size=1, color = \"grey\")+\n",
        "  geom_point(aes(y = abs(prscsx_weight_flipped)), alpha = 0.5, size=1, color = \"blue\")+\n",
        "  labs(title = \"PRS-CSx weights (blue) vs Marginal effect sizes (grey)\",\n",
        "       y = \"weight\", x = \"position on chr22\")"
      ],
      "metadata": {
        "id": "BNgvcwVR3O6p"
      },
      "execution_count": null,
      "outputs": []
    },
    {
      "cell_type": "markdown",
      "source": [
        "# PRS Evaluation"
      ],
      "metadata": {
        "id": "pS4uapAW3bIz"
      }
    },
    {
      "cell_type": "markdown",
      "source": [
        " ### Import Libraries"
      ],
      "metadata": {
        "id": "1i5r5vjS3lHZ"
      }
    },
    {
      "cell_type": "markdown",
      "source": [
        "Install pROC"
      ],
      "metadata": {
        "id": "uRzS1BEIISEL"
      }
    },
    {
      "cell_type": "code",
      "source": [
        "%%R\n",
        "install.packages(\"pROC\")"
      ],
      "metadata": {
        "id": "k3GYVaunIDH7"
      },
      "execution_count": null,
      "outputs": []
    },
    {
      "cell_type": "code",
      "source": [
        "%%R -i analysis_dir -i input_dir\n",
        "library(dplyr)\n",
        "library(ggplot2)\n",
        "library(tidyr)\n",
        "library(purrr) # purrr function\n",
        "library(pROC) # roc for glm models\n",
        "library(stringr)"
      ],
      "metadata": {
        "id": "RvU5-1Lo3jBS"
      },
      "execution_count": null,
      "outputs": []
    },
    {
      "cell_type": "markdown",
      "source": [
        "### Define Global Vars"
      ],
      "metadata": {
        "id": "TBPKb9BFC2Hc"
      }
    },
    {
      "cell_type": "code",
      "source": [
        "%%R\n",
        "data.loc = glue(input_dir, \"PRS_Evaluation/\")\n",
        "data.loc"
      ],
      "metadata": {
        "id": "fGMQBKuTC2rC"
      },
      "execution_count": null,
      "outputs": []
    },
    {
      "cell_type": "markdown",
      "source": [
        "### Define Functions"
      ],
      "metadata": {
        "id": "7delVRjxC8Fe"
      }
    },
    {
      "cell_type": "code",
      "source": [
        "%%R\n",
        "\n",
        "# pull the weights needed for the PRS calculation for each variant from meta-data (pull info for dosage)\n",
        "row_pull = function(in.chr, in.pos, in.ref, in.alt, wt.df.name){\n",
        "  wt.df = get(wt.df.name)\n",
        "\n",
        "    wt.df[wt.df$chr == in.chr & wt.df$pos == in.pos &\n",
        "            ((wt.df$effect_allele == in.ref & wt.df$other_allele == in.alt) |\n",
        "               (wt.df$other_allele == in.ref & wt.df$effect_allele == in.alt)), ]\n",
        "}\n",
        "\n",
        "# flip dosages in dosage file to reflect added risk\n",
        "correct_dosage = function(in.dosage){\n",
        "  chrpos.tmp = cur_column()\n",
        "  # compare risk allele against alt and flip if mismatch (check what alt refers to: )\n",
        "  if (meta.data.wts[meta.data.wts$chr_pos_alt_ref == chrpos.tmp, \"wt_flip\"][[1]] == 1){\n",
        "    abs(in.dosage-2)\n",
        "  } else {\n",
        "    in.dosage\n",
        "  }\n",
        "}"
      ],
      "metadata": {
        "id": "-Y8Oi0qyC8q-"
      },
      "execution_count": null,
      "outputs": []
    },
    {
      "cell_type": "markdown",
      "source": [
        "### Import Data"
      ],
      "metadata": {
        "id": "M3hQqQq1C_1Z"
      }
    },
    {
      "cell_type": "code",
      "source": [
        "%%R\n",
        "\n",
        "dta.pc.dosage =\n",
        "  glue(data.loc, \"dta_PC_PRS_dosage.rds\") %>%\n",
        "  readRDS()\n",
        "\n",
        "dta.meta.data =\n",
        "  glue(data.loc, \"dta.PC.MetaData.rds\") %>%\n",
        "  readRDS()\n",
        "\n",
        "# remove effect_weight_new\n",
        "PRS.weights.data =\n",
        "  glue(data.loc, \"PRS.weights.rds\") %>%\n",
        "  readRDS()"
      ],
      "metadata": {
        "id": "CieimswNDDiH"
      },
      "execution_count": null,
      "outputs": []
    },
    {
      "cell_type": "markdown",
      "source": [
        "look at all the data to get an idea of what it is"
      ],
      "metadata": {
        "id": "KpfT9LmEDIPc"
      }
    },
    {
      "cell_type": "code",
      "source": [
        "%%R\n",
        "dta.pc.dosage[1:10,1:30] %>% as.data.frame()"
      ],
      "metadata": {
        "id": "gDvffaEQDI0N"
      },
      "execution_count": null,
      "outputs": []
    },
    {
      "cell_type": "code",
      "source": [
        "%%R\n",
        "dta.pc.dosage %>% group_by(eth, cancer) %>% tally()"
      ],
      "metadata": {
        "id": "gBLuNYldDMQf"
      },
      "execution_count": null,
      "outputs": []
    },
    {
      "cell_type": "code",
      "source": [
        "%%R\n",
        "dta.meta.data %>% head() %>% as.data.frame()"
      ],
      "metadata": {
        "id": "n8bbc4r4DO3R"
      },
      "execution_count": null,
      "outputs": []
    },
    {
      "cell_type": "code",
      "source": [
        "%%R\n",
        "PRS.weights.data %>% head %>% as.data.frame()"
      ],
      "metadata": {
        "id": "QkZUy5UEDQ_U"
      },
      "execution_count": null,
      "outputs": []
    },
    {
      "cell_type": "markdown",
      "source": [
        "### Prep Data"
      ],
      "metadata": {
        "id": "9rI13rtQDVyc"
      }
    },
    {
      "cell_type": "markdown",
      "source": [
        "1) append the weights information (from literature) to our meta-data file"
      ],
      "metadata": {
        "id": "eL2lrRqEDjUN"
      }
    },
    {
      "cell_type": "code",
      "source": [
        "%%R\n",
        "meta.data.wts =\n",
        "  dta.meta.data %>%\n",
        "  # use our function to create a new column with weights from the weights file\n",
        "  # this is basically merging based on chromosome, position, allele 1, and allele 2, it is a\n",
        "  # custom function to handle multialleleic cases\n",
        "  mutate(prs_info = pmap(.f=row_pull, list(CHR, POS, REF, ALT, \"PRS.weights.data\")),\n",
        "         prs_info_n = prs_info %>% map_int(.f=function(x){nrow(x)})) %>%\n",
        "  unnest_wider(prs_info, names_sep=\"_\") %>%\n",
        "  # filter out variants from our meta-data that we are not interested in\n",
        "  filter(prs_info_n == 1) %>%\n",
        "\n",
        "  # identify what variants need to have their dosage transformed to reflect added risk\n",
        "  # for PRS calculation\n",
        "  mutate(wt_flip = ifelse(prs_info_effect_allele != ALT, 1, 0))\n",
        "\n",
        "meta.data.wts %>% head %>% as.data.frame()"
      ],
      "metadata": {
        "id": "67yTrYMeDnyL"
      },
      "execution_count": null,
      "outputs": []
    },
    {
      "cell_type": "markdown",
      "source": [
        "2) use our wt_flip variable to recode the dosages as \"risk\" based on meta-data file"
      ],
      "metadata": {
        "id": "ioOsZPRyDqaI"
      }
    },
    {
      "cell_type": "code",
      "source": [
        "%%R\n",
        "dta.pc.dosage.risk =\n",
        "  dta.pc.dosage %>%\n",
        "  # select all covariates from individual-level dosage file, then select all\n",
        "  # variants in our meta data file (variants to be used in the PRS calculation)\n",
        "  select(-contains(\":\"), meta.data.wts$chr_pos_alt_ref) %>%\n",
        "  # mutate across all dosages (chrpos), pass to flip function that returns transformed dosage vector\n",
        "  mutate(across(contains(\":\"), correct_dosage))"
      ],
      "metadata": {
        "id": "JpPGHQY5DsQ5"
      },
      "execution_count": null,
      "outputs": []
    },
    {
      "cell_type": "markdown",
      "source": [
        "### PRS Calculation"
      ],
      "metadata": {
        "id": "i5hUM3vaDx3Q"
      }
    },
    {
      "cell_type": "markdown",
      "source": [
        "calculate unweighted PRS\n",
        "\n",
        "create a new variable prs_uwt which is just a sum of all PRS risk alleles, across all variants"
      ],
      "metadata": {
        "id": "gdThKFqtD1qo"
      }
    },
    {
      "cell_type": "code",
      "source": [
        "%%R\n",
        "dta.pc.dosage.risk$prs_uwt =\n",
        "  dta.pc.dosage.risk %>%\n",
        "  select(meta.data.wts$chr_pos_alt_ref) %>%\n",
        "  as.matrix() %>%\n",
        "  apply(., 1, sum)"
      ],
      "metadata": {
        "id": "dQ7yy9lnD5sK"
      },
      "execution_count": null,
      "outputs": []
    },
    {
      "cell_type": "markdown",
      "source": [
        "calculate weighted PRS\n",
        "\n",
        "Sum all risk alleles, after applying weights to each variant, done using matrix multiplication"
      ],
      "metadata": {
        "id": "6G77sltxD8rE"
      }
    },
    {
      "cell_type": "code",
      "source": [
        "%%R\n",
        "dta.pc.dosage.risk$prs_wtd =\n",
        "  c(as.matrix(select(dta.pc.dosage.risk, meta.data.wts$chr_pos_alt_ref)) %*% meta.data.wts$prs_info_effect_weight)"
      ],
      "metadata": {
        "id": "zNLemtSuD_qt"
      },
      "execution_count": null,
      "outputs": []
    },
    {
      "cell_type": "markdown",
      "source": [
        "### Descriptives of PRS"
      ],
      "metadata": {
        "id": "lI766UEYEFNZ"
      }
    },
    {
      "cell_type": "code",
      "source": [
        "%%R\n",
        "dta.pc.dosage.risk %>%\n",
        "  ggplot(aes(x=prs_wtd, color=as.factor(cancer)))+\n",
        "  geom_density() +\n",
        "  facet_wrap(~eth)"
      ],
      "metadata": {
        "id": "zqNK0z4mELJc"
      },
      "execution_count": null,
      "outputs": []
    },
    {
      "cell_type": "code",
      "source": [
        "%%R\n",
        "dta.pc.dosage.risk %>%\n",
        "  ggplot(aes(x=prs_wtd, fill=eth, color=eth))+\n",
        "  geom_density(alpha=.5)"
      ],
      "metadata": {
        "id": "KWjjU2fdGrxk"
      },
      "execution_count": null,
      "outputs": []
    },
    {
      "cell_type": "markdown",
      "source": [
        "## Apply Standardization Techniques"
      ],
      "metadata": {
        "id": "RQAKtI7VGxM8"
      }
    },
    {
      "cell_type": "markdown",
      "source": [
        "## Ancestry-Residual Model for removal of \"relatedness/ancestry\" variation in PRS"
      ],
      "metadata": {
        "id": "KN5wxktKG4Q6"
      }
    },
    {
      "cell_type": "code",
      "source": [
        "%%R\n",
        "dta.pc.dosage.risk$mdl.resid =\n",
        "  lm(data=dta.pc.dosage.risk,\n",
        "     formula = as.formula(\"prs_wtd ~ V1 + V2 + V3 + V4 + V5 + V6 + V7 + V8 + V9 + V10\"))$residuals"
      ],
      "metadata": {
        "id": "AsXYo6a8G74r"
      },
      "execution_count": null,
      "outputs": []
    },
    {
      "cell_type": "markdown",
      "source": [
        "standardize new 'residualized PRS\""
      ],
      "metadata": {
        "id": "49xVDeEWG-o_"
      }
    },
    {
      "cell_type": "code",
      "source": [
        "%%R\n",
        "prs_resid_stats =\n",
        "  dta.pc.dosage.risk %>%\n",
        "  # select controls\n",
        "  filter(cancer == 0) %>%\n",
        "  summarise(mean_prs_resid = mean(mdl.resid), sd_prs_resid = sd(mdl.resid))"
      ],
      "metadata": {
        "id": "UM_oe8wxHBlj"
      },
      "execution_count": null,
      "outputs": []
    },
    {
      "cell_type": "code",
      "source": [
        "%%R\n",
        "dta.pc.dosage.risk$prs_mdl_resid_std =\n",
        "  (dta.pc.dosage.risk$mdl.resid - prs_resid_stats$mean_prs_resid)/prs_resid_stats$sd_prs_resid"
      ],
      "metadata": {
        "id": "cuB_UkIBHEwr"
      },
      "execution_count": null,
      "outputs": []
    },
    {
      "cell_type": "markdown",
      "source": [
        "Standardized within Race/Eth"
      ],
      "metadata": {
        "id": "_HJtmua-HHem"
      }
    },
    {
      "cell_type": "code",
      "source": [
        "%%R\n",
        "prs_eth_stats_eth =\n",
        "  dta.pc.dosage.risk %>%\n",
        "  # select controls\n",
        "  filter(cancer == 0) %>%\n",
        "  group_by(eth) %>%\n",
        "  summarise(mean_prs_wts_eth = mean(prs_wtd), sd_prs_wtd_eth = sd(prs_wtd))"
      ],
      "metadata": {
        "id": "rLnj28zGHKK0"
      },
      "execution_count": null,
      "outputs": []
    },
    {
      "cell_type": "code",
      "source": [
        "%%R\n",
        "prs_eth_stats_combined =\n",
        "  dta.pc.dosage.risk %>%\n",
        "  # select controls\n",
        "  filter(cancer == 0) %>%\n",
        "  summarise(mean_prs_wts_combined = mean(prs_wtd), sd_prs_wtd_combined = sd(prs_wtd))"
      ],
      "metadata": {
        "id": "tBP0rGF7HMvM"
      },
      "execution_count": null,
      "outputs": []
    },
    {
      "cell_type": "code",
      "source": [
        "%%R\n",
        "dta.pc.dosage.risk =\n",
        "  dta.pc.dosage.risk %>%\n",
        "  left_join(prs_eth_stats_eth) %>%\n",
        "  mutate(prs_wtd_eth_std = (prs_wtd - mean_prs_wts_eth)/sd_prs_wtd_eth,\n",
        "         prs_wtd_std = (prs_wtd - prs_eth_stats_combined$mean_prs_wts_combined)/\n",
        "           prs_eth_stats_combined$sd_prs_wtd_combined)"
      ],
      "metadata": {
        "id": "phxI45cfHPbG"
      },
      "execution_count": null,
      "outputs": []
    },
    {
      "cell_type": "markdown",
      "source": [
        "## Compare All Types of PRS we estimated"
      ],
      "metadata": {
        "id": "oDEJ6Ta0HSPc"
      }
    },
    {
      "cell_type": "markdown",
      "source": [
        "compare prs distributions across race/eth, combined, among controls"
      ],
      "metadata": {
        "id": "C2pRrRQHHWax"
      }
    },
    {
      "cell_type": "code",
      "source": [
        "%%R\n",
        "prs.compare.plt.data =\n",
        "  rbind(dta.pc.dosage.risk %>% select(prs_wtd_std, prs_wtd_eth_std, prs_mdl_resid_std) %>%\n",
        "          mutate(eth = \"Combined\"),\n",
        "        dta.pc.dosage.risk %>% select(prs_wtd_std, prs_wtd_eth_std, prs_mdl_resid_std, eth)) %>%\n",
        "  pivot_longer(starts_with(\"prs\"), values_to = \"PRS_Value\", names_to = \"PRS_type\")"
      ],
      "metadata": {
        "id": "n5f-OCF2HVYp"
      },
      "execution_count": null,
      "outputs": []
    },
    {
      "cell_type": "code",
      "source": [
        "%%R\n",
        "prs.compare.plt.data %>%\n",
        "  ggplot(aes(x=PRS_Value, color=PRS_type, fill=PRS_type))+\n",
        "  geom_density(alpha=.4) +\n",
        "  facet_wrap(~eth, nrow = 1)"
      ],
      "metadata": {
        "id": "W7lKM5DrHaon"
      },
      "execution_count": null,
      "outputs": []
    },
    {
      "cell_type": "code",
      "source": [
        "%%R\n",
        "prs.compare.plt.data %>%\n",
        "  ggplot(aes(x=PRS_Value, color=eth, fill=eth))+\n",
        "  geom_density(alpha=.4) +\n",
        "  facet_wrap(~PRS_type, nrow = 1)"
      ],
      "metadata": {
        "id": "Tah0AVmXHdXX"
      },
      "execution_count": null,
      "outputs": []
    },
    {
      "cell_type": "markdown",
      "source": [
        "## Regression Analysis"
      ],
      "metadata": {
        "id": "YyVNkbsVHhhO"
      }
    },
    {
      "cell_type": "markdown",
      "source": [
        "Simple PRS model with age and PC adjustment"
      ],
      "metadata": {
        "id": "FECfYm3VHjOp"
      }
    },
    {
      "cell_type": "code",
      "source": [
        "%%R\n",
        "# define formula\n",
        "fm = as.formula(\"cancer ~ prs_wtd_std + age_draw + V1 + V2 + V3 + V4 + V5 + V6\")\n",
        "\n",
        "# fit model\n",
        "res = glm(fm, data = dta.pc.dosage.risk, binomial(link='logit'))\n",
        "res"
      ],
      "metadata": {
        "id": "BcN1V6AfHoe8"
      },
      "execution_count": null,
      "outputs": []
    },
    {
      "cell_type": "markdown",
      "source": [
        "view coefficient results as data.frame"
      ],
      "metadata": {
        "id": "L4OXMTgvHq5o"
      }
    },
    {
      "cell_type": "code",
      "source": [
        "%%R\n",
        "res %>% summary() %>% pluck(\"coefficients\") %>% as.data.frame()"
      ],
      "metadata": {
        "id": "JnxshCRZHs1j"
      },
      "execution_count": null,
      "outputs": []
    },
    {
      "cell_type": "markdown",
      "source": [
        "check aic"
      ],
      "metadata": {
        "id": "h9HvkZarHu-T"
      }
    },
    {
      "cell_type": "code",
      "source": [
        "%%R\n",
        "res$aic"
      ],
      "metadata": {
        "id": "t-tTC-7VHw7G"
      },
      "execution_count": null,
      "outputs": []
    },
    {
      "cell_type": "markdown",
      "source": [
        "check AUC"
      ],
      "metadata": {
        "id": "R7QcRc1WHy1f"
      }
    },
    {
      "cell_type": "code",
      "source": [
        "%%R\n",
        "res_pred_prob = predict(res, newdata = dta.pc.dosage.risk, type = \"response\")\n",
        "roc(dta.pc.dosage.risk$cancer ~ res_pred_prob, plot = TRUE, print.auc = TRUE)"
      ],
      "metadata": {
        "id": "Y95YH6sgH0-B"
      },
      "execution_count": null,
      "outputs": []
    },
    {
      "cell_type": "markdown",
      "source": [
        "AUC is 0.7075, lets compare against a model with the covariates (which may be the ones actually producing a high auc)"
      ],
      "metadata": {
        "id": "st-czmbaH66b"
      }
    },
    {
      "cell_type": "markdown",
      "source": [
        "fit model"
      ],
      "metadata": {
        "id": "tVTqiSHTH9KA"
      }
    },
    {
      "cell_type": "code",
      "source": [
        "%%R\n",
        "null.mdl.res = glm(as.formula(\"cancer ~ age_draw + V1 + V2 + V3 + V4 + V5 + V6\"),\n",
        "                   data = dta.pc.dosage.risk, binomial(link='logit'))\n",
        "\n",
        "res_pred_prob_null_mdl = predict(null.mdl.res, newdata = dta.pc.dosage.risk, type = \"response\")\n",
        "roc(dta.pc.dosage.risk$cancer ~ res_pred_prob_null_mdl, plot = TRUE, print.auc = TRUE)"
      ],
      "metadata": {
        "id": "paJvAt5SH_6Y"
      },
      "execution_count": null,
      "outputs": []
    },
    {
      "cell_type": "markdown",
      "source": [
        "the null model produces an AUC of 0.5832, versus including PRS which is .71, this is a considerable increase due to PRS."
      ],
      "metadata": {
        "id": "C-C7LSTiIDkv"
      }
    },
    {
      "cell_type": "markdown",
      "source": [
        "## Compare a variety of models"
      ],
      "metadata": {
        "id": "5XHhgcLjIGls"
      }
    },
    {
      "cell_type": "markdown",
      "source": [
        "prs terms to evaluate: prs_wtd_std, prs_wtd_eth_std, prs_mdl_resid_std"
      ],
      "metadata": {
        "id": "KRLbnpClILJW"
      }
    },
    {
      "cell_type": "markdown",
      "source": [
        "function to run regression and pull PRS term and other fit stats"
      ],
      "metadata": {
        "id": "8z-wCarFINSb"
      }
    },
    {
      "cell_type": "code",
      "source": [
        "%%R\n",
        "fit_prs_models = function(in.model, in.eth, in.df.name){\n",
        "  dta.tmp = get(in.df.name)\n",
        "\n",
        "  # filter data\n",
        "  if (in.eth != \"Combined\"){\n",
        "    dta.tmp =\n",
        "      dta.tmp %>%\n",
        "      filter(eth == in.eth)\n",
        "  }\n",
        "\n",
        "  # fit model:\n",
        "  res = glm(as.formula(in.model), data = dta.tmp, binomial(link='logit'))\n",
        "\n",
        "  # extract prs terms\n",
        "  res.df =\n",
        "    res %>% summary() %>% pluck(\"coefficients\") %>% as.data.frame() %>%\n",
        "    mutate(var = row.names(.)) %>%\n",
        "    filter(grepl(\"prs_\", var))\n",
        "\n",
        "  # check aic\n",
        "  res.df$aic = res$aic\n",
        "\n",
        "  # check AUC\n",
        "  res_pred_prob = predict(res, newdata = dta.pc.dosage.risk, type = \"response\")\n",
        "  res.df$auc = roc(dta.pc.dosage.risk$cancer ~ res_pred_prob, plot = F, print.auc = F)$auc[[1]]\n",
        "\n",
        "  return(res.df)\n",
        "}"
      ],
      "metadata": {
        "id": "6GYF779lISJ8"
      },
      "execution_count": null,
      "outputs": []
    },
    {
      "cell_type": "markdown",
      "source": [
        "function to help build results/models data frame"
      ],
      "metadata": {
        "id": "g4JqqzctIV1k"
      }
    },
    {
      "cell_type": "code",
      "source": [
        "%%R\n",
        "dup_over = function(in.df, in.varname, in.levels){\n",
        "  in.df = in.df %>%\n",
        "    mutate(tmp_in_varname = 1 %>%\n",
        "             map(.f=function(x){data.frame(tmp_in_varname=in.levels)})) %>%\n",
        "    unnest(tmp_in_varname)\n",
        "\n",
        "  names(in.df)[names(in.df)==\"tmp_in_varname\"] = in.varname\n",
        "  in.df\n",
        "}"
      ],
      "metadata": {
        "id": "eItfI8CeIXj_"
      },
      "execution_count": null,
      "outputs": []
    },
    {
      "cell_type": "markdown",
      "source": [
        "build results/model dataframe and run regressions"
      ],
      "metadata": {
        "id": "2aMiky4lIaGz"
      }
    },
    {
      "cell_type": "code",
      "source": [
        "%%R\n",
        "all.fit.res =\n",
        "  data.frame(eth = c(unique(dta.pc.dosage.risk$eth), \"Combined\")) %>%\n",
        "  dup_over(\"PRS\", c(\"prs_wtd_std\", \"prs_wtd_eth_std\", \"prs_mdl_resid_std\")) %>%\n",
        "  dup_over(\"model_type\", c(\"cancer ~ prs\",\n",
        "                            \"cancer ~ prs + age_draw\",\n",
        "                            \"cancer ~ prs + age_draw + V1 + V2 + V3 + V4 + V5 + V6\")) %>%\n",
        "  mutate(model = str_replace(model_type, \"prs\", PRS),\n",
        "         model_type = ifelse(grepl(\"V1\", model_type), \"cancer ~ prs + age_draw + PCs\", model_type)) %>%\n",
        "\n",
        "  # map analyses over fit parameters (run regressions)\n",
        "  mutate(fit_results = pmap(.f=fit_prs_models, list(model, eth, \"dta.pc.dosage.risk\"))) %>%\n",
        "  # unnest returned results\n",
        "  unnest_wider(fit_results)"
      ],
      "metadata": {
        "id": "lEBL39nCIcUf"
      },
      "execution_count": null,
      "outputs": []
    },
    {
      "cell_type": "markdown",
      "source": [
        "View PRS Beta Coefficents (exp(beta) for HRs)"
      ],
      "metadata": {
        "id": "tu0QyzAUIeub"
      }
    },
    {
      "cell_type": "code",
      "source": [
        "%%R\n",
        "all.fit.res %>%\n",
        "  mutate(beta_lci = Estimate-(1.96*`Std. Error`),\n",
        "         beta_uci = Estimate+(1.96*`Std. Error`)) %>%\n",
        "\n",
        "  ggplot(aes(x=Estimate, y=model_type, color=PRS, xmin=beta_lci, xmax=beta_uci, label=sprintf(\"%.2f\", auc)))+\n",
        "  geom_point(position = position_dodge(width=.5), size=2.5) +\n",
        "  geom_linerange(position = position_dodge(width=.5), linewidth = 1.5) +\n",
        "  geom_text(position = position_dodge(width=.5), x=.4, size=2.5)+\n",
        "  xlim(.3,1.3)+\n",
        "  facet_wrap(~eth) +\n",
        "  theme_light()"
      ],
      "metadata": {
        "id": "hj_3vm5nIgfG"
      },
      "execution_count": null,
      "outputs": []
    }
  ]
}