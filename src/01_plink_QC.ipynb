{
 "cells": [
  {
   "cell_type": "markdown",
   "id": "194d6973-fbcb-4cd2-89d2-eecdecac8675",
   "metadata": {},
   "source": []
  },
  {
   "cell_type": "code",
   "execution_count": null,
   "id": "dce850ec-56f2-4451-8fbd-3a4157689b88",
   "metadata": {},
   "outputs": [],
   "source": [
    "module load singularity"
   ]
  },
  {
   "cell_type": "markdown",
   "id": "fcfa844b-fb90-4163-a998-250354ebfc55",
   "metadata": {},
   "source": [
    "### change directory the project, "
   ]
  },
  {
   "cell_type": "code",
   "execution_count": 1,
   "id": "afd261e4-5625-49f9-9a2b-78bdef431db7",
   "metadata": {},
   "outputs": [],
   "source": [
    "cd ~/GIT/statgen_workshop_tutorial/"
   ]
  },
  {
   "cell_type": "markdown",
   "id": "d0a50cea-0123-49a7-8e76-29baa9658c4a",
   "metadata": {},
   "source": [
    "### create a working directory for today's session, and change directory to that directory"
   ]
  },
  {
   "cell_type": "code",
   "execution_count": 3,
   "id": "7828de8d-d85c-4453-801e-09ee3a0cb418",
   "metadata": {},
   "outputs": [],
   "source": [
    "mkdir -p analysis/workshop1/\n",
    "cd analysis/workshop1/"
   ]
  },
  {
   "cell_type": "markdown",
   "id": "286364ed-cdeb-4c29-85a2-4f020502336b",
   "metadata": {},
   "source": [
    "### First we want to see what's in the data directory"
   ]
  },
  {
   "cell_type": "code",
   "execution_count": 4,
   "id": "59b454aa-8264-4a74-ad26-78423ebde1e5",
   "metadata": {},
   "outputs": [
    {
     "name": "stdout",
     "output_type": "stream",
     "text": [
      "20130606_g1k.ped\n",
      "ALL.chr21.phase3_shapeit2_mvncall_integrated_v5b.20130502.genotypes.vcf.gz\n",
      "ALL_chr21_maf0.05.bed\n",
      "ALL_chr21_maf0.05.bim\n",
      "ALL_chr21_maf0.05.fam\n",
      "ALL_chr21_maf0.05.log\n",
      "ALL_chr21_maf0.05.nosex\n"
     ]
    }
   ],
   "source": [
    "ls ../data/"
   ]
  },
  {
   "cell_type": "code",
   "execution_count": null,
   "id": "8fcf35d0-622d-4961-bac2-0024c0447d56",
   "metadata": {},
   "outputs": [],
   "source": [
    "### Check sample and SNP missingness"
   ]
  },
  {
   "cell_type": "code",
   "execution_count": null,
   "id": "e9cf501d-9ba8-4b9d-8d09-5e62aa3444ab",
   "metadata": {},
   "outputs": [],
   "source": [
    "### We are going to skip check sex discrepancy here because we are only using chromosome 21 in this example, we need the chromosome X to perform this test"
   ]
  },
  {
   "cell_type": "code",
   "execution_count": null,
   "id": "dfc46920-1c1f-431b-b74e-264194179643",
   "metadata": {},
   "outputs": [],
   "source": []
  }
 ],
 "metadata": {
  "kernelspec": {
   "display_name": "Bash",
   "language": "bash",
   "name": "bash"
  },
  "language_info": {
   "codemirror_mode": "shell",
   "file_extension": ".sh",
   "mimetype": "text/x-sh",
   "name": "bash"
  }
 },
 "nbformat": 4,
 "nbformat_minor": 5
}
