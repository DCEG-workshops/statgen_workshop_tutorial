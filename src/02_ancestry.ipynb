{
  "nbformat": 4,
  "nbformat_minor": 0,
  "metadata": {
    "colab": {
      "provenance": [],
      "authorship_tag": "ABX9TyNPBzl8clpT/cJya8Z/IdOD",
      "include_colab_link": true
    },
    "kernelspec": {
      "name": "python3",
      "display_name": "Python 3"
    },
    "language_info": {
      "name": "python"
    }
  },
  "cells": [
    {
      "cell_type": "markdown",
      "metadata": {
        "id": "view-in-github",
        "colab_type": "text"
      },
      "source": [
        "<a href=\"https://colab.research.google.com/github/DCEG-workshops/statgen_workshop_tutorial/blob/main/src/02_ancestry.ipynb\" target=\"_parent\"><img src=\"https://colab.research.google.com/assets/colab-badge.svg\" alt=\"Open In Colab\"/></a>"
      ]
    },
    {
      "cell_type": "markdown",
      "source": [
        "# Overview\n",
        "In this exercise, we want to infer the ancestry of our samples. We can do this manually like what is shown in 01_qc.ipynb. But it it may be easier to use tools that are designed to do this, such as [ADMIXTURE](https://dalexander.github.io/admixture/), [STRUCTURE](https://web.stanford.edu/group/pritchardlab/structure.html) and [GrafPop](https://www.ncbi.nlm.nih.gov/projects/gap/cgi-bin/GrafPop_README.html). We will be using GrafPop here"
      ],
      "metadata": {
        "id": "9Ywoxn19Ce4C"
      }
    },
    {
      "cell_type": "markdown",
      "source": [
        "# Set up the runtime environment"
      ],
      "metadata": {
        "id": "DWM6b-RBBb3Z"
      }
    },
    {
      "cell_type": "markdown",
      "source": [
        "In this exercise, we want to infer the ancestry of our samples. We can do this manually like what is shown in 01_qc.ipynb. But it it may be easier to use tools that are designed to do this, such as ADMIXTURE, STRUCTURE and GrafPop. We will be using GrafPop here"
      ],
      "metadata": {
        "id": "EAp_cF7-Bwio"
      }
    },
    {
      "cell_type": "markdown",
      "source": [
        "GrafPop requires a few perl libraries that are not straightforward to install. We therefore use conda to install them. There is already a condacolab package for python and we will install it here.\n",
        "Note that after installation it is required to restart the kernel and your runtime parameter will be lost."
      ],
      "metadata": {
        "id": "e5M2mK4eCqFU"
      }
    },
    {
      "cell_type": "code",
      "execution_count": null,
      "metadata": {
        "id": "CT10LJFs3dRM"
      },
      "outputs": [],
      "source": [
        "import os\n",
        "\n",
        "conda_path = \"/usr/local/bin/conda\"\n",
        "\n",
        "if os.path.exists(conda_path):\n",
        "    print(f\"{conda_path} exists.\")\n",
        "else:\n",
        "    print(f\"{conda_path} does not exist, installing\")\n",
        "    !pip install -q condacolab\n",
        "    import condacolab\n",
        "    condacolab.install()"
      ]
    },
    {
      "cell_type": "markdown",
      "source": [
        "Ok, let's see if conda is installed successfully"
      ],
      "metadata": {
        "id": "znxVlAiFDORK"
      }
    },
    {
      "cell_type": "code",
      "source": [
        "!conda --version"
      ],
      "metadata": {
        "id": "K_urL7RwDNcD"
      },
      "execution_count": null,
      "outputs": []
    },
    {
      "cell_type": "markdown",
      "source": [
        "Now, let's use conda to install the perl modules requried to run GrafPop"
      ],
      "metadata": {
        "id": "cVf0cialDWMx"
      }
    },
    {
      "cell_type": "code",
      "source": [
        "%%bash\n",
        "conda install -c bioconda perl-gd\n",
        "conda install -c bioconda perl-gdtextutil\n",
        "conda install -c bioconda perl-gdgraph\n",
        "conda install -c bioconda perl-cgi"
      ],
      "metadata": {
        "id": "OEtCRi141GBl"
      },
      "execution_count": null,
      "outputs": []
    },
    {
      "cell_type": "markdown",
      "source": [
        "Download plink1.9"
      ],
      "metadata": {
        "id": "_XHtGACP_CL5"
      }
    },
    {
      "cell_type": "code",
      "source": [
        "%%bash\n",
        "if [ ! -f /tools/node/bin/plink ]; then\n",
        "   curl -o /tools/node/bin/plink.zip https://s3.amazonaws.com/plink1-assets/plink_linux_x86_64_20230116.zip && \\\n",
        "   cd /tools/node/bin/ && \\\n",
        "   unzip plink.zip\n",
        "fi"
      ],
      "metadata": {
        "id": "5ovufT3b_EBH"
      },
      "execution_count": null,
      "outputs": []
    },
    {
      "cell_type": "markdown",
      "source": [
        "Like last time, we also want to mount the google drive (see 01_qc.ipynb for more details)"
      ],
      "metadata": {
        "id": "BJ_Se3hI10cx"
      }
    },
    {
      "cell_type": "code",
      "source": [
        "from google.colab import drive\n",
        "drive.mount('/content/drive/')"
      ],
      "metadata": {
        "id": "dl0OsU2i2C2d"
      },
      "execution_count": null,
      "outputs": []
    },
    {
      "cell_type": "markdown",
      "source": [
        "Set variables"
      ],
      "metadata": {
        "id": "nzgQltPi2WET"
      }
    },
    {
      "cell_type": "code",
      "source": [
        "input_dir=\"drive/MyDrive/statgen_workshop/data/workshop1/inputs/penncath_withPheno\"\n",
        "reference_dir=\"drive/MyDrive/statgen_workshop/data/workshop1/inputs/ref/\"\n",
        "analysis_dir=os.getcwd() + \"/02_analysis/\"\n",
        "os.environ['input_dir']=input_dir\n",
        "os.environ['analysis_dir']=analysis_dir\n",
        "os.environ['reference_dir']=reference_dir"
      ],
      "metadata": {
        "id": "P9Ckhm2E2Zn_"
      },
      "execution_count": null,
      "outputs": []
    },
    {
      "cell_type": "markdown",
      "source": [
        "create analysis dir, this is going to be ephemeral and sits on the hosted runtime environment"
      ],
      "metadata": {
        "id": "aP6uud-r2byt"
      }
    },
    {
      "cell_type": "code",
      "source": [
        "%%bash\n",
        "mkdir -p ${analysis_dir}"
      ],
      "metadata": {
        "id": "9V4PFEZz2jHA"
      },
      "execution_count": null,
      "outputs": []
    },
    {
      "cell_type": "markdown",
      "source": [
        "Create a directory, download and untar grafPop"
      ],
      "metadata": {
        "id": "mxNb38xZ1k_z"
      }
    },
    {
      "cell_type": "code",
      "source": [
        "%%bash\n",
        "mkdir grafPop1.0 && cd grafPop1.0 && \\\n",
        "       curl -o grafPop1.0.tar.gz https://www.ncbi.nlm.nih.gov/projects/gap/cgi-bin/GetZip.cgi?zip_name=GrafPop1.0.tar.gz && \\\n",
        "       tar -zxvf grafPop1.0.tar.gz"
      ],
      "metadata": {
        "id": "H-PVXLj81m9S"
      },
      "execution_count": null,
      "outputs": []
    },
    {
      "cell_type": "markdown",
      "source": [
        "Next we want to run GrafPop. We may want to use the QCed dataset for this step. For demonstration purposes we are going to use the input file.\n",
        "GrafPop will be using the sample IDs for the outputs, looking at the the penncath.fam file, we see that the within family sample IDs are all the same which will be confusing for GrafPop."
      ],
      "metadata": {
        "id": "tsMHK_8v2FLt"
      }
    },
    {
      "cell_type": "code",
      "source": [
        "%%bash\n",
        "head ${input_dir}/penncath.fam"
      ],
      "metadata": {
        "id": "A9zwXZY-2LVg"
      },
      "execution_count": null,
      "outputs": []
    },
    {
      "cell_type": "markdown",
      "source": [
        "We will need to use plink to update the IDs so that they are unique."
      ],
      "metadata": {
        "id": "lOrBRi4J33B-"
      }
    },
    {
      "cell_type": "code",
      "source": [
        "%%bash\n",
        "awk '{\n",
        "    gsub(\"\\\"\", \"\", $1);  # Remove quotes from the first column\n",
        "    print \"\\\"\" $1 \"\\\"\", $2, \"\\\"\" $1 \"\\\"\", \"\\\"\" $1 \"_\" $2 \"\\\"\"\n",
        "}' ${input_dir}/penncath.fam > ${analysis_dir}/penncath.updateIDs.txt\n",
        "\n",
        "head ${analysis_dir}/penncath.updateIDs.txt"
      ],
      "metadata": {
        "id": "6hpmD6_R39kx"
      },
      "execution_count": null,
      "outputs": []
    },
    {
      "cell_type": "markdown",
      "source": [
        "Ok, let's update the IDs with plink"
      ],
      "metadata": {
        "id": "hdmc9QxJ4DnR"
      }
    },
    {
      "cell_type": "code",
      "source": [
        "%%bash\n",
        "plink --bfile ${input_dir}/penncath --update-ids \\\n",
        "     ${analysis_dir}/penncath.updateIDs.txt --make-bed \\\n",
        "     --out ${analysis_dir}/penncath.uniqueIDForGrafPop"
      ],
      "metadata": {
        "id": "-uObwYyj4Fuc"
      },
      "execution_count": null,
      "outputs": []
    },
    {
      "cell_type": "markdown",
      "source": [
        "Let's run GrafPop"
      ],
      "metadata": {
        "id": "2tu_XmeU4HV0"
      }
    },
    {
      "cell_type": "code",
      "source": [
        "%%bash\n",
        "./grafPop1.0/grafpop ${analysis_dir}/penncath.uniqueIDForGrafPop.bed ${analysis_dir}/penncath_grafPop_pops.txt || true"
      ],
      "metadata": {
        "id": "qNc4EbrD4KCN"
      },
      "execution_count": null,
      "outputs": []
    },
    {
      "cell_type": "markdown",
      "source": [
        "Let's take a peak at the result file"
      ],
      "metadata": {
        "id": "SNeeda6N4jek"
      }
    },
    {
      "cell_type": "code",
      "source": [
        "%%bash\n",
        "head ${analysis_dir}/penncath_grafPop_pops.txt"
      ],
      "metadata": {
        "id": "S9U_G09U4pgw"
      },
      "execution_count": null,
      "outputs": []
    },
    {
      "cell_type": "markdown",
      "source": [
        "Let's plot the results. We can then use the file browser to the left to view the *png* file."
      ],
      "metadata": {
        "id": "bItgZ0GO5f2T"
      }
    },
    {
      "cell_type": "code",
      "source": [
        "%%bash\n",
        "perl grafPop1.0/PlotGrafPopResults.pl ${analysis_dir}/penncath_grafPop_pops.txt ${analysis_dir}/penncath_grafPop.png"
      ],
      "metadata": {
        "id": "1DRM6rbg5tE8"
      },
      "execution_count": null,
      "outputs": []
    },
    {
      "cell_type": "markdown",
      "source": [
        "We will save the ancestry assignment to a file"
      ],
      "metadata": {
        "id": "kVzsYVs4501F"
      }
    },
    {
      "cell_type": "code",
      "source": [
        "%%bash\n",
        "perl grafPop1.0/SaveSamples.pl ${analysis_dir}/penncath_grafPop_pops.txt ${analysis_dir}/penncath_grafPop_ancestry.txt"
      ],
      "metadata": {
        "id": "yVwTsFpQ56NH"
      },
      "execution_count": null,
      "outputs": []
    },
    {
      "cell_type": "markdown",
      "source": [
        "Looks like all but 1 sample are European, let's see what the 1 non-European sample"
      ],
      "metadata": {
        "id": "DxOreIZK6AmE"
      }
    },
    {
      "cell_type": "code",
      "source": [
        "%%bash\n",
        "grep -v European ${analysis_dir}/penncath_grafPop_ancestry.txt"
      ],
      "metadata": {
        "id": "ZACzAhnS6K4x"
      },
      "execution_count": null,
      "outputs": []
    },
    {
      "cell_type": "markdown",
      "source": [
        "# Optional\n",
        "## save your analysis folder\n",
        "Your current working directory ${analysis_dir} is on the runtime environment and is ephemeral. If you like to save the analysis files to your google drive. Or go to the Files tab and download them to your local drive."
      ],
      "metadata": {
        "id": "H0JXEpjqAmGq"
      }
    },
    {
      "cell_type": "code",
      "source": [
        "# @title\n",
        "%%bash\n",
        "#cp -r ${analysis_dir} /content/drive/MyDrive/"
      ],
      "metadata": {
        "cellView": "form",
        "id": "jqX7uAPZAqAY"
      },
      "execution_count": null,
      "outputs": []
    },
    {
      "cell_type": "markdown",
      "source": [
        "## save your notebook\n",
        "There is revision history of the current notebook under File.\n",
        "You can also save a copy of the current notebook to GitHub, GitHub Gist or Google Drive under the File tab."
      ],
      "metadata": {
        "id": "U7QDbX3RAwUY"
      }
    }
  ]
}