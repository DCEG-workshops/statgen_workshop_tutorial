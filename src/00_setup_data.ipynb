{
 "cells": [
  {
   "cell_type": "code",
   "execution_count": null,
   "id": "b3d99469-d30f-4f47-a8ef-592241c97975",
   "metadata": {},
   "outputs": [],
   "source": [
    "## this notebook shows how to download data from the 1000 genomes project and convert it into the plink binary format.\n",
    "## the converted plink files () are provided in the data folder for the tutorial. This notebook is provided for those awho are interested in trying this out themselves\n"
   ]
  },
  {
   "cell_type": "markdown",
   "id": "7cedfc49-86d2-42ea-b100-1f95ad3b2019",
   "metadata": {},
   "source": [
    "Read environmental variable from file .env\n",
    "The file sets environmental variables:\n",
    "PROJECT_DIR=\n",
    "DATA_DIR=\n",
    "SINGULARITY_CACHEDIR=\n",
    "SINGULARITY_TMPDIR="
   ]
  },
  {
   "cell_type": "markdown",
   "id": "812cf61f-90b2-4603-8532-d5e29ff48248",
   "metadata": {},
   "source": [
    "### load modules"
   ]
  },
  {
   "cell_type": "code",
   "execution_count": 1,
   "id": "53377bb4-7194-48a6-9b65-62061dc1090a",
   "metadata": {},
   "outputs": [
    {
     "name": "stdout",
     "output_type": "stream",
     "text": [
      "Loading singularity/3.9.5\u001b[m\n",
      "  Loading requirement: golang/1.16\u001b[m\n",
      "\u001b[K\u001b[?1l\u001b>"
     ]
    }
   ],
   "source": [
    "module load singularity"
   ]
  },
  {
   "cell_type": "code",
   "execution_count": 7,
   "id": "b0f93bbd-152c-4dcb-a8f1-d1c33097dfa2",
   "metadata": {},
   "outputs": [
    {
     "name": "stdout",
     "output_type": "stream",
     "text": [
      "/home/wongs6/miniconda3/bin/git\n"
     ]
    }
   ],
   "source": [
    "#assuming that you have git in your path\n",
    "cd ~/GIT/\n",
    "git clone "
   ]
  },
  {
   "cell_type": "code",
   "execution_count": 6,
   "id": "4161ac02-9fbc-45f1-b06b-9aac0baeaa1b",
   "metadata": {},
   "outputs": [],
   "source": [
    "cd ~/GIT/statgen_workshop_tutorial/ #you may need to change it to where to you clone the statgen_workshop_tutorial\n",
    "export PROJECT_DIR=$(pwd)\n",
    "export DATA_DIR=$PROJECT_DIR/data"
   ]
  },
  {
   "cell_type": "code",
   "execution_count": 5,
   "id": "08090567-01d8-417f-9320-2ceadc63091d",
   "metadata": {},
   "outputs": [],
   "source": [
    "cd ${PROJECT_DIR}"
   ]
  },
  {
   "cell_type": "markdown",
   "id": "d3d84e67-9b06-4860-9d99-dbd6d24b683f",
   "metadata": {},
   "source": [
    "Download 1000 genomes chr21 VCF"
   ]
  },
  {
   "cell_type": "code",
   "execution_count": 6,
   "id": "3de83186-9bf1-4ab7-bed4-e8400387ad0b",
   "metadata": {},
   "outputs": [
    {
     "name": "stdout",
     "output_type": "stream",
     "text": [
      "--2023-07-09 20:57:37--  https://ftp.1000genomes.ebi.ac.uk/vol1/ftp/release/20130502/ALL.chr21.phase3_shapeit2_mvncall_integrated_v5b.20130502.genotypes.vcf.gz\n",
      "Resolving ftp.1000genomes.ebi.ac.uk (ftp.1000genomes.ebi.ac.uk)... 193.62.193.140\n",
      "Connecting to ftp.1000genomes.ebi.ac.uk (ftp.1000genomes.ebi.ac.uk)|193.62.193.140|:443... connected.\n",
      "HTTP request sent, awaiting response... 200 OK\n",
      "Length: 209774472 (200M) [application/x-gzip]\n",
      "Saving to: ‘/DCEG/Projects/CoherentLogic/statgen_workshop/data/ALL.chr21.phase3_shapeit2_mvncall_integrated_v5b.20130502.genotypes.vcf.gz’\n",
      "\n",
      "ALL.chr21.phase3_sh 100%[===================>] 200.06M   687KB/s    in 5m 1s   \n",
      "\n",
      "2023-07-09 21:02:38 (682 KB/s) - ‘/DCEG/Projects/CoherentLogic/statgen_workshop/data/ALL.chr21.phase3_shapeit2_mvncall_integrated_v5b.20130502.genotypes.vcf.gz’ saved [209774472/209774472]\n",
      "\n"
     ]
    }
   ],
   "source": [
    "wget https://ftp.1000genomes.ebi.ac.uk/vol1/ftp/release/20130502/ALL.chr21.phase3_shapeit2_mvncall_integrated_v5b.20130502.genotypes.vcf.gz -P ${DATA_DIR} "
   ]
  },
  {
   "cell_type": "markdown",
   "id": "76ca3982-68f3-494c-9455-7b37386a4d4b",
   "metadata": {},
   "source": [
    "download 1000 genomes ped file"
   ]
  },
  {
   "cell_type": "code",
   "execution_count": 7,
   "id": "6cf0f74c-ee9c-43a3-86b7-36304200c6fb",
   "metadata": {},
   "outputs": [
    {
     "name": "stdout",
     "output_type": "stream",
     "text": [
      "--2023-07-09 21:04:12--  ftp://ftp.1000genomes.ebi.ac.uk/vol1/ftp/technical/working/20130606_sample_info/20130606_g1k.ped\n",
      "           => ‘/DCEG/Projects/CoherentLogic/statgen_workshop/data/20130606_g1k.ped’\n",
      "Resolving ftp.1000genomes.ebi.ac.uk (ftp.1000genomes.ebi.ac.uk)... 193.62.193.140\n",
      "Connecting to ftp.1000genomes.ebi.ac.uk (ftp.1000genomes.ebi.ac.uk)|193.62.193.140|:21... connected.\n",
      "Logging in as anonymous ... Logged in!\n",
      "==> SYST ... done.    ==> PWD ... done.\n",
      "==> TYPE I ... done.  ==> CWD (1) /vol1/ftp/technical/working/20130606_sample_info ... done.\n",
      "==> SIZE 20130606_g1k.ped ... 155869\n",
      "==> PASV ... done.    ==> RETR 20130606_g1k.ped ... done.\n",
      "Length: 155869 (152K) (unauthoritative)\n",
      "\n",
      "20130606_g1k.ped    100%[===================>] 152.22K   413KB/s    in 0.4s    \n",
      "\n",
      "2023-07-09 21:04:14 (413 KB/s) - ‘/DCEG/Projects/CoherentLogic/statgen_workshop/data/20130606_g1k.ped’ saved [155869]\n",
      "\n"
     ]
    }
   ],
   "source": [
    "wget ftp://ftp.1000genomes.ebi.ac.uk/vol1/ftp/technical/working/20130606_sample_info/20130606_g1k.ped -P ${DATA_DIR}"
   ]
  },
  {
   "cell_type": "markdown",
   "id": "62749751-00d5-405d-bdda-c7d50c0b178b",
   "metadata": {},
   "source": [
    "## While plink and plink1.9 can be easily downloaded as binary and usually have no problem running on most unix systems, here we will use singularity to pull the plink Docker image for reproducible compute environment"
   ]
  },
  {
   "cell_type": "code",
   "execution_count": 10,
   "id": "8227be97-f35e-4864-b584-10e6c3389082",
   "metadata": {},
   "outputs": [
    {
     "name": "stdout",
     "output_type": "stream",
     "text": [
      "\u001b[34mINFO:   \u001b[0m Converting OCI blobs to SIF format\n",
      "\u001b[34mINFO:   \u001b[0m Starting build...\n",
      "Getting image source signatures\n",
      "Copying blob 478cd0aa93c0 [>--------------------------------] 796.5KiB / 48.0MiB\n",
      "\u001b[1A\u001b[JCopying blob 478cd0aa93c0 [========>-------------------------] 13.1MiB / 48.0MiB\n",
      "\u001b[1A\u001b[JCopying blob 478cd0aa93c0 [==================>---------------] 26.4MiB / 48.0MiB\n",
      "\u001b[1A\u001b[JCopying blob 478cd0aa93c0 [============================>-----] 40.4MiB / 48.0MiB\n",
      "\u001b[1A\u001b[JCopying blob 478cd0aa93c0 [==================================] 48.0MiB / 48.0MiB\n",
      "\u001b[1A\u001b[JCopying blob 478cd0aa93c0 done  \n",
      "\u001b[1A\u001b[JCopying blob 478cd0aa93c0 done  \n",
      "\u001b[1A\u001b[JCopying blob 478cd0aa93c0 done  \n",
      "\u001b[1A\u001b[JCopying blob 478cd0aa93c0 done  \n",
      "\u001b[1A\u001b[JCopying blob 478cd0aa93c0 done  \n",
      "\u001b[1A\u001b[JCopying blob 478cd0aa93c0 done  \n",
      "\u001b[1A\u001b[JCopying blob 478cd0aa93c0 done  \n",
      "\u001b[1A\u001b[JCopying blob 478cd0aa93c0 done  \n",
      "Copying blob 94d6a239eb0e [====================================] 221.0b / 221.0b\n",
      "\u001b[2A\u001b[JCopying blob 478cd0aa93c0 done  \n",
      "Copying blob 94d6a239eb0e done  \n",
      "\u001b[2A\u001b[JCopying blob 478cd0aa93c0 done  \n",
      "Copying blob 94d6a239eb0e done  \n",
      "\u001b[2A\u001b[JCopying blob 478cd0aa93c0 done  \n",
      "Copying blob 94d6a239eb0e done  \n",
      "\u001b[2A\u001b[JCopying blob 478cd0aa93c0 done  \n",
      "Copying blob 94d6a239eb0e done  \n",
      "Copying blob e8e87313e9cb [====================================] 112.0b / 112.0b\n",
      "\u001b[3A\u001b[JCopying blob 478cd0aa93c0 done  \n",
      "Copying blob 94d6a239eb0e done  \n",
      "Copying blob e8e87313e9cb done  \n",
      "\u001b[3A\u001b[JCopying blob 478cd0aa93c0 done  \n",
      "Copying blob 94d6a239eb0e done  \n",
      "Copying blob e8e87313e9cb done  \n",
      "\u001b[3A\u001b[JCopying blob 478cd0aa93c0 done  \n",
      "Copying blob 94d6a239eb0e done  \n",
      "Copying blob e8e87313e9cb done  \n",
      "\u001b[3A\u001b[JCopying blob 478cd0aa93c0 done  \n",
      "Copying blob 94d6a239eb0e done  \n",
      "Copying blob e8e87313e9cb done  \n",
      "Copying blob 1badce2e48be [====================================] 1.4MiB / 1.4MiB\n",
      "\u001b[4A\u001b[JCopying blob 478cd0aa93c0 done  \n",
      "Copying blob 94d6a239eb0e done  \n",
      "Copying blob e8e87313e9cb done  \n",
      "Copying blob 1badce2e48be done  \n",
      "\u001b[4A\u001b[JCopying blob 478cd0aa93c0 done  \n",
      "Copying blob 94d6a239eb0e done  \n",
      "Copying blob e8e87313e9cb done  \n",
      "Copying blob 1badce2e48be done  \n",
      "\u001b[4A\u001b[JCopying blob 478cd0aa93c0 done  \n",
      "Copying blob 94d6a239eb0e done  \n",
      "Copying blob e8e87313e9cb done  \n",
      "Copying blob 1badce2e48be done  \n",
      "\u001b[4A\u001b[JCopying blob 478cd0aa93c0 done  \n",
      "Copying blob 94d6a239eb0e done  \n",
      "Copying blob e8e87313e9cb done  \n",
      "Copying blob 1badce2e48be done  \n",
      "\u001b[4A\u001b[JCopying blob 478cd0aa93c0 done  \n",
      "Copying blob 94d6a239eb0e done  \n",
      "Copying blob e8e87313e9cb done  \n",
      "Copying blob 1badce2e48be done  \n",
      "\u001b[4A\u001b[JCopying blob 478cd0aa93c0 done  \n",
      "Copying blob 94d6a239eb0e done  \n",
      "Copying blob e8e87313e9cb done  \n",
      "Copying blob 1badce2e48be done  \n",
      "Copying blob 732b6ad56c57 [====================================] 4.2KiB / 4.2KiB\n",
      "\u001b[5A\u001b[JCopying blob 478cd0aa93c0 done  \n",
      "Copying blob 94d6a239eb0e done  \n",
      "Copying blob e8e87313e9cb done  \n",
      "Copying blob 1badce2e48be done  \n",
      "Copying blob 732b6ad56c57 done  \n",
      "\u001b[5A\u001b[JCopying blob 478cd0aa93c0 done  \n",
      "Copying blob 94d6a239eb0e done  \n",
      "Copying blob e8e87313e9cb done  \n",
      "Copying blob 1badce2e48be done  \n",
      "Copying blob 732b6ad56c57 done  \n",
      "\u001b[5A\u001b[JCopying blob 478cd0aa93c0 done  \n",
      "Copying blob 94d6a239eb0e done  \n",
      "Copying blob e8e87313e9cb done  \n",
      "Copying blob 1badce2e48be done  \n",
      "Copying blob 732b6ad56c57 done  \n",
      "\u001b[5A\u001b[JCopying blob 478cd0aa93c0 done  \n",
      "Copying blob 94d6a239eb0e done  \n",
      "Copying blob e8e87313e9cb done  \n",
      "Copying blob 1badce2e48be done  \n",
      "Copying blob 732b6ad56c57 done  \n",
      "Copying blob f464fdba1cc8 [====================================] 143.0b / 143.0b\n",
      "\u001b[6A\u001b[JCopying blob 478cd0aa93c0 done  \n",
      "Copying blob 94d6a239eb0e done  \n",
      "Copying blob e8e87313e9cb done  \n",
      "Copying blob 1badce2e48be done  \n",
      "Copying blob 732b6ad56c57 done  \n",
      "Copying blob f464fdba1cc8 done  \n",
      "\u001b[6A\u001b[JCopying blob 478cd0aa93c0 done  \n",
      "Copying blob 94d6a239eb0e done  \n",
      "Copying blob e8e87313e9cb done  \n",
      "Copying blob 1badce2e48be done  \n",
      "Copying blob 732b6ad56c57 done  \n",
      "Copying blob f464fdba1cc8 done  \n",
      "\u001b[6A\u001b[JCopying blob 478cd0aa93c0 done  \n",
      "Copying blob 94d6a239eb0e done  \n",
      "Copying blob e8e87313e9cb done  \n",
      "Copying blob 1badce2e48be done  \n",
      "Copying blob 732b6ad56c57 done  \n",
      "Copying blob f464fdba1cc8 done  \n",
      "\u001b[6A\u001b[JCopying blob 478cd0aa93c0 done  \n",
      "Copying blob 94d6a239eb0e done  \n",
      "Copying blob e8e87313e9cb done  \n",
      "Copying blob 1badce2e48be done  \n",
      "Copying blob 732b6ad56c57 done  \n",
      "Copying blob f464fdba1cc8 done  \n",
      "Copying blob 924a9a8e50f3 [--------------------------------------] 0.0b / 7.7MiB\n",
      "\u001b[7A\u001b[JCopying blob 478cd0aa93c0 done  \n",
      "Copying blob 94d6a239eb0e done  \n",
      "Copying blob e8e87313e9cb done  \n",
      "Copying blob 1badce2e48be done  \n",
      "Copying blob 732b6ad56c57 done  \n",
      "Copying blob f464fdba1cc8 done  \n",
      "Copying blob 924a9a8e50f3 [==================>-----------------] 4.1MiB / 7.7MiB\n",
      "\u001b[7A\u001b[JCopying blob 478cd0aa93c0 done  \n",
      "Copying blob 94d6a239eb0e done  \n",
      "Copying blob e8e87313e9cb done  \n",
      "Copying blob 1badce2e48be done  \n",
      "Copying blob 732b6ad56c57 done  \n",
      "Copying blob f464fdba1cc8 done  \n",
      "Copying blob 924a9a8e50f3 [====================================] 7.7MiB / 7.7MiB\n",
      "\u001b[7A\u001b[JCopying blob 478cd0aa93c0 done  \n",
      "Copying blob 94d6a239eb0e done  \n",
      "Copying blob e8e87313e9cb done  \n",
      "Copying blob 1badce2e48be done  \n",
      "Copying blob 732b6ad56c57 done  \n",
      "Copying blob f464fdba1cc8 done  \n",
      "Copying blob 924a9a8e50f3 done  \n",
      "Copying config a816f84fe0 [====================================] 7.5KiB / 7.5KiB\n",
      "\u001b[1A\u001b[JCopying config a816f84fe0 done  \n",
      "Writing manifest to image destination\n",
      "Storing signatures\n",
      "2023/07/09 21:33:55  info unpack layer: sha256:478cd0aa93c0da2489a29b95d43a21a942cece28ecb0ba0f99770f52eb8ee3dc\n",
      "2023/07/09 21:33:56  info unpack layer: sha256:94d6a239eb0e7a7fd6f6e0c75fe5c369eb7747cec3739c9972e5afa4e09b7153\n",
      "2023/07/09 21:33:56  info unpack layer: sha256:e8e87313e9cbe97c7a3e4d4e97c85926c49bc05f381588bd563fb1863d7003fb\n",
      "2023/07/09 21:33:56  info unpack layer: sha256:1badce2e48be505640a9fc06db91b89e6cf4cf554717af4524a9911b9d2a74d7\n",
      "2023/07/09 21:33:57  info unpack layer: sha256:732b6ad56c5765ae0d3c0489d8a87f3b898e147d7c131ce401e9e866bf786e8f\n",
      "2023/07/09 21:33:57  info unpack layer: sha256:f464fdba1cc8d4094c474cae35e93eda3481b63235eb658d37a90071a52669dc\n",
      "2023/07/09 21:33:57  info unpack layer: sha256:924a9a8e50f3c5e7507e2c063b94995dc87b734468eca894d5eba99770a652fb\n",
      "\u001b[34mINFO:   \u001b[0m Creating SIF file...\n"
     ]
    }
   ],
   "source": [
    "### we use singularity to pull the image\n",
    "singularity pull ${PROJECT_DIR}/containers/plink1.9.sif docker://biocontainers/plink1.9:v1.90b6.6-181012-1-deb_cv1 "
   ]
  },
  {
   "cell_type": "markdown",
   "id": "6b59e29c-b2d3-4264-8e5a-6cf6b982261c",
   "metadata": {},
   "source": [
    "convert the vcf to plink binary format (bed, bim, fam), to reduce the file size, we only keep those variants with MAF>0.05"
   ]
  },
  {
   "cell_type": "code",
   "execution_count": 6,
   "id": "77cf5349-5f98-4e08-900e-749f1649cc52",
   "metadata": {},
   "outputs": [
    {
     "name": "stdout",
     "output_type": "stream",
     "text": [
      "PLINK v1.90b6.6 64-bit (12 Oct 2018)           www.cog-genomics.org/plink/1.9/\n",
      "(C) 2005-2018 Shaun Purcell, Christopher Chang   GNU General Public License v3\n",
      "Logging to /DCEG/Projects/CoherentLogic/statgen_workshop/data//ALL_chr21_maf0.05.log.\n",
      "Options in effect:\n",
      "  --maf 0.05\n",
      "  --make-bed\n",
      "  --out /DCEG/Projects/CoherentLogic/statgen_workshop/data//ALL_chr21_maf0.05\n",
      "  --vcf /DCEG/Projects/CoherentLogic/statgen_workshop/data//ALL.chr21.phase3_shapeit2_mvncall_integrated_v5b.20130502.genotypes.vcf.gz\n",
      "\n",
      "515899 MB RAM detected; reserving 257949 MB for main workspace.\n",
      "--vcf: 1105k variants complete.\n",
      "/DCEG/Projects/CoherentLogic/statgen_workshop/data//ALL_chr21_maf0.05-temporary.bed\n",
      "+\n",
      "/DCEG/Projects/CoherentLogic/statgen_workshop/data//ALL_chr21_maf0.05-temporary.bim\n",
      "+\n",
      "/DCEG/Projects/CoherentLogic/statgen_workshop/data//ALL_chr21_maf0.05-temporary.fam\n",
      "written.\n",
      "1105538 variants loaded from .bim file.\n",
      "2504 people (0 males, 0 females, 2504 ambiguous) loaded from .fam.\n",
      "Ambiguous sex IDs written to\n",
      "/DCEG/Projects/CoherentLogic/statgen_workshop/data//ALL_chr21_maf0.05.nosex .\n",
      "Using 1 thread (no multithreaded calculations invoked).\n",
      "Before main variant filters, 2504 founders and 0 nonfounders present.\n",
      "Calculating allele frequencies... 10111213141516171819202122232425262728293031323334353637383940414243444546474849505152535455565758596061626364656667686970717273747576777879808182838485868788899091929394959697989 done.\n",
      "Total genotyping rate is 0.999787.\n",
      "989756 variants removed due to minor allele threshold(s)\n",
      "(--maf/--max-maf/--mac/--max-mac).\n",
      "115782 variants and 2504 people pass filters and QC.\n",
      "Note: No phenotypes present.\n",
      "--make-bed to\n",
      "/DCEG/Projects/CoherentLogic/statgen_workshop/data//ALL_chr21_maf0.05.bed +\n",
      "/DCEG/Projects/CoherentLogic/statgen_workshop/data//ALL_chr21_maf0.05.bim +\n",
      "/DCEG/Projects/CoherentLogic/statgen_workshop/data//ALL_chr21_maf0.05.fam ...\n",
      "101112131415161718192021222324252627282930313233343536373839404142434445464748495051525354555657585960616263646566676869707172737475767778798081828384858687888990919293949596979899done.\n"
     ]
    }
   ],
   "source": [
    "singularity run --bind /DCEG:/DCEG ${PROJECT_DIR}/containers/plink1.9.sif \\\n",
    "   plink1.9 \\\n",
    "   --vcf $DATA_DIR/ALL.chr21.phase3_shapeit2_mvncall_integrated_v5b.20130502.genotypes.vcf.gz \\\n",
    "   --maf 0.05 \\\n",
    "   --make-bed \\\n",
    "   --out $DATA_DIR/ALL_chr21_maf0.05"
   ]
  },
  {
   "cell_type": "code",
   "execution_count": null,
   "id": "eb2b1c49-1601-4a22-bdbb-6df8e53ce31b",
   "metadata": {},
   "outputs": [],
   "source": []
  }
 ],
 "metadata": {
  "kernelspec": {
   "display_name": "Bash via SLURM 230705155140",
   "language": "bash",
   "name": "jupyter-eg-kernel-slurm-bash-1h4jpohor"
  },
  "language_info": {
   "codemirror_mode": "shell",
   "file_extension": ".sh",
   "mimetype": "text/x-sh",
   "name": "bash"
  }
 },
 "nbformat": 4,
 "nbformat_minor": 5
}
