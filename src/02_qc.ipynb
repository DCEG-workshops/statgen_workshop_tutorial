{
  "nbformat": 4,
  "nbformat_minor": 0,
  "metadata": {
    "colab": {
      "provenance": [],
      "toc_visible": true,
      "mount_file_id": "1ldaKkQnt-Y7oMD2PsKF64tn_8RBnoK5r",
      "authorship_tag": "ABX9TyPMZSlGkPotZUJc/xQxE5G+",
      "include_colab_link": true
    },
    "kernelspec": {
      "name": "python3",
      "display_name": "Python 3"
    },
    "language_info": {
      "name": "python"
    }
  },
  "cells": [
    {
      "cell_type": "markdown",
      "metadata": {
        "id": "view-in-github",
        "colab_type": "text"
      },
      "source": [
        "<a href=\"https://colab.research.google.com/github/DCEG-workshops/statgen_workshop_tutorial/blob/main/src/02_qc.ipynb\" target=\"_parent\"><img src=\"https://colab.research.google.com/assets/colab-badge.svg\" alt=\"Open In Colab\"/></a>"
      ]
    },
    {
      "cell_type": "markdown",
      "source": [
        "# Setting up a few things"
      ],
      "metadata": {
        "id": "SHxtxszu9sk6"
      }
    },
    {
      "cell_type": "code",
      "execution_count": null,
      "metadata": {
        "id": "_3pFsIaX9w-b"
      },
      "outputs": [],
      "source": [
        "#load python libraries\n",
        "import os"
      ]
    },
    {
      "cell_type": "code",
      "source": [
        "#load R magic\n",
        "%load_ext rpy2.ipython"
      ],
      "metadata": {
        "id": "wZppOK6ki7dx"
      },
      "execution_count": null,
      "outputs": []
    },
    {
      "cell_type": "code",
      "source": [
        "from google.colab import drive\n",
        "drive.mount('/content/drive/')\n",
        "\n",
        "\n",
        "#https://drive.google.com/drive/folders/1rui3w4tok2Z7EhtMbz6PobeC_fDxTw7G?usp=sharing"
      ],
      "metadata": {
        "colab": {
          "base_uri": "https://localhost:8080/"
        },
        "id": "Wl2agaRa6hOd",
        "outputId": "d5fb9ed8-7623-44de-da59-f9b5d680cd45"
      },
      "execution_count": null,
      "outputs": [
        {
          "output_type": "stream",
          "name": "stdout",
          "text": [
            "Mounted at /content/drive/\n"
          ]
        }
      ]
    },
    {
      "cell_type": "code",
      "source": [
        "%ls drive/MyDrive/statgen_workshop/data/workshop1/"
      ],
      "metadata": {
        "colab": {
          "base_uri": "https://localhost:8080/"
        },
        "id": "fzFXMpJ383QJ",
        "outputId": "3eb2ba90-741a-4792-cf08-c4720c8ef775"
      },
      "execution_count": null,
      "outputs": [
        {
          "output_type": "stream",
          "name": "stdout",
          "text": [
            "\u001b[0m\u001b[01;34minputs\u001b[0m/\n"
          ]
        }
      ]
    },
    {
      "cell_type": "code",
      "source": [
        "%pwd"
      ],
      "metadata": {
        "colab": {
          "base_uri": "https://localhost:8080/",
          "height": 36
        },
        "id": "2cLZ4_SkfG5_",
        "outputId": "8b6a05d5-1ae7-45b9-c518-9063995edbf8"
      },
      "execution_count": null,
      "outputs": [
        {
          "output_type": "execute_result",
          "data": {
            "text/plain": [
              "'/content'"
            ],
            "application/vnd.google.colaboratory.intrinsic+json": {
              "type": "string"
            }
          },
          "metadata": {},
          "execution_count": 5
        }
      ]
    },
    {
      "cell_type": "code",
      "source": [
        "#set variables\n",
        "input_dir=\"drive/MyDrive/statgen_workshop/data/workshop1/inputs\"\n",
        "analysis_dir=os.getcwd() + \"/analysis/\"\n"
      ],
      "metadata": {
        "id": "8OZDaIr9e3t0"
      },
      "execution_count": null,
      "outputs": []
    },
    {
      "cell_type": "code",
      "source": [
        "%%script env input_dir=\"$input_dir\" bash\n",
        "echo $input_dir\n"
      ],
      "metadata": {
        "colab": {
          "base_uri": "https://localhost:8080/"
        },
        "id": "8bAMCCzuhQak",
        "outputId": "ae43c399-5475-4e0d-f472-9e0942c7f9b6"
      },
      "execution_count": null,
      "outputs": [
        {
          "output_type": "stream",
          "name": "stdout",
          "text": [
            "drive/MyDrive/statgen_workshop/data/workshop1/inputs\n"
          ]
        }
      ]
    },
    {
      "cell_type": "code",
      "source": [
        "%%script bash\n",
        "echo $input_dir\n"
      ],
      "metadata": {
        "colab": {
          "base_uri": "https://localhost:8080/"
        },
        "id": "jYUnFQ1Ehle9",
        "outputId": "1b506f86-beeb-4cf9-a4e4-4a597931c4c3"
      },
      "execution_count": null,
      "outputs": [
        {
          "output_type": "stream",
          "name": "stdout",
          "text": [
            "\n"
          ]
        }
      ]
    },
    {
      "cell_type": "code",
      "source": [
        "%%bash  -s \"$analysis_dir\" \"$input_dir\"\n",
        "input_dir=$2\n",
        "echo $input_dir"
      ],
      "metadata": {
        "colab": {
          "base_uri": "https://localhost:8080/"
        },
        "id": "6bvyJ6Erf763",
        "outputId": "2f7e83fb-5dee-465a-b1ad-73cede9706ec"
      },
      "execution_count": null,
      "outputs": [
        {
          "output_type": "stream",
          "name": "stdout",
          "text": [
            "drive/MyDrive/statgen_workshop/data/workshop1/inputs\n"
          ]
        }
      ]
    },
    {
      "cell_type": "code",
      "source": [
        "%%R -i input_dir -i analysis_dir\n",
        "print(input_dir)\n",
        "print(analysis_dir)"
      ],
      "metadata": {
        "colab": {
          "base_uri": "https://localhost:8080/"
        },
        "id": "pP64D7rjilwL",
        "outputId": "ec30cc69-5754-4748-c659-93810c23b438"
      },
      "execution_count": null,
      "outputs": [
        {
          "output_type": "stream",
          "name": "stdout",
          "text": [
            "[1] \"drive/MyDrive/statgen_workshop/data/workshop1/inputs\"\n",
            "[1] \"/content/analysis/\"\n"
          ]
        }
      ]
    }
  ]
}