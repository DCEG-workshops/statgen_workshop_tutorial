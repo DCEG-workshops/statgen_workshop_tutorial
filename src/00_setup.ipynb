{
  "nbformat": 4,
  "nbformat_minor": 0,
  "metadata": {
    "colab": {
      "provenance": [],
      "mount_file_id": "1YUm2q7whOtpUwCWB6wFwGgEzsWy8TJR8",
      "authorship_tag": "ABX9TyORF7863v3t3knc0PMF7udU"
    },
    "kernelspec": {
      "name": "python3",
      "display_name": "Python 3"
    },
    "language_info": {
      "name": "python"
    }
  },
  "cells": [
    {
      "cell_type": "markdown",
      "source": [
        "# New Section"
      ],
      "metadata": {
        "id": "3eXpMVWuoAMZ"
      }
    },
    {
      "cell_type": "code",
      "source": [
        "#download plink1.9 and plink2.0 and save them in google drive\n",
        "%%bash\n",
        "curl -o plink2.zip https://s3.amazonaws.com/plink2-assets/plink2_linux_x86_64_20230813.zip\n",
        "unzip plink2.zip"
      ],
      "metadata": {
        "colab": {
          "base_uri": "https://localhost:8080/"
        },
        "id": "edEamJU1oDTH",
        "outputId": "5c1e9d86-eec1-410d-c4fc-bdf5cb8c68dc"
      },
      "execution_count": 7,
      "outputs": [
        {
          "output_type": "stream",
          "name": "stdout",
          "text": [
            "Archive:  plink2.zip\n",
            "  inflating: plink2                  \n"
          ]
        },
        {
          "output_type": "stream",
          "name": "stderr",
          "text": [
            "  % Total    % Received % Xferd  Average Speed   Time    Time     Time  Current\n",
            "                                 Dload  Upload   Total   Spent    Left  Speed\n",
            "\r  0     0    0     0    0     0      0      0 --:--:-- --:--:-- --:--:--     0\r  0 8998k    0     0    0     0      0      0 --:--:-- --:--:-- --:--:--     0\r 74 8998k   74 6731k    0     0  4871k      0  0:00:01  0:00:01 --:--:-- 4870k\r100 8998k  100 8998k    0     0  6476k      0  0:00:01  0:00:01 --:--:-- 6473k\n"
          ]
        }
      ]
    },
    {
      "cell_type": "code",
      "source": [
        "#download 1000 genomes phase 3 https://www.cog-genomics.org/plink/2.0/resources#1kg_phase3\n",
        "%%bash\n",
        "mkdir 1kgenomes_data/\n",
        "cd 1kgenomes_data/\n",
        "wget -O all_hg38.pgen.zst https://www.dropbox.com/s/j72j6uciq5zuzii/all_hg38.pgen.zst?dl=1\n",
        "wget -O all_hg38.pvar.zst https://www.dropbox.com/s/vx09262b4k1kszy/all_hg38.pvar.zst?dl=1\n",
        "wget -O hg38_corrected.psam https://www.dropbox.com/s/2e87z6nc4qexjjm/hg38_corrected.psam?dl=1"
      ],
      "metadata": {
        "colab": {
          "base_uri": "https://localhost:8080/"
        },
        "id": "NmGS1GCC8kwn",
        "outputId": "c7249e56-dbf0-4419-9304-48ca16171256"
      },
      "execution_count": 17,
      "outputs": [
        {
          "output_type": "stream",
          "name": "stderr",
          "text": [
            "IOPub data rate exceeded.\n",
            "The notebook server will temporarily stop sending output\n",
            "to the client in order to avoid crashing it.\n",
            "To change this limit, set the config variable\n",
            "`--NotebookApp.iopub_data_rate_limit`.\n",
            "\n",
            "Current values:\n",
            "NotebookApp.iopub_data_rate_limit=1000000.0 (bytes/sec)\n",
            "NotebookApp.rate_limit_window=3.0 (secs)\n",
            "\n"
          ]
        }
      ]
    },
    {
      "cell_type": "code",
      "source": [
        "%%bash\n",
        "ls -lrt 1kgenomes_data"
      ],
      "metadata": {
        "colab": {
          "base_uri": "https://localhost:8080/"
        },
        "id": "Wvw4PJExBOng",
        "outputId": "6d89331b-0895-4d37-b91b-e87ad72a4f02"
      },
      "execution_count": 23,
      "outputs": [
        {
          "output_type": "stream",
          "name": "stdout",
          "text": [
            "total 5957308\n",
            "-rw-r--r-- 1 root root 3396789539 Aug 14 03:17 all_hg38.pgen.zst\n",
            "-rw-r--r-- 1 root root 2703402089 Aug 14 03:21 all_hg38.pvar.zst\n",
            "-rw-r--r-- 1 root root      77819 Aug 14 03:21 hg38_corrected.psam\n"
          ]
        }
      ]
    },
    {
      "cell_type": "code",
      "source": [
        "#decompress data\n",
        "%%bash\n",
        "cd 1kgenomes_data/\n",
        "../plink2 --zst-decompress all_hg38.pgen.zst > all_hg38.pgen\n",
        "../plink2 --zst-decompress all_hg38.pvar.zst > all_hg38.pvar"
      ],
      "metadata": {
        "id": "hsc_R2xrADtR"
      },
      "execution_count": null,
      "outputs": []
    },
    {
      "cell_type": "code",
      "source": [
        "#we want to use the list of markers selected in AKT\n",
        "%%bash\n",
        "git clone https://github.com/Illumina/akt.git\n"
      ],
      "metadata": {
        "colab": {
          "base_uri": "https://localhost:8080/"
        },
        "id": "UX1mbgJ5A7bm",
        "outputId": "1611847e-4e92-4e85-a15c-27315b2ad3a4"
      },
      "execution_count": 26,
      "outputs": [
        {
          "output_type": "stream",
          "name": "stderr",
          "text": [
            "Cloning into 'akt'...\n"
          ]
        }
      ]
    },
    {
      "cell_type": "code",
      "source": [
        "%%bash\n",
        "zcat akt/data/wgs.grch38.vcf.gz | grep -v ^# | cut -f3 >markers_for_pca.txt"
      ],
      "metadata": {
        "id": "peq9MeC9IImd"
      },
      "execution_count": 27,
      "outputs": []
    },
    {
      "cell_type": "code",
      "source": [
        "%%bash\n",
        "cp  markers_for_pca.txt drive/MyDrive/statgen_workshop/data/workshop1/inputs/"
      ],
      "metadata": {
        "id": "Xn1HzQOX_SfI"
      },
      "execution_count": 28,
      "outputs": []
    },
    {
      "cell_type": "code",
      "source": [
        "#subset 1000 genomes data the to the informative variants and founders only\n",
        "awk 'NR==1 || ($2==0 && $3==0)' hg38_corrected.psam >all_hg38.psam\n",
        "plink2 --pfile all_hg38 --extract markers_for_pca.txt --make-bed --out pca_1kgenomes"
      ],
      "metadata": {
        "id": "HWxdnuLWJa_-"
      },
      "execution_count": null,
      "outputs": []
    }
  ]
}