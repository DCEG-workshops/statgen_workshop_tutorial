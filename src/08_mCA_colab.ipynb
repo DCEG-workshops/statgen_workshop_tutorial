{
  "cells": [
    {
      "cell_type": "markdown",
      "metadata": {
        "id": "view-in-github",
        "colab_type": "text"
      },
      "source": [
        "<a href=\"https://colab.research.google.com/github/DCEG-workshops/statgen_workshop_tutorial/blob/main/src/08_mCA_colab.ipynb\" target=\"_parent\"><img src=\"https://colab.research.google.com/assets/colab-badge.svg\" alt=\"Open In Colab\"/></a>"
      ]
    },
    {
      "cell_type": "markdown",
      "metadata": {
        "id": "OksEon5Jd8C8"
      },
      "source": [
        "## Genetic mosaicism practical"
      ],
      "id": "OksEon5Jd8C8"
    },
    {
      "cell_type": "markdown",
      "metadata": {
        "id": "tb0SJ_p2gngW"
      },
      "source": [
        "### 1. Set Up"
      ],
      "id": "tb0SJ_p2gngW"
    },
    {
      "cell_type": "markdown",
      "metadata": {
        "id": "87760289-c03c-49da-b1c5-cc46d1e6c913"
      },
      "source": [
        "***Mount Google Drive:***  We want to mount the *google drive* for the data neeed for this workshop. Please open this [link](https://drive.google.com/drive/folders/1Q7PK-JWnT6FC2wKhhut_FCYTyzp1Ykre?usp=sharing) with your Google drive and find the \"statgen_workshop_mosaicism\" folder under \"Share with me\". Then add a shortcut to the folder under \"My Drive\""
      ],
      "id": "87760289-c03c-49da-b1c5-cc46d1e6c913"
    },
    {
      "cell_type": "code",
      "execution_count": null,
      "metadata": {
        "id": "053461aa-499d-47e0-98de-6d6f7667cdca"
      },
      "outputs": [],
      "source": [
        "from google.colab import drive\n",
        "drive.mount('/content/drive/')"
      ],
      "id": "053461aa-499d-47e0-98de-6d6f7667cdca"
    },
    {
      "cell_type": "markdown",
      "metadata": {
        "id": "17508bf6-adeb-41af-8161-551bdd9897e0"
      },
      "source": [
        "Set path variables"
      ],
      "id": "17508bf6-adeb-41af-8161-551bdd9897e0"
    },
    {
      "cell_type": "code",
      "execution_count": null,
      "metadata": {
        "id": "c23c0cb0-d83a-40e1-8fdd-94f9f7ca3087"
      },
      "outputs": [],
      "source": [
        "import os\n",
        "analysis_dir=\"/content/08_analysis/\"\n",
        "ref=\"/content/drive/MyDrive/statgen_workshop_mosaicism/ref_files/human_g1k_v37.fasta\"\n",
        "genome_studio_file=\"/content/drive/MyDrive/statgen_workshop_mosaicism/test_set/test_set1.txt\"\n",
        "maps=\"/content/drive/MyDrive/statgen_workshop_mosaicism/ref_files/genetic_map_hg19_withX.txt.gz\"\n",
        "kgp_pfx=\"/content/drive/MyDrive/statgen_workshop_mosaicism/ref_files/ALL.chr\"\n",
        "kgp_sfx=\".phase3_integrated.20130502.genotypes\"\n",
        "cnp=\"/content/drive/MyDrive/statgen_workshop_mosaicism/ref_files/cnp.grch37.bed\"\n",
        "cyto=\"/content/drive/MyDrive/statgen_workshop_mosaicism/ref_files/cytoBand.hg19.txt.gz\"\n",
        "pre_phasing_data_dir=\"/content/drive/MyDrive/statgen_workshop_mosaicism/phasing/by_chrs/\"\n",
        "mhc_reg=\"6:27486711-33448264\"\n",
        "kir_reg=\"19:54574747-55504099\"\n",
        "rule=\"GRCh37\"\n",
        "temp_dir=\"/content/temp/\"\n",
        "to_bcf=\"/content/to_bcf/\"\n",
        "phasing=\"/content/phasing/\"\n",
        "phasing_by_chrs=\"/content/phasing/by_chrs/\"\n",
        "mocha=\"/content/mocha/\"\n",
        "plots=\"/content/plots/\"\n",
        "chr=\"$chr\"\n",
        "os.environ['analysis_dir']=analysis_dir\n",
        "os.environ['ref']=ref\n",
        "os.environ['genome_studio_file']=genome_studio_file\n",
        "os.environ['maps']=maps\n",
        "os.environ['kgp_pfx']=kgp_pfx\n",
        "os.environ['kgp_sfx']=kgp_sfx\n",
        "os.environ['cnp']=cnp\n",
        "os.environ['cyto']=cyto\n",
        "os.environ['pre_phasing_data_dir']=pre_phasing_data_dir\n",
        "os.environ['mhc_reg']=mhc_reg\n",
        "os.environ['kir_reg']=kir_reg\n",
        "os.environ['rule']=rule\n",
        "os.environ['temp_dir']=temp_dir\n",
        "os.environ['to_bcf']=to_bcf\n",
        "os.environ['phasing']=phasing\n",
        "os.environ['phasing_by_chrs']=phasing_by_chrs\n",
        "os.environ['mocha']=mocha\n",
        "os.environ['plots']=plots\n",
        "os.environ['chr']=chr"
      ],
      "id": "c23c0cb0-d83a-40e1-8fdd-94f9f7ca3087"
    },
    {
      "cell_type": "markdown",
      "metadata": {
        "id": "r7Z0eCzxPile"
      },
      "source": [
        "***Install [udocker](https://indigo-dc.github.io/udocker/)***: this allows us to run docker containers in colab. Unfortunately Docker cannot be installed on Google colab."
      ],
      "id": "r7Z0eCzxPile"
    },
    {
      "cell_type": "code",
      "execution_count": null,
      "metadata": {
        "id": "CUWj_yGnPh0O"
      },
      "outputs": [],
      "source": [
        "%%shell\n",
        "pip install udocker\n",
        "udocker --allow-root install"
      ],
      "id": "CUWj_yGnPh0O"
    },
    {
      "cell_type": "markdown",
      "metadata": {
        "id": "71e1043e-b866-4ed0-ab84-bcd7aaaea53f"
      },
      "source": [
        "#### Create related folders"
      ],
      "id": "71e1043e-b866-4ed0-ab84-bcd7aaaea53f"
    },
    {
      "cell_type": "code",
      "execution_count": null,
      "metadata": {
        "id": "577f29cc-a771-4805-a680-da5ebb5b27ec"
      },
      "outputs": [],
      "source": [
        "%%bash\n",
        "mkdir -p ${temp_dir} ${to_bcf} ${mocha} ${phasing} ${phasing_by_chrs} ${plots} logs ${analysis_dir}"
      ],
      "id": "577f29cc-a771-4805-a680-da5ebb5b27ec"
    },
    {
      "cell_type": "code",
      "execution_count": null,
      "metadata": {
        "id": "v3XMGeQDB2_E"
      },
      "outputs": [],
      "source": [
        "%%bash\n",
        "ls ${pre_phasing_data_dir}"
      ],
      "id": "v3XMGeQDB2_E"
    },
    {
      "cell_type": "markdown",
      "metadata": {
        "id": "2d5c7446-5af2-4324-ab13-ce1c6d95384d"
      },
      "source": [
        "### Converting GenomeStudio CNV table to VCF"
      ],
      "id": "2d5c7446-5af2-4324-ab13-ce1c6d95384d"
    },
    {
      "cell_type": "markdown",
      "metadata": {
        "id": "K09ZFyMPR842"
      },
      "source": [
        "#### Create bash script to_vcf.sh"
      ],
      "id": "K09ZFyMPR842"
    },
    {
      "cell_type": "code",
      "execution_count": null,
      "metadata": {
        "id": "b6x9weTNxpjM"
      },
      "outputs": [],
      "source": [
        "%%bash\n",
        "echo -e \"bcftools +gtc2vcf --no-version -Ou --genome-studio ${genome_studio_file} -f ${ref} | \\\n",
        "         bcftools sort -Ou -T ${temp_dir} |\\\n",
        "         bcftools norm --no-version -Ob -o ${to_bcf}/samples.bcf -c x -f ${ref}; \\\n",
        "         bcftools index -f ${to_bcf}/samples.bcf -o ${to_bcf}/samples.bcf.csi\" >${analysis_dir}/to_vcf.sh"
      ],
      "id": "b6x9weTNxpjM"
    },
    {
      "cell_type": "markdown",
      "metadata": {
        "id": "_CST23TaShM1"
      },
      "source": [
        "#### Run to_vcf.sh\n",
        "Take about 2 mins to finish"
      ],
      "id": "_CST23TaShM1"
    },
    {
      "cell_type": "code",
      "execution_count": null,
      "metadata": {
        "id": "qtiwWK-RyC4W"
      },
      "outputs": [],
      "source": [
        "%%bash\n",
        "udocker --allow-root run -v /content/ us.gcr.io/mccarroll-mocha/bcftools:1.16-20221221 bash ${analysis_dir}/to_vcf.sh"
      ],
      "id": "qtiwWK-RyC4W"
    },
    {
      "cell_type": "markdown",
      "metadata": {
        "id": "4tyJFikMTwqV"
      },
      "source": [
        "#### Check the output files from \"to_vcf.sh\""
      ],
      "id": "4tyJFikMTwqV"
    },
    {
      "cell_type": "code",
      "execution_count": null,
      "metadata": {
        "id": "3inPig2yy7Ao"
      },
      "outputs": [],
      "source": [
        "%%bash\n",
        "ls ${to_bcf}"
      ],
      "id": "3inPig2yy7Ao"
    },
    {
      "cell_type": "markdown",
      "metadata": {
        "id": "927e25c9-9c2b-4637-9d5a-4498671d7629"
      },
      "source": [
        "### 3. Phasing using EAGLE2"
      ],
      "id": "927e25c9-9c2b-4637-9d5a-4498671d7629"
    },
    {
      "cell_type": "markdown",
      "metadata": {
        "id": "de5ae351-453e-4e12-940b-d39e87149247"
      },
      "source": [
        "#### Create bash script \"phasing.sh\""
      ],
      "id": "de5ae351-453e-4e12-940b-d39e87149247"
    },
    {
      "cell_type": "code",
      "execution_count": null,
      "metadata": {
        "id": "407f478d-6f96-4bfa-b4fd-e686264b93ba"
      },
      "outputs": [],
      "source": [
        "%%bash\n",
        "echo -e \"chr=\\$1; \\\n",
        "         eagle --geneticMapFile $maps \\\n",
        "               --outPrefix ${phasing_by_chrs}/samples.chr${chr} \\\n",
        "               --vcfRef ${kgp_pfx}${chr}${kgp_sfx}.bcf \\\n",
        "               --vcfTarget ${to_bcf}/samples.bcf \\\n",
        "               --vcfOutFormat b \\\n",
        "               --noImpMissing \\\n",
        "               --outputUnphased \\\n",
        "               --chrom $chr \\\n",
        "               --pbwtIters 3 && \\\n",
        "         bcftools index -f ${phasing_by_chrs}/samples.chr$chr.bcf\" > ${analysis_dir}/phasing.sh"
      ],
      "id": "407f478d-6f96-4bfa-b4fd-e686264b93ba"
    },
    {
      "cell_type": "markdown",
      "metadata": {
        "id": "gnNdQl2oJ5cF"
      },
      "source": [
        "#### Run \"phasing.sh\"\n",
        "The phasing step takes about 33 mins to complete\n",
        "We will not run this step during the practical seesion.  Instead, we copy the pre-generated phased.bcf to the phasing/by_chrs directory.  Freel free to explore the phasing code on your own time if you're interested"
      ],
      "id": "gnNdQl2oJ5cF"
    },
    {
      "cell_type": "code",
      "execution_count": null,
      "metadata": {
        "id": "fZ94K2bz_8PX"
      },
      "outputs": [],
      "source": [
        "%%bash\n",
        "#for chr in {1..22} X; do\n",
        "#   echo ${chr}\n",
        "#   udocker --allow-root run -v /content/ us.gcr.io/mccarroll-mocha/eagle:1.16-20221221 bash ${analysis_dir}/phasing.sh ${chr}\n",
        "#done\n",
        "\n",
        "cp ${pre_phasing_data_dir}/*bcf* ${phasing_by_chrs}"
      ],
      "id": "fZ94K2bz_8PX"
    },
    {
      "cell_type": "markdown",
      "metadata": {
        "id": "17692638-39f2-4534-b41f-9b6df2c70ee1"
      },
      "source": [
        "#### check results under phasing/by_chrs/\n",
        "- Expecting files: samples.chr1.bcf...samples.chr22.bcf, and samples.chrX.bcf.csi\n"
      ],
      "id": "17692638-39f2-4534-b41f-9b6df2c70ee1"
    },
    {
      "cell_type": "code",
      "execution_count": null,
      "metadata": {
        "id": "gUhMRC60-IeF"
      },
      "outputs": [],
      "source": [
        "%%bash\n",
        "ls ${phasing_by_chrs}"
      ],
      "id": "gUhMRC60-IeF"
    },
    {
      "cell_type": "markdown",
      "metadata": {
        "id": "9e08b927-731d-49d1-9c6a-c93b40c9f26e"
      },
      "source": [
        "### 4. Concatenating phased output into a single VCF file"
      ],
      "id": "9e08b927-731d-49d1-9c6a-c93b40c9f26e"
    },
    {
      "cell_type": "markdown",
      "metadata": {
        "id": "0170964d-1d68-4b0b-bd50-d0ba7bd1a787"
      },
      "source": [
        "#### Create bash script \"concat.sh\""
      ],
      "id": "0170964d-1d68-4b0b-bd50-d0ba7bd1a787"
    },
    {
      "cell_type": "code",
      "execution_count": null,
      "metadata": {
        "id": "_pgJ6u_pOR8W"
      },
      "outputs": [],
      "source": [
        "%%bash\n",
        "echo -e \"bcftools concat --no-version -Ob ${phasing_by_chrs}/samples.chr{{1..22},X}.bcf | \\\n",
        "         tee ${phasing}/samples.pgt.bcf | \\\n",
        "         bcftools index --force --output ${phasing}/samples.pgt.bcf.csi\" > ${analysis_dir}/concat.sh"
      ],
      "id": "_pgJ6u_pOR8W"
    },
    {
      "cell_type": "markdown",
      "metadata": {
        "id": "Vlydg80ceKFN"
      },
      "source": [
        "#### Run \"concat.sh\""
      ],
      "id": "Vlydg80ceKFN"
    },
    {
      "cell_type": "code",
      "execution_count": null,
      "metadata": {
        "id": "5WagD4RPKhFj"
      },
      "outputs": [],
      "source": [
        "%%bash\n",
        "udocker --allow-root run -v /content/ us.gcr.io/mccarroll-mocha/bcftools:1.16-20221221 bash ${analysis_dir}/concat.sh"
      ],
      "id": "5WagD4RPKhFj"
    },
    {
      "cell_type": "markdown",
      "metadata": {
        "id": "804745da-2a37-455f-9079-3cfae7578f86"
      },
      "source": [
        "#### check results under phasing/\n",
        "\n",
        "- Expecting files: samples.pgt.bcf and samples.pgt.bcf.csi\n"
      ],
      "id": "804745da-2a37-455f-9079-3cfae7578f86"
    },
    {
      "cell_type": "code",
      "execution_count": null,
      "metadata": {
        "id": "729b8b0b-9ddb-4d1d-b7d7-539198710156"
      },
      "outputs": [],
      "source": [
        "%%bash\n",
        "ls ${phasing}"
      ],
      "id": "729b8b0b-9ddb-4d1d-b7d7-539198710156"
    },
    {
      "cell_type": "markdown",
      "metadata": {
        "id": "523e17db-3391-4daf-a0c7-acf5416ef59b"
      },
      "source": [
        "### 5. mCA detection using MoChA on phased VCF"
      ],
      "id": "523e17db-3391-4daf-a0c7-acf5416ef59b"
    },
    {
      "cell_type": "markdown",
      "metadata": {
        "id": "69fb4329-5352-4e8c-a568-0ce9dd0d587f"
      },
      "source": [
        "#### Create bash script \"mocha.sh\""
      ],
      "id": "69fb4329-5352-4e8c-a568-0ce9dd0d587f"
    },
    {
      "cell_type": "code",
      "execution_count": null,
      "metadata": {
        "id": "CkugmNLIQ5uP"
      },
      "outputs": [],
      "source": [
        "%%bash\n",
        "echo -e \"bcftools +mocha \\\n",
        "            --genome ${rule} \\\n",
        "            --no-version \\\n",
        "            --output ${mocha}/samples.as.bcf \\\n",
        "            --output-type b \\\n",
        "            --calls ${mocha}/samples.calls.tsv \\\n",
        "            --stats ${mocha}/samples.stats.tsv \\\n",
        "            --ucsc-bed ${mocha}/samples.ucsc.bed \\\n",
        "            --cnp ${cnp} \\\n",
        "            --mhc ${mhc_reg} \\\n",
        "            --kir ${kir_reg} \\\n",
        "            ${phasing}/samples.pgt.bcf; \\\n",
        "         bcftools index --force ${mocha}/samples.as.bcf --output ${mocha}/samples.as.bcf.csi\" > ${analysis_dir}/mocha.sh"
      ],
      "id": "CkugmNLIQ5uP"
    },
    {
      "cell_type": "markdown",
      "metadata": {
        "id": "NxoPuOk0esGx"
      },
      "source": [
        "#### Run \"mocha.sh\"\n",
        "\n",
        "Take < 1 mins to complete"
      ],
      "id": "NxoPuOk0esGx"
    },
    {
      "cell_type": "code",
      "execution_count": null,
      "metadata": {
        "id": "sgTSQD4bSK0n"
      },
      "outputs": [],
      "source": [
        "%%bash\n",
        "udocker --allow-root run -v /content/ us.gcr.io/mccarroll-mocha/bcftools:1.16-20221221 bash ${analysis_dir}/mocha.sh"
      ],
      "id": "sgTSQD4bSK0n"
    },
    {
      "cell_type": "markdown",
      "metadata": {
        "id": "0104a344-7e0c-4815-a600-9c9515e89b24"
      },
      "source": [
        "#### check results under mocha/\n",
        "- Expecting files: samples.calls.tsv, samples.stats.tsv,..,samples.as.bcf"
      ],
      "id": "0104a344-7e0c-4815-a600-9c9515e89b24"
    },
    {
      "cell_type": "code",
      "execution_count": null,
      "metadata": {
        "id": "9b76329a-24d2-4ac4-897d-6761ee5c3d1f"
      },
      "outputs": [],
      "source": [
        "%%bash\n",
        "ls ${mocha}"
      ],
      "id": "9b76329a-24d2-4ac4-897d-6761ee5c3d1f"
    },
    {
      "cell_type": "markdown",
      "metadata": {
        "id": "fsyjSFwh9zJp"
      },
      "source": [
        "#### Display mocha calls"
      ],
      "id": "fsyjSFwh9zJp"
    },
    {
      "cell_type": "code",
      "execution_count": null,
      "metadata": {
        "id": "fo-xfj1L9zqw"
      },
      "outputs": [],
      "source": [
        "%%bash\n",
        "cat ${mocha}/samples.calls.tsv"
      ],
      "id": "fo-xfj1L9zqw"
    },
    {
      "cell_type": "markdown",
      "metadata": {
        "id": "6bf55e93-4888-4b86-b021-22fda69b1ea3"
      },
      "source": [
        "### 6. plotting mCAs"
      ],
      "id": "6bf55e93-4888-4b86-b021-22fda69b1ea3"
    },
    {
      "cell_type": "markdown",
      "metadata": {
        "id": "pyDJenlT_aZm"
      },
      "source": [
        "#### Before running this script, we need to install bcftools in the path\n",
        "##### Take about 3 mins to complete"
      ],
      "id": "pyDJenlT_aZm"
    },
    {
      "cell_type": "code",
      "execution_count": null,
      "metadata": {
        "id": "x4q_H2r3_hwr"
      },
      "outputs": [],
      "source": [
        "%%bash\n",
        "wget https://github.com/samtools/bcftools/releases/download/1.18/bcftools-1.18.tar.bz2 && \\\n",
        "     tar --bzip2 -xf bcftools-1.18.tar.bz2 && \\\n",
        "     cd bcftools-1.18 && \\\n",
        "     make && \\\n",
        "     make  install"
      ],
      "id": "x4q_H2r3_hwr"
    },
    {
      "cell_type": "code",
      "execution_count": null,
      "metadata": {
        "id": "5Sx2RbWMAFEl"
      },
      "outputs": [],
      "source": [
        "%%bash\n",
        "bcftools --version"
      ],
      "id": "5Sx2RbWMAFEl"
    },
    {
      "cell_type": "markdown",
      "metadata": {
        "id": "c71ebbdd-6801-4d36-a8ba-99cd5f3c538d"
      },
      "source": [
        "#### Install R libraries\n",
        "##### Take about 2 mins to complete"
      ],
      "id": "c71ebbdd-6801-4d36-a8ba-99cd5f3c538d"
    },
    {
      "cell_type": "code",
      "execution_count": null,
      "metadata": {
        "id": "xrtputyWqTNI"
      },
      "outputs": [],
      "source": [
        "%load_ext rpy2.ipython"
      ],
      "id": "xrtputyWqTNI"
    },
    {
      "cell_type": "code",
      "execution_count": null,
      "metadata": {
        "id": "WzqfgUcOqOsC"
      },
      "outputs": [],
      "source": [
        "%%R\n",
        "install.packages(\"optparse\")\n",
        "install.packages(\"reshape2\")"
      ],
      "id": "WzqfgUcOqOsC"
    },
    {
      "cell_type": "markdown",
      "metadata": {
        "id": "C-xfP96bgf8w"
      },
      "source": [
        "#### generate 5 mCA plots\n",
        "##### Take < 1 mins to complete"
      ],
      "id": "C-xfP96bgf8w"
    },
    {
      "cell_type": "code",
      "execution_count": null,
      "metadata": {
        "id": "bhwter2ld05X"
      },
      "outputs": [],
      "source": [
        "%%bash\n",
        "Rscript /content/drive/MyDrive/statgen_workshop_mosaicism/bin/mocha_plot.12.21.22.R \\\n",
        "  --mocha \\\n",
        "  --stats mocha/samples.stats.tsv \\\n",
        "  --vcf mocha/samples.as.bcf \\\n",
        "  --png plots/S5.png \\\n",
        "  --samples S5 \\\n",
        "  --regions 11:0-47350287 \\\n",
        "  --cytoband $cyto\n",
        "\n",
        "Rscript /content/drive/MyDrive/statgen_workshop_mosaicism/bin/mocha_plot.12.21.22.R \\\n",
        "  --mocha \\\n",
        "  --stats mocha/samples.stats.tsv \\\n",
        "  --vcf mocha/samples.as.bcf \\\n",
        "  --png plots/S8.png \\\n",
        "  --samples S8 \\\n",
        "  --regions 9:0-33487198 \\\n",
        "  --cytoband $cyto\n",
        "\n",
        "Rscript /content/drive/MyDrive/statgen_workshop_mosaicism/bin/mocha_plot.12.21.22.R \\\n",
        "  --mocha \\\n",
        "  --stats mocha/samples.stats.tsv \\\n",
        "  --vcf mocha/samples.as.bcf \\\n",
        "  --png plots/S9.png \\\n",
        "  --samples S9 \\\n",
        "  --regions 13:32064883-54917256 \\\n",
        "  --cytoband $cyto\n",
        "\n",
        "Rscript /content/drive/MyDrive/statgen_workshop_mosaicism/bin/mocha_plot.12.21.22.R \\\n",
        "  --mocha \\\n",
        "  --stats mocha/samples.stats.tsv \\\n",
        "  --vcf mocha/samples.as.bcf \\\n",
        "  --png plots/S10.png \\\n",
        "  --samples S10 \\\n",
        "  --regions 20:31144462-63025520 \\\n",
        "  --cytoband $cyto\n",
        "\n",
        "Rscript /content/drive/MyDrive/statgen_workshop_mosaicism/bin/mocha_plot.12.21.22.R \\\n",
        "  --mocha \\\n",
        "  --stats mocha/samples.stats.tsv \\\n",
        "  --vcf mocha/samples.as.bcf \\\n",
        "  --png plots/S6.png \\\n",
        "  --samples S6 \\\n",
        "  --regions 10:84111105-85108139 \\\n",
        "  --cytoband $cyto"
      ],
      "id": "bhwter2ld05X"
    },
    {
      "cell_type": "markdown",
      "metadata": {
        "id": "yLBPkWUi7mQQ"
      },
      "source": [
        "#### Check generated plots under plots/"
      ],
      "id": "yLBPkWUi7mQQ"
    },
    {
      "cell_type": "code",
      "execution_count": null,
      "metadata": {
        "id": "-JcVjOCtfFFT"
      },
      "outputs": [],
      "source": [
        "%%bash\n",
        "ls ${plots}"
      ],
      "id": "-JcVjOCtfFFT"
    },
    {
      "cell_type": "markdown",
      "metadata": {
        "id": "c4742749-4d34-49e4-b370-cf550d162c38"
      },
      "source": [
        "#### Display mCA plots"
      ],
      "id": "c4742749-4d34-49e4-b370-cf550d162c38"
    },
    {
      "cell_type": "markdown",
      "metadata": {
        "id": "0bbe2aa3-512c-4469-b616-140e64fb71e5"
      },
      "source": [
        "##### Constitutional duplication on chr10\n",
        "- abnormal cell fractions = 73%; characterized by e^LRR > 1; AB BAF band splits to 2"
      ],
      "id": "0bbe2aa3-512c-4469-b616-140e64fb71e5"
    },
    {
      "cell_type": "code",
      "execution_count": null,
      "metadata": {
        "id": "BovWENlCzp5D"
      },
      "outputs": [],
      "source": [
        "from IPython.display import Image, display\n",
        "display(Image(filename='/content/plots/S6.png', width=600, height=600))"
      ],
      "id": "BovWENlCzp5D"
    },
    {
      "cell_type": "markdown",
      "metadata": {
        "id": "IExOIZ8U9BwT"
      },
      "source": [
        "##### Mosaic deletion on chr13\n",
        "- abnormal cell fractions = 20.3%; characterized by e^LRR < 1; AB BAF band splits to 2"
      ],
      "id": "IExOIZ8U9BwT"
    },
    {
      "cell_type": "code",
      "execution_count": null,
      "metadata": {
        "id": "bDwVP3_A62vH"
      },
      "outputs": [],
      "source": [
        "from IPython.display import Image, display\n",
        "display(Image(filename='/content/plots/S9.png', width=600, height=600))"
      ],
      "id": "bDwVP3_A62vH"
    },
    {
      "cell_type": "markdown",
      "metadata": {
        "id": "af1048a7-797f-4660-a828-b38eceb671d7"
      },
      "source": [
        "##### Three mCAs on chr9p\n",
        "\n",
        "- blue: CNLOH: characterized by e^LRR ~ 1; AB BAF band splits to 2\n",
        "- green: most likely CNLOH\n",
        "- orange: Loss: characterized by e^LRR < 1; AB BAF band splits to 2"
      ],
      "id": "af1048a7-797f-4660-a828-b38eceb671d7"
    },
    {
      "cell_type": "code",
      "execution_count": null,
      "metadata": {
        "id": "o0OgwwAC6eW0"
      },
      "outputs": [],
      "source": [
        "from IPython.display import Image, display\n",
        "display(Image(filename='/content/plots/S8.png', width=600, height=600))\n"
      ],
      "id": "o0OgwwAC6eW0"
    },
    {
      "cell_type": "markdown",
      "metadata": {
        "id": "1hUcIGVCCGu3"
      },
      "source": [
        "### 7. Circos plot to illustrating autosomal mCAs categorizes as Gain, CNLOH, and Loss\n",
        "\n",
        "##### First, we need to install circos software, we will use the circos docker image"
      ],
      "id": "1hUcIGVCCGu3"
    },
    {
      "cell_type": "code",
      "execution_count": null,
      "metadata": {
        "id": "kAFuylIlCi4C"
      },
      "outputs": [],
      "source": [
        "%%bash\n",
        "udocker --allow-root run  alexcoppe/circos:0.69-6 -v"
      ],
      "id": "kAFuylIlCi4C"
    },
    {
      "cell_type": "markdown",
      "source": [
        "##### Set path variables for circos plot\n"
      ],
      "metadata": {
        "id": "KioZUR-2Ls6H"
      },
      "id": "KioZUR-2Ls6H"
    },
    {
      "cell_type": "code",
      "execution_count": null,
      "metadata": {
        "id": "zpjzVdbLvLWX"
      },
      "outputs": [],
      "source": [
        "import os\n",
        "analysis_dir=\"/content/08_analysis/\"\n",
        "circos_conf=\"/content/drive/MyDrive/statgen_workshop_mosaicism/circos/circos.conf\"\n",
        "ideogram_conf=\"/content/drive/MyDrive/statgen_workshop_mosaicism/circos/ideogram.conf\"\n",
        "ticks_conf=\"/content/drive/MyDrive/statgen_workshop_mosaicism/circos/ticks.conf\"\n",
        "mCAs=\"/content/drive/MyDrive/statgen_workshop_mosaicism/circos/mCAs.txt\"\n",
        "circos=\"/content/circos/\"\n",
        "os.environ['analysis_dir']=analysis_dir\n",
        "os.environ['circos_conf']=circos_conf\n",
        "os.environ['ideogram_conf']=ideogram_conf\n",
        "os.environ['ticks_conf']=ticks_conf\n",
        "os.environ['mCAs']=mCAs\n",
        "os.environ['circos']=circos"
      ],
      "id": "zpjzVdbLvLWX"
    },
    {
      "cell_type": "markdown",
      "source": [
        "##### Copy required circos files to the circos folder"
      ],
      "metadata": {
        "id": "HdhXJpH3XDFr"
      },
      "id": "HdhXJpH3XDFr"
    },
    {
      "cell_type": "code",
      "source": [
        "%%bash\n",
        "mkdir -p ${circos};\n",
        "cp ${circos_conf} ${circos}\n",
        "cp ${ideogram_conf} ${circos}\n",
        "cp ${ticks_conf} ${circos}"
      ],
      "metadata": {
        "id": "tQIJBup5Mp5r"
      },
      "id": "tQIJBup5Mp5r",
      "execution_count": null,
      "outputs": []
    },
    {
      "cell_type": "markdown",
      "source": [
        "##### Lets take a look the mCA file for the circos plot"
      ],
      "metadata": {
        "id": "nPR13ywDcpc2"
      },
      "id": "nPR13ywDcpc2"
    },
    {
      "cell_type": "code",
      "source": [
        "%%bash\n",
        "cat $mCAs"
      ],
      "metadata": {
        "id": "SKJdOYzpWwYD"
      },
      "id": "SKJdOYzpWwYD",
      "execution_count": null,
      "outputs": []
    },
    {
      "cell_type": "markdown",
      "source": [
        "##### Sort by chrom (column #3) and start pos (column #4) of mCAs.txt; both numerics"
      ],
      "metadata": {
        "id": "RCJUC0G-L4B9"
      },
      "id": "RCJUC0G-L4B9"
    },
    {
      "cell_type": "code",
      "execution_count": null,
      "metadata": {
        "id": "JCmIxT3luB4v"
      },
      "outputs": [],
      "source": [
        "%%bash\n",
        "sed 1d ${mCAs} |sort -k3,3n -k4,4n > ${circos}/events.txt"
      ],
      "id": "JCmIxT3luB4v"
    },
    {
      "cell_type": "code",
      "execution_count": null,
      "metadata": {
        "id": "u0hEPgfA0R_a"
      },
      "outputs": [],
      "source": [
        "%%bash\n",
        "cat ${circos}/events.txt"
      ],
      "id": "u0hEPgfA0R_a"
    },
    {
      "cell_type": "markdown",
      "source": [
        "##### Extract chrom (#3), start (#4), end ($5), and mCA type (type_FINAL, #21)"
      ],
      "metadata": {
        "id": "xpFcMmuLQIKb"
      },
      "id": "xpFcMmuLQIKb"
    },
    {
      "cell_type": "code",
      "execution_count": null,
      "metadata": {
        "id": "TEGDMdQ_0EEe"
      },
      "outputs": [],
      "source": [
        "%%bash\n",
        "cut -f3,4,5,21 ${circos}/events.txt > ${circos}/events_all.txt\n",
        "cat ${circos}/events_all.txt"
      ],
      "id": "TEGDMdQ_0EEe"
    },
    {
      "cell_type": "markdown",
      "source": [
        "##### Generates three tile files for the duplication, CNLOH, and deletion\n",
        "Then run circos software to generate the circos plot"
      ],
      "metadata": {
        "id": "51Ec3Z3BVuYn"
      },
      "id": "51Ec3Z3BVuYn"
    },
    {
      "cell_type": "code",
      "execution_count": null,
      "metadata": {
        "id": "6QghcRrg0Gy4"
      },
      "outputs": [],
      "source": [
        "%%bash\n",
        "\n",
        "grep \"Gain\"    ${circos}/events_all.txt |cut -f1-3 -d$'\\t' |sed -e 's,^,hs,g' |sort -nr >   ${circos}/gain.tile\n",
        "grep \"Loss\"    ${circos}/events_all.txt |cut -f1-3 -d$'\\t' |sed -e 's,^,hs,g' |sort -nr >   ${circos}/loss.tile\n",
        "grep \"CN-LOH\"  ${circos}/events_all.txt |cut -f1-3 -d$'\\t' |sed -e 's,^,hs,g' |sort -nr >   ${circos}/neutral.tile\n",
        "\n",
        "udocker --allow-root run -v /content alexcoppe/circos:0.69-6  -conf ${circos_conf}"
      ],
      "id": "6QghcRrg0Gy4"
    },
    {
      "cell_type": "markdown",
      "source": [
        "##### Check all the files under circos/\n",
        "It should contains the circos plot \"mosaic.png\""
      ],
      "metadata": {
        "id": "8BU0Zt8PWIze"
      },
      "id": "8BU0Zt8PWIze"
    },
    {
      "cell_type": "code",
      "execution_count": null,
      "metadata": {
        "id": "n75q4r2O5Uen"
      },
      "outputs": [],
      "source": [
        "%%bash\n",
        "ls /content/circos\n"
      ],
      "id": "n75q4r2O5Uen"
    },
    {
      "cell_type": "markdown",
      "source": [
        "####  Disploy the circos plot\n",
        "- Green: mosaic duplicatio\n",
        "- Blue: mosaic CNLOH\n",
        "- Red: mosaic deletion"
      ],
      "metadata": {
        "id": "4rkVrTvuVQ8U"
      },
      "id": "4rkVrTvuVQ8U"
    },
    {
      "cell_type": "code",
      "source": [
        "from IPython.display import Image, display\n",
        "display(Image(filename='/content/circos/mosaic.png', width=600, height=600))"
      ],
      "metadata": {
        "id": "eFxgpIgiVIfW"
      },
      "id": "eFxgpIgiVIfW",
      "execution_count": null,
      "outputs": []
    }
  ],
  "metadata": {
    "colab": {
      "provenance": [],
      "toc_visible": true,
      "include_colab_link": true
    },
    "kernelspec": {
      "display_name": "Python 3 (ipykernel)",
      "language": "python",
      "name": "python3"
    },
    "language_info": {
      "codemirror_mode": {
        "name": "ipython",
        "version": 3
      },
      "file_extension": ".py",
      "mimetype": "text/x-python",
      "name": "python",
      "nbconvert_exporter": "python",
      "pygments_lexer": "ipython3",
      "version": "3.10.10"
    }
  },
  "nbformat": 4,
  "nbformat_minor": 5
}