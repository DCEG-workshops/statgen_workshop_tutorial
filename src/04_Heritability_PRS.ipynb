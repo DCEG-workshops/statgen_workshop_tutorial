{
  "cells": [
    {
      "cell_type": "markdown",
      "metadata": {
        "id": "view-in-github",
        "colab_type": "text"
      },
      "source": [
        "<a href=\"https://colab.research.google.com/github/DCEG-workshops/statgen_workshop_tutorial/blob/main/src/04_Heritability_PRS.ipynb\" target=\"_parent\"><img src=\"https://colab.research.google.com/assets/colab-badge.svg\" alt=\"Open In Colab\"/></a>"
      ]
    },
    {
      "cell_type": "markdown",
      "metadata": {
        "id": "ZtUjN-pDR0YS"
      },
      "source": [
        "# Set up Google Drive"
      ]
    },
    {
      "cell_type": "markdown",
      "metadata": {
        "id": "zmX9eXMAEGxE"
      },
      "source": [
        "***Important***: We want to mount the *google drive* for the data neeed for this workshop. Note that this folder is different from previous lectures. Please open this [link](https://drive.google.com/drive/folders/13RlwRIlLmXFeWxB1elz6srb5Eip5HyAU?usp=sharing) with your Google drive and find the \"statgen_workshop_04Heritability_PRS\" folder under \"Share with me\". Then add a shortcut to the folder under \"My Drive\"."
      ]
    },
    {
      "cell_type": "markdown",
      "source": [
        "Mount Google drive"
      ],
      "metadata": {
        "id": "dCz2GnHwf04T"
      }
    },
    {
      "cell_type": "code",
      "source": [
        "from google.colab import drive\n",
        "drive.mount('/content/drive', force_remount=True)"
      ],
      "metadata": {
        "id": "3-28uPUmf4Op"
      },
      "execution_count": null,
      "outputs": []
    },
    {
      "cell_type": "markdown",
      "source": [
        "Set up path variables"
      ],
      "metadata": {
        "id": "uVgwRYEDdxZs"
      }
    },
    {
      "cell_type": "code",
      "execution_count": null,
      "metadata": {
        "id": "lQyRKvrLR8Gl"
      },
      "outputs": [],
      "source": [
        "import os\n",
        "input_dir=\"drive/MyDrive/statgen_workshop_04Heritability_PRS/\"\n",
        "analysis_dir=os.getcwd() + \"/04_analysis/\"\n",
        "os.environ['input_dir']=input_dir\n",
        "os.environ['analysis_dir']=analysis_dir"
      ]
    },
    {
      "cell_type": "markdown",
      "source": [
        "Take a look at data in input_dir"
      ],
      "metadata": {
        "id": "Cv8THqp0EhXq"
      }
    },
    {
      "cell_type": "code",
      "source": [
        "%%bash\n",
        "ls ${input_dir}/data/"
      ],
      "metadata": {
        "id": "GXYaAFWzEkSo"
      },
      "execution_count": null,
      "outputs": []
    },
    {
      "cell_type": "markdown",
      "source": [
        "load R magic, so that we can run R here and share variables"
      ],
      "metadata": {
        "id": "LPCHzdgdd_h7"
      }
    },
    {
      "cell_type": "code",
      "source": [
        "%load_ext rpy2.ipython"
      ],
      "metadata": {
        "id": "okxY6ZuUeA4h"
      },
      "execution_count": null,
      "outputs": []
    },
    {
      "cell_type": "markdown",
      "source": [
        "Install conda in colab"
      ],
      "metadata": {
        "id": "j2WC2YQZd2tV"
      }
    },
    {
      "cell_type": "code",
      "execution_count": null,
      "metadata": {
        "id": "ObrWm0PvNT6g"
      },
      "outputs": [],
      "source": [
        "import os\n",
        "\n",
        "conda_path = \"/usr/local/bin/conda\"\n",
        "\n",
        "if os.path.exists(conda_path):\n",
        "    print(f\"{conda_path} exists.\")\n",
        "else:\n",
        "    print(f\"{conda_path} does not exist, installing\")\n",
        "    !pip install -q condacolab\n",
        "    import condacolab\n",
        "    condacolab.install()"
      ]
    },
    {
      "cell_type": "code",
      "execution_count": null,
      "metadata": {
        "id": "KODtVDCGNYW3"
      },
      "outputs": [],
      "source": [
        "!conda --version"
      ]
    },
    {
      "cell_type": "markdown",
      "source": [
        "Let's install gcta conda environment, this takes about 2 minutes"
      ],
      "metadata": {
        "id": "ZTQVHBNpgLFR"
      }
    },
    {
      "cell_type": "code",
      "execution_count": null,
      "metadata": {
        "id": "BK7RoV8ELup1"
      },
      "outputs": [],
      "source": [
        "%%bash\n",
        "conda install -c bioconda gcta=1.93.2beta"
      ]
    },
    {
      "cell_type": "code",
      "execution_count": null,
      "metadata": {
        "id": "kzFQr4BSNlU9"
      },
      "outputs": [],
      "source": [
        "%%bash\n",
        "gcta64"
      ]
    },
    {
      "cell_type": "markdown",
      "source": [
        "Running GCTA to get the heritability\n",
        "Data were generated using 1000 Genomes European Data CHR 22 data\n",
        "Heritability was set up as 0.2\n",
        "Causal SNPs proportion: 5%"
      ],
      "metadata": {
        "id": "9hOVpLeVgQjF"
      }
    },
    {
      "cell_type": "markdown",
      "source": [
        "Step 1, Compute the Genetic relationship matrix (GRM)"
      ],
      "metadata": {
        "id": "wwe7gQ5zgc0z"
      }
    },
    {
      "cell_type": "code",
      "source": [
        "%%R -i input_dir -i analysis_dir\n",
        "\n",
        "system(paste0(\"gcta64 \",\n",
        "              \"--bfile \",input_dir,\"data/chr22 \",\n",
        "              \"--make-grm \",\n",
        "              \"--out \",analysis_dir,\"result/chr22\"))"
      ],
      "metadata": {
        "id": "Qs4ToezvgRRH"
      },
      "execution_count": null,
      "outputs": []
    },
    {
      "cell_type": "markdown",
      "source": [
        "Step 2, Compute the Heritability"
      ],
      "metadata": {
        "id": "3WpIY1lGmhdf"
      }
    },
    {
      "cell_type": "code",
      "source": [
        "%%R\n",
        "system(paste0(\"gcta64 \",\n",
        "              \"--reml \",\n",
        "              \"--grm \",analysis_dir,\"result/chr22 \",\n",
        "              \"--pheno \",analysis_dir,\"result/phenotype.phen \",\n",
        "              \"--grm-cutoff 0.05 \",\n",
        "              \"--out \",analysis_dir,\"result/gcta_herit\"))"
      ],
      "metadata": {
        "id": "Zci1QCiymiYF"
      },
      "execution_count": null,
      "outputs": []
    },
    {
      "cell_type": "markdown",
      "source": [
        "# Use LDSC to estimate heritability\n",
        "Data were obtained from the GWAS summary statistics of breast cancer\n",
        "Three different traits were included: overall breast cancer risk, Luminal A, Triple negative\n",
        "More background of the GWAS can be found in: https://www.nature.com/articles/s41588-020-0609-2"
      ],
      "metadata": {
        "id": "oxZjTgu8mySs"
      }
    },
    {
      "cell_type": "markdown",
      "source": [
        "We will install the ldsc conda environment, this step may take 10 minutes+"
      ],
      "metadata": {
        "id": "YNMV3fs4dSkm"
      }
    },
    {
      "cell_type": "code",
      "execution_count": null,
      "metadata": {
        "id": "bDQBzi2_MWn7"
      },
      "outputs": [],
      "source": [
        "%%bash\n",
        "git clone https://github.com/bulik/ldsc.git && cd ldsc && conda env create --file environment.yml"
      ]
    },
    {
      "cell_type": "markdown",
      "source": [
        "look at the data,\n",
        "the data is based on breast cancer GWAS\n",
        "\n",
        "- snpid; if the SNP has rs id, then snpid is rsid, otherwise snpid is chr:position\n",
        "- CHR: chromosome\n",
        "- bp: GRCh37 (hg19)\n",
        "- A1: effect_allele\n",
        "- A2: non_effect_allele\n",
        "- Z: Z-statistics\n",
        "- P: P-value\n",
        "- info: imputation quality score\n",
        "- MAF: minor allele frequency\n",
        "- N: effective-sample size; N was calculated as 1/(var(beta)*2*f*(1-f))\n",
        "- effective sample size is needed if one wants to calculate the logit-scale genetic variance"
      ],
      "metadata": {
        "id": "PIU6TKjPnH7t"
      }
    },
    {
      "cell_type": "code",
      "source": [
        "%%R\n",
        "library(data.table)\n",
        "bcac_overall <- fread(paste0(input_dir,\"data/overall_bc\"))\n",
        "head(bcac_overall)"
      ],
      "metadata": {
        "id": "dIeY8BUDnNG9"
      },
      "execution_count": null,
      "outputs": []
    },
    {
      "cell_type": "code",
      "source": [
        "%%bash\n",
        "source activate ldsc\n",
        "./ldsc/munge_sumstats.py --sumstats ${input_dir}/data/overall_bc \\\n",
        "              --out ${analysis_dir}/result/ldsc_herit_overall \\\n",
        "              --merge-alleles ${input_dir}/data/eur_w_ld_chr/w_hm3.snplist \\\n",
        "              --chunksize 500000 \\\n",
        "              --signed-sumstats Z,0 --info-min 0.3 --maf-min 0.01"
      ],
      "metadata": {
        "id": "2tsXoIWtKpuK"
      },
      "execution_count": null,
      "outputs": []
    },
    {
      "cell_type": "markdown",
      "source": [
        "set sumstats results variables"
      ],
      "metadata": {
        "id": "S4brK8w8NkR4"
      }
    },
    {
      "cell_type": "code",
      "source": [
        "munge_result = analysis_dir + \"/result/ldsc_herit_overall.sumstats.gz\"\n",
        "munge_result_tn = analysis_dir + \"/result/ldsc_herit_tn.sumstats.gz\"\n",
        "munge_result_lua = analysis_dir +\"/result/ldsc_herit_lua.sumstats.gz\"\n",
        "\n",
        "os.environ['munge_result']=munge_result\n",
        "os.environ['munge_result_tn']=munge_result\n",
        "os.environ['munge_result_lua']=munge_result"
      ],
      "metadata": {
        "id": "CxWL7Nx2bNEG"
      },
      "execution_count": null,
      "outputs": []
    },
    {
      "cell_type": "markdown",
      "source": [
        "the frality scale heritablity is 0.4777"
      ],
      "metadata": {
        "id": "mYbroRKIrsGR"
      }
    },
    {
      "cell_type": "code",
      "source": [
        "%%bash\n",
        "source activate ldsc\n",
        "./ldsc/ldsc.py --h2 ${munge_result} \\\n",
        "       --ref-ld-chr ${input_dir}/data/eur_w_ld_chr/ \\\n",
        "       --w-ld-chr ${input_dir}/data/eur_w_ld_chr/ \\\n",
        "       --out ${analysis_dir}/result/h2_overall \\"
      ],
      "metadata": {
        "id": "0wY_QCemMWyr"
      },
      "execution_count": null,
      "outputs": []
    },
    {
      "cell_type": "markdown",
      "source": [
        "genetic correlation calculation for luminal A and triple negative breast cancer subtypes\n",
        "\n",
        "munge the luminal A and triple negative summary statistics"
      ],
      "metadata": {
        "id": "FE4_D-Htr5uQ"
      }
    },
    {
      "cell_type": "code",
      "source": [
        "%%R\n",
        "lua <- fread(paste0(input_dir,\"data/lua_bc\"))\n",
        "head(lua)"
      ],
      "metadata": {
        "id": "8bp3MUtIr-KO"
      },
      "execution_count": null,
      "outputs": []
    },
    {
      "cell_type": "code",
      "source": [
        "%%bash\n",
        "source activate ldsc\n",
        "./ldsc/munge_sumstats.py \\\n",
        "              --sumstats ${input_dir}/data/lua_bc \\\n",
        "              --out ${analysis_dir}/result/ldsc_herit_lua \\\n",
        "              --merge-alleles ${input_dir}/data/eur_w_ld_chr/w_hm3.snplist \\\n",
        "              --chunksize 500000 \\\n",
        "              --signed-sumstats Z,0 --info-min 0.3 --maf-min 0.01 \\"
      ],
      "metadata": {
        "id": "gCDVDeirOIYO"
      },
      "execution_count": null,
      "outputs": []
    },
    {
      "cell_type": "markdown",
      "source": [
        "munge the luminal A and triple negative summary statistics"
      ],
      "metadata": {
        "id": "fYqIlqFTsupU"
      }
    },
    {
      "cell_type": "code",
      "source": [
        "%%bash\n",
        "source activate ldsc\n",
        "./ldsc/munge_sumstats.py \\\n",
        "              --sumstats ${input_dir}/data/tn_bc \\\n",
        "              --out ${analysis_dir}/result/ldsc_herit_tn \\\n",
        "              --merge-alleles ${input_dir}/data/eur_w_ld_chr/w_hm3.snplist \\\n",
        "              --chunksize 500000 \\\n",
        "              --signed-sumstats Z,0 --info-min 0.3 --maf-min 0.01"
      ],
      "metadata": {
        "id": "f8oE24y_sxlI"
      },
      "execution_count": null,
      "outputs": []
    },
    {
      "cell_type": "markdown",
      "source": [
        "calculate genetic correlation"
      ],
      "metadata": {
        "id": "nmUlm0POszzF"
      }
    },
    {
      "cell_type": "code",
      "source": [
        "%%bash\n",
        "source activate ldsc\n",
        "./ldsc/ldsc.py \\\n",
        "              --rg ${munge_result_lua},${munge_result_tn} \\\n",
        "              --ref-ld-chr ${input_dir}/data/eur_w_ld_chr/ \\\n",
        "              --w-ld-chr ${input_dir}/data/eur_w_ld_chr/ \\\n",
        "              --out ${analysis_dir}/result/rg_lua_tn\n",
        "\n",
        "#genetic correlation 0.4829 (s.e. 0.0512)"
      ],
      "metadata": {
        "id": "5kv51Ducs2QF"
      },
      "execution_count": null,
      "outputs": []
    },
    {
      "cell_type": "markdown",
      "source": [
        "stratified LD-score regression using baseline annotation"
      ],
      "metadata": {
        "id": "Mc5i-k4Ds-Xq"
      }
    },
    {
      "cell_type": "code",
      "source": [
        "%%bash\n",
        "source activate ldsc\n",
        "./ldsc/ldsc.py \\\n",
        "              --h2 ${munge_result} \\\n",
        "              --ref-ld-chr ${input_dir}/data/1000G_Phase3_baselineLD_ldscores/baselineLD. \\\n",
        "              --w-ld-chr ${input_dir}/data/1000G_Phase3_weights_hm3_no_MHC/weights.hm3_noMHC. \\\n",
        "              --overlap-annot  \\\n",
        "              --frqfile-chr ${input_dir}/data/1000G_Phase3_frq/1000G.EUR.QC. \\\n",
        "              --out ${analysis_dir}/result/h2_sldsc"
      ],
      "metadata": {
        "id": "jD_4feoRtDnq"
      },
      "execution_count": null,
      "outputs": []
    },
    {
      "cell_type": "code",
      "source": [
        "%%R\n",
        "enrichment_result = fread(paste0(analysis_dir,\"result/h2_sldsc.results\"))\n",
        "which.max(enrichment_result$Enrichment)"
      ],
      "metadata": {
        "id": "E6m6dazwPvRE"
      },
      "execution_count": null,
      "outputs": []
    },
    {
      "cell_type": "code",
      "source": [
        "%%R\n",
        "enrichment_result[13,]"
      ],
      "metadata": {
        "id": "-ATNz41FQhc5"
      },
      "execution_count": null,
      "outputs": []
    },
    {
      "cell_type": "markdown",
      "source": [
        "Construct the PRS using clumping and thresholding\n",
        "Data were generated using 1000 Genomes European population as the reference data\n",
        "Summary statistics of CHR 22 were provided\n",
        "PLINK 1.9 will be used for the clumping\n",
        "PLINK 2.0 will be used for score calculation\n",
        "R2 between PRS and Y will be calculated using R"
      ],
      "metadata": {
        "id": "5esurw7D1Bb5"
      }
    },
    {
      "cell_type": "markdown",
      "source": [
        "Install plink 1.9 and 2.0 conda environments, takes about 1 minute"
      ],
      "metadata": {
        "id": "nFSvjHFc1I9M"
      }
    },
    {
      "cell_type": "code",
      "source": [
        "%%bash\n",
        "conda install -c bioconda plink\n",
        "conda install -c bioconda plink2"
      ],
      "metadata": {
        "id": "sc2SDq5R1ScH"
      },
      "execution_count": null,
      "outputs": []
    },
    {
      "cell_type": "markdown",
      "source": [
        "clumping with windowsize 500kb, clumping r2 0.01, max p-value 1.0"
      ],
      "metadata": {
        "id": "0vwNDXbb2Vqz"
      }
    },
    {
      "cell_type": "code",
      "source": [
        "%%R -i input_dir -i analysis_dir\n",
        "\n",
        "library(glue)\n",
        "\n",
        "sum_data_file = glue(input_dir, \"data/EUR_sum_data\")\n",
        "ref_data = glue(input_dir, \"data/1kg_eur_22/chr_22\")\n",
        "out_file = glue(analysis_dir, \"result/LD_clump\")\n",
        "\n",
        "res = system(paste0(\"plink \",\n",
        "\"--bfile \",ref_data,\" \",\n",
        "\"--clump \",sum_data_file,\" \",\n",
        "\"--clump-p1 1 \",\n",
        "\"--clump-r2 0.1  \",\n",
        "\"--clump-kb 500 \",\n",
        "\"--out \",out_file))"
      ],
      "metadata": {
        "id": "H3s66qHD2R5N"
      },
      "execution_count": null,
      "outputs": []
    },
    {
      "cell_type": "markdown",
      "source": [
        "load the clump result"
      ],
      "metadata": {
        "id": "6R-wH6_T3HAK"
      }
    },
    {
      "cell_type": "code",
      "source": [
        "%%R\n",
        "library(data.table)\n",
        "LD_clump = fread(paste0(out_file,\".clumped\"))[,3,drop=F]"
      ],
      "metadata": {
        "id": "sN3yhv6Z3Pzk"
      },
      "execution_count": null,
      "outputs": []
    },
    {
      "cell_type": "markdown",
      "source": [
        "load the summary statistics"
      ],
      "metadata": {
        "id": "I1VbpHGJ3Qpu"
      }
    },
    {
      "cell_type": "code",
      "source": [
        "%%R\n",
        "EUR_sum = fread(sum_data_file)"
      ],
      "metadata": {
        "id": "h2ZWDgIM3StM"
      },
      "execution_count": null,
      "outputs": []
    },
    {
      "cell_type": "markdown",
      "source": [
        "match the LD clumping results with summary statistics"
      ],
      "metadata": {
        "id": "bhHyNks93VF4"
      }
    },
    {
      "cell_type": "code",
      "source": [
        "%%R\n",
        "library(dplyr)\n",
        "prs_prep = left_join(LD_clump,EUR_sum, by = \"SNP\")\n",
        "head(prs_prep)"
      ],
      "metadata": {
        "id": "VTrUVlBi3W39"
      },
      "execution_count": null,
      "outputs": []
    },
    {
      "cell_type": "markdown",
      "source": [
        "SNPs are ranked from the smallest p-value to largest p-value"
      ],
      "metadata": {
        "id": "VEKfg9Cr3qg3"
      }
    },
    {
      "cell_type": "code",
      "source": [
        "%%R\n",
        "\n",
        "pthres <- c(5E-08,5E-07,5E-06,5E-05,5E-04,5E-03,5E-02,5E-01,1.0)\n",
        "for(k in 1:length(pthres)){\n",
        "  prs_coeff = prs_prep %>%\n",
        "    filter(P<=pthres[k]) %>%\n",
        "    select(SNP, A1, BETA) %>%\n",
        "    as.data.frame()\n",
        "\n",
        "  write.table(prs_coeff,\n",
        "              file = glue(\"{analysis_dir}/result/prs_coeff_{k}\"),\n",
        "              row.names = F,\n",
        "              col.names = T,\n",
        "              quote = F)\n",
        "\n",
        "  geno_file = glue(input_dir, \"data/prs_genotype/chr22_test\")\n",
        "  prs_coeff_file = paste0(analysis_dir, \"/result/prs_coeff_\",k)\n",
        " prs_out = paste0(analysis_dir, \"/result/prs_\",k)\n",
        "  res <- system(paste0(\"plink2 \",\n",
        "                       \"--score \",prs_coeff_file,\" cols=+scoresums,-scoreavgs header no-mean-imputation  \",\n",
        "                       \"--bfile \",geno_file,\" --out \",prs_out))\n",
        "}"
      ],
      "metadata": {
        "id": "HiTyq2gQ3ri-"
      },
      "execution_count": null,
      "outputs": []
    },
    {
      "cell_type": "markdown",
      "source": [
        "- Evaluate the performance of\n",
        "- We have 20,000 people for tuning and validation purpose\n",
        "- ID:10,001-11,000 will be used for the tuning dataset: select best p-value thresholding cutoff\n",
        "- ID:11,001-12,000 will be used for the validation dataset: report the final performance\n",
        "- read the outcome"
      ],
      "metadata": {
        "id": "rthRgvp7Cphg"
      }
    },
    {
      "cell_type": "code",
      "source": [
        "%%R\n",
        "y_out = fread(  glue(input_dir, \"data/y_out\"))\n",
        "y_tun = y_out[1:10000,\"y\"]\n",
        "y_vad = y_out[10001:20000,\"y\"]\n",
        "#create a vector to same the performance\n",
        "r2_vec_tun = rep(0,length(pthres))\n",
        "for(k in 1:length(pthres)){\n",
        "\n",
        "  prs = fread(glue(\"{analysis_dir}/result/prs_{k}.sscore\"))\n",
        "\n",
        "  prs_tun = prs$SCORE1_SUM[1:10000]\n",
        "  model = lm(y_tun$y~prs_tun)\n",
        "  r2_vec_tun[k] = summary(model)$r.squared\n",
        "}"
      ],
      "metadata": {
        "id": "exl36oKuCvwN"
      },
      "execution_count": null,
      "outputs": []
    },
    {
      "cell_type": "markdown",
      "source": [
        "find best performance on the tuning dataset"
      ],
      "metadata": {
        "id": "ZefiW71vDMye"
      }
    },
    {
      "cell_type": "code",
      "source": [
        "%%R\n",
        "idx.max = which.max(r2_vec_tun)\n",
        "idx.max"
      ],
      "metadata": {
        "id": "29DhBO_jDONy"
      },
      "execution_count": null,
      "outputs": []
    },
    {
      "cell_type": "markdown",
      "source": [
        "evaluate it on the validation"
      ],
      "metadata": {
        "id": "CTD9buXxDPik"
      }
    },
    {
      "cell_type": "code",
      "source": [
        "%%R\n",
        "prs = fread(glue(\"{analysis_dir}/result/prs_{idx.max}.sscore\"))\n",
        "prs_vad = prs$SCORE1_SUM[10001:20000]\n",
        "model = lm(y_vad$y~prs_vad)\n",
        "r2 = summary(model)$r.squared\n",
        "print(r2)"
      ],
      "metadata": {
        "id": "MzXf_QzHDSWh"
      },
      "execution_count": null,
      "outputs": []
    }
  ],
  "metadata": {
    "colab": {
      "provenance": [],
      "include_colab_link": true
    },
    "kernelspec": {
      "display_name": "Python 3",
      "name": "python3"
    },
    "language_info": {
      "name": "python"
    }
  },
  "nbformat": 4,
  "nbformat_minor": 0
}