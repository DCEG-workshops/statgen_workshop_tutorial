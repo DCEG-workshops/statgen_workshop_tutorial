{
  "cells": [
    {
      "cell_type": "markdown",
      "metadata": {
        "id": "view-in-github",
        "colab_type": "text"
      },
      "source": [
        "<a href=\"https://colab.research.google.com/github/DCEG-workshops/statgen_workshop_tutorial/blob/main/src/04_Heritability_PRS.ipynb\" target=\"_parent\"><img src=\"https://colab.research.google.com/assets/colab-badge.svg\" alt=\"Open In Colab\"/></a>"
      ]
    },
    {
      "cell_type": "markdown",
      "metadata": {
        "id": "ZtUjN-pDR0YS"
      },
      "source": [
        "# Set up Google Drive"
      ]
    },
    {
      "cell_type": "markdown",
      "metadata": {
        "id": "zmX9eXMAEGxE"
      },
      "source": [
        "***Important***: We want to mount the *google drive* for the data neeed for this workshop. Note that this folder is different from previous lectures. Please open this [link](https://drive.google.com/drive/folders/13RlwRIlLmXFeWxB1elz6srb5Eip5HyAU?usp=sharing) with your Google drive and find the \"statgen_workshop_04Heritability_PRS\" folder under \"Share with me\". Then add a shortcut to the folder under \"My Drive\"."
      ]
    },
    {
      "cell_type": "markdown",
      "source": [
        "Mount Google drive"
      ],
      "metadata": {
        "id": "dCz2GnHwf04T"
      }
    },
    {
      "cell_type": "code",
      "source": [
        "from google.colab import drive\n",
        "drive.mount('/content/drive', force_remount=True)"
      ],
      "metadata": {
        "colab": {
          "base_uri": "https://localhost:8080/"
        },
        "id": "3-28uPUmf4Op",
        "outputId": "4fa481f8-0527-4cd9-ad90-a93180a062e3"
      },
      "execution_count": 9,
      "outputs": [
        {
          "output_type": "stream",
          "name": "stdout",
          "text": [
            "Mounted at /content/drive\n"
          ]
        }
      ]
    },
    {
      "cell_type": "markdown",
      "source": [
        "Set up path variables"
      ],
      "metadata": {
        "id": "uVgwRYEDdxZs"
      }
    },
    {
      "cell_type": "code",
      "execution_count": 11,
      "metadata": {
        "id": "lQyRKvrLR8Gl"
      },
      "outputs": [],
      "source": [
        "import os\n",
        "input_dir=\"drive/MyDrive/statgen_workshop_04Heritability_PRS/\"\n",
        "analysis_dir=os.getcwd() + \"/04_analysis/\"\n",
        "os.environ['input_dir']=input_dir\n",
        "os.environ['analysis_dir']=analysis_dir"
      ]
    },
    {
      "cell_type": "markdown",
      "source": [
        "Take a look at data in input_dir"
      ],
      "metadata": {
        "id": "Cv8THqp0EhXq"
      }
    },
    {
      "cell_type": "code",
      "source": [
        "%%bash\n",
        "ls ${input_dir}/data/"
      ],
      "metadata": {
        "colab": {
          "base_uri": "https://localhost:8080/"
        },
        "id": "GXYaAFWzEkSo",
        "outputId": "2347b72f-bf1e-4b58-fb50-88a1b6a2d377"
      },
      "execution_count": 15,
      "outputs": [
        {
          "output_type": "stream",
          "name": "stdout",
          "text": [
            "1000G_Phase3_baselineLD_ldscores\n",
            "1000G_Phase3_frq\n",
            "1000G_Phase3_weights_hm3_no_MHC\n",
            "1kg_eur_22\n",
            "chr22.bed\n",
            "chr22.bim\n",
            "chr22.fam\n",
            "EUR_sum_data\n",
            "eur_w_ld_chr\n",
            "lua_bc\n",
            "overall_bc\n",
            "prs_genotype\n",
            "tn_bc\n",
            "y_out\n"
          ]
        }
      ]
    },
    {
      "cell_type": "markdown",
      "source": [
        "load R magic, so that we can run R here and share variables"
      ],
      "metadata": {
        "id": "LPCHzdgdd_h7"
      }
    },
    {
      "cell_type": "code",
      "source": [
        "%load_ext rpy2.ipython"
      ],
      "metadata": {
        "id": "okxY6ZuUeA4h"
      },
      "execution_count": 16,
      "outputs": []
    },
    {
      "cell_type": "markdown",
      "source": [
        "Install conda in colab"
      ],
      "metadata": {
        "id": "j2WC2YQZd2tV"
      }
    },
    {
      "cell_type": "code",
      "execution_count": 4,
      "metadata": {
        "colab": {
          "base_uri": "https://localhost:8080/"
        },
        "id": "ObrWm0PvNT6g",
        "outputId": "cc1eeb40-57d9-4c3f-82fd-0f54839a6c26"
      },
      "outputs": [
        {
          "output_type": "stream",
          "name": "stdout",
          "text": [
            "/usr/local/bin/conda does not exist, installing\n",
            "⏬ Downloading https://github.com/conda-forge/miniforge/releases/download/23.1.0-1/Mambaforge-23.1.0-1-Linux-x86_64.sh...\n",
            "📦 Installing...\n",
            "📌 Adjusting configuration...\n",
            "🩹 Patching environment...\n",
            "⏲ Done in 0:00:08\n",
            "🔁 Restarting kernel...\n"
          ]
        }
      ],
      "source": [
        "import os\n",
        "\n",
        "conda_path = \"/usr/local/bin/conda\"\n",
        "\n",
        "if os.path.exists(conda_path):\n",
        "    print(f\"{conda_path} exists.\")\n",
        "else:\n",
        "    print(f\"{conda_path} does not exist, installing\")\n",
        "    !pip install -q condacolab\n",
        "    import condacolab\n",
        "    condacolab.install()"
      ]
    },
    {
      "cell_type": "code",
      "execution_count": 17,
      "metadata": {
        "colab": {
          "base_uri": "https://localhost:8080/"
        },
        "id": "KODtVDCGNYW3",
        "outputId": "01ec48ca-1395-4748-c622-9870254c23a6"
      },
      "outputs": [
        {
          "output_type": "stream",
          "name": "stdout",
          "text": [
            "conda 23.1.0\n"
          ]
        }
      ],
      "source": [
        "!conda --version"
      ]
    },
    {
      "cell_type": "markdown",
      "source": [
        "Let's install gcta conda environment, this takes about 2 minutes"
      ],
      "metadata": {
        "id": "ZTQVHBNpgLFR"
      }
    },
    {
      "cell_type": "code",
      "execution_count": 18,
      "metadata": {
        "colab": {
          "base_uri": "https://localhost:8080/"
        },
        "id": "BK7RoV8ELup1",
        "outputId": "2e81de7a-76d2-4f81-fda7-2acaf52e8fdb"
      },
      "outputs": [
        {
          "output_type": "stream",
          "name": "stdout",
          "text": [
            "Collecting package metadata (current_repodata.json): ...working... done\n",
            "Solving environment: ...working... failed with initial frozen solve. Retrying with flexible solve.\n",
            "Collecting package metadata (repodata.json): ...working... done\n",
            "Solving environment: ...working... done\n",
            "\n",
            "## Package Plan ##\n",
            "\n",
            "  environment location: /usr/local\n",
            "\n",
            "  added / updated specs:\n",
            "    - gcta=1.93.2beta\n",
            "\n",
            "\n",
            "The following packages will be downloaded:\n",
            "\n",
            "    package                    |            build\n",
            "    ---------------------------|-----------------\n",
            "    boltons-23.0.0             |     pyhd8ed1ab_0         296 KB  conda-forge\n",
            "    ca-certificates-2023.7.22  |       hbcca054_0         146 KB  conda-forge\n",
            "    certifi-2023.7.22          |     pyhd8ed1ab_0         150 KB  conda-forge\n",
            "    conda-23.3.1               |  py310hff52083_0         941 KB  conda-forge\n",
            "    gcta-1.93.2beta            |       h9ee0642_1         8.7 MB  bioconda\n",
            "    jsonpatch-1.33             |     pyhd8ed1ab_0          17 KB  conda-forge\n",
            "    jsonpointer-2.4            |  py310hff52083_3          16 KB  conda-forge\n",
            "    openssl-3.1.4              |       hd590300_0         2.5 MB  conda-forge\n",
            "    packaging-23.2             |     pyhd8ed1ab_0          48 KB  conda-forge\n",
            "    ------------------------------------------------------------\n",
            "                                           Total:        12.8 MB\n",
            "\n",
            "The following NEW packages will be INSTALLED:\n",
            "\n",
            "  boltons            conda-forge/noarch::boltons-23.0.0-pyhd8ed1ab_0 \n",
            "  gcta               bioconda/linux-64::gcta-1.93.2beta-h9ee0642_1 \n",
            "  jsonpatch          conda-forge/noarch::jsonpatch-1.33-pyhd8ed1ab_0 \n",
            "  jsonpointer        conda-forge/linux-64::jsonpointer-2.4-py310hff52083_3 \n",
            "  packaging          conda-forge/noarch::packaging-23.2-pyhd8ed1ab_0 \n",
            "\n",
            "The following packages will be UPDATED:\n",
            "\n",
            "  ca-certificates                      2022.12.7-ha878542_0 --> 2023.7.22-hbcca054_0 \n",
            "  certifi                            2022.12.7-pyhd8ed1ab_0 --> 2023.7.22-pyhd8ed1ab_0 \n",
            "  conda                              23.1.0-py310hff52083_0 --> 23.3.1-py310hff52083_0 \n",
            "  openssl                                  3.1.0-h0b41bf4_0 --> 3.1.4-hd590300_0 \n",
            "\n",
            "\n",
            "\n",
            "Downloading and Extracting Packages\n",
            "\rgcta-1.93.2beta      | 8.7 MB    |            |   0% \n",
            "\rca-certificates-2023 | 146 KB    |            |   0% \u001b[A\n",
            "\n",
            "\ropenssl-3.1.4        | 2.5 MB    |            |   0% \u001b[A\u001b[A\n",
            "\n",
            "\n",
            "\rpackaging-23.2       | 48 KB     |            |   0% \u001b[A\u001b[A\u001b[A\n",
            "\n",
            "\n",
            "\n",
            "\rconda-23.3.1         | 941 KB    |            |   0% \u001b[A\u001b[A\u001b[A\u001b[A\n",
            "\n",
            "\n",
            "\n",
            "\n",
            "\rjsonpointer-2.4      | 16 KB     |            |   0% \u001b[A\u001b[A\u001b[A\u001b[A\u001b[A\n",
            "\n",
            "\n",
            "\n",
            "\n",
            "\n",
            "\rboltons-23.0.0       | 296 KB    |            |   0% \u001b[A\u001b[A\u001b[A\u001b[A\u001b[A\u001b[A\n",
            "\n",
            "\n",
            "\n",
            "\n",
            "\n",
            "\n",
            "\rjsonpatch-1.33       | 17 KB     |            |   0% \u001b[A\u001b[A\u001b[A\u001b[A\u001b[A\u001b[A\u001b[A\n",
            "\n",
            "\n",
            "\n",
            "\n",
            "\n",
            "\n",
            "\n",
            "\rcertifi-2023.7.22    | 150 KB    |            |   0% \u001b[A\u001b[A\u001b[A\u001b[A\u001b[A\u001b[A\u001b[A\u001b[A\n",
            "\rca-certificates-2023 | 146 KB    | #          |  11% \u001b[A\n",
            "\n",
            "\n",
            "\rpackaging-23.2       | 48 KB     | ###3       |  33% \u001b[A\u001b[A\u001b[A\n",
            "\n",
            "\n",
            "\n",
            "\rconda-23.3.1         | 941 KB    | 1          |   2% \u001b[A\u001b[A\u001b[A\u001b[A\n",
            "\n",
            "\ropenssl-3.1.4        | 2.5 MB    |            |   1% \u001b[A\u001b[A\rgcta-1.93.2beta      | 8.7 MB    |            |   0% \n",
            "\n",
            "\n",
            "\n",
            "\n",
            "\rjsonpointer-2.4      | 16 KB     | ########## | 100% \u001b[A\u001b[A\u001b[A\u001b[A\u001b[A\n",
            "\rca-certificates-2023 | 146 KB    | ########## | 100% \u001b[A\n",
            "\n",
            "\n",
            "\rpackaging-23.2       | 48 KB     | ########## | 100% \u001b[A\u001b[A\u001b[A\n",
            "\n",
            "\n",
            "\n",
            "\n",
            "\n",
            "\rboltons-23.0.0       | 296 KB    | 5          |   5% \u001b[A\u001b[A\u001b[A\u001b[A\u001b[A\u001b[A\n",
            "\n",
            "\ropenssl-3.1.4        | 2.5 MB    | #######2   |  72% \u001b[A\u001b[A\n",
            "\n",
            "\n",
            "\n",
            "\n",
            "\n",
            "\n",
            "\n",
            "\rcertifi-2023.7.22    | 150 KB    | #          |  11% \u001b[A\u001b[A\u001b[A\u001b[A\u001b[A\u001b[A\u001b[A\u001b[A\n",
            "\n",
            "\n",
            "\n",
            "\n",
            "\n",
            "\n",
            "\rjsonpatch-1.33       | 17 KB     | #########4 |  94% \u001b[A\u001b[A\u001b[A\u001b[A\u001b[A\u001b[A\u001b[A\n",
            "\n",
            "\n",
            "\n",
            "\n",
            "\rjsonpointer-2.4      | 16 KB     | ########## | 100% \u001b[A\u001b[A\u001b[A\u001b[A\u001b[A\rgcta-1.93.2beta      | 8.7 MB    | ###4       |  34% \rgcta-1.93.2beta      | 8.7 MB    | ########9  |  90% \n",
            "\n",
            "\n",
            "\n",
            "\n",
            "\n",
            "\rboltons-23.0.0       | 296 KB    | ########## | 100% \u001b[A\u001b[A\u001b[A\u001b[A\u001b[A\u001b[A\n",
            "\n",
            "\n",
            "\n",
            "\n",
            "\n",
            "\rboltons-23.0.0       | 296 KB    | ########## | 100% \u001b[A\u001b[A\u001b[A\u001b[A\u001b[A\u001b[A\n",
            "\n",
            "\n",
            "\n",
            "\n",
            "\n",
            "\n",
            "\rjsonpatch-1.33       | 17 KB     | ########## | 100% \u001b[A\u001b[A\u001b[A\u001b[A\u001b[A\u001b[A\u001b[A\n",
            "\n",
            "\n",
            "\n",
            "\rconda-23.3.1         | 941 KB    | ########## | 100% \u001b[A\u001b[A\u001b[A\u001b[A\n",
            "\n",
            "\n",
            "\n",
            "\rconda-23.3.1         | 941 KB    | ########## | 100% \u001b[A\u001b[A\u001b[A\u001b[A\n",
            "\n",
            "\ropenssl-3.1.4        | 2.5 MB    | ########## | 100% \u001b[A\u001b[A\n",
            "\n",
            "\n",
            "\n",
            "\n",
            "\n",
            "\n",
            "\n",
            "\rcertifi-2023.7.22    | 150 KB    | ########## | 100% \u001b[A\u001b[A\u001b[A\u001b[A\u001b[A\u001b[A\u001b[A\u001b[A\n",
            "\n",
            "\n",
            "\n",
            "\n",
            "\n",
            "\n",
            "\n",
            "\rcertifi-2023.7.22    | 150 KB    | ########## | 100% \u001b[A\u001b[A\u001b[A\u001b[A\u001b[A\u001b[A\u001b[A\u001b[A\rgcta-1.93.2beta      | 8.7 MB    | ########## | 100% \r                                                     \r\n",
            "\r                                                     \u001b[A\n",
            "\n",
            "\r                                                     \u001b[A\u001b[A\n",
            "\n",
            "\n",
            "\r                                                     \u001b[A\u001b[A\u001b[A\n",
            "\n",
            "\n",
            "\n",
            "\r                                                     \u001b[A\u001b[A\u001b[A\u001b[A\n",
            "\n",
            "\n",
            "\n",
            "\n",
            "\r                                                     \u001b[A\u001b[A\u001b[A\u001b[A\u001b[A\n",
            "\n",
            "\n",
            "\n",
            "\n",
            "\n",
            "\r                                                     \u001b[A\u001b[A\u001b[A\u001b[A\u001b[A\u001b[A\n",
            "\n",
            "\n",
            "\n",
            "\n",
            "\n",
            "\n",
            "\r                                                     \u001b[A\u001b[A\u001b[A\u001b[A\u001b[A\u001b[A\u001b[A\n",
            "\n",
            "\n",
            "\n",
            "\n",
            "\n",
            "\n",
            "\n",
            "\r                                                     \u001b[A\u001b[A\u001b[A\u001b[A\u001b[A\u001b[A\u001b[A\u001b[A\r\n",
            "Preparing transaction: ...working... done\n",
            "Verifying transaction: ...working... done\n",
            "Executing transaction: ...working... done\n"
          ]
        }
      ],
      "source": [
        "%%bash\n",
        "conda install -c bioconda gcta=1.93.2beta"
      ]
    },
    {
      "cell_type": "code",
      "execution_count": 19,
      "metadata": {
        "id": "kzFQr4BSNlU9",
        "colab": {
          "base_uri": "https://localhost:8080/",
          "height": 547
        },
        "outputId": "636673e9-9c4e-4812-fe4d-af44a78c02b0"
      },
      "outputs": [
        {
          "output_type": "stream",
          "name": "stdout",
          "text": [
            "*******************************************************************\n",
            "* Genome-wide Complex Trait Analysis (GCTA)\n",
            "* version 1.93.2 beta Linux\n",
            "* (C) 2010-present, Jian Yang, The University of Queensland\n",
            "* Please report bugs to Jian Yang <jian.yang.qt@gmail.com>\n",
            "*******************************************************************\n",
            "Analysis started at 23:48:37 UTC on Tue Oct 24 2023.\n",
            "Hostname: d22aafada359\n",
            "\n",
            "Error: no analysis has been launched by the option(s)\n",
            "Please see online documentation at http://cnsgenomics.com/software/gcta\n"
          ]
        },
        {
          "output_type": "error",
          "ename": "CalledProcessError",
          "evalue": "ignored",
          "traceback": [
            "\u001b[0;31m---------------------------------------------------------------------------\u001b[0m",
            "\u001b[0;31mCalledProcessError\u001b[0m                        Traceback (most recent call last)",
            "\u001b[0;32m<ipython-input-19-a9b201e29a15>\u001b[0m in \u001b[0;36m<cell line: 1>\u001b[0;34m()\u001b[0m\n\u001b[0;32m----> 1\u001b[0;31m \u001b[0mget_ipython\u001b[0m\u001b[0;34m(\u001b[0m\u001b[0;34m)\u001b[0m\u001b[0;34m.\u001b[0m\u001b[0mrun_cell_magic\u001b[0m\u001b[0;34m(\u001b[0m\u001b[0;34m'bash'\u001b[0m\u001b[0;34m,\u001b[0m \u001b[0;34m''\u001b[0m\u001b[0;34m,\u001b[0m \u001b[0;34m'gcta64\\n'\u001b[0m\u001b[0;34m)\u001b[0m\u001b[0;34m\u001b[0m\u001b[0;34m\u001b[0m\u001b[0m\n\u001b[0m",
            "\u001b[0;32m/usr/local/lib/python3.10/dist-packages/google/colab/_shell.py\u001b[0m in \u001b[0;36mrun_cell_magic\u001b[0;34m(self, magic_name, line, cell)\u001b[0m\n\u001b[1;32m    332\u001b[0m     \u001b[0;32mif\u001b[0m \u001b[0mline\u001b[0m \u001b[0;32mand\u001b[0m \u001b[0;32mnot\u001b[0m \u001b[0mcell\u001b[0m\u001b[0;34m:\u001b[0m\u001b[0;34m\u001b[0m\u001b[0;34m\u001b[0m\u001b[0m\n\u001b[1;32m    333\u001b[0m       \u001b[0mcell\u001b[0m \u001b[0;34m=\u001b[0m \u001b[0;34m' '\u001b[0m\u001b[0;34m\u001b[0m\u001b[0;34m\u001b[0m\u001b[0m\n\u001b[0;32m--> 334\u001b[0;31m     \u001b[0;32mreturn\u001b[0m \u001b[0msuper\u001b[0m\u001b[0;34m(\u001b[0m\u001b[0;34m)\u001b[0m\u001b[0;34m.\u001b[0m\u001b[0mrun_cell_magic\u001b[0m\u001b[0;34m(\u001b[0m\u001b[0mmagic_name\u001b[0m\u001b[0;34m,\u001b[0m \u001b[0mline\u001b[0m\u001b[0;34m,\u001b[0m \u001b[0mcell\u001b[0m\u001b[0;34m)\u001b[0m\u001b[0;34m\u001b[0m\u001b[0;34m\u001b[0m\u001b[0m\n\u001b[0m\u001b[1;32m    335\u001b[0m \u001b[0;34m\u001b[0m\u001b[0m\n\u001b[1;32m    336\u001b[0m \u001b[0;34m\u001b[0m\u001b[0m\n",
            "\u001b[0;32m/usr/local/lib/python3.10/dist-packages/IPython/core/interactiveshell.py\u001b[0m in \u001b[0;36mrun_cell_magic\u001b[0;34m(self, magic_name, line, cell)\u001b[0m\n\u001b[1;32m   2471\u001b[0m             \u001b[0;32mwith\u001b[0m \u001b[0mself\u001b[0m\u001b[0;34m.\u001b[0m\u001b[0mbuiltin_trap\u001b[0m\u001b[0;34m:\u001b[0m\u001b[0;34m\u001b[0m\u001b[0;34m\u001b[0m\u001b[0m\n\u001b[1;32m   2472\u001b[0m                 \u001b[0margs\u001b[0m \u001b[0;34m=\u001b[0m \u001b[0;34m(\u001b[0m\u001b[0mmagic_arg_s\u001b[0m\u001b[0;34m,\u001b[0m \u001b[0mcell\u001b[0m\u001b[0;34m)\u001b[0m\u001b[0;34m\u001b[0m\u001b[0;34m\u001b[0m\u001b[0m\n\u001b[0;32m-> 2473\u001b[0;31m                 \u001b[0mresult\u001b[0m \u001b[0;34m=\u001b[0m \u001b[0mfn\u001b[0m\u001b[0;34m(\u001b[0m\u001b[0;34m*\u001b[0m\u001b[0margs\u001b[0m\u001b[0;34m,\u001b[0m \u001b[0;34m**\u001b[0m\u001b[0mkwargs\u001b[0m\u001b[0;34m)\u001b[0m\u001b[0;34m\u001b[0m\u001b[0;34m\u001b[0m\u001b[0m\n\u001b[0m\u001b[1;32m   2474\u001b[0m             \u001b[0;32mreturn\u001b[0m \u001b[0mresult\u001b[0m\u001b[0;34m\u001b[0m\u001b[0;34m\u001b[0m\u001b[0m\n\u001b[1;32m   2475\u001b[0m \u001b[0;34m\u001b[0m\u001b[0m\n",
            "\u001b[0;32m/usr/local/lib/python3.10/dist-packages/IPython/core/magics/script.py\u001b[0m in \u001b[0;36mnamed_script_magic\u001b[0;34m(line, cell)\u001b[0m\n\u001b[1;32m    140\u001b[0m             \u001b[0;32melse\u001b[0m\u001b[0;34m:\u001b[0m\u001b[0;34m\u001b[0m\u001b[0;34m\u001b[0m\u001b[0m\n\u001b[1;32m    141\u001b[0m                 \u001b[0mline\u001b[0m \u001b[0;34m=\u001b[0m \u001b[0mscript\u001b[0m\u001b[0;34m\u001b[0m\u001b[0;34m\u001b[0m\u001b[0m\n\u001b[0;32m--> 142\u001b[0;31m             \u001b[0;32mreturn\u001b[0m \u001b[0mself\u001b[0m\u001b[0;34m.\u001b[0m\u001b[0mshebang\u001b[0m\u001b[0;34m(\u001b[0m\u001b[0mline\u001b[0m\u001b[0;34m,\u001b[0m \u001b[0mcell\u001b[0m\u001b[0;34m)\u001b[0m\u001b[0;34m\u001b[0m\u001b[0;34m\u001b[0m\u001b[0m\n\u001b[0m\u001b[1;32m    143\u001b[0m \u001b[0;34m\u001b[0m\u001b[0m\n\u001b[1;32m    144\u001b[0m         \u001b[0;31m# write a basic docstring:\u001b[0m\u001b[0;34m\u001b[0m\u001b[0;34m\u001b[0m\u001b[0m\n",
            "\u001b[0;32m<decorator-gen-103>\u001b[0m in \u001b[0;36mshebang\u001b[0;34m(self, line, cell)\u001b[0m\n",
            "\u001b[0;32m/usr/local/lib/python3.10/dist-packages/IPython/core/magic.py\u001b[0m in \u001b[0;36m<lambda>\u001b[0;34m(f, *a, **k)\u001b[0m\n\u001b[1;32m    185\u001b[0m     \u001b[0;31m# but it's overkill for just that one bit of state.\u001b[0m\u001b[0;34m\u001b[0m\u001b[0;34m\u001b[0m\u001b[0m\n\u001b[1;32m    186\u001b[0m     \u001b[0;32mdef\u001b[0m \u001b[0mmagic_deco\u001b[0m\u001b[0;34m(\u001b[0m\u001b[0marg\u001b[0m\u001b[0;34m)\u001b[0m\u001b[0;34m:\u001b[0m\u001b[0;34m\u001b[0m\u001b[0;34m\u001b[0m\u001b[0m\n\u001b[0;32m--> 187\u001b[0;31m         \u001b[0mcall\u001b[0m \u001b[0;34m=\u001b[0m \u001b[0;32mlambda\u001b[0m \u001b[0mf\u001b[0m\u001b[0;34m,\u001b[0m \u001b[0;34m*\u001b[0m\u001b[0ma\u001b[0m\u001b[0;34m,\u001b[0m \u001b[0;34m**\u001b[0m\u001b[0mk\u001b[0m\u001b[0;34m:\u001b[0m \u001b[0mf\u001b[0m\u001b[0;34m(\u001b[0m\u001b[0;34m*\u001b[0m\u001b[0ma\u001b[0m\u001b[0;34m,\u001b[0m \u001b[0;34m**\u001b[0m\u001b[0mk\u001b[0m\u001b[0;34m)\u001b[0m\u001b[0;34m\u001b[0m\u001b[0;34m\u001b[0m\u001b[0m\n\u001b[0m\u001b[1;32m    188\u001b[0m \u001b[0;34m\u001b[0m\u001b[0m\n\u001b[1;32m    189\u001b[0m         \u001b[0;32mif\u001b[0m \u001b[0mcallable\u001b[0m\u001b[0;34m(\u001b[0m\u001b[0marg\u001b[0m\u001b[0;34m)\u001b[0m\u001b[0;34m:\u001b[0m\u001b[0;34m\u001b[0m\u001b[0;34m\u001b[0m\u001b[0m\n",
            "\u001b[0;32m/usr/local/lib/python3.10/dist-packages/IPython/core/magics/script.py\u001b[0m in \u001b[0;36mshebang\u001b[0;34m(self, line, cell)\u001b[0m\n\u001b[1;32m    243\u001b[0m             \u001b[0msys\u001b[0m\u001b[0;34m.\u001b[0m\u001b[0mstderr\u001b[0m\u001b[0;34m.\u001b[0m\u001b[0mflush\u001b[0m\u001b[0;34m(\u001b[0m\u001b[0;34m)\u001b[0m\u001b[0;34m\u001b[0m\u001b[0;34m\u001b[0m\u001b[0m\n\u001b[1;32m    244\u001b[0m         \u001b[0;32mif\u001b[0m \u001b[0margs\u001b[0m\u001b[0;34m.\u001b[0m\u001b[0mraise_error\u001b[0m \u001b[0;32mand\u001b[0m \u001b[0mp\u001b[0m\u001b[0;34m.\u001b[0m\u001b[0mreturncode\u001b[0m\u001b[0;34m!=\u001b[0m\u001b[0;36m0\u001b[0m\u001b[0;34m:\u001b[0m\u001b[0;34m\u001b[0m\u001b[0;34m\u001b[0m\u001b[0m\n\u001b[0;32m--> 245\u001b[0;31m             \u001b[0;32mraise\u001b[0m \u001b[0mCalledProcessError\u001b[0m\u001b[0;34m(\u001b[0m\u001b[0mp\u001b[0m\u001b[0;34m.\u001b[0m\u001b[0mreturncode\u001b[0m\u001b[0;34m,\u001b[0m \u001b[0mcell\u001b[0m\u001b[0;34m,\u001b[0m \u001b[0moutput\u001b[0m\u001b[0;34m=\u001b[0m\u001b[0mout\u001b[0m\u001b[0;34m,\u001b[0m \u001b[0mstderr\u001b[0m\u001b[0;34m=\u001b[0m\u001b[0merr\u001b[0m\u001b[0;34m)\u001b[0m\u001b[0;34m\u001b[0m\u001b[0;34m\u001b[0m\u001b[0m\n\u001b[0m\u001b[1;32m    246\u001b[0m \u001b[0;34m\u001b[0m\u001b[0m\n\u001b[1;32m    247\u001b[0m     \u001b[0;32mdef\u001b[0m \u001b[0m_run_script\u001b[0m\u001b[0;34m(\u001b[0m\u001b[0mself\u001b[0m\u001b[0;34m,\u001b[0m \u001b[0mp\u001b[0m\u001b[0;34m,\u001b[0m \u001b[0mcell\u001b[0m\u001b[0;34m,\u001b[0m \u001b[0mto_close\u001b[0m\u001b[0;34m)\u001b[0m\u001b[0;34m:\u001b[0m\u001b[0;34m\u001b[0m\u001b[0;34m\u001b[0m\u001b[0m\n",
            "\u001b[0;31mCalledProcessError\u001b[0m: Command 'b'gcta64\\n'' returned non-zero exit status 1."
          ]
        }
      ],
      "source": [
        "%%bash\n",
        "gcta64"
      ]
    },
    {
      "cell_type": "markdown",
      "source": [
        "Running GCTA to get the heritability\n",
        "Data were generated using 1000 Genomes European Data CHR 22 data\n",
        "Heritability was set up as 0.2\n",
        "Causal SNPs proportion: 5%"
      ],
      "metadata": {
        "id": "9hOVpLeVgQjF"
      }
    },
    {
      "cell_type": "markdown",
      "source": [
        "Step 1, Compute the Genetic relationship matrix (GRM)"
      ],
      "metadata": {
        "id": "wwe7gQ5zgc0z"
      }
    },
    {
      "cell_type": "code",
      "source": [
        "%%R -i input_dir -i analysis_dir\n",
        "\n",
        "system(paste0(\"gcta64 \",\n",
        "              \"--bfile \",input_dir,\"data/chr22 \",\n",
        "              \"--make-grm \",\n",
        "              \"--out \",analysis_dir,\"result/chr22\"))"
      ],
      "metadata": {
        "id": "Qs4ToezvgRRH"
      },
      "execution_count": 21,
      "outputs": []
    },
    {
      "cell_type": "markdown",
      "source": [
        "Step 2, Compute the Heritability"
      ],
      "metadata": {
        "id": "3WpIY1lGmhdf"
      }
    },
    {
      "cell_type": "code",
      "source": [
        "%%R\n",
        "system(paste0(\"gcta64 \",\n",
        "              \"--reml \",\n",
        "              \"--grm \",analysis_dir,\"result/chr22 \",\n",
        "              \"--pheno \",analysis_dir,\"result/phenotype.phen \",\n",
        "              \"--grm-cutoff 0.05 \",\n",
        "              \"--out \",analysis_dir,\"result/gcta_herit\"))"
      ],
      "metadata": {
        "id": "Zci1QCiymiYF"
      },
      "execution_count": 22,
      "outputs": []
    },
    {
      "cell_type": "markdown",
      "source": [
        "# Use LDSC to estimate heritability\n",
        "Data were obtained from the GWAS summary statistics of breast cancer\n",
        "Three different traits were included: overall breast cancer risk, Luminal A, Triple negative\n",
        "More background of the GWAS can be found in: https://www.nature.com/articles/s41588-020-0609-2"
      ],
      "metadata": {
        "id": "oxZjTgu8mySs"
      }
    },
    {
      "cell_type": "markdown",
      "source": [
        "We will install the ldsc conda environment, this step will take 5 minutes+"
      ],
      "metadata": {
        "id": "YNMV3fs4dSkm"
      }
    },
    {
      "cell_type": "code",
      "execution_count": null,
      "metadata": {
        "id": "bDQBzi2_MWn7"
      },
      "outputs": [],
      "source": [
        "%%bash\n",
        "git clone https://github.com/bulik/ldsc.git && cd ldsc && conda env create --file environment.yml"
      ]
    },
    {
      "cell_type": "markdown",
      "source": [
        "Activate the ldsc conda environment"
      ],
      "metadata": {
        "id": "efqd7J1cGH6X"
      }
    },
    {
      "cell_type": "code",
      "source": [
        "%%bash\n",
        "source activate ldsc"
      ],
      "metadata": {
        "id": "RwXzwr_4m718"
      },
      "execution_count": 57,
      "outputs": []
    },
    {
      "cell_type": "markdown",
      "source": [
        "Add ldsc scripts to the PATH"
      ],
      "metadata": {
        "id": "9jIlSkPWGLDv"
      }
    },
    {
      "cell_type": "code",
      "source": [
        "import os\n",
        "os.environ['PATH']=os.environ['PATH']+\":$(pwd)/ldsc\""
      ],
      "metadata": {
        "id": "Iiy2k7VEpfXx"
      },
      "execution_count": 70,
      "outputs": []
    },
    {
      "cell_type": "code",
      "source": [
        "%%bash\n",
        "echo $PATH"
      ],
      "metadata": {
        "colab": {
          "base_uri": "https://localhost:8080/"
        },
        "id": "n21CNAleoaSx",
        "outputId": "1ff5d4fc-530d-4830-d43d-6f1a88a5ba95"
      },
      "execution_count": 71,
      "outputs": [
        {
          "output_type": "stream",
          "name": "stdout",
          "text": [
            "/opt/bin:/usr/local/nvidia/bin:/usr/local/cuda/bin:/usr/local/sbin:/usr/local/bin:/usr/sbin:/usr/bin:/sbin:/bin:/tools/node/bin:/tools/google-cloud-sdk/bin:$(pwd)/ldsc\n"
          ]
        }
      ]
    },
    {
      "cell_type": "markdown",
      "source": [
        "look at the data,\n",
        "the data is based on breast cancer GWAS\n",
        "\n",
        "- snpid; if the SNP has rs id, then snpid is rsid, otherwise snpid is chr:position\n",
        "- CHR: chromosome\n",
        "- bp: GRCh37 (hg19)\n",
        "- A1: effect_allele\n",
        "- A2: non_effect_allele\n",
        "- Z: Z-statistics\n",
        "- P: P-value\n",
        "- info: imputation quality score\n",
        "- MAF: minor allele frequency\n",
        "- N: effective-sample size; N was calculated as 1/(var(beta)*2*f*(1-f))\n",
        "- effective sample size is needed if one wants to calculate the logit-scale genetic variance"
      ],
      "metadata": {
        "id": "PIU6TKjPnH7t"
      }
    },
    {
      "cell_type": "code",
      "source": [
        "%%R\n",
        "library(data.table)\n",
        "bcac_overall <- fread(paste0(input_dir,\"data/overall_bc\"))\n",
        "head(bcac_overall)"
      ],
      "metadata": {
        "colab": {
          "base_uri": "https://localhost:8080/"
        },
        "id": "dIeY8BUDnNG9",
        "outputId": "97e8a912-5d67-4474-c738-fd9279f7298d"
      },
      "execution_count": 50,
      "outputs": [
        {
          "output_type": "stream",
          "name": "stderr",
          "text": [
            "R[write to console]: data.table 1.14.8 using 1 threads (see ?getDTthreads).  Latest news: r-datatable.com\n",
            "\n",
            "R[write to console]: |--------------------------------------------------|\n",
            "|\n",
            "R[write to console]: =\n",
            "R[write to console]: =\n",
            "R[write to console]: =\n",
            "R[write to console]: =\n",
            "R[write to console]: =\n",
            "R[write to console]: =\n",
            "R[write to console]: =\n",
            "R[write to console]: =\n",
            "R[write to console]: =\n",
            "R[write to console]: =\n",
            "R[write to console]: =\n",
            "R[write to console]: =\n",
            "R[write to console]: =\n",
            "R[write to console]: =\n",
            "R[write to console]: =\n",
            "R[write to console]: =\n",
            "R[write to console]: =\n",
            "R[write to console]: =\n",
            "R[write to console]: =\n",
            "R[write to console]: =\n",
            "R[write to console]: =\n",
            "R[write to console]: =\n",
            "R[write to console]: =\n",
            "R[write to console]: =\n",
            "R[write to console]: =\n",
            "R[write to console]: =\n",
            "R[write to console]: =\n",
            "R[write to console]: =\n",
            "R[write to console]: =\n",
            "R[write to console]: =\n",
            "R[write to console]: =\n",
            "R[write to console]: =\n",
            "R[write to console]: =\n",
            "R[write to console]: =\n",
            "R[write to console]: =\n",
            "R[write to console]: =\n",
            "R[write to console]: =\n",
            "R[write to console]: =\n",
            "R[write to console]: =\n",
            "R[write to console]: =\n",
            "R[write to console]: =\n",
            "R[write to console]: =\n",
            "R[write to console]: =\n",
            "R[write to console]: =\n",
            "R[write to console]: =\n",
            "R[write to console]: =\n",
            "R[write to console]: =\n",
            "R[write to console]: =\n",
            "R[write to console]: =\n",
            "R[write to console]: =\n",
            "R[write to console]: |\n",
            "\n"
          ]
        },
        {
          "output_type": "stream",
          "name": "stdout",
          "text": [
            "         snpid CHR    bp A2 A1          Z          P     info       MAF\n",
            "1:  chr1:11008   1 11008  G  C -1.9783658 0.04788746 0.579745 0.0974118\n",
            "2:  chr1:11012   1 11012  G  C -1.9783608 0.04788802 0.579746 0.0974118\n",
            "3: rs201725126   1 13116  G  T  0.7119430 0.47650010 0.388268 0.1751340\n",
            "4: rs200579949   1 13118  G  A  0.7119523 0.47649430 0.388268 0.1751340\n",
            "5:  chr1:13273   1 13273  C  G  0.8408968 0.40040577 0.356340 0.1435200\n",
            "6:  chr1:14464   1 14464  T  A -0.6623217 0.50776508 0.346048 0.1634150\n",
            "          N\n",
            "1: 24184.71\n",
            "2: 24184.71\n",
            "3: 17920.88\n",
            "4: 17920.88\n",
            "5: 17208.96\n",
            "6: 16821.18\n"
          ]
        }
      ]
    },
    {
      "cell_type": "code",
      "source": [
        "%%R\n",
        "\n",
        "system(paste0(\"munge_sumstats.py \",\n",
        "              \"--sumstats \",input_dir,\"data/overall_bc \",\n",
        "              \"--out \",analysis_dir,\"result/ldsc_herit_overall \",\n",
        "              \"--merge-alleles \",input_dir,\"data/eur_w_ld_chr/w_hm3.snplist \",\n",
        "              \"--chunksize 500000 \",\n",
        "              \"--signed-sumstats Z,0 --info-min 0.3 --maf-min 0.01\"))\n",
        "\n",
        "munge_result = paste0(analysis_dir,\"result/ldsc_herit_overall.sumstats.gz\")"
      ],
      "metadata": {
        "id": "CxWL7Nx2bNEG"
      },
      "execution_count": 72,
      "outputs": []
    },
    {
      "cell_type": "markdown",
      "source": [
        "the frality scale heritablity is 0.4777"
      ],
      "metadata": {
        "id": "mYbroRKIrsGR"
      }
    },
    {
      "cell_type": "code",
      "source": [
        "%%R\n",
        "system(paste0(\"ldsc.py \",\n",
        "       \"--h2 \", munge_result,\" \",\n",
        "       \"--ref-ld-chr \", input_dir,\"data/eur_w_ld_chr/ \",\n",
        "       \"--w-ld-chr \", input_dir,\"data/eur_w_ld_chr/ \",\n",
        "       \"--out \", analysis_dir,\"result/h2_overall \"))"
      ],
      "metadata": {
        "id": "aasgTiDDrvar"
      },
      "execution_count": 73,
      "outputs": []
    },
    {
      "cell_type": "markdown",
      "source": [
        "genetic correlation calculation for luminal A and triple negative breast cancer subtypes\n",
        "\n",
        "munge the luminal A and triple negative summary statistics"
      ],
      "metadata": {
        "id": "FE4_D-Htr5uQ"
      }
    },
    {
      "cell_type": "code",
      "source": [
        "%%bash\n",
        "ls drive/MyDrive/statgen_workshop_04Heritability_PRS/data/"
      ],
      "metadata": {
        "colab": {
          "base_uri": "https://localhost:8080/"
        },
        "id": "Lv_6Hx8yyeA7",
        "outputId": "d9c8ff7e-95c6-459f-c92d-5a7803b1ceff"
      },
      "execution_count": 6,
      "outputs": [
        {
          "output_type": "stream",
          "name": "stdout",
          "text": [
            "1000G_Phase3_baselineLD_ldscores\n",
            "1000G_Phase3_frq\n",
            "1000G_Phase3_weights_hm3_no_MHC\n",
            "1kg_eur_22\n",
            "chr22.bed\n",
            "chr22.bim\n",
            "chr22.fam\n",
            "EUR_sum_data\n",
            "eur_w_ld_chr\n",
            "overall_bc\n",
            "prs_genotype\n",
            "y_out\n"
          ]
        }
      ]
    },
    {
      "cell_type": "code",
      "source": [
        "%%R\n",
        "lua <- fread(paste0(input_dir,\"data/lua_bc\"))\n",
        "head(lua)\n",
        "system(paste0(\"munge_sumstats.py \",\n",
        "              \"--sumstats \",input_dir,\"data/lua_bc \",\n",
        "              \"--out \",analysis_dir,\"result/ldsc_herit_lua \",\n",
        "              \"--merge-alleles \",input_dir,\"data/eur_w_ld_chr/w_hm3.snplist \",\n",
        "              \"--chunksize 500000 \",\n",
        "              \"--signed-sumstats Z,0 --info-min 0.3 --maf-min 0.01\"))\n",
        "\n",
        "munge_result_lua = paste0(analysis_dir,\"result/ldsc_herit_lua.sumstats.gz\")"
      ],
      "metadata": {
        "colab": {
          "base_uri": "https://localhost:8080/"
        },
        "id": "8bp3MUtIr-KO",
        "outputId": "e726179b-310f-448f-efa9-7753bcf8f12a"
      },
      "execution_count": 79,
      "outputs": [
        {
          "output_type": "stream",
          "name": "stderr",
          "text": [
            "R[write to console]: Error in fread(paste0(input_dir, \"data/lua_bc\")) : \n",
            "  File 'drive/MyDrive/statgen_workshop_04Heritability_PRS/data/lua_bc' does not exist or is non-readable. getwd()=='/content'\n",
            "\n"
          ]
        },
        {
          "output_type": "stream",
          "name": "stdout",
          "text": [
            "\n",
            "Error in fread(paste0(input_dir, \"data/lua_bc\")) : \n",
            "  File 'drive/MyDrive/statgen_workshop_04Heritability_PRS/data/lua_bc' does not exist or is non-readable. getwd()=='/content'\n"
          ]
        }
      ]
    },
    {
      "cell_type": "markdown",
      "source": [
        "munge the luminal A and triple negative summary statistics"
      ],
      "metadata": {
        "id": "fYqIlqFTsupU"
      }
    },
    {
      "cell_type": "code",
      "source": [
        "%%R\n",
        "system(paste0(\"module load ldsc; \",\n",
        "              \"munge_sumstats.py \",\n",
        "              \"--sumstats \",cur_dir,\"data/tn_bc \",\n",
        "              \"--out \",cur_dir,\"result/ldsc_herit_tn \",\n",
        "              \"--merge-alleles \",cur_dir,\"data/eur_w_ld_chr/w_hm3.snplist \",\n",
        "              \"--chunksize 500000 \",\n",
        "              \"--signed-sumstats Z,0 --info-min 0.3 --maf-min 0.01\"))\n",
        "\n",
        "munge_result_tn = paste0(cur_dir,\"result/ldsc_herit_tn.sumstats.gz\")"
      ],
      "metadata": {
        "id": "f8oE24y_sxlI"
      },
      "execution_count": null,
      "outputs": []
    },
    {
      "cell_type": "markdown",
      "source": [
        "calculate genetic correlation"
      ],
      "metadata": {
        "id": "nmUlm0POszzF"
      }
    },
    {
      "cell_type": "code",
      "source": [
        "%%R\n",
        "system(paste0(\"module load ldsc; \",\n",
        "              \"ldsc.py \",\n",
        "              \"--rg \", munge_result_lua,\",\",munge_result_tn,\" \",\n",
        "              \"--ref-ld-chr \", cur_dir,\"data/eur_w_ld_chr/ \",\n",
        "              \"--w-ld-chr \", cur_dir,\"data/eur_w_ld_chr/ \",\n",
        "              \"--out \", cur_dir,\"result/rg_lua_tn \"))\n",
        "\n",
        "#genetic correlation 0.4829 (s.e. 0.0512)"
      ],
      "metadata": {
        "id": "5kv51Ducs2QF"
      },
      "execution_count": null,
      "outputs": []
    },
    {
      "cell_type": "markdown",
      "source": [
        "stratified LD-score regression using baseline annotation"
      ],
      "metadata": {
        "id": "Mc5i-k4Ds-Xq"
      }
    },
    {
      "cell_type": "code",
      "source": [
        "%%R\n",
        "system(paste0(\"module load ldsc; \",\n",
        "              \"ldsc.py \",\n",
        "              \"--h2 \", munge_result,\" \",\n",
        "              \"--ref-ld-chr \", cur_dir,\"data/1000G_Phase3_baselineLD_ldscores/baselineLD. \",\n",
        "              \"--w-ld-chr \", cur_dir,\"data/1000G_Phase3_weights_hm3_no_MHC/weights.hm3_noMHC. \",\n",
        "              \"--overlap-annot  \",\n",
        "              \"--frqfile-chr \", cur_dir,\"data/1000G_Phase3_frq/1000G.EUR.QC. \",\n",
        "              \"--out \", cur_dir,\"result/h2_sldsc \"))\n",
        "enrichment_result = fread(paste0(analysis_dir,\"result/h2_sldsc.results\")\n",
        "which.max(enrichment_result$Enrichment)\n",
        "enrichment_result[13,]"
      ],
      "metadata": {
        "id": "jD_4feoRtDnq"
      },
      "execution_count": null,
      "outputs": []
    },
    {
      "cell_type": "markdown",
      "source": [
        "ok, we are done with ldsc, and let's deactivate the ldsc environment"
      ],
      "metadata": {
        "id": "Hnqpo0Oataiu"
      }
    },
    {
      "cell_type": "code",
      "source": [
        "%%bash\n",
        "eval \"$(conda shell.bash hook)\"\n",
        "conda deactivate"
      ],
      "metadata": {
        "id": "b3v92fqNtjdJ"
      },
      "execution_count": 11,
      "outputs": []
    },
    {
      "cell_type": "markdown",
      "source": [
        "Construct the PRS using clumping and thresholding\n",
        "Data were generated using 1000 Genomes European population as the reference data\n",
        "Summary statistics of CHR 22 were provided\n",
        "PLINK 1.9 will be used for the clumping\n",
        "PLINK 2.0 will be used for score calculation\n",
        "R2 between PRS and Y will be calculated using R"
      ],
      "metadata": {
        "id": "5esurw7D1Bb5"
      }
    },
    {
      "cell_type": "markdown",
      "source": [
        "Install plink 1.9 and 2.0 conda environments"
      ],
      "metadata": {
        "id": "nFSvjHFc1I9M"
      }
    },
    {
      "cell_type": "code",
      "source": [
        "%%bash\n",
        "conda install -c bioconda plink\n",
        "conda install -c bioconda plink2"
      ],
      "metadata": {
        "colab": {
          "base_uri": "https://localhost:8080/"
        },
        "id": "sc2SDq5R1ScH",
        "outputId": "a1b6da1d-6d46-4105-ed29-924d56c2a180"
      },
      "execution_count": 12,
      "outputs": [
        {
          "output_type": "stream",
          "name": "stdout",
          "text": [
            "Collecting package metadata (current_repodata.json): ...working... done\n",
            "Solving environment: ...working... done\n",
            "\n",
            "## Package Plan ##\n",
            "\n",
            "  environment location: /usr/local\n",
            "\n",
            "  added / updated specs:\n",
            "    - plink\n",
            "\n",
            "\n",
            "The following packages will be downloaded:\n",
            "\n",
            "    package                    |            build\n",
            "    ---------------------------|-----------------\n",
            "    plink-1.90b6.21            |       h031d066_5         6.8 MB  bioconda\n",
            "    ------------------------------------------------------------\n",
            "                                           Total:         6.8 MB\n",
            "\n",
            "The following NEW packages will be INSTALLED:\n",
            "\n",
            "  plink              bioconda/linux-64::plink-1.90b6.21-h031d066_5 \n",
            "\n",
            "\n",
            "\n",
            "Downloading and Extracting Packages\n",
            "\rplink-1.90b6.21      | 6.8 MB    |            |   0% \rplink-1.90b6.21      | 6.8 MB    | ###8       |  38% \rplink-1.90b6.21      | 6.8 MB    | ########## | 100% \rplink-1.90b6.21      | 6.8 MB    | ########## | 100% \r                                                     \r\r\n",
            "Preparing transaction: ...working... done\n",
            "Verifying transaction: ...working... done\n",
            "Executing transaction: ...working... done\n",
            "Collecting package metadata (current_repodata.json): ...working... done\n",
            "Solving environment: ...working... done\n",
            "\n",
            "## Package Plan ##\n",
            "\n",
            "  environment location: /usr/local\n",
            "\n",
            "  added / updated specs:\n",
            "    - plink2\n",
            "\n",
            "\n",
            "The following packages will be downloaded:\n",
            "\n",
            "    package                    |            build\n",
            "    ---------------------------|-----------------\n",
            "    plink2-2.00a5              |       h4ac6f70_0         7.2 MB  bioconda\n",
            "    ------------------------------------------------------------\n",
            "                                           Total:         7.2 MB\n",
            "\n",
            "The following NEW packages will be INSTALLED:\n",
            "\n",
            "  plink2             bioconda/linux-64::plink2-2.00a5-h4ac6f70_0 \n",
            "\n",
            "\n",
            "\n",
            "Downloading and Extracting Packages\n",
            "\rplink2-2.00a5        | 7.2 MB    |            |   0% \rplink2-2.00a5        | 7.2 MB    |            |   0% \rplink2-2.00a5        | 7.2 MB    | #########2 |  92% \rplink2-2.00a5        | 7.2 MB    | ########## | 100% \r                                                     \r\r\n",
            "Preparing transaction: ...working... done\n",
            "Verifying transaction: ...working... done\n",
            "Executing transaction: ...working... done\n"
          ]
        },
        {
          "output_type": "stream",
          "name": "stderr",
          "text": [
            "\n",
            "\n",
            "==> WARNING: A newer version of conda exists. <==\n",
            "  current version: 23.3.1\n",
            "  latest version: 23.9.0\n",
            "\n",
            "Please update conda by running\n",
            "\n",
            "    $ conda update -n base -c conda-forge conda\n",
            "\n",
            "Or to minimize the number of packages updated during conda update use\n",
            "\n",
            "     conda install conda=23.9.0\n",
            "\n",
            "\n",
            "\n",
            "\n",
            "==> WARNING: A newer version of conda exists. <==\n",
            "  current version: 23.3.1\n",
            "  latest version: 23.9.0\n",
            "\n",
            "Please update conda by running\n",
            "\n",
            "    $ conda update -n base -c conda-forge conda\n",
            "\n",
            "Or to minimize the number of packages updated during conda update use\n",
            "\n",
            "     conda install conda=23.9.0\n",
            "\n",
            "\n"
          ]
        }
      ]
    },
    {
      "cell_type": "markdown",
      "source": [
        "clumping with windowsize 500kb, clumping r2 0.01, max p-value 1.0"
      ],
      "metadata": {
        "id": "0vwNDXbb2Vqz"
      }
    },
    {
      "cell_type": "code",
      "source": [
        "%%R -i input_dir -i analysis_dir\n",
        "\n",
        "library(glue)\n",
        "\n",
        "sum_data_file = glue(input_dir, \"data/EUR_sum_data\")\n",
        "ref_data = glue(input_dir, \"data/1kg_eur_22/chr_22\")\n",
        "out_file = glue(analysis_dir, \"result/LD_clump\")\n",
        "\n",
        "res = system(paste0(\"plink \",\n",
        "\"--bfile \",ref_data,\" \",\n",
        "\"--clump \",sum_data_file,\" \",\n",
        "\"--clump-p1 1 \",\n",
        "\"--clump-r2 0.1  \",\n",
        "\"--clump-kb 500 \",\n",
        "\"--out \",out_file))"
      ],
      "metadata": {
        "id": "H3s66qHD2R5N"
      },
      "execution_count": 13,
      "outputs": []
    },
    {
      "cell_type": "markdown",
      "source": [
        "load the clump result"
      ],
      "metadata": {
        "id": "6R-wH6_T3HAK"
      }
    },
    {
      "cell_type": "code",
      "source": [
        "%%R\n",
        "library(data.table)\n",
        "LD_clump = fread(paste0(out_file,\".clumped\"))[,3,drop=F]"
      ],
      "metadata": {
        "colab": {
          "base_uri": "https://localhost:8080/"
        },
        "id": "sN3yhv6Z3Pzk",
        "outputId": "8686e277-6abe-4ab5-8996-0d353ae8b337"
      },
      "execution_count": 15,
      "outputs": [
        {
          "output_type": "stream",
          "name": "stderr",
          "text": [
            "R[write to console]: data.table 1.14.8 using 1 threads (see ?getDTthreads).  Latest news: r-datatable.com\n",
            "\n"
          ]
        }
      ]
    },
    {
      "cell_type": "markdown",
      "source": [
        "load the summary statistics"
      ],
      "metadata": {
        "id": "I1VbpHGJ3Qpu"
      }
    },
    {
      "cell_type": "code",
      "source": [
        "%%R\n",
        "EUR_sum = fread(sum_data_file)"
      ],
      "metadata": {
        "id": "h2ZWDgIM3StM"
      },
      "execution_count": 16,
      "outputs": []
    },
    {
      "cell_type": "markdown",
      "source": [
        "match the LD clumping results with summary statistics"
      ],
      "metadata": {
        "id": "bhHyNks93VF4"
      }
    },
    {
      "cell_type": "code",
      "source": [
        "%%R\n",
        "library(dplyr)\n",
        "prs_prep = left_join(LD_clump,EUR_sum, by = \"SNP\")\n",
        "head(prs_prep)"
      ],
      "metadata": {
        "colab": {
          "base_uri": "https://localhost:8080/"
        },
        "id": "VTrUVlBi3W39",
        "outputId": "fa89ac00-4c12-4bb9-bafd-5ec067d75352"
      },
      "execution_count": 17,
      "outputs": [
        {
          "output_type": "stream",
          "name": "stderr",
          "text": [
            "R[write to console]: \n",
            "Attaching package: ‘dplyr’\n",
            "\n",
            "\n",
            "R[write to console]: The following objects are masked from ‘package:data.table’:\n",
            "\n",
            "    between, first, last\n",
            "\n",
            "\n",
            "R[write to console]: The following objects are masked from ‘package:stats’:\n",
            "\n",
            "    filter, lag\n",
            "\n",
            "\n",
            "R[write to console]: The following objects are masked from ‘package:base’:\n",
            "\n",
            "    intersect, setdiff, setequal, union\n",
            "\n",
            "\n"
          ]
        },
        {
          "output_type": "stream",
          "name": "stdout",
          "text": [
            "                        SNP CHR       BP A1 TEST  NMISS     BETA   STAT\n",
            "1:   rs5761190:26189870:G:T  22 26189870  G  ADD 100000 -0.03959 -7.985\n",
            "2: rs149657410:47598718:G:A  22 47598718  A  ADD 100000  0.13830  7.530\n",
            "3:    rs738697:49026230:T:C  22 49026230  C  ADD 100000  0.03544  6.984\n",
            "4:   rs7284488:40412551:G:C  22 40412551  G  ADD 100000 -0.02799 -6.158\n",
            "5:   rs5752361:27027214:C:G  22 27027214  G  ADD 100000 -0.03996 -5.943\n",
            "6:     rs93108:32463610:G:A  22 32463610  G  ADD 100000  0.02631  5.760\n",
            "           P\n",
            "1: 1.416e-15\n",
            "2: 5.108e-14\n",
            "3: 2.895e-12\n",
            "4: 7.381e-10\n",
            "5: 2.810e-09\n",
            "6: 8.425e-09\n"
          ]
        }
      ]
    },
    {
      "cell_type": "markdown",
      "source": [
        "SNPs are ranked from the smallest p-value to largest p-value"
      ],
      "metadata": {
        "id": "VEKfg9Cr3qg3"
      }
    },
    {
      "cell_type": "code",
      "source": [
        "%%R\n",
        "\n",
        "pthres <- c(5E-08,5E-07,5E-06,5E-05,5E-04,5E-03,5E-02,5E-01,1.0)\n",
        "for(k in 1:length(pthres)){\n",
        "  prs_coeff = prs_prep %>%\n",
        "    filter(P<=pthres[k]) %>%\n",
        "    select(SNP, A1, BETA) %>%\n",
        "    as.data.frame()\n",
        "\n",
        "  write.table(prs_coeff,\n",
        "              file = glue(\"{analysis_dir}/result/prs_coeff_{k}\"),\n",
        "              row.names = F,\n",
        "              col.names = T,\n",
        "              quote = F)\n",
        "\n",
        "  geno_file = glue(input_dir, \"data/prs_genotype/chr22_test\")\n",
        "  prs_coeff_file = paste0(analysis_dir, \"/result/prs_coeff_\",k)\n",
        " prs_out = paste0(analysis_dir, \"/result/prs_\",k)\n",
        "  res <- system(paste0(\"plink2 \",\n",
        "                       \"--score \",prs_coeff_file,\" cols=+scoresums,-scoreavgs header no-mean-imputation  \",\n",
        "                       \"--bfile \",geno_file,\" --out \",prs_out))\n",
        "}"
      ],
      "metadata": {
        "id": "HiTyq2gQ3ri-"
      },
      "execution_count": null,
      "outputs": []
    },
    {
      "cell_type": "markdown",
      "source": [
        "- Evaluate the performance of\n",
        "- We have 20,000 people for tuning and validation purpose\n",
        "- ID:10,001-11,000 will be used for the tuning dataset: select best p-value thresholding cutoff\n",
        "- ID:11,001-12,000 will be used for the validation dataset: report the final performance\n",
        "- read the outcome"
      ],
      "metadata": {
        "id": "rthRgvp7Cphg"
      }
    },
    {
      "cell_type": "code",
      "source": [
        "%%R\n",
        "y_out = fread(  glue(input_dir, \"data/y_out\"))\n",
        "y_tun = y_out[1:10000,\"y\"]\n",
        "y_vad = y_out[10001:20000,\"y\"]\n",
        "#create a vector to same the performance\n",
        "r2_vec_tun = rep(0,length(pthres))\n",
        "for(k in 1:length(pthres)){\n",
        "\n",
        "  prs = fread(glue(\"{analysis_dir}/result/prs_{k}.sscore\"))\n",
        "\n",
        "  prs_tun = prs$SCORE1_SUM[1:10000]\n",
        "  model = lm(y_tun$y~prs_tun)\n",
        "  r2_vec_tun[k] = summary(model)$r.squared\n",
        "}"
      ],
      "metadata": {
        "id": "exl36oKuCvwN"
      },
      "execution_count": null,
      "outputs": []
    },
    {
      "cell_type": "markdown",
      "source": [
        "find best performance on the tuning dataset"
      ],
      "metadata": {
        "id": "ZefiW71vDMye"
      }
    },
    {
      "cell_type": "code",
      "source": [
        "%%R\n",
        "idx.max = which.max(r2_vec_tun)"
      ],
      "metadata": {
        "id": "29DhBO_jDONy"
      },
      "execution_count": null,
      "outputs": []
    },
    {
      "cell_type": "markdown",
      "source": [
        "evaluate it on the validation"
      ],
      "metadata": {
        "id": "CTD9buXxDPik"
      }
    },
    {
      "cell_type": "code",
      "source": [
        "%%R\n",
        "prs = fread(paste0(\"/data/BB_Bioinformatics/stat_gene_course/result/prs_\",idx.max,\".sscore\"))\n",
        "prs_vad = prs$SCORE1_SUM[10001:20000]\n",
        "model = lm(y_vad$y~prs_vad)\n",
        "r2 = summary(model)$r.squared\n",
        "print(r2)"
      ],
      "metadata": {
        "id": "MzXf_QzHDSWh"
      },
      "execution_count": null,
      "outputs": []
    }
  ],
  "metadata": {
    "colab": {
      "provenance": [],
      "include_colab_link": true
    },
    "kernelspec": {
      "display_name": "Python 3",
      "name": "python3"
    },
    "language_info": {
      "name": "python"
    }
  },
  "nbformat": 4,
  "nbformat_minor": 0
}