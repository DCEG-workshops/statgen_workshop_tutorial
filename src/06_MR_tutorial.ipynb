{
  "nbformat": 4,
  "nbformat_minor": 0,
  "metadata": {
    "colab": {
      "provenance": [],
      "include_colab_link": true
    },
    "kernelspec": {
      "name": "python3",
      "display_name": "Python 3"
    },
    "language_info": {
      "name": "python"
    }
  },
  "cells": [
    {
      "cell_type": "markdown",
      "metadata": {
        "id": "view-in-github",
        "colab_type": "text"
      },
      "source": [
        "<a href=\"https://colab.research.google.com/github/DCEG-workshops/statgen_workshop_tutorial/blob/main/src/06_MR_tutorial.ipynb\" target=\"_parent\"><img src=\"https://colab.research.google.com/assets/colab-badge.svg\" alt=\"Open In Colab\"/></a>"
      ]
    },
    {
      "cell_type": "markdown",
      "source": [
        "# Mendelian randomization practical"
      ],
      "metadata": {
        "id": "goHpleXVam6j"
      }
    },
    {
      "cell_type": "markdown",
      "source": [
        "We demonstrate how to conduct two-sample Mendelian randomization analyses using the R package `TwoSampleMR` to estimate the causal effect of body mass index (BMI) on coronary heart disease (CHD).\n",
        "\n",
        "This tutorial is adapted from materials provided by Gibran Hemani and Jie Zheng."
      ],
      "metadata": {
        "id": "KXtwZJrjbRrA"
      }
    },
    {
      "cell_type": "markdown",
      "source": [
        "\n",
        "\n",
        "---\n",
        "\n"
      ],
      "metadata": {
        "id": "UjYEwz59l42p"
      }
    },
    {
      "cell_type": "markdown",
      "source": [
        "*Mount Google Drive:* We want to mount the google drive for the data neeed for this workshop. Please open this [link](https://colab.research.google.com/corgiredirector?site=https%3A%2F%2Fdrive.google.com%2Fdrive%2Ffolders%2F1rui3w4tok2Z7EhtMbz6PobeC_fDxTw7G%3Fusp%3Dsharing) with your Google drive and find the \"statgen_workshop\" folder under \"Share with me\". Then add a shortcut to the folder under \"My Drive\""
      ],
      "metadata": {
        "id": "fiG44q0Olsq1"
      }
    },
    {
      "cell_type": "code",
      "execution_count": null,
      "metadata": {
        "id": "IsXrfJ49katk"
      },
      "outputs": [],
      "source": [
        "from google.colab import drive\n",
        "drive.mount('/content/drive/', force_remount=True)"
      ]
    },
    {
      "cell_type": "markdown",
      "source": [
        "Let's set some environmental variables"
      ],
      "metadata": {
        "id": "kALIc40xMrqO"
      }
    },
    {
      "cell_type": "code",
      "source": [
        "import os\n",
        "analysis_dir=\"/content/06_analysis/\"\n",
        "input_dir=\"/content/drive/MyDrive/statgen_workshop/data/workshop6/data/MR/\"\n",
        "os.environ['analysis_dir']=analysis_dir\n",
        "os.environ['input_dir']=input_dir"
      ],
      "metadata": {
        "id": "35S2fbICMqut"
      },
      "execution_count": null,
      "outputs": []
    },
    {
      "cell_type": "code",
      "source": [
        "%load_ext rpy2.ipython"
      ],
      "metadata": {
        "id": "_8yPubgQk6TR"
      },
      "execution_count": null,
      "outputs": []
    },
    {
      "cell_type": "markdown",
      "source": [
        "### 1. Installation"
      ],
      "metadata": {
        "id": "iiUMX0sEyDQe"
      }
    },
    {
      "cell_type": "markdown",
      "source": [
        "Install a dependency for the `TwoSampleMR` package"
      ],
      "metadata": {
        "id": "ZJoAq9VxyJ7S"
      }
    },
    {
      "cell_type": "code",
      "source": [
        "!apt install libgmp-dev"
      ],
      "metadata": {
        "id": "CESTGbtJaKuw"
      },
      "execution_count": null,
      "outputs": []
    },
    {
      "cell_type": "markdown",
      "source": [
        "Normally we want to install the `TwoSampleMR` package by using devtools in R:\n",
        "<br>\n",
        "`devtools::install_github(\"MRCIEU/TwoSampleMR\")`\n",
        "<br>\n",
        "It takes more than 15 minutes on Google colab. We will use the pre-installed library instead.\n",
        "<br>\n"
      ],
      "metadata": {
        "id": "QVNHFzMp5GEp"
      }
    },
    {
      "cell_type": "code",
      "source": [
        "%%bash\n",
        "cp /content/drive/MyDrive/statgen_workshop/tools/TwoSampleMR_libs.tgz ./"
      ],
      "metadata": {
        "id": "j1qkzW79gvQO"
      },
      "execution_count": null,
      "outputs": []
    },
    {
      "cell_type": "code",
      "source": [
        "%%bash\n",
        "tar -zxvf TwoSampleMR_libs.tgz"
      ],
      "metadata": {
        "id": "QQjEbdE0ZRgV"
      },
      "execution_count": null,
      "outputs": []
    },
    {
      "cell_type": "code",
      "source": [
        "!ls usr/local/lib/R/site-library/"
      ],
      "metadata": {
        "id": "7GCqSdqJcSIl"
      },
      "execution_count": null,
      "outputs": []
    },
    {
      "cell_type": "markdown",
      "source": [
        "Add to R library Path"
      ],
      "metadata": {
        "id": "bvXPWXpMjoRw"
      }
    },
    {
      "cell_type": "code",
      "source": [
        "%%R\n",
        ".libPaths(\"usr/local/lib/R/site-library/\")\n",
        ".libPaths()"
      ],
      "metadata": {
        "id": "xQvze9uBjsOM"
      },
      "execution_count": null,
      "outputs": []
    },
    {
      "cell_type": "code",
      "source": [
        "%%R\n",
        "list.files(input_dir)"
      ],
      "metadata": {
        "id": "neqHP5wwlB-k"
      },
      "execution_count": null,
      "outputs": []
    },
    {
      "cell_type": "markdown",
      "source": [],
      "metadata": {
        "id": "yM9C-J_iZnIG"
      }
    },
    {
      "cell_type": "code",
      "source": [
        "%%R\n",
        "library(TwoSampleMR)\n",
        "library(ggplot2)\n",
        "library(glue)"
      ],
      "metadata": {
        "id": "hx6hcPh2idFy"
      },
      "execution_count": null,
      "outputs": []
    },
    {
      "cell_type": "markdown",
      "source": [
        "## 2. Load SNP-exposure summary statistics\n",
        "\n"
      ],
      "metadata": {
        "id": "4jHg41sJz39D"
      }
    },
    {
      "cell_type": "markdown",
      "source": [
        "We use the BMI summary statistics from the GIANT Consortium 2015 study. The dataset was extracted from MR base and saved as a local file."
      ],
      "metadata": {
        "id": "4F0QkBs9bzY7"
      }
    },
    {
      "cell_type": "code",
      "source": [
        "%%R -i input_dir -i analysis_dir\n",
        "# To select the BMI data from the MR-Base database, you would use the following code\n",
        "# ao <- read.csv(\"./available_outcomes.csv\")\n",
        "# ao.bmi<-ao[ao$trait==\"Body mass index\",]\n",
        "# ao.bmi<-ao.bmi[ao.bmi$year==2015,]\n",
        "# ao.bmi<-ao.bmi[ao.bmi$population==\"Mixed\",]\n",
        "# id.bmi<-ao.bmi$id\n",
        "# bmi_exp_data <- extract_instruments(outcomes=id.bmi)\n",
        "# We have selected the BMI data from MR-Base database for you and extracted the instruments\n",
        "bmi_exp_data <- read.table(glue(input_dir, \"bmi_exp_data.txt\"), header=TRUE)\n",
        "dim(bmi_exp_data)"
      ],
      "metadata": {
        "id": "AnieTqLDzTbe"
      },
      "execution_count": null,
      "outputs": []
    },
    {
      "cell_type": "code",
      "source": [
        "%%R\n",
        "head(bmi_exp_data)"
      ],
      "metadata": {
        "id": "5wUOdj4_nrH3"
      },
      "execution_count": null,
      "outputs": []
    },
    {
      "cell_type": "markdown",
      "source": [
        "## 3. Load SNP-outcome summary statistics"
      ],
      "metadata": {
        "id": "IhD26qQ41GSk"
      }
    },
    {
      "cell_type": "markdown",
      "source": [
        "Summary data are from the CARDIoGRAM 2015 study."
      ],
      "metadata": {
        "id": "gLFwLM8iodr7"
      }
    },
    {
      "cell_type": "code",
      "source": [
        "%%R\n",
        "# To select the CHD data from CARDIoGRAM in the MR-Base database, you would use the following code\n",
        "# ao.chd<-ao[ao$trait==\"Coronary heart disease\",]\n",
        "# ao.chd<-ao.chd[ao.chd$year==2015,]\n",
        "# id.chd<-ao.chd$id\n",
        "# chd_out_data<-extract_outcome_data(bmi_exp_data$SNP,id.chd,proxies=TRUE)\n",
        "# We have extracted the BMI SNPs from the CHD dataset in the MR-Base database for you\n",
        "chd_out_data <- read.table(glue(input_dir, \"chd_out_data.txt\"), header=TRUE)\n",
        "dim(chd_out_data)"
      ],
      "metadata": {
        "id": "OpP6uxvi0-UX"
      },
      "execution_count": null,
      "outputs": []
    },
    {
      "cell_type": "code",
      "source": [
        "%%R\n",
        "head(chd_out_data)"
      ],
      "metadata": {
        "id": "uBaW_QsGn2Og"
      },
      "execution_count": null,
      "outputs": []
    },
    {
      "cell_type": "markdown",
      "source": [
        "## 4. Harmonize data"
      ],
      "metadata": {
        "id": "QZa46Tve1SyO"
      }
    },
    {
      "cell_type": "markdown",
      "source": [
        "Harmonise the CHD and BMI datasets so that the effect alleles are the same (and reflect the BMI increasing allele).\n",
        "\n",
        "This syntax will flip the log odds ratio and effect alleles in the CARDIoGRAM dataset where the effect alleles are different between CARDIoGRAMplusC4D and GIANT.\n"
      ],
      "metadata": {
        "id": "rRr5bggjo0w6"
      }
    },
    {
      "cell_type": "code",
      "source": [
        "%%R\n",
        "dat <- harmonise_data(bmi_exp_data, chd_out_data, action = 2)\n",
        "dim(dat)"
      ],
      "metadata": {
        "id": "NrUnqKA3oL-f"
      },
      "execution_count": null,
      "outputs": []
    },
    {
      "cell_type": "markdown",
      "source": [
        "If you explore the dataset you'll notice that effect alleles and log odds ratios have been flipped in the CHD dataset where the effect allele in the CHD dataset was different from the effect allele in the BMI dataset."
      ],
      "metadata": {
        "id": "5jfZCju_pG1K"
      }
    },
    {
      "cell_type": "markdown",
      "source": [
        "Are there any palindromic (A/C or G/T) SNPs? Palindromic SNPs are strand ambiguous. Harmonization as above may be incorrect."
      ],
      "metadata": {
        "id": "Q22IRMDcqWcp"
      }
    },
    {
      "cell_type": "code",
      "source": [
        "%%R\n",
        "\n",
        "palindomic_ac<-subset(dat,effect_allele.exposure %in% \"A\"&other_allele.exposure %in% \"T\")\n",
        "palindomic_ca<-subset(dat,effect_allele.exposure %in% \"T\"&other_allele.exposure %in% \"A\")\n",
        "palindomic_gt<-subset(dat,effect_allele.exposure %in% \"G\"&other_allele.exposure %in% \"C\")\n",
        "palindomic_tg<-subset(dat,effect_allele.exposure %in% \"C\"&other_allele.exposure %in% \"G\")\n",
        "\n",
        "rbind(dim(palindomic_ac),\n",
        "      dim(palindomic_ca),\n",
        "      dim(palindomic_gt),\n",
        "      dim(palindomic_tg))\n"
      ],
      "metadata": {
        "id": "vLWZkgud1Wdp"
      },
      "execution_count": null,
      "outputs": []
    },
    {
      "cell_type": "markdown",
      "source": [
        "Check the allele frequencies (AF) of palindromic SNPs.\n",
        "1. If the AF of the effect allele in the exposure data is $p$, and the AF in the outcome data is $1-p$, flip the sign of `beta.outcome`.\n",
        "2. If the AF is close to 0.5, we cannot determine whether the strand is consistent between exposure and control. Remove the SNP to avoid error."
      ],
      "metadata": {
        "id": "NDMXlIeqqddt"
      }
    },
    {
      "cell_type": "code",
      "source": [
        "%%R\n",
        "rbind(palindomic_ac,palindomic_ca,palindomic_gt,palindomic_tg)[,c(\"SNP\",\"effect_allele.exposure\",\"other_allele.exposure\",\"effect_allele.outcome\",\"other_allele.outcome\",\"eaf.exposure\",\"eaf.outcome\",\"beta.exposure\",\"beta.outcome\")]"
      ],
      "metadata": {
        "id": "c59fa91rpp2N"
      },
      "execution_count": null,
      "outputs": []
    },
    {
      "cell_type": "markdown",
      "source": [
        "In this case, the AF in the exposure and outcome datasets are consistent and different from 0.5. We do not need to flip the sign or remove any SNPs."
      ],
      "metadata": {
        "id": "bYOia4ABsgMd"
      }
    },
    {
      "cell_type": "markdown",
      "source": [
        "## 5. Run MR analysis"
      ],
      "metadata": {
        "id": "nNruJS2eKKWD"
      }
    },
    {
      "cell_type": "markdown",
      "source": [
        "Let's use the MR-Base R package to estimate the effects using the IVW, MR-Egger, weighted median and weighted mode methods."
      ],
      "metadata": {
        "id": "ALVjyAScs0yy"
      }
    },
    {
      "cell_type": "code",
      "source": [
        "%%R\n",
        "# Have a look at the mr_method_list() function\n",
        "mr_results <- mr(dat, method_list=c(\"mr_ivw\",\"mr_egger_regression\",\"mr_weighted_median\", \"mr_weighted_mode\"))\n",
        "mr_results"
      ],
      "metadata": {
        "id": "k8z_esHttBin"
      },
      "execution_count": null,
      "outputs": []
    },
    {
      "cell_type": "markdown",
      "source": [
        "Estimate odds ratio and 95% confidence interval"
      ],
      "metadata": {
        "id": "lPGxyo6itH3o"
      }
    },
    {
      "cell_type": "code",
      "source": [
        "%%R\n",
        "c(exp(mr_results$b[1]),\n",
        "  exp(mr_results$b[1]-1.96*mr_results$se[1]),\n",
        "  exp(mr_results$b[1]+1.96*mr_results$se[1]))"
      ],
      "metadata": {
        "id": "uMxebgs9KUnY"
      },
      "execution_count": null,
      "outputs": []
    },
    {
      "cell_type": "markdown",
      "source": [
        "## 6. Sensitivity analysis"
      ],
      "metadata": {
        "id": "ZanmUw3_Kmje"
      }
    },
    {
      "cell_type": "markdown",
      "source": [
        "#### Heterogeneity test"
      ],
      "metadata": {
        "id": "XQb-UFVVwizF"
      }
    },
    {
      "cell_type": "code",
      "source": [
        "%%R\n",
        "mr_heterogeneity(dat)"
      ],
      "metadata": {
        "id": "QaqeCtPRwioF"
      },
      "execution_count": null,
      "outputs": []
    },
    {
      "cell_type": "markdown",
      "source": [
        "#### Pleiotropy test"
      ],
      "metadata": {
        "id": "PyGuSajdw0eL"
      }
    },
    {
      "cell_type": "code",
      "source": [
        "%%R\n",
        "mr_pleiotropy_test(dat)"
      ],
      "metadata": {
        "id": "-eWDA02uwz9O"
      },
      "execution_count": null,
      "outputs": []
    },
    {
      "cell_type": "markdown",
      "source": [
        "#### Single SNP analysis"
      ],
      "metadata": {
        "id": "D6Lmi9tjxATb"
      }
    },
    {
      "cell_type": "code",
      "source": [
        "%%R\n",
        "res_single <- mr_singlesnp(dat)"
      ],
      "metadata": {
        "id": "3lk17C-N0GqI"
      },
      "execution_count": null,
      "outputs": []
    },
    {
      "cell_type": "markdown",
      "source": [
        "#### Generate a scatter plot comparing the different methods"
      ],
      "metadata": {
        "id": "L5S645GCvc56"
      }
    },
    {
      "cell_type": "code",
      "source": [
        "%%R\n",
        "mr_scatter_plot(mr_results, dat)"
      ],
      "metadata": {
        "id": "7PDjOiowvgOl"
      },
      "execution_count": null,
      "outputs": []
    },
    {
      "cell_type": "markdown",
      "source": [
        "#### Generate a forest plot of each of the SNP effects, which are then meta-analysed using the IVW and MR-Egger methods"
      ],
      "metadata": {
        "id": "qUwtTbGxv_z7"
      }
    },
    {
      "cell_type": "code",
      "source": [
        "%%R\n",
        "mr_forest_plot(res_single)"
      ],
      "metadata": {
        "id": "8Y9diCSqv-q-"
      },
      "execution_count": null,
      "outputs": []
    },
    {
      "cell_type": "markdown",
      "source": [
        "#### Generate a funnel plot to check asymmetry"
      ],
      "metadata": {
        "id": "CP1mJz9KwOf8"
      }
    },
    {
      "cell_type": "code",
      "source": [
        "%%R\n",
        "mr_funnel_plot(res_single)"
      ],
      "metadata": {
        "id": "RMIBERjLwOoU"
      },
      "execution_count": null,
      "outputs": []
    },
    {
      "cell_type": "markdown",
      "source": [
        "#### Run a leave-one-out analysis and generate a plot to test whether any one SNP is driving any pleiotropy or asymmetry in the estimates\n"
      ],
      "metadata": {
        "id": "rh30PVKvwWRv"
      }
    },
    {
      "cell_type": "code",
      "source": [
        "%%R\n",
        "res_loo <- mr_leaveoneout(dat)\n",
        "mr_leaveoneout_plot(res_loo)"
      ],
      "metadata": {
        "id": "9ba9qOeOwWG7"
      },
      "execution_count": null,
      "outputs": []
    }
  ]
}