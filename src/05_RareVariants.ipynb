{
  "nbformat": 4,
  "nbformat_minor": 0,
  "metadata": {
    "colab": {
      "provenance": [],
      "include_colab_link": true
    },
    "kernelspec": {
      "name": "python3",
      "display_name": "Python 3"
    },
    "language_info": {
      "name": "python"
    }
  },
  "cells": [
    {
      "cell_type": "markdown",
      "metadata": {
        "id": "view-in-github",
        "colab_type": "text"
      },
      "source": [
        "<a href=\"https://colab.research.google.com/github/DCEG-workshops/statgen_workshop_tutorial/blob/main/src/05_RareVariants.ipynb\" target=\"_parent\"><img src=\"https://colab.research.google.com/assets/colab-badge.svg\" alt=\"Open In Colab\"/></a>"
      ]
    },
    {
      "cell_type": "markdown",
      "source": [
        "## Rare Variant analysis using STAAR pipeline"
      ],
      "metadata": {
        "id": "YXFcHdCu8kzo"
      }
    },
    {
      "cell_type": "markdown",
      "source": [
        "***Mount Google Drive:***  We want to mount the *google drive* for the data neeed for this workshop. Please open this [link](https://colab.research.google.com/corgiredirector?site=https%3A%2F%2Fdrive.google.com%2Fdrive%2Ffolders%2F1rui3w4tok2Z7EhtMbz6PobeC_fDxTw7G%3Fusp%3Dsharing) with your Google drive and find the \"statgen_workshop\" folder under \"Share with me\". Then add a shortcut to the folder under \"My Drive\""
      ],
      "metadata": {
        "id": "5UaDM_YfmP-j"
      }
    },
    {
      "cell_type": "code",
      "execution_count": null,
      "metadata": {
        "id": "edQSpknBEbiF",
        "collapsed": true
      },
      "outputs": [],
      "source": [
        "from google.colab import drive\n",
        "drive.mount('/content/drive')"
      ]
    },
    {
      "cell_type": "markdown",
      "source": [
        "***Install [udocker](https://indigo-dc.github.io/udocker/)***: this allows us to run docker containers in colab. Unfortunately Docker cannot be installed on Google colab."
      ],
      "metadata": {
        "id": "UFvszP4MjaRt"
      }
    },
    {
      "cell_type": "code",
      "source": [
        "%%shell\n",
        "pip install udocker\n",
        "udocker --allow-root install"
      ],
      "metadata": {
        "id": "pz2kvfOeE_9P"
      },
      "execution_count": null,
      "outputs": []
    },
    {
      "cell_type": "markdown",
      "source": [
        "This is an optional step. We have saved the docker image as a tar file (staarpipeline.tar) by using the following command: <br>\n",
        "`docker save -o staarpipeline.tar zilinli/staarpipeline:0.9.7`\n",
        "<br>\n",
        "It is a lot faster (~1.5 minutes) to load the tar file than pulling the Docker image from Docker hub."
      ],
      "metadata": {
        "id": "qdXXutMsjzPZ"
      }
    },
    {
      "cell_type": "code",
      "source": [
        "%%bash\n",
        "udocker --allow-root load \\\n",
        "   -i /content/drive/MyDrive/statgen_workshop/containers/staarpipeline.tar zilinli/staarpipeline"
      ],
      "metadata": {
        "id": "2nkQSCDTgRAu"
      },
      "execution_count": null,
      "outputs": []
    },
    {
      "cell_type": "markdown",
      "source": [
        "Check to see if we see the loaded docker image"
      ],
      "metadata": {
        "id": "impsuHzBkbx1"
      }
    },
    {
      "cell_type": "code",
      "source": [
        "%%bash\n",
        "udocker --allow-root images"
      ],
      "metadata": {
        "id": "dV5YtWctf9Rz"
      },
      "execution_count": null,
      "outputs": []
    },
    {
      "cell_type": "markdown",
      "source": [
        "At some time, each container run may occupy the precious space on the VM, so we may want to take a look and delete some of them to save space. The line for removing containers is currently commented out as we haven't run any containers yet."
      ],
      "metadata": {
        "id": "2zTH90-ln4oq"
      }
    },
    {
      "cell_type": "code",
      "source": [
        "%%bash\n",
        "udocker --allow-root ps\n",
        "#udocker --allow-root rm <container_id>"
      ],
      "metadata": {
        "id": "l-PpnUWcaslu"
      },
      "execution_count": null,
      "outputs": []
    },
    {
      "cell_type": "markdown",
      "source": [
        "Let's clone the statgen workshop tutorial GitHub repo"
      ],
      "metadata": {
        "id": "Ju1OYF3okgwR"
      }
    },
    {
      "cell_type": "code",
      "source": [
        "%%bash\n",
        "git clone https://github.com/DCEG-workshops/statgen_workshop_tutorial.git"
      ],
      "metadata": {
        "id": "UEYzF6lrLbHC"
      },
      "execution_count": null,
      "outputs": []
    },
    {
      "cell_type": "code",
      "source": [
        "!ls /content/statgen_workshop_tutorial/src/05_RareVariants/1000G/"
      ],
      "metadata": {
        "id": "QRMTxAMi-AJd"
      },
      "execution_count": null,
      "outputs": []
    },
    {
      "cell_type": "markdown",
      "source": [
        "Create the analysis directory on the VM"
      ],
      "metadata": {
        "id": "wStXO5QL-fZc"
      }
    },
    {
      "cell_type": "code",
      "source": [
        "!mkdir /content/analysis_dir05/"
      ],
      "metadata": {
        "id": "agd5-nl9IxrS"
      },
      "execution_count": null,
      "outputs": []
    },
    {
      "cell_type": "markdown",
      "source": [
        "We will run the first step, which is to prepare for the 1000 genomes files to be used by the STAAR pipeline.\n"
      ],
      "metadata": {
        "id": "REe81dt6knIs"
      }
    },
    {
      "cell_type": "code",
      "source": [
        "!cat /content/statgen_workshop_tutorial/src/05_RareVariants/1000G/1000G_scripts_part2/Association_Analysis_PreStep_1kG.r"
      ],
      "metadata": {
        "id": "Ge5nI8m6_mS2"
      },
      "execution_count": null,
      "outputs": []
    },
    {
      "cell_type": "markdown",
      "source": [
        "Note that if you did not load the Docker image in the previous step, it would pull it from Docker hub now and may take a long time (10+ minutes). If the Docker image has been loaded from the tar file, this step takes about 2 minutes."
      ],
      "metadata": {
        "id": "MLv8hPD1_eyG"
      }
    },
    {
      "cell_type": "code",
      "source": [
        "%%bash\n",
        "udocker --allow-root  run -v /content/ zilinli/staarpipeline:0.9.7 \\\n",
        "        Rscript /content/statgen_workshop_tutorial/src/05_RareVariants/1000G/1000G_scripts_part2/Association_Analysis_PreStep_1kG.r"
      ],
      "metadata": {
        "id": "Zdtx1SKxFP3k"
      },
      "execution_count": null,
      "outputs": []
    },
    {
      "cell_type": "markdown",
      "source": [
        "Let's see if the output files are there"
      ],
      "metadata": {
        "id": "ogcATZES_Pfk"
      }
    },
    {
      "cell_type": "code",
      "source": [
        "!ls -l /content/analysis_dir05/"
      ],
      "metadata": {
        "id": "-3Tu8FNGU8EU"
      },
      "execution_count": null,
      "outputs": []
    },
    {
      "cell_type": "markdown",
      "source": [
        "Next step is to simuate the phenotype for analysis"
      ],
      "metadata": {
        "id": "uIYPnQNHAW2u"
      }
    },
    {
      "cell_type": "code",
      "source": [
        "!cat /content/statgen_workshop_tutorial/src/05_RareVariants/1000G/1000G_scripts_part2/Example_Simulated_Phenotype.R"
      ],
      "metadata": {
        "id": "fsWxqd8QAZz_"
      },
      "execution_count": null,
      "outputs": []
    },
    {
      "cell_type": "markdown",
      "source": [
        "Let's run the simulation script, this should take < 3 minutes"
      ],
      "metadata": {
        "id": "WqMhMZ4EAebB"
      }
    },
    {
      "cell_type": "code",
      "source": [
        "%%bash\n",
        "udocker --allow-root  run -v /content/ zilinli/staarpipeline:0.9.7 \\\n",
        "        Rscript /content/statgen_workshop_tutorial/src/05_RareVariants/1000G/1000G_scripts_part2/Example_Simulated_Phenotype.R"
      ],
      "metadata": {
        "id": "3YpJsxY8J8c9"
      },
      "execution_count": null,
      "outputs": []
    },
    {
      "cell_type": "markdown",
      "source": [
        "Is the phenotype file generated?"
      ],
      "metadata": {
        "id": "o65AoECNMsA-"
      }
    },
    {
      "cell_type": "code",
      "source": [
        "!ls -l /content/analysis_dir05/"
      ],
      "metadata": {
        "id": "jF7XnIjyMqSF"
      },
      "execution_count": null,
      "outputs": []
    },
    {
      "cell_type": "markdown",
      "source": [
        "Finally, we are ready to run the STAAR pipeline"
      ],
      "metadata": {
        "id": "GTiiSpPFAjOJ"
      }
    },
    {
      "cell_type": "code",
      "source": [
        "!cat /content/statgen_workshop_tutorial/src/05_RareVariants/1000G/1000G_scripts_part2/Examples_STAARpipeline.R"
      ],
      "metadata": {
        "id": "Qar0yWyrAnKO"
      },
      "execution_count": null,
      "outputs": []
    },
    {
      "cell_type": "markdown",
      "source": [
        "Let's run it, this is going to take ~ 12 minutes.  We could use this time to go over the preprocessing steps for 1000 genomes data\n",
        "https://github.com/DCEG-workshops/statgen_workshop_tutorial/tree/main/src/05_RareVariants\n",
        "\n",
        "The “errors\" you see here correspond to the fact that the underlying variant set of interest does not have 2 valid variants in it so technically it is not a proper variant set.\n",
        "<br>\n",
        "In STAARpipeline we used try() method to catch these errors without making the program to crash."
      ],
      "metadata": {
        "id": "i03QawM6ApjF"
      }
    },
    {
      "cell_type": "code",
      "source": [
        "%%bash\n",
        "udocker --allow-root  run -v /content/ zilinli/staarpipeline:0.9.7 \\\n",
        "        Rscript /content/statgen_workshop_tutorial/src/05_RareVariants/1000G/1000G_scripts_part2/Examples_STAARpipeline.R"
      ],
      "metadata": {
        "collapsed": true,
        "id": "tDhd4VjQFHFM"
      },
      "execution_count": null,
      "outputs": []
    }
  ]
}