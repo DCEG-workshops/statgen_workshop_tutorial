{
  "nbformat": 4,
  "nbformat_minor": 0,
  "metadata": {
    "colab": {
      "provenance": [],
      "authorship_tag": "ABX9TyNGu1jViME6ZOl5+IUx/3Te",
      "include_colab_link": true
    },
    "kernelspec": {
      "name": "python3",
      "display_name": "Python 3"
    },
    "language_info": {
      "name": "python"
    }
  },
  "cells": [
    {
      "cell_type": "markdown",
      "metadata": {
        "id": "view-in-github",
        "colab_type": "text"
      },
      "source": [
        "<a href=\"https://colab.research.google.com/github/DCEG-workshops/statgen_workshop_tutorial/blob/main/src/05_RareVariants.ipynb\" target=\"_parent\"><img src=\"https://colab.research.google.com/assets/colab-badge.svg\" alt=\"Open In Colab\"/></a>"
      ]
    },
    {
      "cell_type": "markdown",
      "source": [
        " We want to mount the *google drive* for the data neeed for this workshop. Please open this [link](https://drive.google.com/drive/folders/1rui3w4tok2Z7EhtMbz6PobeC_fDxTw7G?usp=sharing) with your Google drive and find the \"statgen_workshop\" folder under \"Share with me\". Then add a shortcut to the folder under \"My Drive\""
      ],
      "metadata": {
        "id": "5UaDM_YfmP-j"
      }
    },
    {
      "cell_type": "code",
      "execution_count": null,
      "metadata": {
        "id": "edQSpknBEbiF",
        "collapsed": true
      },
      "outputs": [],
      "source": [
        "from google.colab import drive\n",
        "drive.mount('/content/drive')"
      ]
    },
    {
      "cell_type": "markdown",
      "source": [
        "load R magic, so that we can run R here and share variables"
      ],
      "metadata": {
        "id": "RDuMO1qujZNa"
      }
    },
    {
      "cell_type": "code",
      "source": [
        "%load_ext rpy2.ipython"
      ],
      "metadata": {
        "id": "iw_-hZwTJMlo"
      },
      "execution_count": null,
      "outputs": []
    },
    {
      "cell_type": "markdown",
      "source": [
        "Install [udocker](https://indigo-dc.github.io/udocker/), this allows us to run docker containers in colab. Unfortunately Docker cannot be installed."
      ],
      "metadata": {
        "id": "UFvszP4MjaRt"
      }
    },
    {
      "cell_type": "code",
      "source": [
        "%%shell\n",
        "pip install udocker\n",
        "udocker --allow-root install"
      ],
      "metadata": {
        "id": "pz2kvfOeE_9P"
      },
      "execution_count": null,
      "outputs": []
    },
    {
      "cell_type": "markdown",
      "source": [
        "This is an optional step. We have saved the docker image as a tar file (staarpipeline.tar) by using the following command: <br>\n",
        "`docker save -o staarpipeline.tar zilinli/staarpipeline:0.9.7`\n",
        "<br>\n",
        "It is a lot faster to load the tar file than pulling the Docker image from Docker hub."
      ],
      "metadata": {
        "id": "qdXXutMsjzPZ"
      }
    },
    {
      "cell_type": "code",
      "source": [
        "%%bash\n",
        "udocker --allow-root load \\\n",
        "   -i /content/drive/MyDrive/statgen_workshop/containers/staarpipeline.tar zilinli/staarpipeline"
      ],
      "metadata": {
        "id": "2nkQSCDTgRAu"
      },
      "execution_count": null,
      "outputs": []
    },
    {
      "cell_type": "markdown",
      "source": [
        "Check to see if we see the loaded docker image"
      ],
      "metadata": {
        "id": "impsuHzBkbx1"
      }
    },
    {
      "cell_type": "code",
      "source": [
        "%%bash\n",
        "udocker --allow-root images"
      ],
      "metadata": {
        "id": "dV5YtWctf9Rz"
      },
      "execution_count": null,
      "outputs": []
    },
    {
      "cell_type": "markdown",
      "source": [
        "Let's clone the STARRpipeline GitHub repo"
      ],
      "metadata": {
        "id": "Ju1OYF3okgwR"
      }
    },
    {
      "cell_type": "code",
      "source": [
        "%%bash\n",
        "git clone https://github.com/xihaoli/STAARpipeline-Tutorial"
      ],
      "metadata": {
        "id": "UEYzF6lrLbHC"
      },
      "execution_count": null,
      "outputs": []
    },
    {
      "cell_type": "markdown",
      "source": [
        "We will run the tutorial\n",
        "Note that if you did not load the Docker image in the previous step, it would pull it from Docker hub now and may take a long time (10+ minutes)."
      ],
      "metadata": {
        "id": "REe81dt6knIs"
      }
    },
    {
      "cell_type": "code",
      "source": [
        "%%bash\n",
        "udocker --allow-root  run -v /content/STAARpipeline-Tutorial:/STAARpipeline-Tutorial zilinli/staarpipeline:0.9.7 \\\n",
        "        Rscript /STAARpipeline-Tutorial/Association_Analysis_PreStep.r"
      ],
      "metadata": {
        "collapsed": true,
        "id": "tDhd4VjQFHFM"
      },
      "execution_count": null,
      "outputs": []
    }
  ]
}